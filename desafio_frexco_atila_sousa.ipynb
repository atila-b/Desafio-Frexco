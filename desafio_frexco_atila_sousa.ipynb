{
  "nbformat": 4,
  "nbformat_minor": 0,
  "metadata": {
    "colab": {
      "provenance": []
    },
    "kernelspec": {
      "name": "python3",
      "display_name": "Python 3"
    },
    "language_info": {
      "name": "python"
    }
  },
  "cells": [
    {
      "cell_type": "markdown",
      "source": [
        "![](https://assets.website-files.com/60e7f71b22c6d0b9cf329ceb/621e1a2f28ded71ee95aeede_6ProvenSalesForecastingMethodstoDriveRevenue1_a117440b5ae227c3dba5264a6521da06_2000.png)"
      ],
      "metadata": {
        "id": "EAYe2L1WQuIX"
      }
    },
    {
      "cell_type": "markdown",
      "source": [
        "# Introdução"
      ],
      "metadata": {
        "id": "AKFdadDLOiLv"
      }
    },
    {
      "cell_type": "markdown",
      "source": [
        "O objetivo deste projeto é desenvolver um modelo de forecasting para prever a demanda dos próximos 5 dias do item da empresa **Frexco**, baseado em uma série temporal. Para essa previsão será utilizado o modelo ARIMA."
      ],
      "metadata": {
        "id": "Fl1pTQSHOlAU"
      }
    },
    {
      "cell_type": "markdown",
      "source": [
        "# Data Cleaning"
      ],
      "metadata": {
        "id": "UpekHV50I3D4"
      }
    },
    {
      "cell_type": "code",
      "execution_count": 1,
      "metadata": {
        "id": "fioW-xd7HVug"
      },
      "outputs": [],
      "source": [
        "import pandas as pd\n",
        "import numpy as np"
      ]
    },
    {
      "cell_type": "code",
      "source": [
        "df = pd.read_excel('Dados.xlsx', index_col=0)"
      ],
      "metadata": {
        "id": "Jb3BoOIHHqZC"
      },
      "execution_count": 2,
      "outputs": []
    },
    {
      "cell_type": "code",
      "source": [
        "df = df.reset_index(level=0)"
      ],
      "metadata": {
        "id": "JgQyGOwQK2I9"
      },
      "execution_count": 3,
      "outputs": []
    },
    {
      "cell_type": "code",
      "source": [
        "df.head()"
      ],
      "metadata": {
        "colab": {
          "base_uri": "https://localhost:8080/",
          "height": 206
        },
        "id": "sLU8CoqNH-xx",
        "outputId": "b5abe3f4-b1e6-49e1-818c-4bf6f06304d7"
      },
      "execution_count": 4,
      "outputs": [
        {
          "output_type": "execute_result",
          "data": {
            "text/plain": [
              "        Data  Vendas\n",
              "0 2022-12-06     870\n",
              "1 2022-12-07     868\n",
              "2 2022-12-08    1189\n",
              "3 2022-12-09     742\n",
              "4 2022-12-10     317"
            ],
            "text/html": [
              "\n",
              "  <div id=\"df-188ad0a0-dd39-4c41-bf92-d38e8dee5353\">\n",
              "    <div class=\"colab-df-container\">\n",
              "      <div>\n",
              "<style scoped>\n",
              "    .dataframe tbody tr th:only-of-type {\n",
              "        vertical-align: middle;\n",
              "    }\n",
              "\n",
              "    .dataframe tbody tr th {\n",
              "        vertical-align: top;\n",
              "    }\n",
              "\n",
              "    .dataframe thead th {\n",
              "        text-align: right;\n",
              "    }\n",
              "</style>\n",
              "<table border=\"1\" class=\"dataframe\">\n",
              "  <thead>\n",
              "    <tr style=\"text-align: right;\">\n",
              "      <th></th>\n",
              "      <th>Data</th>\n",
              "      <th>Vendas</th>\n",
              "    </tr>\n",
              "  </thead>\n",
              "  <tbody>\n",
              "    <tr>\n",
              "      <th>0</th>\n",
              "      <td>2022-12-06</td>\n",
              "      <td>870</td>\n",
              "    </tr>\n",
              "    <tr>\n",
              "      <th>1</th>\n",
              "      <td>2022-12-07</td>\n",
              "      <td>868</td>\n",
              "    </tr>\n",
              "    <tr>\n",
              "      <th>2</th>\n",
              "      <td>2022-12-08</td>\n",
              "      <td>1189</td>\n",
              "    </tr>\n",
              "    <tr>\n",
              "      <th>3</th>\n",
              "      <td>2022-12-09</td>\n",
              "      <td>742</td>\n",
              "    </tr>\n",
              "    <tr>\n",
              "      <th>4</th>\n",
              "      <td>2022-12-10</td>\n",
              "      <td>317</td>\n",
              "    </tr>\n",
              "  </tbody>\n",
              "</table>\n",
              "</div>\n",
              "      <button class=\"colab-df-convert\" onclick=\"convertToInteractive('df-188ad0a0-dd39-4c41-bf92-d38e8dee5353')\"\n",
              "              title=\"Convert this dataframe to an interactive table.\"\n",
              "              style=\"display:none;\">\n",
              "        \n",
              "  <svg xmlns=\"http://www.w3.org/2000/svg\" height=\"24px\"viewBox=\"0 0 24 24\"\n",
              "       width=\"24px\">\n",
              "    <path d=\"M0 0h24v24H0V0z\" fill=\"none\"/>\n",
              "    <path d=\"M18.56 5.44l.94 2.06.94-2.06 2.06-.94-2.06-.94-.94-2.06-.94 2.06-2.06.94zm-11 1L8.5 8.5l.94-2.06 2.06-.94-2.06-.94L8.5 2.5l-.94 2.06-2.06.94zm10 10l.94 2.06.94-2.06 2.06-.94-2.06-.94-.94-2.06-.94 2.06-2.06.94z\"/><path d=\"M17.41 7.96l-1.37-1.37c-.4-.4-.92-.59-1.43-.59-.52 0-1.04.2-1.43.59L10.3 9.45l-7.72 7.72c-.78.78-.78 2.05 0 2.83L4 21.41c.39.39.9.59 1.41.59.51 0 1.02-.2 1.41-.59l7.78-7.78 2.81-2.81c.8-.78.8-2.07 0-2.86zM5.41 20L4 18.59l7.72-7.72 1.47 1.35L5.41 20z\"/>\n",
              "  </svg>\n",
              "      </button>\n",
              "      \n",
              "  <style>\n",
              "    .colab-df-container {\n",
              "      display:flex;\n",
              "      flex-wrap:wrap;\n",
              "      gap: 12px;\n",
              "    }\n",
              "\n",
              "    .colab-df-convert {\n",
              "      background-color: #E8F0FE;\n",
              "      border: none;\n",
              "      border-radius: 50%;\n",
              "      cursor: pointer;\n",
              "      display: none;\n",
              "      fill: #1967D2;\n",
              "      height: 32px;\n",
              "      padding: 0 0 0 0;\n",
              "      width: 32px;\n",
              "    }\n",
              "\n",
              "    .colab-df-convert:hover {\n",
              "      background-color: #E2EBFA;\n",
              "      box-shadow: 0px 1px 2px rgba(60, 64, 67, 0.3), 0px 1px 3px 1px rgba(60, 64, 67, 0.15);\n",
              "      fill: #174EA6;\n",
              "    }\n",
              "\n",
              "    [theme=dark] .colab-df-convert {\n",
              "      background-color: #3B4455;\n",
              "      fill: #D2E3FC;\n",
              "    }\n",
              "\n",
              "    [theme=dark] .colab-df-convert:hover {\n",
              "      background-color: #434B5C;\n",
              "      box-shadow: 0px 1px 3px 1px rgba(0, 0, 0, 0.15);\n",
              "      filter: drop-shadow(0px 1px 2px rgba(0, 0, 0, 0.3));\n",
              "      fill: #FFFFFF;\n",
              "    }\n",
              "  </style>\n",
              "\n",
              "      <script>\n",
              "        const buttonEl =\n",
              "          document.querySelector('#df-188ad0a0-dd39-4c41-bf92-d38e8dee5353 button.colab-df-convert');\n",
              "        buttonEl.style.display =\n",
              "          google.colab.kernel.accessAllowed ? 'block' : 'none';\n",
              "\n",
              "        async function convertToInteractive(key) {\n",
              "          const element = document.querySelector('#df-188ad0a0-dd39-4c41-bf92-d38e8dee5353');\n",
              "          const dataTable =\n",
              "            await google.colab.kernel.invokeFunction('convertToInteractive',\n",
              "                                                     [key], {});\n",
              "          if (!dataTable) return;\n",
              "\n",
              "          const docLinkHtml = 'Like what you see? Visit the ' +\n",
              "            '<a target=\"_blank\" href=https://colab.research.google.com/notebooks/data_table.ipynb>data table notebook</a>'\n",
              "            + ' to learn more about interactive tables.';\n",
              "          element.innerHTML = '';\n",
              "          dataTable['output_type'] = 'display_data';\n",
              "          await google.colab.output.renderOutput(dataTable, element);\n",
              "          const docLink = document.createElement('div');\n",
              "          docLink.innerHTML = docLinkHtml;\n",
              "          element.appendChild(docLink);\n",
              "        }\n",
              "      </script>\n",
              "    </div>\n",
              "  </div>\n",
              "  "
            ]
          },
          "metadata": {},
          "execution_count": 4
        }
      ]
    },
    {
      "cell_type": "code",
      "source": [
        "df['Data'] = df['Data'].astype(str)"
      ],
      "metadata": {
        "id": "r-FssxbgMnr_"
      },
      "execution_count": 5,
      "outputs": []
    },
    {
      "cell_type": "code",
      "source": [
        "df[['Ano', 'Mes', 'Dia']] = df['Data'].str.split('-', expand=True).astype(int)\n",
        "df.head()"
      ],
      "metadata": {
        "colab": {
          "base_uri": "https://localhost:8080/",
          "height": 206
        },
        "id": "OpUkgukfIhs-",
        "outputId": "18828991-9796-442b-8b4c-28a15471b624"
      },
      "execution_count": 6,
      "outputs": [
        {
          "output_type": "execute_result",
          "data": {
            "text/plain": [
              "         Data  Vendas   Ano  Mes  Dia\n",
              "0  2022-12-06     870  2022   12    6\n",
              "1  2022-12-07     868  2022   12    7\n",
              "2  2022-12-08    1189  2022   12    8\n",
              "3  2022-12-09     742  2022   12    9\n",
              "4  2022-12-10     317  2022   12   10"
            ],
            "text/html": [
              "\n",
              "  <div id=\"df-89713049-96c5-4185-9a32-0935a0e8dae1\">\n",
              "    <div class=\"colab-df-container\">\n",
              "      <div>\n",
              "<style scoped>\n",
              "    .dataframe tbody tr th:only-of-type {\n",
              "        vertical-align: middle;\n",
              "    }\n",
              "\n",
              "    .dataframe tbody tr th {\n",
              "        vertical-align: top;\n",
              "    }\n",
              "\n",
              "    .dataframe thead th {\n",
              "        text-align: right;\n",
              "    }\n",
              "</style>\n",
              "<table border=\"1\" class=\"dataframe\">\n",
              "  <thead>\n",
              "    <tr style=\"text-align: right;\">\n",
              "      <th></th>\n",
              "      <th>Data</th>\n",
              "      <th>Vendas</th>\n",
              "      <th>Ano</th>\n",
              "      <th>Mes</th>\n",
              "      <th>Dia</th>\n",
              "    </tr>\n",
              "  </thead>\n",
              "  <tbody>\n",
              "    <tr>\n",
              "      <th>0</th>\n",
              "      <td>2022-12-06</td>\n",
              "      <td>870</td>\n",
              "      <td>2022</td>\n",
              "      <td>12</td>\n",
              "      <td>6</td>\n",
              "    </tr>\n",
              "    <tr>\n",
              "      <th>1</th>\n",
              "      <td>2022-12-07</td>\n",
              "      <td>868</td>\n",
              "      <td>2022</td>\n",
              "      <td>12</td>\n",
              "      <td>7</td>\n",
              "    </tr>\n",
              "    <tr>\n",
              "      <th>2</th>\n",
              "      <td>2022-12-08</td>\n",
              "      <td>1189</td>\n",
              "      <td>2022</td>\n",
              "      <td>12</td>\n",
              "      <td>8</td>\n",
              "    </tr>\n",
              "    <tr>\n",
              "      <th>3</th>\n",
              "      <td>2022-12-09</td>\n",
              "      <td>742</td>\n",
              "      <td>2022</td>\n",
              "      <td>12</td>\n",
              "      <td>9</td>\n",
              "    </tr>\n",
              "    <tr>\n",
              "      <th>4</th>\n",
              "      <td>2022-12-10</td>\n",
              "      <td>317</td>\n",
              "      <td>2022</td>\n",
              "      <td>12</td>\n",
              "      <td>10</td>\n",
              "    </tr>\n",
              "  </tbody>\n",
              "</table>\n",
              "</div>\n",
              "      <button class=\"colab-df-convert\" onclick=\"convertToInteractive('df-89713049-96c5-4185-9a32-0935a0e8dae1')\"\n",
              "              title=\"Convert this dataframe to an interactive table.\"\n",
              "              style=\"display:none;\">\n",
              "        \n",
              "  <svg xmlns=\"http://www.w3.org/2000/svg\" height=\"24px\"viewBox=\"0 0 24 24\"\n",
              "       width=\"24px\">\n",
              "    <path d=\"M0 0h24v24H0V0z\" fill=\"none\"/>\n",
              "    <path d=\"M18.56 5.44l.94 2.06.94-2.06 2.06-.94-2.06-.94-.94-2.06-.94 2.06-2.06.94zm-11 1L8.5 8.5l.94-2.06 2.06-.94-2.06-.94L8.5 2.5l-.94 2.06-2.06.94zm10 10l.94 2.06.94-2.06 2.06-.94-2.06-.94-.94-2.06-.94 2.06-2.06.94z\"/><path d=\"M17.41 7.96l-1.37-1.37c-.4-.4-.92-.59-1.43-.59-.52 0-1.04.2-1.43.59L10.3 9.45l-7.72 7.72c-.78.78-.78 2.05 0 2.83L4 21.41c.39.39.9.59 1.41.59.51 0 1.02-.2 1.41-.59l7.78-7.78 2.81-2.81c.8-.78.8-2.07 0-2.86zM5.41 20L4 18.59l7.72-7.72 1.47 1.35L5.41 20z\"/>\n",
              "  </svg>\n",
              "      </button>\n",
              "      \n",
              "  <style>\n",
              "    .colab-df-container {\n",
              "      display:flex;\n",
              "      flex-wrap:wrap;\n",
              "      gap: 12px;\n",
              "    }\n",
              "\n",
              "    .colab-df-convert {\n",
              "      background-color: #E8F0FE;\n",
              "      border: none;\n",
              "      border-radius: 50%;\n",
              "      cursor: pointer;\n",
              "      display: none;\n",
              "      fill: #1967D2;\n",
              "      height: 32px;\n",
              "      padding: 0 0 0 0;\n",
              "      width: 32px;\n",
              "    }\n",
              "\n",
              "    .colab-df-convert:hover {\n",
              "      background-color: #E2EBFA;\n",
              "      box-shadow: 0px 1px 2px rgba(60, 64, 67, 0.3), 0px 1px 3px 1px rgba(60, 64, 67, 0.15);\n",
              "      fill: #174EA6;\n",
              "    }\n",
              "\n",
              "    [theme=dark] .colab-df-convert {\n",
              "      background-color: #3B4455;\n",
              "      fill: #D2E3FC;\n",
              "    }\n",
              "\n",
              "    [theme=dark] .colab-df-convert:hover {\n",
              "      background-color: #434B5C;\n",
              "      box-shadow: 0px 1px 3px 1px rgba(0, 0, 0, 0.15);\n",
              "      filter: drop-shadow(0px 1px 2px rgba(0, 0, 0, 0.3));\n",
              "      fill: #FFFFFF;\n",
              "    }\n",
              "  </style>\n",
              "\n",
              "      <script>\n",
              "        const buttonEl =\n",
              "          document.querySelector('#df-89713049-96c5-4185-9a32-0935a0e8dae1 button.colab-df-convert');\n",
              "        buttonEl.style.display =\n",
              "          google.colab.kernel.accessAllowed ? 'block' : 'none';\n",
              "\n",
              "        async function convertToInteractive(key) {\n",
              "          const element = document.querySelector('#df-89713049-96c5-4185-9a32-0935a0e8dae1');\n",
              "          const dataTable =\n",
              "            await google.colab.kernel.invokeFunction('convertToInteractive',\n",
              "                                                     [key], {});\n",
              "          if (!dataTable) return;\n",
              "\n",
              "          const docLinkHtml = 'Like what you see? Visit the ' +\n",
              "            '<a target=\"_blank\" href=https://colab.research.google.com/notebooks/data_table.ipynb>data table notebook</a>'\n",
              "            + ' to learn more about interactive tables.';\n",
              "          element.innerHTML = '';\n",
              "          dataTable['output_type'] = 'display_data';\n",
              "          await google.colab.output.renderOutput(dataTable, element);\n",
              "          const docLink = document.createElement('div');\n",
              "          docLink.innerHTML = docLinkHtml;\n",
              "          element.appendChild(docLink);\n",
              "        }\n",
              "      </script>\n",
              "    </div>\n",
              "  </div>\n",
              "  "
            ]
          },
          "metadata": {},
          "execution_count": 6
        }
      ]
    },
    {
      "cell_type": "markdown",
      "source": [
        "# Análise Exploratória de Dados (EDA)"
      ],
      "metadata": {
        "id": "0J2OltCkTlQx"
      }
    },
    {
      "cell_type": "code",
      "source": [
        "import seaborn as sns\n",
        "import plotly.express as px"
      ],
      "metadata": {
        "id": "3WEo_cmyUIsd"
      },
      "execution_count": 7,
      "outputs": []
    },
    {
      "cell_type": "code",
      "source": [
        "import plotly.io as pio\n",
        "pio.renderers.default = \"svg\""
      ],
      "metadata": {
        "id": "WtHnlfXenGXc"
      },
      "execution_count": 8,
      "outputs": []
    },
    {
      "cell_type": "code",
      "source": [
        "!pip install -U kaleido"
      ],
      "metadata": {
        "colab": {
          "base_uri": "https://localhost:8080/"
        },
        "id": "vH8KzgQBnbAx",
        "outputId": "97fa6260-4d54-4400-e8ef-d59b8c6d664f"
      },
      "execution_count": 9,
      "outputs": [
        {
          "output_type": "stream",
          "name": "stdout",
          "text": [
            "Looking in indexes: https://pypi.org/simple, https://us-python.pkg.dev/colab-wheels/public/simple/\n",
            "Requirement already satisfied: kaleido in /usr/local/lib/python3.8/dist-packages (0.2.1)\n"
          ]
        }
      ]
    },
    {
      "cell_type": "code",
      "source": [
        "px.histogram(df,x='Vendas', width=900, marginal='rug',template='seaborn',labels={'Vendas':'Numero de vendas'},title=\"<b> Distribuicao do numero de vendas\")"
      ],
      "metadata": {
        "colab": {
          "base_uri": "https://localhost:8080/",
          "height": 521
        },
        "id": "fmcZ2jGpULWF",
        "outputId": "aaad58ee-b527-4120-b128-be5687618b5d"
      },
      "execution_count": 10,
      "outputs": [
        {
          "output_type": "display_data",
          "data": {
            "image/svg+xml": "<svg class=\"main-svg\" xmlns=\"http://www.w3.org/2000/svg\" xmlns:xlink=\"http://www.w3.org/1999/xlink\" width=\"900\" height=\"500\" style=\"\" viewBox=\"0 0 900 500\"><rect x=\"0\" y=\"0\" width=\"900\" height=\"500\" style=\"fill: rgb(255, 255, 255); fill-opacity: 1;\"/><defs id=\"defs-63489f\"><g class=\"clips\"><clipPath id=\"clip63489fxyplot\" class=\"plotclip\"><rect width=\"740\" height=\"266.112\"/></clipPath><clipPath id=\"clip63489fx2y2plot\" class=\"plotclip\"><rect width=\"740\" height=\"50.687999999999995\"/></clipPath><clipPath class=\"axesclip\" id=\"clip63489fx\"><rect x=\"80\" y=\"0\" width=\"740\" height=\"500\"/></clipPath><clipPath class=\"axesclip\" id=\"clip63489fy\"><rect x=\"0\" y=\"153.888\" width=\"900\" height=\"266.112\"/></clipPath><clipPath class=\"axesclip\" id=\"clip63489fxy\"><rect x=\"80\" y=\"153.888\" width=\"740\" height=\"266.112\"/></clipPath><clipPath class=\"axesclip\" id=\"clip63489fy2\"><rect x=\"0\" y=\"100\" width=\"900\" height=\"50.687999999999995\"/></clipPath><clipPath class=\"axesclip\" id=\"clip63489fxy2\"><rect x=\"80\" y=\"100\" width=\"740\" height=\"50.687999999999995\"/></clipPath><clipPath class=\"axesclip\" id=\"clip63489fx2\"><rect x=\"80\" y=\"0\" width=\"740\" height=\"500\"/></clipPath><clipPath class=\"axesclip\" id=\"clip63489fx2y\"><rect x=\"80\" y=\"153.888\" width=\"740\" height=\"266.112\"/></clipPath><clipPath class=\"axesclip\" id=\"clip63489fx2y2\"><rect x=\"80\" y=\"100\" width=\"740\" height=\"50.687999999999995\"/></clipPath></g><g class=\"gradients\"/><g class=\"patterns\"/></defs><g class=\"bglayer\"><rect class=\"bg\" x=\"80\" y=\"153.888\" width=\"740\" height=\"266.112\" style=\"fill: rgb(234, 234, 242); fill-opacity: 1; stroke-width: 0;\"/><rect class=\"bg\" x=\"80\" y=\"100\" width=\"740\" height=\"50.687999999999995\" style=\"fill: rgb(234, 234, 242); fill-opacity: 1; stroke-width: 0;\"/></g><g class=\"layer-below\"><g class=\"imagelayer\"/><g class=\"shapelayer\"/></g><g class=\"cartesianlayer\"><g class=\"subplot xy\"><g class=\"layer-subplot\"><g class=\"shapelayer\"/><g class=\"imagelayer\"/></g><g class=\"gridlayer\"><g class=\"x\"><path class=\"xgrid crisp\" transform=\"translate(109.9,0)\" d=\"M0,153.888v266.112\" style=\"stroke: rgb(255, 255, 255); stroke-opacity: 1; stroke-width: 1px;\"/><path class=\"xgrid crisp\" transform=\"translate(188.82,0)\" d=\"M0,153.888v266.112\" style=\"stroke: rgb(255, 255, 255); stroke-opacity: 1; stroke-width: 1px;\"/><path class=\"xgrid crisp\" transform=\"translate(267.74,0)\" d=\"M0,153.888v266.112\" style=\"stroke: rgb(255, 255, 255); stroke-opacity: 1; stroke-width: 1px;\"/><path class=\"xgrid crisp\" transform=\"translate(346.66,0)\" d=\"M0,153.888v266.112\" style=\"stroke: rgb(255, 255, 255); stroke-opacity: 1; stroke-width: 1px;\"/><path class=\"xgrid crisp\" transform=\"translate(425.59,0)\" d=\"M0,153.888v266.112\" style=\"stroke: rgb(255, 255, 255); stroke-opacity: 1; stroke-width: 1px;\"/><path class=\"xgrid crisp\" transform=\"translate(504.51,0)\" d=\"M0,153.888v266.112\" style=\"stroke: rgb(255, 255, 255); stroke-opacity: 1; stroke-width: 1px;\"/><path class=\"xgrid crisp\" transform=\"translate(583.4300000000001,0)\" d=\"M0,153.888v266.112\" style=\"stroke: rgb(255, 255, 255); stroke-opacity: 1; stroke-width: 1px;\"/><path class=\"xgrid crisp\" transform=\"translate(662.35,0)\" d=\"M0,153.888v266.112\" style=\"stroke: rgb(255, 255, 255); stroke-opacity: 1; stroke-width: 1px;\"/><path class=\"xgrid crisp\" transform=\"translate(741.28,0)\" d=\"M0,153.888v266.112\" style=\"stroke: rgb(255, 255, 255); stroke-opacity: 1; stroke-width: 1px;\"/></g><g class=\"y\"><path class=\"ygrid crisp\" transform=\"translate(0,369.438)\" d=\"M80,0h740\" style=\"stroke: rgb(255, 255, 255); stroke-opacity: 1; stroke-width: 1px;\"/><path class=\"ygrid crisp\" transform=\"translate(0,318.87800000000004)\" d=\"M80,0h740\" style=\"stroke: rgb(255, 255, 255); stroke-opacity: 1; stroke-width: 1px;\"/><path class=\"ygrid crisp\" transform=\"translate(0,268.318)\" d=\"M80,0h740\" style=\"stroke: rgb(255, 255, 255); stroke-opacity: 1; stroke-width: 1px;\"/><path class=\"ygrid crisp\" transform=\"translate(0,217.758)\" d=\"M80,0h740\" style=\"stroke: rgb(255, 255, 255); stroke-opacity: 1; stroke-width: 1px;\"/><path class=\"ygrid crisp\" transform=\"translate(0,167.198)\" d=\"M80,0h740\" style=\"stroke: rgb(255, 255, 255); stroke-opacity: 1; stroke-width: 1px;\"/></g></g><g class=\"zerolinelayer\"><path class=\"yzl zl crisp\" transform=\"translate(0,419.99800000000005)\" d=\"M80,0h740\" style=\"stroke: rgb(255, 255, 255); stroke-opacity: 1; stroke-width: 1px;\"/></g><path class=\"xlines-below\"/><path class=\"ylines-below\"/><g class=\"overlines-below\"/><g class=\"xaxislayer-below\"/><g class=\"yaxislayer-below\"/><g class=\"overaxes-below\"/><g class=\"plot\" transform=\"translate(80,153.888)\" clip-path=\"url(#clip63489fxyplot)\"><g class=\"barlayer mlayer\"><g class=\"trace bars\" shape-rendering=\"crispEdges\" style=\"opacity: 1;\"><g class=\"points\"><g class=\"point\"><path d=\"M29.7,266.11V114.43H108.62V266.11Z\" style=\"vector-effect: non-scaling-stroke; opacity: 1; stroke-width: 0px; fill: rgb(76, 114, 176); fill-opacity: 1;\"/></g><g class=\"point\"><path d=\"M108.62,266.11V114.43H187.54V266.11Z\" style=\"vector-effect: non-scaling-stroke; opacity: 1; stroke-width: 0px; fill: rgb(76, 114, 176); fill-opacity: 1;\"/></g><g class=\"point\"><path d=\"M187.54,266.11V190.27H266.47V266.11Z\" style=\"vector-effect: non-scaling-stroke; opacity: 1; stroke-width: 0px; fill: rgb(76, 114, 176); fill-opacity: 1;\"/></g><g class=\"point\"><path d=\"M266.47,266.11V89.15H345.39V266.11Z\" style=\"vector-effect: non-scaling-stroke; opacity: 1; stroke-width: 0px; fill: rgb(76, 114, 176); fill-opacity: 1;\"/></g><g class=\"point\"><path d=\"M345.39,266.11V13.31H424.31V266.11Z\" style=\"vector-effect: non-scaling-stroke; opacity: 1; stroke-width: 0px; fill: rgb(76, 114, 176); fill-opacity: 1;\"/></g><g class=\"point\"><path d=\"M424.31,266.11V139.71H503.23V266.11Z\" style=\"vector-effect: non-scaling-stroke; opacity: 1; stroke-width: 0px; fill: rgb(76, 114, 176); fill-opacity: 1;\"/></g><g class=\"point\"><path d=\"M503.23,266.11V89.15H582.16V266.11Z\" style=\"vector-effect: non-scaling-stroke; opacity: 1; stroke-width: 0px; fill: rgb(76, 114, 176); fill-opacity: 1;\"/></g><g class=\"point\"><path d=\"M582.16,266.11V240.83H661.08V266.11Z\" style=\"vector-effect: non-scaling-stroke; opacity: 1; stroke-width: 0px; fill: rgb(76, 114, 176); fill-opacity: 1;\"/></g><g class=\"point\"><path d=\"M661.08,266.11V240.83H740V266.11Z\" style=\"vector-effect: non-scaling-stroke; opacity: 1; stroke-width: 0px; fill: rgb(76, 114, 176); fill-opacity: 1;\"/></g></g></g></g></g><g class=\"overplot\"/><path class=\"xlines-above crisp\" d=\"M0,0\" style=\"fill: none;\"/><path class=\"ylines-above crisp\" d=\"M0,0\" style=\"fill: none;\"/><g class=\"overlines-above\"/><g class=\"xaxislayer-above\"><g class=\"xtick\"><text text-anchor=\"middle\" x=\"0\" y=\"433\" transform=\"translate(109.9,0)\" style=\"font-family: 'Open Sans', verdana, arial, sans-serif; font-size: 12px; fill: rgb(36, 36, 36); fill-opacity: 1; white-space: pre; opacity: 1;\">0</text></g><g class=\"xtick\"><text text-anchor=\"middle\" x=\"0\" y=\"433\" style=\"font-family: 'Open Sans', verdana, arial, sans-serif; font-size: 12px; fill: rgb(36, 36, 36); fill-opacity: 1; white-space: pre; opacity: 1;\" transform=\"translate(188.82,0)\">200</text></g><g class=\"xtick\"><text text-anchor=\"middle\" x=\"0\" y=\"433\" style=\"font-family: 'Open Sans', verdana, arial, sans-serif; font-size: 12px; fill: rgb(36, 36, 36); fill-opacity: 1; white-space: pre; opacity: 1;\" transform=\"translate(267.74,0)\">400</text></g><g class=\"xtick\"><text text-anchor=\"middle\" x=\"0\" y=\"433\" style=\"font-family: 'Open Sans', verdana, arial, sans-serif; font-size: 12px; fill: rgb(36, 36, 36); fill-opacity: 1; white-space: pre; opacity: 1;\" transform=\"translate(346.66,0)\">600</text></g><g class=\"xtick\"><text text-anchor=\"middle\" x=\"0\" y=\"433\" style=\"font-family: 'Open Sans', verdana, arial, sans-serif; font-size: 12px; fill: rgb(36, 36, 36); fill-opacity: 1; white-space: pre; opacity: 1;\" transform=\"translate(425.59,0)\">800</text></g><g class=\"xtick\"><text text-anchor=\"middle\" x=\"0\" y=\"433\" style=\"font-family: 'Open Sans', verdana, arial, sans-serif; font-size: 12px; fill: rgb(36, 36, 36); fill-opacity: 1; white-space: pre; opacity: 1;\" transform=\"translate(504.51,0)\">1000</text></g><g class=\"xtick\"><text text-anchor=\"middle\" x=\"0\" y=\"433\" style=\"font-family: 'Open Sans', verdana, arial, sans-serif; font-size: 12px; fill: rgb(36, 36, 36); fill-opacity: 1; white-space: pre; opacity: 1;\" transform=\"translate(583.4300000000001,0)\">1200</text></g><g class=\"xtick\"><text text-anchor=\"middle\" x=\"0\" y=\"433\" style=\"font-family: 'Open Sans', verdana, arial, sans-serif; font-size: 12px; fill: rgb(36, 36, 36); fill-opacity: 1; white-space: pre; opacity: 1;\" transform=\"translate(662.35,0)\">1400</text></g><g class=\"xtick\"><text text-anchor=\"middle\" x=\"0\" y=\"433\" style=\"font-family: 'Open Sans', verdana, arial, sans-serif; font-size: 12px; fill: rgb(36, 36, 36); fill-opacity: 1; white-space: pre; opacity: 1;\" transform=\"translate(741.28,0)\">1600</text></g></g><g class=\"yaxislayer-above\"><g class=\"ytick\"><text text-anchor=\"end\" x=\"79\" y=\"4.199999999999999\" transform=\"translate(0,419.99800000000005)\" style=\"font-family: 'Open Sans', verdana, arial, sans-serif; font-size: 12px; fill: rgb(36, 36, 36); fill-opacity: 1; white-space: pre; opacity: 1;\">0</text></g><g class=\"ytick\"><text text-anchor=\"end\" x=\"79\" y=\"4.199999999999999\" style=\"font-family: 'Open Sans', verdana, arial, sans-serif; font-size: 12px; fill: rgb(36, 36, 36); fill-opacity: 1; white-space: pre; opacity: 1;\" transform=\"translate(0,369.438)\">2</text></g><g class=\"ytick\"><text text-anchor=\"end\" x=\"79\" y=\"4.199999999999999\" style=\"font-family: 'Open Sans', verdana, arial, sans-serif; font-size: 12px; fill: rgb(36, 36, 36); fill-opacity: 1; white-space: pre; opacity: 1;\" transform=\"translate(0,318.87800000000004)\">4</text></g><g class=\"ytick\"><text text-anchor=\"end\" x=\"79\" y=\"4.199999999999999\" style=\"font-family: 'Open Sans', verdana, arial, sans-serif; font-size: 12px; fill: rgb(36, 36, 36); fill-opacity: 1; white-space: pre; opacity: 1;\" transform=\"translate(0,268.318)\">6</text></g><g class=\"ytick\"><text text-anchor=\"end\" x=\"79\" y=\"4.199999999999999\" style=\"font-family: 'Open Sans', verdana, arial, sans-serif; font-size: 12px; fill: rgb(36, 36, 36); fill-opacity: 1; white-space: pre; opacity: 1;\" transform=\"translate(0,217.758)\">8</text></g><g class=\"ytick\"><text text-anchor=\"end\" x=\"79\" y=\"4.199999999999999\" style=\"font-family: 'Open Sans', verdana, arial, sans-serif; font-size: 12px; fill: rgb(36, 36, 36); fill-opacity: 1; white-space: pre; opacity: 1;\" transform=\"translate(0,167.198)\">10</text></g></g><g class=\"overaxes-above\"/></g><g class=\"subplot x2y2\"><g class=\"layer-subplot\"><g class=\"shapelayer\"/><g class=\"imagelayer\"/></g><g class=\"gridlayer\"><g class=\"x2\"><path class=\"x2grid crisp\" transform=\"translate(188.82,0)\" d=\"M0,100v50.687999999999995\" style=\"stroke: rgb(255, 255, 255); stroke-opacity: 1; stroke-width: 1px;\"/><path class=\"x2grid crisp\" transform=\"translate(267.74,0)\" d=\"M0,100v50.687999999999995\" style=\"stroke: rgb(255, 255, 255); stroke-opacity: 1; stroke-width: 1px;\"/><path class=\"x2grid crisp\" transform=\"translate(346.66,0)\" d=\"M0,100v50.687999999999995\" style=\"stroke: rgb(255, 255, 255); stroke-opacity: 1; stroke-width: 1px;\"/><path class=\"x2grid crisp\" transform=\"translate(425.59,0)\" d=\"M0,100v50.687999999999995\" style=\"stroke: rgb(255, 255, 255); stroke-opacity: 1; stroke-width: 1px;\"/><path class=\"x2grid crisp\" transform=\"translate(504.51,0)\" d=\"M0,100v50.687999999999995\" style=\"stroke: rgb(255, 255, 255); stroke-opacity: 1; stroke-width: 1px;\"/><path class=\"x2grid crisp\" transform=\"translate(583.4300000000001,0)\" d=\"M0,100v50.687999999999995\" style=\"stroke: rgb(255, 255, 255); stroke-opacity: 1; stroke-width: 1px;\"/><path class=\"x2grid crisp\" transform=\"translate(662.35,0)\" d=\"M0,100v50.687999999999995\" style=\"stroke: rgb(255, 255, 255); stroke-opacity: 1; stroke-width: 1px;\"/><path class=\"x2grid crisp\" transform=\"translate(741.28,0)\" d=\"M0,100v50.687999999999995\" style=\"stroke: rgb(255, 255, 255); stroke-opacity: 1; stroke-width: 1px;\"/></g><g class=\"y2\"><path class=\"y2grid crisp\" transform=\"translate(0,123.84)\" d=\"M80,0h740\" style=\"stroke: rgb(255, 255, 255); stroke-opacity: 1; stroke-width: 1px;\"/></g></g><g class=\"zerolinelayer\"><path class=\"x2zl zl crisp\" transform=\"translate(109.9,0)\" d=\"M0,100v50.687999999999995\" style=\"stroke: rgb(255, 255, 255); stroke-opacity: 1; stroke-width: 1px;\"/></g><path class=\"xlines-below\"/><path class=\"ylines-below\"/><g class=\"overlines-below\"/><g class=\"xaxislayer-below\"/><g class=\"yaxislayer-below\"/><g class=\"overaxes-below\"/><g class=\"plot\" transform=\"translate(80,100)\" clip-path=\"url(#clip63489fx2y2plot)\"><g class=\"boxlayer mlayer\"><g class=\"trace boxes\" style=\"opacity: 1;\"><path class=\"box\" d=\"M349.73,35.53V12.16M155.78,35.53V12.16H446.21V35.53ZM155.78,23.84H37M446.21,23.84H697.58M37,29.69V18M697.58,29.69V18\" style=\"vector-effect: non-scaling-stroke; stroke-width: 2px; stroke: rgb(255, 255, 255); stroke-opacity: 0; fill: rgb(255, 255, 255); fill-opacity: 0;\"/><g class=\"points\"><path class=\"point\" transform=\"translate(37,41.37)\" d=\"M0,4.2V-4.2\" style=\"opacity: 1; stroke: rgb(76, 114, 176); stroke-opacity: 1; stroke-width: 1px; fill: none;\"/><path class=\"point\" transform=\"translate(45.68,41.37)\" d=\"M0,4.2V-4.2\" style=\"opacity: 1; stroke: rgb(76, 114, 176); stroke-opacity: 1; stroke-width: 1px; fill: none;\"/><path class=\"point\" transform=\"translate(51.21,41.37)\" d=\"M0,4.2V-4.2\" style=\"opacity: 1; stroke: rgb(76, 114, 176); stroke-opacity: 1; stroke-width: 1px; fill: none;\"/><path class=\"point\" transform=\"translate(56.34,41.37)\" d=\"M0,4.2V-4.2\" style=\"opacity: 1; stroke: rgb(76, 114, 176); stroke-opacity: 1; stroke-width: 1px; fill: none;\"/><path class=\"point\" transform=\"translate(71.73,41.37)\" d=\"M0,4.2V-4.2\" style=\"opacity: 1; stroke: rgb(76, 114, 176); stroke-opacity: 1; stroke-width: 1px; fill: none;\"/><path class=\"point\" transform=\"translate(86.72,41.37)\" d=\"M0,4.2V-4.2\" style=\"opacity: 1; stroke: rgb(76, 114, 176); stroke-opacity: 1; stroke-width: 1px; fill: none;\"/><path class=\"point\" transform=\"translate(122.63,41.37)\" d=\"M0,4.2V-4.2\" style=\"opacity: 1; stroke: rgb(76, 114, 176); stroke-opacity: 1; stroke-width: 1px; fill: none;\"/><path class=\"point\" transform=\"translate(124.6,41.37)\" d=\"M0,4.2V-4.2\" style=\"opacity: 1; stroke: rgb(76, 114, 176); stroke-opacity: 1; stroke-width: 1px; fill: none;\"/><path class=\"point\" transform=\"translate(143.94,41.37)\" d=\"M0,4.2V-4.2\" style=\"opacity: 1; stroke: rgb(76, 114, 176); stroke-opacity: 1; stroke-width: 1px; fill: none;\"/><path class=\"point\" transform=\"translate(154.99,41.37)\" d=\"M0,4.2V-4.2\" style=\"opacity: 1; stroke: rgb(76, 114, 176); stroke-opacity: 1; stroke-width: 1px; fill: none;\"/><path class=\"point\" transform=\"translate(154.99,41.37)\" d=\"M0,4.2V-4.2\" style=\"opacity: 1; stroke: rgb(76, 114, 176); stroke-opacity: 1; stroke-width: 1px; fill: none;\"/><path class=\"point\" transform=\"translate(155.78,41.37)\" d=\"M0,4.2V-4.2\" style=\"opacity: 1; stroke: rgb(76, 114, 176); stroke-opacity: 1; stroke-width: 1px; fill: none;\"/><path class=\"point\" transform=\"translate(199.19,41.37)\" d=\"M0,4.2V-4.2\" style=\"opacity: 1; stroke: rgb(76, 114, 176); stroke-opacity: 1; stroke-width: 1px; fill: none;\"/><path class=\"point\" transform=\"translate(253.25,41.37)\" d=\"M0,4.2V-4.2\" style=\"opacity: 1; stroke: rgb(76, 114, 176); stroke-opacity: 1; stroke-width: 1px; fill: none;\"/><path class=\"point\" transform=\"translate(255.61,41.37)\" d=\"M0,4.2V-4.2\" style=\"opacity: 1; stroke: rgb(76, 114, 176); stroke-opacity: 1; stroke-width: 1px; fill: none;\"/><path class=\"point\" transform=\"translate(281.66,41.37)\" d=\"M0,4.2V-4.2\" style=\"opacity: 1; stroke: rgb(76, 114, 176); stroke-opacity: 1; stroke-width: 1px; fill: none;\"/><path class=\"point\" transform=\"translate(297.84,41.37)\" d=\"M0,4.2V-4.2\" style=\"opacity: 1; stroke: rgb(76, 114, 176); stroke-opacity: 1; stroke-width: 1px; fill: none;\"/><path class=\"point\" transform=\"translate(300.21,41.37)\" d=\"M0,4.2V-4.2\" style=\"opacity: 1; stroke: rgb(76, 114, 176); stroke-opacity: 1; stroke-width: 1px; fill: none;\"/><path class=\"point\" transform=\"translate(310.47,41.37)\" d=\"M0,4.2V-4.2\" style=\"opacity: 1; stroke: rgb(76, 114, 176); stroke-opacity: 1; stroke-width: 1px; fill: none;\"/><path class=\"point\" transform=\"translate(310.86,41.37)\" d=\"M0,4.2V-4.2\" style=\"opacity: 1; stroke: rgb(76, 114, 176); stroke-opacity: 1; stroke-width: 1px; fill: none;\"/><path class=\"point\" transform=\"translate(322.7,41.37)\" d=\"M0,4.2V-4.2\" style=\"opacity: 1; stroke: rgb(76, 114, 176); stroke-opacity: 1; stroke-width: 1px; fill: none;\"/><path class=\"point\" transform=\"translate(323.88,41.37)\" d=\"M0,4.2V-4.2\" style=\"opacity: 1; stroke: rgb(76, 114, 176); stroke-opacity: 1; stroke-width: 1px; fill: none;\"/><path class=\"point\" transform=\"translate(348.35,41.37)\" d=\"M0,4.2V-4.2\" style=\"opacity: 1; stroke: rgb(76, 114, 176); stroke-opacity: 1; stroke-width: 1px; fill: none;\"/><path class=\"point\" transform=\"translate(351.11,41.37)\" d=\"M0,4.2V-4.2\" style=\"opacity: 1; stroke: rgb(76, 114, 176); stroke-opacity: 1; stroke-width: 1px; fill: none;\"/><path class=\"point\" transform=\"translate(353.87,41.37)\" d=\"M0,4.2V-4.2\" style=\"opacity: 1; stroke: rgb(76, 114, 176); stroke-opacity: 1; stroke-width: 1px; fill: none;\"/><path class=\"point\" transform=\"translate(353.87,41.37)\" d=\"M0,4.2V-4.2\" style=\"opacity: 1; stroke: rgb(76, 114, 176); stroke-opacity: 1; stroke-width: 1px; fill: none;\"/><path class=\"point\" transform=\"translate(358.21,41.37)\" d=\"M0,4.2V-4.2\" style=\"opacity: 1; stroke: rgb(76, 114, 176); stroke-opacity: 1; stroke-width: 1px; fill: none;\"/><path class=\"point\" transform=\"translate(372.42,41.37)\" d=\"M0,4.2V-4.2\" style=\"opacity: 1; stroke: rgb(76, 114, 176); stroke-opacity: 1; stroke-width: 1px; fill: none;\"/><path class=\"point\" transform=\"translate(373.21,41.37)\" d=\"M0,4.2V-4.2\" style=\"opacity: 1; stroke: rgb(76, 114, 176); stroke-opacity: 1; stroke-width: 1px; fill: none;\"/><path class=\"point\" transform=\"translate(381.89,41.37)\" d=\"M0,4.2V-4.2\" style=\"opacity: 1; stroke: rgb(76, 114, 176); stroke-opacity: 1; stroke-width: 1px; fill: none;\"/><path class=\"point\" transform=\"translate(394.12,41.37)\" d=\"M0,4.2V-4.2\" style=\"opacity: 1; stroke: rgb(76, 114, 176); stroke-opacity: 1; stroke-width: 1px; fill: none;\"/><path class=\"point\" transform=\"translate(402.8,41.37)\" d=\"M0,4.2V-4.2\" style=\"opacity: 1; stroke: rgb(76, 114, 176); stroke-opacity: 1; stroke-width: 1px; fill: none;\"/><path class=\"point\" transform=\"translate(428.06,41.37)\" d=\"M0,4.2V-4.2\" style=\"opacity: 1; stroke: rgb(76, 114, 176); stroke-opacity: 1; stroke-width: 1px; fill: none;\"/><path class=\"point\" transform=\"translate(444.24,41.37)\" d=\"M0,4.2V-4.2\" style=\"opacity: 1; stroke: rgb(76, 114, 176); stroke-opacity: 1; stroke-width: 1px; fill: none;\"/><path class=\"point\" transform=\"translate(446.21,41.37)\" d=\"M0,4.2V-4.2\" style=\"opacity: 1; stroke: rgb(76, 114, 176); stroke-opacity: 1; stroke-width: 1px; fill: none;\"/><path class=\"point\" transform=\"translate(462.79,41.37)\" d=\"M0,4.2V-4.2\" style=\"opacity: 1; stroke: rgb(76, 114, 176); stroke-opacity: 1; stroke-width: 1px; fill: none;\"/><path class=\"point\" transform=\"translate(499.09,41.37)\" d=\"M0,4.2V-4.2\" style=\"opacity: 1; stroke: rgb(76, 114, 176); stroke-opacity: 1; stroke-width: 1px; fill: none;\"/><path class=\"point\" transform=\"translate(508.56,41.37)\" d=\"M0,4.2V-4.2\" style=\"opacity: 1; stroke: rgb(76, 114, 176); stroke-opacity: 1; stroke-width: 1px; fill: none;\"/><path class=\"point\" transform=\"translate(514.87,41.37)\" d=\"M0,4.2V-4.2\" style=\"opacity: 1; stroke: rgb(76, 114, 176); stroke-opacity: 1; stroke-width: 1px; fill: none;\"/><path class=\"point\" transform=\"translate(529.08,41.37)\" d=\"M0,4.2V-4.2\" style=\"opacity: 1; stroke: rgb(76, 114, 176); stroke-opacity: 1; stroke-width: 1px; fill: none;\"/><path class=\"point\" transform=\"translate(543.68,41.37)\" d=\"M0,4.2V-4.2\" style=\"opacity: 1; stroke: rgb(76, 114, 176); stroke-opacity: 1; stroke-width: 1px; fill: none;\"/><path class=\"point\" transform=\"translate(549.6,41.37)\" d=\"M0,4.2V-4.2\" style=\"opacity: 1; stroke: rgb(76, 114, 176); stroke-opacity: 1; stroke-width: 1px; fill: none;\"/><path class=\"point\" transform=\"translate(559.86,41.37)\" d=\"M0,4.2V-4.2\" style=\"opacity: 1; stroke: rgb(76, 114, 176); stroke-opacity: 1; stroke-width: 1px; fill: none;\"/><path class=\"point\" transform=\"translate(568.94,41.37)\" d=\"M0,4.2V-4.2\" style=\"opacity: 1; stroke: rgb(76, 114, 176); stroke-opacity: 1; stroke-width: 1px; fill: none;\"/><path class=\"point\" transform=\"translate(584.33,41.37)\" d=\"M0,4.2V-4.2\" style=\"opacity: 1; stroke: rgb(76, 114, 176); stroke-opacity: 1; stroke-width: 1px; fill: none;\"/><path class=\"point\" transform=\"translate(697.58,41.37)\" d=\"M0,4.2V-4.2\" style=\"opacity: 1; stroke: rgb(76, 114, 176); stroke-opacity: 1; stroke-width: 1px; fill: none;\"/></g></g></g></g><g class=\"overplot\"/><path class=\"xlines-above crisp\" d=\"M0,0\" style=\"fill: none;\"/><path class=\"ylines-above crisp\" d=\"M0,0\" style=\"fill: none;\"/><g class=\"overlines-above\"/><g class=\"xaxislayer-above\"/><g class=\"yaxislayer-above\"/><g class=\"overaxes-above\"/></g></g><g class=\"polarlayer\"/><g class=\"smithlayer\"/><g class=\"ternarylayer\"/><g class=\"geolayer\"/><g class=\"funnelarealayer\"/><g class=\"pielayer\"/><g class=\"iciclelayer\"/><g class=\"treemaplayer\"/><g class=\"sunburstlayer\"/><g class=\"glimages\"/><defs id=\"topdefs-63489f\"><g class=\"clips\"/></defs><g class=\"layer-above\"><g class=\"imagelayer\"/><g class=\"shapelayer\"/></g><g class=\"infolayer\"><g class=\"g-gtitle\"><text class=\"gtitle\" x=\"450\" y=\"50\" text-anchor=\"middle\" dy=\"0em\" style=\"font-family: 'Open Sans', verdana, arial, sans-serif; font-size: 17px; fill: rgb(36, 36, 36); opacity: 1; font-weight: normal; white-space: pre;\"><tspan style=\"font-weight:bold\"> Distribuicao do numero de vendas</tspan></text></g><g class=\"g-xtitle\"><text class=\"xtitle\" x=\"450\" y=\"460.8\" text-anchor=\"middle\" style=\"font-family: 'Open Sans', verdana, arial, sans-serif; font-size: 14px; fill: rgb(36, 36, 36); opacity: 1; font-weight: normal; white-space: pre;\">Numero de vendas</text></g><g class=\"g-x2title\"/><g class=\"g-ytitle\"><text class=\"ytitle\" transform=\"rotate(-90,40.840625,286.944)\" x=\"40.840625\" y=\"286.944\" text-anchor=\"middle\" style=\"font-family: 'Open Sans', verdana, arial, sans-serif; font-size: 14px; fill: rgb(36, 36, 36); opacity: 1; font-weight: normal; white-space: pre;\">count</text></g><g class=\"g-y2title\"/></g></svg>"
          },
          "metadata": {}
        }
      ]
    },
    {
      "cell_type": "markdown",
      "source": [
        "A maior frequência de número de vendas está no intervalo de 800 a 1000 vendas."
      ],
      "metadata": {
        "id": "C_l1lU-EXEi2"
      }
    },
    {
      "cell_type": "code",
      "source": [
        "vendas = np.array(df['Vendas'])"
      ],
      "metadata": {
        "id": "2_jkGQ4ZVH3B"
      },
      "execution_count": 11,
      "outputs": []
    },
    {
      "cell_type": "code",
      "source": [
        "fig = px.line(df, x=\"Data\", y=\"Vendas\", width=800, labels={'Data':'dia','Vendas':'vendas'}, template=\"seaborn\",title=\"<b> Numero de vendas por dia\")\n",
        "fig.show()"
      ],
      "metadata": {
        "colab": {
          "base_uri": "https://localhost:8080/",
          "height": 521
        },
        "id": "EYKs73x3kSOo",
        "outputId": "250625ce-0cb6-4e3c-b4ab-57478f23ad19"
      },
      "execution_count": 12,
      "outputs": [
        {
          "output_type": "display_data",
          "data": {
            "image/svg+xml": "<svg class=\"main-svg\" xmlns=\"http://www.w3.org/2000/svg\" xmlns:xlink=\"http://www.w3.org/1999/xlink\" width=\"800\" height=\"500\" style=\"\" viewBox=\"0 0 800 500\"><rect x=\"0\" y=\"0\" width=\"800\" height=\"500\" style=\"fill: rgb(255, 255, 255); fill-opacity: 1;\"/><defs id=\"defs-14210d\"><g class=\"clips\"><clipPath id=\"clip14210dxyplot\" class=\"plotclip\"><rect width=\"640\" height=\"320\"/></clipPath><clipPath class=\"axesclip\" id=\"clip14210dx\"><rect x=\"80\" y=\"0\" width=\"640\" height=\"500\"/></clipPath><clipPath class=\"axesclip\" id=\"clip14210dy\"><rect x=\"0\" y=\"100\" width=\"800\" height=\"320\"/></clipPath><clipPath class=\"axesclip\" id=\"clip14210dxy\"><rect x=\"80\" y=\"100\" width=\"640\" height=\"320\"/></clipPath></g><g class=\"gradients\"/><g class=\"patterns\"/></defs><g class=\"bglayer\"><rect class=\"bg\" x=\"80\" y=\"100\" width=\"640\" height=\"320\" style=\"fill: rgb(234, 234, 242); fill-opacity: 1; stroke-width: 0;\"/></g><g class=\"layer-below\"><g class=\"imagelayer\"/><g class=\"shapelayer\"/></g><g class=\"cartesianlayer\"><g class=\"subplot xy\"><g class=\"layer-subplot\"><g class=\"shapelayer\"/><g class=\"imagelayer\"/></g><g class=\"gridlayer\"><g class=\"x\"><path class=\"xgrid crisp\" transform=\"translate(151.11,0)\" d=\"M0,100v320\" style=\"stroke: rgb(255, 255, 255); stroke-opacity: 1; stroke-width: 1px;\"/><path class=\"xgrid crisp\" transform=\"translate(250.67,0)\" d=\"M0,100v320\" style=\"stroke: rgb(255, 255, 255); stroke-opacity: 1; stroke-width: 1px;\"/><path class=\"xgrid crisp\" transform=\"translate(350.22,0)\" d=\"M0,100v320\" style=\"stroke: rgb(255, 255, 255); stroke-opacity: 1; stroke-width: 1px;\"/><path class=\"xgrid crisp\" transform=\"translate(449.78,0)\" d=\"M0,100v320\" style=\"stroke: rgb(255, 255, 255); stroke-opacity: 1; stroke-width: 1px;\"/><path class=\"xgrid crisp\" transform=\"translate(549.3299999999999,0)\" d=\"M0,100v320\" style=\"stroke: rgb(255, 255, 255); stroke-opacity: 1; stroke-width: 1px;\"/><path class=\"xgrid crisp\" transform=\"translate(648.89,0)\" d=\"M0,100v320\" style=\"stroke: rgb(255, 255, 255); stroke-opacity: 1; stroke-width: 1px;\"/></g><g class=\"y\"><path class=\"ygrid crisp\" transform=\"translate(0,321.08000000000004)\" d=\"M80,0h640\" style=\"stroke: rgb(255, 255, 255); stroke-opacity: 1; stroke-width: 1px;\"/><path class=\"ygrid crisp\" transform=\"translate(0,235.05)\" d=\"M80,0h640\" style=\"stroke: rgb(255, 255, 255); stroke-opacity: 1; stroke-width: 1px;\"/><path class=\"ygrid crisp\" transform=\"translate(0,149.03)\" d=\"M80,0h640\" style=\"stroke: rgb(255, 255, 255); stroke-opacity: 1; stroke-width: 1px;\"/></g></g><g class=\"zerolinelayer\"><path class=\"yzl zl crisp\" transform=\"translate(0,407.1)\" d=\"M80,0h640\" style=\"stroke: rgb(255, 255, 255); stroke-opacity: 1; stroke-width: 1px;\"/></g><path class=\"xlines-below\"/><path class=\"ylines-below\"/><g class=\"overlines-below\"/><g class=\"xaxislayer-below\"/><g class=\"yaxislayer-below\"/><g class=\"overaxes-below\"/><g class=\"plot\" transform=\"translate(80,100)\" clip-path=\"url(#clip14210dxyplot)\"><g class=\"scatterlayer mlayer\"><g class=\"trace scatter trace6c4b5c\" style=\"stroke-miterlimit: 2; opacity: 1;\"><g class=\"fills\"/><g class=\"errorbars\"/><g class=\"lines\"><path class=\"js-line\" d=\"M0,157.42L14.22,157.76L28.44,102.54L56.89,252.56L71.11,189.25L85.33,72.09L99.56,98.41L113.78,125.59L128,76.04L142.22,163.96L156.44,265.81L170.67,266.67L184.89,126.45L199.11,184.77L213.33,178.92L227.56,133.51L241.78,304L256,300.22L270.22,295.57L284.44,165.85L298.67,208.69L312.89,233.29L327.11,197.33L341.33,288.86L355.56,297.81L369.78,282.32L384,167.05L398.22,190.28L412.44,184.6L426.67,95.66L440.89,165.85L455.11,252.22L469.33,252.56L483.56,80.52L497.78,168.26L512,148.3L526.22,89.46L540.44,153.63L554.67,257.38L568.89,209.72L583.11,16L597.33,118.37L611.56,83.1L625.78,65.38L640,144.52\" style=\"vector-effect: non-scaling-stroke; fill: none; stroke: rgb(76, 114, 176); stroke-opacity: 1; stroke-width: 2px; opacity: 1;\"/></g><g class=\"points\"/><g class=\"text\"/></g></g></g><g class=\"overplot\"/><path class=\"xlines-above crisp\" d=\"M0,0\" style=\"fill: none;\"/><path class=\"ylines-above crisp\" d=\"M0,0\" style=\"fill: none;\"/><g class=\"overlines-above\"/><g class=\"xaxislayer-above\"><g class=\"xtick\"><text text-anchor=\"middle\" x=\"0\" y=\"433\" transform=\"translate(151.11,0)\" style=\"font-family: 'Open Sans', verdana, arial, sans-serif; font-size: 12px; fill: rgb(36, 36, 36); fill-opacity: 1; white-space: pre; opacity: 1;\"><tspan class=\"line\" dy=\"0em\" x=\"0\" y=\"433\">Dec 11</tspan><tspan class=\"line\" dy=\"1.3em\" x=\"0\" y=\"433\">2022</tspan></text></g><g class=\"xtick\"><text text-anchor=\"middle\" x=\"0\" y=\"433\" style=\"font-family: 'Open Sans', verdana, arial, sans-serif; font-size: 12px; fill: rgb(36, 36, 36); fill-opacity: 1; white-space: pre; opacity: 1;\" transform=\"translate(250.67,0)\">Dec 18</text></g><g class=\"xtick\"><text text-anchor=\"middle\" x=\"0\" y=\"433\" style=\"font-family: 'Open Sans', verdana, arial, sans-serif; font-size: 12px; fill: rgb(36, 36, 36); fill-opacity: 1; white-space: pre; opacity: 1;\" transform=\"translate(350.22,0)\">Dec 25</text></g><g class=\"xtick\"><text text-anchor=\"middle\" x=\"0\" y=\"433\" style=\"font-family: 'Open Sans', verdana, arial, sans-serif; font-size: 12px; fill: rgb(36, 36, 36); fill-opacity: 1; white-space: pre; opacity: 1;\" transform=\"translate(449.78,0)\"><tspan class=\"line\" dy=\"0em\" x=\"0\" y=\"433\">Jan 1</tspan><tspan class=\"line\" dy=\"1.3em\" x=\"0\" y=\"433\">2023</tspan></text></g><g class=\"xtick\"><text text-anchor=\"middle\" x=\"0\" y=\"433\" style=\"font-family: 'Open Sans', verdana, arial, sans-serif; font-size: 12px; fill: rgb(36, 36, 36); fill-opacity: 1; white-space: pre; opacity: 1;\" transform=\"translate(549.3299999999999,0)\">Jan 8</text></g><g class=\"xtick\"><text text-anchor=\"middle\" x=\"0\" y=\"433\" style=\"font-family: 'Open Sans', verdana, arial, sans-serif; font-size: 12px; fill: rgb(36, 36, 36); fill-opacity: 1; white-space: pre; opacity: 1;\" transform=\"translate(648.89,0)\">Jan 15</text></g></g><g class=\"yaxislayer-above\"><g class=\"ytick\"><text text-anchor=\"end\" x=\"79\" y=\"4.199999999999999\" transform=\"translate(0,407.1)\" style=\"font-family: 'Open Sans', verdana, arial, sans-serif; font-size: 12px; fill: rgb(36, 36, 36); fill-opacity: 1; white-space: pre; opacity: 1;\">0</text></g><g class=\"ytick\"><text text-anchor=\"end\" x=\"79\" y=\"4.199999999999999\" style=\"font-family: 'Open Sans', verdana, arial, sans-serif; font-size: 12px; fill: rgb(36, 36, 36); fill-opacity: 1; white-space: pre; opacity: 1;\" transform=\"translate(0,321.08000000000004)\">500</text></g><g class=\"ytick\"><text text-anchor=\"end\" x=\"79\" y=\"4.199999999999999\" style=\"font-family: 'Open Sans', verdana, arial, sans-serif; font-size: 12px; fill: rgb(36, 36, 36); fill-opacity: 1; white-space: pre; opacity: 1;\" transform=\"translate(0,235.05)\">1000</text></g><g class=\"ytick\"><text text-anchor=\"end\" x=\"79\" y=\"4.199999999999999\" style=\"font-family: 'Open Sans', verdana, arial, sans-serif; font-size: 12px; fill: rgb(36, 36, 36); fill-opacity: 1; white-space: pre; opacity: 1;\" transform=\"translate(0,149.03)\">1500</text></g></g><g class=\"overaxes-above\"/></g></g><g class=\"polarlayer\"/><g class=\"smithlayer\"/><g class=\"ternarylayer\"/><g class=\"geolayer\"/><g class=\"funnelarealayer\"/><g class=\"pielayer\"/><g class=\"iciclelayer\"/><g class=\"treemaplayer\"/><g class=\"sunburstlayer\"/><g class=\"glimages\"/><defs id=\"topdefs-14210d\"><g class=\"clips\"/></defs><g class=\"layer-above\"><g class=\"imagelayer\"/><g class=\"shapelayer\"/></g><g class=\"infolayer\"><g class=\"g-gtitle\"><text class=\"gtitle\" x=\"400\" y=\"50\" text-anchor=\"middle\" dy=\"0em\" style=\"font-family: 'Open Sans', verdana, arial, sans-serif; font-size: 17px; fill: rgb(36, 36, 36); opacity: 1; font-weight: normal; white-space: pre;\"><tspan style=\"font-weight:bold\"> Numero de vendas por dia</tspan></text></g><g class=\"g-xtitle\"><text class=\"xtitle\" x=\"400\" y=\"476.409375\" text-anchor=\"middle\" style=\"font-family: 'Open Sans', verdana, arial, sans-serif; font-size: 14px; fill: rgb(36, 36, 36); opacity: 1; font-weight: normal; white-space: pre;\">dia</text></g><g class=\"g-ytitle\"><text class=\"ytitle\" transform=\"rotate(-90,27.496875000000003,260)\" x=\"27.496875000000003\" y=\"260\" text-anchor=\"middle\" style=\"font-family: 'Open Sans', verdana, arial, sans-serif; font-size: 14px; fill: rgb(36, 36, 36); opacity: 1; font-weight: normal; white-space: pre;\">vendas</text></g></g></svg>"
          },
          "metadata": {}
        }
      ]
    },
    {
      "cell_type": "code",
      "source": [
        "z = df.sort_values('Vendas', ascending=False).reset_index(drop=True)"
      ],
      "metadata": {
        "id": "c7GCrZS9YDPZ"
      },
      "execution_count": 13,
      "outputs": []
    },
    {
      "cell_type": "code",
      "source": [
        "z = z[['Data', 'Vendas']]"
      ],
      "metadata": {
        "id": "BsZP5tp4az12"
      },
      "execution_count": 14,
      "outputs": []
    },
    {
      "cell_type": "code",
      "source": [
        "fig=px.bar(z,x='Data',y='Vendas',color='Data', width=1400,\n",
        "           labels={'Data':'data','Vendas':'vendas'},text='Vendas',template='seaborn',title=\"<b> Top datas com maior numero de vendas\")\n",
        "\n",
        "fig.update_layout(\n",
        "xaxis_type = 'category'\n",
        ")\n",
        "\n",
        "fig.show()"
      ],
      "metadata": {
        "colab": {
          "base_uri": "https://localhost:8080/",
          "height": 521
        },
        "id": "SU_yCKyNY3sB",
        "outputId": "b83512dc-7b69-4fd6-8424-361c7605f7e1"
      },
      "execution_count": 15,
      "outputs": [
        {
          "output_type": "display_data",
          "data": {
            "image/svg+xml": "<svg class=\"main-svg\" xmlns=\"http://www.w3.org/2000/svg\" xmlns:xlink=\"http://www.w3.org/1999/xlink\" width=\"1400\" height=\"500\" style=\"\" viewBox=\"0 0 1400 500\"><rect x=\"0\" y=\"0\" width=\"1400\" height=\"500\" style=\"fill: rgb(255, 255, 255); fill-opacity: 1;\"/><defs id=\"defs-bca31d\"><g class=\"clips\"><clipPath id=\"clipbca31dxyplot\" class=\"plotclip\"><rect width=\"1177\" height=\"294\"/></clipPath><clipPath class=\"axesclip\" id=\"clipbca31dx\"><rect x=\"80\" y=\"0\" width=\"1177\" height=\"500\"/></clipPath><clipPath class=\"axesclip\" id=\"clipbca31dy\"><rect x=\"0\" y=\"100\" width=\"1400\" height=\"294\"/></clipPath><clipPath class=\"axesclip\" id=\"clipbca31dxy\"><rect x=\"80\" y=\"100\" width=\"1177\" height=\"294\"/></clipPath></g><g class=\"gradients\"/><g class=\"patterns\"/></defs><g class=\"bglayer\"><rect class=\"bg\" x=\"80\" y=\"100\" width=\"1177\" height=\"294\" style=\"fill: rgb(234, 234, 242); fill-opacity: 1; stroke-width: 0;\"/></g><g class=\"layer-below\"><g class=\"imagelayer\"/><g class=\"shapelayer\"/></g><g class=\"cartesianlayer\"><g class=\"subplot xy\"><g class=\"layer-subplot\"><g class=\"shapelayer\"/><g class=\"imagelayer\"/></g><g class=\"gridlayer\"><g class=\"x\"><path class=\"xgrid crisp\" transform=\"translate(92.78999999999999,0)\" d=\"M0,100v294\" style=\"stroke: rgb(255, 255, 255); stroke-opacity: 1; stroke-width: 1px;\"/><path class=\"xgrid crisp\" transform=\"translate(118.38,0)\" d=\"M0,100v294\" style=\"stroke: rgb(255, 255, 255); stroke-opacity: 1; stroke-width: 1px;\"/><path class=\"xgrid crisp\" transform=\"translate(143.97,0)\" d=\"M0,100v294\" style=\"stroke: rgb(255, 255, 255); stroke-opacity: 1; stroke-width: 1px;\"/><path class=\"xgrid crisp\" transform=\"translate(169.55,0)\" d=\"M0,100v294\" style=\"stroke: rgb(255, 255, 255); stroke-opacity: 1; stroke-width: 1px;\"/><path class=\"xgrid crisp\" transform=\"translate(195.14,0)\" d=\"M0,100v294\" style=\"stroke: rgb(255, 255, 255); stroke-opacity: 1; stroke-width: 1px;\"/><path class=\"xgrid crisp\" transform=\"translate(220.73,0)\" d=\"M0,100v294\" style=\"stroke: rgb(255, 255, 255); stroke-opacity: 1; stroke-width: 1px;\"/><path class=\"xgrid crisp\" transform=\"translate(246.32,0)\" d=\"M0,100v294\" style=\"stroke: rgb(255, 255, 255); stroke-opacity: 1; stroke-width: 1px;\"/><path class=\"xgrid crisp\" transform=\"translate(271.9,0)\" d=\"M0,100v294\" style=\"stroke: rgb(255, 255, 255); stroke-opacity: 1; stroke-width: 1px;\"/><path class=\"xgrid crisp\" transform=\"translate(297.49,0)\" d=\"M0,100v294\" style=\"stroke: rgb(255, 255, 255); stroke-opacity: 1; stroke-width: 1px;\"/><path class=\"xgrid crisp\" transform=\"translate(323.08000000000004,0)\" d=\"M0,100v294\" style=\"stroke: rgb(255, 255, 255); stroke-opacity: 1; stroke-width: 1px;\"/><path class=\"xgrid crisp\" transform=\"translate(348.66,0)\" d=\"M0,100v294\" style=\"stroke: rgb(255, 255, 255); stroke-opacity: 1; stroke-width: 1px;\"/><path class=\"xgrid crisp\" transform=\"translate(374.25,0)\" d=\"M0,100v294\" style=\"stroke: rgb(255, 255, 255); stroke-opacity: 1; stroke-width: 1px;\"/><path class=\"xgrid crisp\" transform=\"translate(399.84,0)\" d=\"M0,100v294\" style=\"stroke: rgb(255, 255, 255); stroke-opacity: 1; stroke-width: 1px;\"/><path class=\"xgrid crisp\" transform=\"translate(425.42,0)\" d=\"M0,100v294\" style=\"stroke: rgb(255, 255, 255); stroke-opacity: 1; stroke-width: 1px;\"/><path class=\"xgrid crisp\" transform=\"translate(451.01,0)\" d=\"M0,100v294\" style=\"stroke: rgb(255, 255, 255); stroke-opacity: 1; stroke-width: 1px;\"/><path class=\"xgrid crisp\" transform=\"translate(476.6,0)\" d=\"M0,100v294\" style=\"stroke: rgb(255, 255, 255); stroke-opacity: 1; stroke-width: 1px;\"/><path class=\"xgrid crisp\" transform=\"translate(502.18,0)\" d=\"M0,100v294\" style=\"stroke: rgb(255, 255, 255); stroke-opacity: 1; stroke-width: 1px;\"/><path class=\"xgrid crisp\" transform=\"translate(527.77,0)\" d=\"M0,100v294\" style=\"stroke: rgb(255, 255, 255); stroke-opacity: 1; stroke-width: 1px;\"/><path class=\"xgrid crisp\" transform=\"translate(553.36,0)\" d=\"M0,100v294\" style=\"stroke: rgb(255, 255, 255); stroke-opacity: 1; stroke-width: 1px;\"/><path class=\"xgrid crisp\" transform=\"translate(578.95,0)\" d=\"M0,100v294\" style=\"stroke: rgb(255, 255, 255); stroke-opacity: 1; stroke-width: 1px;\"/><path class=\"xgrid crisp\" transform=\"translate(604.53,0)\" d=\"M0,100v294\" style=\"stroke: rgb(255, 255, 255); stroke-opacity: 1; stroke-width: 1px;\"/><path class=\"xgrid crisp\" transform=\"translate(630.12,0)\" d=\"M0,100v294\" style=\"stroke: rgb(255, 255, 255); stroke-opacity: 1; stroke-width: 1px;\"/><path class=\"xgrid crisp\" transform=\"translate(655.71,0)\" d=\"M0,100v294\" style=\"stroke: rgb(255, 255, 255); stroke-opacity: 1; stroke-width: 1px;\"/><path class=\"xgrid crisp\" transform=\"translate(681.29,0)\" d=\"M0,100v294\" style=\"stroke: rgb(255, 255, 255); stroke-opacity: 1; stroke-width: 1px;\"/><path class=\"xgrid crisp\" transform=\"translate(706.88,0)\" d=\"M0,100v294\" style=\"stroke: rgb(255, 255, 255); stroke-opacity: 1; stroke-width: 1px;\"/><path class=\"xgrid crisp\" transform=\"translate(732.47,0)\" d=\"M0,100v294\" style=\"stroke: rgb(255, 255, 255); stroke-opacity: 1; stroke-width: 1px;\"/><path class=\"xgrid crisp\" transform=\"translate(758.05,0)\" d=\"M0,100v294\" style=\"stroke: rgb(255, 255, 255); stroke-opacity: 1; stroke-width: 1px;\"/><path class=\"xgrid crisp\" transform=\"translate(783.64,0)\" d=\"M0,100v294\" style=\"stroke: rgb(255, 255, 255); stroke-opacity: 1; stroke-width: 1px;\"/><path class=\"xgrid crisp\" transform=\"translate(809.23,0)\" d=\"M0,100v294\" style=\"stroke: rgb(255, 255, 255); stroke-opacity: 1; stroke-width: 1px;\"/><path class=\"xgrid crisp\" transform=\"translate(834.82,0)\" d=\"M0,100v294\" style=\"stroke: rgb(255, 255, 255); stroke-opacity: 1; stroke-width: 1px;\"/><path class=\"xgrid crisp\" transform=\"translate(860.4,0)\" d=\"M0,100v294\" style=\"stroke: rgb(255, 255, 255); stroke-opacity: 1; stroke-width: 1px;\"/><path class=\"xgrid crisp\" transform=\"translate(885.99,0)\" d=\"M0,100v294\" style=\"stroke: rgb(255, 255, 255); stroke-opacity: 1; stroke-width: 1px;\"/><path class=\"xgrid crisp\" transform=\"translate(911.58,0)\" d=\"M0,100v294\" style=\"stroke: rgb(255, 255, 255); stroke-opacity: 1; stroke-width: 1px;\"/><path class=\"xgrid crisp\" transform=\"translate(937.16,0)\" d=\"M0,100v294\" style=\"stroke: rgb(255, 255, 255); stroke-opacity: 1; stroke-width: 1px;\"/><path class=\"xgrid crisp\" transform=\"translate(962.75,0)\" d=\"M0,100v294\" style=\"stroke: rgb(255, 255, 255); stroke-opacity: 1; stroke-width: 1px;\"/><path class=\"xgrid crisp\" transform=\"translate(988.34,0)\" d=\"M0,100v294\" style=\"stroke: rgb(255, 255, 255); stroke-opacity: 1; stroke-width: 1px;\"/><path class=\"xgrid crisp\" transform=\"translate(1013.92,0)\" d=\"M0,100v294\" style=\"stroke: rgb(255, 255, 255); stroke-opacity: 1; stroke-width: 1px;\"/><path class=\"xgrid crisp\" transform=\"translate(1039.51,0)\" d=\"M0,100v294\" style=\"stroke: rgb(255, 255, 255); stroke-opacity: 1; stroke-width: 1px;\"/><path class=\"xgrid crisp\" transform=\"translate(1065.1,0)\" d=\"M0,100v294\" style=\"stroke: rgb(255, 255, 255); stroke-opacity: 1; stroke-width: 1px;\"/><path class=\"xgrid crisp\" transform=\"translate(1090.6799999999998,0)\" d=\"M0,100v294\" style=\"stroke: rgb(255, 255, 255); stroke-opacity: 1; stroke-width: 1px;\"/><path class=\"xgrid crisp\" transform=\"translate(1116.27,0)\" d=\"M0,100v294\" style=\"stroke: rgb(255, 255, 255); stroke-opacity: 1; stroke-width: 1px;\"/><path class=\"xgrid crisp\" transform=\"translate(1141.86,0)\" d=\"M0,100v294\" style=\"stroke: rgb(255, 255, 255); stroke-opacity: 1; stroke-width: 1px;\"/><path class=\"xgrid crisp\" transform=\"translate(1167.45,0)\" d=\"M0,100v294\" style=\"stroke: rgb(255, 255, 255); stroke-opacity: 1; stroke-width: 1px;\"/><path class=\"xgrid crisp\" transform=\"translate(1193.03,0)\" d=\"M0,100v294\" style=\"stroke: rgb(255, 255, 255); stroke-opacity: 1; stroke-width: 1px;\"/><path class=\"xgrid crisp\" transform=\"translate(1218.62,0)\" d=\"M0,100v294\" style=\"stroke: rgb(255, 255, 255); stroke-opacity: 1; stroke-width: 1px;\"/><path class=\"xgrid crisp\" transform=\"translate(1244.21,0)\" d=\"M0,100v294\" style=\"stroke: rgb(255, 255, 255); stroke-opacity: 1; stroke-width: 1px;\"/></g><g class=\"y\"><path class=\"ygrid crisp\" transform=\"translate(0,311.46000000000004)\" d=\"M80,0h1177\" style=\"stroke: rgb(255, 255, 255); stroke-opacity: 1; stroke-width: 1px;\"/><path class=\"ygrid crisp\" transform=\"translate(0,228.93)\" d=\"M80,0h1177\" style=\"stroke: rgb(255, 255, 255); stroke-opacity: 1; stroke-width: 1px;\"/><path class=\"ygrid crisp\" transform=\"translate(0,146.39)\" d=\"M80,0h1177\" style=\"stroke: rgb(255, 255, 255); stroke-opacity: 1; stroke-width: 1px;\"/></g></g><g class=\"zerolinelayer\"><path class=\"yzl zl crisp\" transform=\"translate(0,394)\" d=\"M80,0h1177\" style=\"stroke: rgb(255, 255, 255); stroke-opacity: 1; stroke-width: 1px;\"/></g><path class=\"xlines-below\"/><path class=\"ylines-below\"/><g class=\"overlines-below\"/><g class=\"xaxislayer-below\"/><g class=\"yaxislayer-below\"/><g class=\"overaxes-below\"/><g class=\"plot\" transform=\"translate(80,100)\" clip-path=\"url(#clipbca31dxyplot)\"><g class=\"barlayer mlayer\"><g class=\"trace bars\" style=\"opacity: 1;\"><g class=\"points\"><g class=\"point\"><path d=\"M2.56,294V14.7H23.03V294Z\" style=\"vector-effect: non-scaling-stroke; opacity: 1; stroke-width: 0.5px; fill: rgb(76, 114, 176); fill-opacity: 1; stroke: rgb(234, 234, 242); stroke-opacity: 1;\"/><text class=\"bartext bartext-inside\" text-anchor=\"middle\" data-notex=\"1\" x=\"0\" y=\"0\" style=\"font-family: 'Open Sans', verdana, arial, sans-serif; font-size: 12px; fill: rgb(255, 255, 255); fill-opacity: 1; white-space: pre;\" transform=\"translate(12.630937500000002,35.2234375)rotate(90 0.1640625 -4)\">1692</text></g></g></g><g class=\"trace bars\" style=\"opacity: 1;\"><g class=\"points\"><g class=\"point\"><path d=\"M28.15,294V62.08H48.62V294Z\" style=\"vector-effect: non-scaling-stroke; opacity: 1; stroke-width: 0.5px; fill: rgb(221, 132, 82); fill-opacity: 1; stroke: rgb(234, 234, 242); stroke-opacity: 1;\"/><text class=\"bartext bartext-inside\" text-anchor=\"middle\" data-notex=\"1\" x=\"0\" y=\"0\" style=\"font-family: 'Open Sans', verdana, arial, sans-serif; font-size: 12px; fill: rgb(68, 68, 68); fill-opacity: 1; white-space: pre;\" transform=\"translate(38.2209375,82.6034375)rotate(90 0.1640625 -4)\">1405</text></g></g></g><g class=\"trace bars\" style=\"opacity: 1;\"><g class=\"points\"><g class=\"point\"><path d=\"M53.73,294V68.51H74.2V294Z\" style=\"vector-effect: non-scaling-stroke; opacity: 1; stroke-width: 0.5px; fill: rgb(85, 168, 104); fill-opacity: 1; stroke: rgb(234, 234, 242); stroke-opacity: 1;\"/><text class=\"bartext bartext-inside\" text-anchor=\"middle\" data-notex=\"1\" x=\"0\" y=\"0\" style=\"font-family: 'Open Sans', verdana, arial, sans-serif; font-size: 12px; fill: rgb(68, 68, 68); fill-opacity: 1; white-space: pre;\" transform=\"translate(63.8009375,89.0334375)rotate(90 0.1640625 -4)\">1366</text></g></g></g><g class=\"trace bars\" style=\"opacity: 1;\"><g class=\"points\"><g class=\"point\"><path d=\"M79.32,294V72.31H99.79V294Z\" style=\"vector-effect: non-scaling-stroke; opacity: 1; stroke-width: 0.5px; fill: rgb(196, 78, 82); fill-opacity: 1; stroke: rgb(234, 234, 242); stroke-opacity: 1;\"/><text class=\"bartext bartext-inside\" text-anchor=\"middle\" data-notex=\"1\" x=\"0\" y=\"0\" style=\"font-family: 'Open Sans', verdana, arial, sans-serif; font-size: 12px; fill: rgb(255, 255, 255); fill-opacity: 1; white-space: pre;\" transform=\"translate(89.3909375,92.8334375)rotate(90 0.1640625 -4)\">1343</text></g></g></g><g class=\"trace bars\" style=\"opacity: 1;\"><g class=\"points\"><g class=\"point\"><path d=\"M104.91,294V76.6H125.38V294Z\" style=\"vector-effect: non-scaling-stroke; opacity: 1; stroke-width: 0.5px; fill: rgb(129, 114, 179); fill-opacity: 1; stroke: rgb(234, 234, 242); stroke-opacity: 1;\"/><text class=\"bartext bartext-inside\" text-anchor=\"middle\" data-notex=\"1\" x=\"0\" y=\"0\" style=\"font-family: 'Open Sans', verdana, arial, sans-serif; font-size: 12px; fill: rgb(255, 255, 255); fill-opacity: 1; white-space: pre;\" transform=\"translate(114.9809375,97.1234375)rotate(90 0.1640625 -4)\">1317</text></g></g></g><g class=\"trace bars\" style=\"opacity: 1;\"><g class=\"points\"><g class=\"point\"><path d=\"M130.49,294V79.08H150.96V294Z\" style=\"vector-effect: non-scaling-stroke; opacity: 1; stroke-width: 0.5px; fill: rgb(147, 120, 96); fill-opacity: 1; stroke: rgb(234, 234, 242); stroke-opacity: 1;\"/><text class=\"bartext bartext-inside\" text-anchor=\"middle\" data-notex=\"1\" x=\"0\" y=\"0\" style=\"font-family: 'Open Sans', verdana, arial, sans-serif; font-size: 12px; fill: rgb(255, 255, 255); fill-opacity: 1; white-space: pre;\" transform=\"translate(140.56093750000002,99.6034375)rotate(90 0.1640625 -4)\">1302</text></g></g></g><g class=\"trace bars\" style=\"opacity: 1;\"><g class=\"points\"><g class=\"point\"><path d=\"M156.08,294V85.19H176.55V294Z\" style=\"vector-effect: non-scaling-stroke; opacity: 1; stroke-width: 0.5px; fill: rgb(218, 139, 195); fill-opacity: 1; stroke: rgb(234, 234, 242); stroke-opacity: 1;\"/><text class=\"bartext bartext-inside\" text-anchor=\"middle\" data-notex=\"1\" x=\"0\" y=\"0\" style=\"font-family: 'Open Sans', verdana, arial, sans-serif; font-size: 12px; fill: rgb(68, 68, 68); fill-opacity: 1; white-space: pre;\" transform=\"translate(166.1509375,105.7134375)rotate(90 0.1640625 -4)\">1265</text></g></g></g><g class=\"trace bars\" style=\"opacity: 1;\"><g class=\"points\"><g class=\"point\"><path d=\"M181.67,294V91.13H202.14V294Z\" style=\"vector-effect: non-scaling-stroke; opacity: 1; stroke-width: 0.5px; fill: rgb(140, 140, 140); fill-opacity: 1; stroke: rgb(234, 234, 242); stroke-opacity: 1;\"/><text class=\"bartext bartext-inside\" text-anchor=\"middle\" data-notex=\"1\" x=\"0\" y=\"0\" style=\"font-family: 'Open Sans', verdana, arial, sans-serif; font-size: 12px; fill: rgb(68, 68, 68); fill-opacity: 1; white-space: pre;\" transform=\"translate(191.74093749999997,111.6534375)rotate(90 0.1640625 -4)\">1229</text></g></g></g><g class=\"trace bars\" style=\"opacity: 1;\"><g class=\"points\"><g class=\"point\"><path d=\"M207.25,294V93.77H227.72V294Z\" style=\"vector-effect: non-scaling-stroke; opacity: 1; stroke-width: 0.5px; fill: rgb(204, 185, 116); fill-opacity: 1; stroke: rgb(234, 234, 242); stroke-opacity: 1;\"/><text class=\"bartext bartext-inside\" text-anchor=\"middle\" data-notex=\"1\" x=\"0\" y=\"0\" style=\"font-family: 'Open Sans', verdana, arial, sans-serif; font-size: 12px; fill: rgb(68, 68, 68); fill-opacity: 1; white-space: pre;\" transform=\"translate(217.3209375,114.2934375)rotate(90 0.1640625 -4)\">1213</text></g></g></g><g class=\"trace bars\" style=\"opacity: 1;\"><g class=\"points\"><g class=\"point\"><path d=\"M232.84,294V97.73H253.31V294Z\" style=\"vector-effect: non-scaling-stroke; opacity: 1; stroke-width: 0.5px; fill: rgb(100, 181, 205); fill-opacity: 1; stroke: rgb(234, 234, 242); stroke-opacity: 1;\"/><text class=\"bartext bartext-inside\" text-anchor=\"middle\" data-notex=\"1\" x=\"0\" y=\"0\" style=\"font-family: 'Open Sans', verdana, arial, sans-serif; font-size: 12px; fill: rgb(68, 68, 68); fill-opacity: 1; white-space: pre;\" transform=\"translate(242.9109375,118.2534375)rotate(90 0.1640625 -4)\">1189</text></g></g></g><g class=\"trace bars\" style=\"opacity: 1;\"><g class=\"points\"><g class=\"point\"><path d=\"M258.43,294V112.92H278.9V294Z\" style=\"vector-effect: non-scaling-stroke; opacity: 1; stroke-width: 0.5px; fill: rgb(76, 114, 176); fill-opacity: 1; stroke: rgb(234, 234, 242); stroke-opacity: 1;\"/><text class=\"bartext bartext-inside\" text-anchor=\"middle\" data-notex=\"1\" x=\"0\" y=\"0\" style=\"font-family: 'Open Sans', verdana, arial, sans-serif; font-size: 12px; fill: rgb(255, 255, 255); fill-opacity: 1; white-space: pre;\" transform=\"translate(268.50093749999996,133.44343750000002)rotate(90 0.1640625 -4)\">1097</text></g></g></g><g class=\"trace bars\" style=\"opacity: 1;\"><g class=\"points\"><g class=\"point\"><path d=\"M284.02,294V119.85H304.48V294Z\" style=\"vector-effect: non-scaling-stroke; opacity: 1; stroke-width: 0.5px; fill: rgb(221, 132, 82); fill-opacity: 1; stroke: rgb(234, 234, 242); stroke-opacity: 1;\"/><text class=\"bartext bartext-inside\" text-anchor=\"middle\" data-notex=\"1\" x=\"0\" y=\"0\" style=\"font-family: 'Open Sans', verdana, arial, sans-serif; font-size: 12px; fill: rgb(68, 68, 68); fill-opacity: 1; white-space: pre;\" transform=\"translate(294.0859375,140.3734375)rotate(90 0.1640625 -4)\">1055</text></g></g></g><g class=\"trace bars\" style=\"opacity: 1;\"><g class=\"points\"><g class=\"point\"><path d=\"M309.6,294V120.68H330.07V294Z\" style=\"vector-effect: non-scaling-stroke; opacity: 1; stroke-width: 0.5px; fill: rgb(85, 168, 104); fill-opacity: 1; stroke: rgb(234, 234, 242); stroke-opacity: 1;\"/><text class=\"bartext bartext-inside\" text-anchor=\"middle\" data-notex=\"1\" x=\"0\" y=\"0\" style=\"font-family: 'Open Sans', verdana, arial, sans-serif; font-size: 12px; fill: rgb(68, 68, 68); fill-opacity: 1; white-space: pre;\" transform=\"translate(319.67093750000004,141.2034375)rotate(90 0.1640625 -4)\">1050</text></g></g></g><g class=\"trace bars\" style=\"opacity: 1;\"><g class=\"points\"><g class=\"point\"><path d=\"M335.19,294V127.44H355.66V294Z\" style=\"vector-effect: non-scaling-stroke; opacity: 1; stroke-width: 0.5px; fill: rgb(196, 78, 82); fill-opacity: 1; stroke: rgb(234, 234, 242); stroke-opacity: 1;\"/><text class=\"bartext bartext-inside\" text-anchor=\"middle\" data-notex=\"1\" x=\"0\" y=\"0\" style=\"font-family: 'Open Sans', verdana, arial, sans-serif; font-size: 12px; fill: rgb(255, 255, 255); fill-opacity: 1; white-space: pre;\" transform=\"translate(345.2609375,147.9634375)rotate(90 0.1640625 -4)\">1009</text></g></g></g><g class=\"trace bars\" style=\"opacity: 1;\"><g class=\"points\"><g class=\"point\"><path d=\"M360.78,294V138.01H381.25V294Z\" style=\"vector-effect: non-scaling-stroke; opacity: 1; stroke-width: 0.5px; fill: rgb(129, 114, 179); fill-opacity: 1; stroke: rgb(234, 234, 242); stroke-opacity: 1;\"/><text class=\"bartext bartext-inside\" text-anchor=\"middle\" data-notex=\"1\" x=\"0\" y=\"0\" style=\"font-family: 'Open Sans', verdana, arial, sans-serif; font-size: 12px; fill: rgb(255, 255, 255); fill-opacity: 1; white-space: pre;\" transform=\"translate(370.8509375,155.1896875)rotate(90 0.1640625 -4)\">945</text></g></g></g><g class=\"trace bars\" style=\"opacity: 1;\"><g class=\"points\"><g class=\"point\"><path d=\"M386.36,294V141.64H406.83V294Z\" style=\"vector-effect: non-scaling-stroke; opacity: 1; stroke-width: 0.5px; fill: rgb(147, 120, 96); fill-opacity: 1; stroke: rgb(234, 234, 242); stroke-opacity: 1;\"/><text class=\"bartext bartext-inside\" text-anchor=\"middle\" data-notex=\"1\" x=\"0\" y=\"0\" style=\"font-family: 'Open Sans', verdana, arial, sans-serif; font-size: 12px; fill: rgb(255, 255, 255); fill-opacity: 1; white-space: pre;\" transform=\"translate(396.4309375,158.8196875)rotate(90 0.1640625 -4)\">923</text></g></g></g><g class=\"trace bars\" style=\"opacity: 1;\"><g class=\"points\"><g class=\"point\"><path d=\"M411.95,294V146.76H432.42V294Z\" style=\"vector-effect: non-scaling-stroke; opacity: 1; stroke-width: 0.5px; fill: rgb(218, 139, 195); fill-opacity: 1; stroke: rgb(234, 234, 242); stroke-opacity: 1;\"/><text class=\"bartext bartext-inside\" text-anchor=\"middle\" data-notex=\"1\" x=\"0\" y=\"0\" style=\"font-family: 'Open Sans', verdana, arial, sans-serif; font-size: 12px; fill: rgb(68, 68, 68); fill-opacity: 1; white-space: pre;\" transform=\"translate(422.0209375,163.9396875)rotate(90 0.1640625 -4)\">892</text></g></g></g><g class=\"trace bars\" style=\"opacity: 1;\"><g class=\"points\"><g class=\"point\"><path d=\"M437.54,294V150.39H458.01V294Z\" style=\"vector-effect: non-scaling-stroke; opacity: 1; stroke-width: 0.5px; fill: rgb(140, 140, 140); fill-opacity: 1; stroke: rgb(234, 234, 242); stroke-opacity: 1;\"/><text class=\"bartext bartext-inside\" text-anchor=\"middle\" data-notex=\"1\" x=\"0\" y=\"0\" style=\"font-family: 'Open Sans', verdana, arial, sans-serif; font-size: 12px; fill: rgb(68, 68, 68); fill-opacity: 1; white-space: pre;\" transform=\"translate(447.6109375,167.5696875)rotate(90 0.1640625 -4)\">870</text></g></g></g><g class=\"trace bars\" style=\"opacity: 1;\"><g class=\"points\"><g class=\"point\"><path d=\"M463.12,294V150.72H483.59V294Z\" style=\"vector-effect: non-scaling-stroke; opacity: 1; stroke-width: 0.5px; fill: rgb(204, 185, 116); fill-opacity: 1; stroke: rgb(234, 234, 242); stroke-opacity: 1;\"/><text class=\"bartext bartext-inside\" text-anchor=\"middle\" data-notex=\"1\" x=\"0\" y=\"0\" style=\"font-family: 'Open Sans', verdana, arial, sans-serif; font-size: 12px; fill: rgb(68, 68, 68); fill-opacity: 1; white-space: pre;\" transform=\"translate(473.1909375,167.8996875)rotate(90 0.1640625 -4)\">868</text></g></g></g><g class=\"trace bars\" style=\"opacity: 1;\"><g class=\"points\"><g class=\"point\"><path d=\"M488.71,294V156.66H509.18V294Z\" style=\"vector-effect: non-scaling-stroke; opacity: 1; stroke-width: 0.5px; fill: rgb(100, 181, 205); fill-opacity: 1; stroke: rgb(234, 234, 242); stroke-opacity: 1;\"/><text class=\"bartext bartext-inside\" text-anchor=\"middle\" data-notex=\"1\" x=\"0\" y=\"0\" style=\"font-family: 'Open Sans', verdana, arial, sans-serif; font-size: 12px; fill: rgb(68, 68, 68); fill-opacity: 1; white-space: pre;\" transform=\"translate(498.7809375,173.8396875)rotate(90 0.1640625 -4)\">832</text></g></g></g><g class=\"trace bars\" style=\"opacity: 1;\"><g class=\"points\"><g class=\"point\"><path d=\"M514.3,294V158.48H534.77V294Z\" style=\"vector-effect: non-scaling-stroke; opacity: 1; stroke-width: 0.5px; fill: rgb(76, 114, 176); fill-opacity: 1; stroke: rgb(234, 234, 242); stroke-opacity: 1;\"/><text class=\"bartext bartext-inside\" text-anchor=\"middle\" data-notex=\"1\" x=\"0\" y=\"0\" style=\"font-family: 'Open Sans', verdana, arial, sans-serif; font-size: 12px; fill: rgb(255, 255, 255); fill-opacity: 1; white-space: pre;\" transform=\"translate(524.3709375,175.6596875)rotate(90 0.1640625 -4)\">821</text></g></g></g><g class=\"trace bars\" style=\"opacity: 1;\"><g class=\"points\"><g class=\"point\"><path d=\"M539.88,294V158.48H560.35V294Z\" style=\"vector-effect: non-scaling-stroke; opacity: 1; stroke-width: 0.5px; fill: rgb(221, 132, 82); fill-opacity: 1; stroke: rgb(234, 234, 242); stroke-opacity: 1;\"/><text class=\"bartext bartext-inside\" text-anchor=\"middle\" data-notex=\"1\" x=\"0\" y=\"0\" style=\"font-family: 'Open Sans', verdana, arial, sans-serif; font-size: 12px; fill: rgb(68, 68, 68); fill-opacity: 1; white-space: pre;\" transform=\"translate(549.9509375,175.6596875)rotate(90 0.1640625 -4)\">821</text></g></g></g><g class=\"trace bars\" style=\"opacity: 1;\"><g class=\"points\"><g class=\"point\"><path d=\"M565.47,294V159.63H585.94V294Z\" style=\"vector-effect: non-scaling-stroke; opacity: 1; stroke-width: 0.5px; fill: rgb(85, 168, 104); fill-opacity: 1; stroke: rgb(234, 234, 242); stroke-opacity: 1;\"/><text class=\"bartext bartext-inside\" text-anchor=\"middle\" data-notex=\"1\" x=\"0\" y=\"0\" style=\"font-family: 'Open Sans', verdana, arial, sans-serif; font-size: 12px; fill: rgb(68, 68, 68); fill-opacity: 1; white-space: pre;\" transform=\"translate(575.5409375,176.8096875)rotate(90 0.1640625 -4)\">814</text></g></g></g><g class=\"trace bars\" style=\"opacity: 1;\"><g class=\"points\"><g class=\"point\"><path d=\"M591.06,294V160.79H611.53V294Z\" style=\"vector-effect: non-scaling-stroke; opacity: 1; stroke-width: 0.5px; fill: rgb(196, 78, 82); fill-opacity: 1; stroke: rgb(234, 234, 242); stroke-opacity: 1;\"/><text class=\"bartext bartext-inside\" text-anchor=\"middle\" data-notex=\"1\" x=\"0\" y=\"0\" style=\"font-family: 'Open Sans', verdana, arial, sans-serif; font-size: 12px; fill: rgb(255, 255, 255); fill-opacity: 1; white-space: pre;\" transform=\"translate(601.1309375,177.9696875)rotate(90 0.1640625 -4)\">807</text></g></g></g><g class=\"trace bars\" style=\"opacity: 1;\"><g class=\"points\"><g class=\"point\"><path d=\"M616.65,294V171.02H637.12V294Z\" style=\"vector-effect: non-scaling-stroke; opacity: 1; stroke-width: 0.5px; fill: rgb(129, 114, 179); fill-opacity: 1; stroke: rgb(234, 234, 242); stroke-opacity: 1;\"/><text class=\"bartext bartext-inside\" text-anchor=\"middle\" data-notex=\"1\" x=\"0\" y=\"0\" style=\"font-family: 'Open Sans', verdana, arial, sans-serif; font-size: 12px; fill: rgb(255, 255, 255); fill-opacity: 1; white-space: pre;\" transform=\"translate(626.7209375,188.1996875)rotate(90 0.1640625 -4)\">745</text></g></g></g><g class=\"trace bars\" style=\"opacity: 1;\"><g class=\"points\"><g class=\"point\"><path d=\"M642.23,294V171.52H662.7V294Z\" style=\"vector-effect: non-scaling-stroke; opacity: 1; stroke-width: 0.5px; fill: rgb(147, 120, 96); fill-opacity: 1; stroke: rgb(234, 234, 242); stroke-opacity: 1;\"/><text class=\"bartext bartext-inside\" text-anchor=\"middle\" data-notex=\"1\" x=\"0\" y=\"0\" style=\"font-family: 'Open Sans', verdana, arial, sans-serif; font-size: 12px; fill: rgb(255, 255, 255); fill-opacity: 1; white-space: pre;\" transform=\"translate(652.3009375,188.6996875)rotate(90 0.1640625 -4)\">742</text></g></g></g><g class=\"trace bars\" style=\"opacity: 1;\"><g class=\"points\"><g class=\"point\"><path d=\"M667.82,294V176.47H688.29V294Z\" style=\"vector-effect: non-scaling-stroke; opacity: 1; stroke-width: 0.5px; fill: rgb(218, 139, 195); fill-opacity: 1; stroke: rgb(234, 234, 242); stroke-opacity: 1;\"/><text class=\"bartext bartext-inside\" text-anchor=\"middle\" data-notex=\"1\" x=\"0\" y=\"0\" style=\"font-family: 'Open Sans', verdana, arial, sans-serif; font-size: 12px; fill: rgb(68, 68, 68); fill-opacity: 1; white-space: pre;\" transform=\"translate(677.8909375000001,193.6496875)rotate(90 0.1640625 -4)\">712</text></g></g></g><g class=\"trace bars\" style=\"opacity: 1;\"><g class=\"points\"><g class=\"point\"><path d=\"M693.41,294V176.63H713.88V294Z\" style=\"vector-effect: non-scaling-stroke; opacity: 1; stroke-width: 0.5px; fill: rgb(140, 140, 140); fill-opacity: 1; stroke: rgb(234, 234, 242); stroke-opacity: 1;\"/><text class=\"bartext bartext-inside\" text-anchor=\"middle\" data-notex=\"1\" x=\"0\" y=\"0\" style=\"font-family: 'Open Sans', verdana, arial, sans-serif; font-size: 12px; fill: rgb(68, 68, 68); fill-opacity: 1; white-space: pre;\" transform=\"translate(703.4809375,193.8096875)rotate(90 0.1640625 -4)\">711</text></g></g></g><g class=\"trace bars\" style=\"opacity: 1;\"><g class=\"points\"><g class=\"point\"><path d=\"M718.99,294V180.93H739.46V294Z\" style=\"vector-effect: non-scaling-stroke; opacity: 1; stroke-width: 0.5px; fill: rgb(204, 185, 116); fill-opacity: 1; stroke: rgb(234, 234, 242); stroke-opacity: 1;\"/><text class=\"bartext bartext-inside\" text-anchor=\"middle\" data-notex=\"1\" x=\"0\" y=\"0\" style=\"font-family: 'Open Sans', verdana, arial, sans-serif; font-size: 12px; fill: rgb(68, 68, 68); fill-opacity: 1; white-space: pre;\" transform=\"translate(729.0609375,198.1096875)rotate(90 0.1640625 -4)\">685</text></g></g></g><g class=\"trace bars\" style=\"opacity: 1;\"><g class=\"points\"><g class=\"point\"><path d=\"M744.58,294V181.92H765.05V294Z\" style=\"vector-effect: non-scaling-stroke; opacity: 1; stroke-width: 0.5px; fill: rgb(100, 181, 205); fill-opacity: 1; stroke: rgb(234, 234, 242); stroke-opacity: 1;\"/><text class=\"bartext bartext-inside\" text-anchor=\"middle\" data-notex=\"1\" x=\"0\" y=\"0\" style=\"font-family: 'Open Sans', verdana, arial, sans-serif; font-size: 12px; fill: rgb(68, 68, 68); fill-opacity: 1; white-space: pre;\" transform=\"translate(754.6509375,199.0996875)rotate(90 0.1640625 -4)\">679</text></g></g></g><g class=\"trace bars\" style=\"opacity: 1;\"><g class=\"points\"><g class=\"point\"><path d=\"M770.17,294V188.68H790.64V294Z\" style=\"vector-effect: non-scaling-stroke; opacity: 1; stroke-width: 0.5px; fill: rgb(76, 114, 176); fill-opacity: 1; stroke: rgb(234, 234, 242); stroke-opacity: 1;\"/><text class=\"bartext bartext-inside\" text-anchor=\"middle\" data-notex=\"1\" x=\"0\" y=\"0\" style=\"font-family: 'Open Sans', verdana, arial, sans-serif; font-size: 12px; fill: rgb(255, 255, 255); fill-opacity: 1; white-space: pre;\" transform=\"translate(780.2409375,205.8596875)rotate(90 0.1640625 -4)\">638</text></g></g></g><g class=\"trace bars\" style=\"opacity: 1;\"><g class=\"points\"><g class=\"point\"><path d=\"M795.75,294V199.58H816.22V294Z\" style=\"vector-effect: non-scaling-stroke; opacity: 1; stroke-width: 0.5px; fill: rgb(221, 132, 82); fill-opacity: 1; stroke: rgb(234, 234, 242); stroke-opacity: 1;\"/><text class=\"bartext bartext-inside\" text-anchor=\"middle\" data-notex=\"1\" x=\"0\" y=\"0\" style=\"font-family: 'Open Sans', verdana, arial, sans-serif; font-size: 12px; fill: rgb(68, 68, 68); fill-opacity: 1; white-space: pre;\" transform=\"translate(805.8209375,216.7596875)rotate(90 0.1640625 -4)\">572</text></g></g></g><g class=\"trace bars\" style=\"opacity: 1;\"><g class=\"points\"><g class=\"point\"><path d=\"M821.34,294V200.57H841.81V294Z\" style=\"vector-effect: non-scaling-stroke; opacity: 1; stroke-width: 0.5px; fill: rgb(85, 168, 104); fill-opacity: 1; stroke: rgb(234, 234, 242); stroke-opacity: 1;\"/><text class=\"bartext bartext-inside\" text-anchor=\"middle\" data-notex=\"1\" x=\"0\" y=\"0\" style=\"font-family: 'Open Sans', verdana, arial, sans-serif; font-size: 12px; fill: rgb(68, 68, 68); fill-opacity: 1; white-space: pre;\" transform=\"translate(831.4109375,217.7496875)rotate(90 0.1640625 -4)\">566</text></g></g></g><g class=\"trace bars\" style=\"opacity: 1;\"><g class=\"points\"><g class=\"point\"><path d=\"M846.93,294V223.18H867.4V294Z\" style=\"vector-effect: non-scaling-stroke; opacity: 1; stroke-width: 0.5px; fill: rgb(196, 78, 82); fill-opacity: 1; stroke: rgb(234, 234, 242); stroke-opacity: 1;\"/><text class=\"bartext bartext-inside\" text-anchor=\"middle\" data-notex=\"1\" x=\"0\" y=\"0\" style=\"font-family: 'Open Sans', verdana, arial, sans-serif; font-size: 12px; fill: rgb(255, 255, 255); fill-opacity: 1; white-space: pre;\" transform=\"translate(857.0009375,240.3596875)rotate(90 0.1640625 -4)\">429</text></g></g></g><g class=\"trace bars\" style=\"opacity: 1;\"><g class=\"points\"><g class=\"point\"><path d=\"M872.52,294V241.34H892.98V294Z\" style=\"vector-effect: non-scaling-stroke; opacity: 1; stroke-width: 0.5px; fill: rgb(129, 114, 179); fill-opacity: 1; stroke: rgb(234, 234, 242); stroke-opacity: 1;\"/><text class=\"bartext bartext-inside\" text-anchor=\"middle\" data-notex=\"1\" x=\"0\" y=\"0\" style=\"font-family: 'Open Sans', verdana, arial, sans-serif; font-size: 12px; fill: rgb(255, 255, 255); fill-opacity: 1; white-space: pre;\" transform=\"translate(882.5859375,258.51968750000003)rotate(90 0.1640625 -4)\">319</text></g></g></g><g class=\"trace bars\" style=\"opacity: 1;\"><g class=\"points\"><g class=\"point\"><path d=\"M898.1,294V241.67H918.57V294Z\" style=\"vector-effect: non-scaling-stroke; opacity: 1; stroke-width: 0.5px; fill: rgb(147, 120, 96); fill-opacity: 1; stroke: rgb(234, 234, 242); stroke-opacity: 1;\"/><text class=\"bartext bartext-inside\" text-anchor=\"middle\" data-notex=\"1\" x=\"0\" y=\"0\" style=\"font-family: 'Open Sans', verdana, arial, sans-serif; font-size: 12px; fill: rgb(255, 255, 255); fill-opacity: 1; white-space: pre;\" transform=\"translate(908.1709375,258.84968749999996)rotate(90 0.1640625 -4)\">317</text></g></g></g><g class=\"trace bars\" style=\"opacity: 1;\"><g class=\"points\"><g class=\"point\"><path d=\"M923.69,294V241.67H944.16V294Z\" style=\"vector-effect: non-scaling-stroke; opacity: 1; stroke-width: 0.5px; fill: rgb(218, 139, 195); fill-opacity: 1; stroke: rgb(234, 234, 242); stroke-opacity: 1;\"/><text class=\"bartext bartext-inside\" text-anchor=\"middle\" data-notex=\"1\" x=\"0\" y=\"0\" style=\"font-family: 'Open Sans', verdana, arial, sans-serif; font-size: 12px; fill: rgb(68, 68, 68); fill-opacity: 1; white-space: pre;\" transform=\"translate(933.7609375,258.84968749999996)rotate(90 0.1640625 -4)\">317</text></g></g></g><g class=\"trace bars\" style=\"opacity: 1;\"><g class=\"points\"><g class=\"point\"><path d=\"M949.28,294V246.29H969.75V294Z\" style=\"vector-effect: non-scaling-stroke; opacity: 1; stroke-width: 0.5px; fill: rgb(140, 140, 140); fill-opacity: 1; stroke: rgb(234, 234, 242); stroke-opacity: 1;\"/><text class=\"bartext bartext-inside\" text-anchor=\"middle\" data-notex=\"1\" x=\"0\" y=\"0\" style=\"font-family: 'Open Sans', verdana, arial, sans-serif; font-size: 12px; fill: rgb(68, 68, 68); fill-opacity: 1; white-space: pre;\" transform=\"translate(959.3509375,263.46968749999996)rotate(90 0.1640625 -4)\">289</text></g></g></g><g class=\"trace bars\" style=\"opacity: 1;\"><g class=\"points\"><g class=\"point\"><path d=\"M974.86,294V254.38H995.33V294Z\" style=\"vector-effect: non-scaling-stroke; opacity: 1; stroke-width: 0.5px; fill: rgb(204, 185, 116); fill-opacity: 1; stroke: rgb(234, 234, 242); stroke-opacity: 1;\"/><text class=\"bartext bartext-inside\" text-anchor=\"middle\" data-notex=\"1\" x=\"0\" y=\"0\" style=\"font-family: 'Open Sans', verdana, arial, sans-serif; font-size: 12px; fill: rgb(68, 68, 68); fill-opacity: 1; white-space: pre;\" transform=\"translate(984.9309375,271.5596875)rotate(90 0.1640625 -4)\">240</text></g></g></g><g class=\"trace bars\" style=\"opacity: 1;\"><g class=\"points\"><g class=\"point\"><path d=\"M1000.45,294V255.21H1020.92V294Z\" style=\"vector-effect: non-scaling-stroke; opacity: 1; stroke-width: 0.5px; fill: rgb(100, 181, 205); fill-opacity: 1; stroke: rgb(234, 234, 242); stroke-opacity: 1;\"/><text class=\"bartext bartext-inside\" text-anchor=\"middle\" data-notex=\"1\" x=\"0\" y=\"0\" style=\"font-family: 'Open Sans', verdana, arial, sans-serif; font-size: 12px; fill: rgb(68, 68, 68); fill-opacity: 1; white-space: pre;\" transform=\"translate(1010.5209375,272.38968750000004)rotate(90 0.1640625 -4)\">235</text></g></g></g><g class=\"trace bars\" style=\"opacity: 1;\"><g class=\"points\"><g class=\"point\"><path d=\"M1026.04,294V270.23H1046.51V294Z\" style=\"vector-effect: non-scaling-stroke; opacity: 1; stroke-width: 0.5px; fill: rgb(76, 114, 176); fill-opacity: 1; stroke: rgb(234, 234, 242); stroke-opacity: 1;\"/><text class=\"bartext bartext-inside\" text-anchor=\"middle\" data-notex=\"1\" x=\"0\" y=\"0\" style=\"font-family: 'Open Sans', verdana, arial, sans-serif; font-size: 12px; fill: rgb(255, 255, 255); fill-opacity: 1; white-space: pre;\" transform=\"translate(1036.1318035303148,285.6062663085188)scale(0.8728165771296998)rotate(90 0.1640625 -4)\">144</text></g></g></g><g class=\"trace bars\" style=\"opacity: 1;\"><g class=\"points\"><g class=\"point\"><path d=\"M1051.62,294V276.5H1072.09V294Z\" style=\"vector-effect: non-scaling-stroke; opacity: 1; stroke-width: 0.5px; fill: rgb(221, 132, 82); fill-opacity: 1; stroke: rgb(234, 234, 242); stroke-opacity: 1;\"/><text class=\"bartext bartext-inside\" text-anchor=\"middle\" data-notex=\"1\" x=\"0\" y=\"0\" style=\"font-family: 'Open Sans', verdana, arial, sans-serif; font-size: 12px; fill: rgb(68, 68, 68); fill-opacity: 1; white-space: pre;\" transform=\"translate(1061.7383960092095,287.31801995395244)scale(0.7107290867229484)\">106</text></g></g></g><g class=\"trace bars\" style=\"opacity: 1;\"><g class=\"points\"><g class=\"point\"><path d=\"M1077.21,294V282.94H1097.68V294Z\" style=\"vector-effect: non-scaling-stroke; opacity: 1; stroke-width: 0.5px; fill: rgb(85, 168, 104); fill-opacity: 1; stroke: rgb(234, 234, 242); stroke-opacity: 1;\"/><text class=\"bartext bartext-outside\" text-anchor=\"middle\" data-notex=\"1\" x=\"0\" y=\"0\" style=\"font-family: 'Open Sans', verdana, arial, sans-serif; font-size: 12px; fill: rgb(36, 36, 36); fill-opacity: 1; white-space: pre;\" transform=\"translate(1087.2887500000002,276.94)\">67</text></g></g></g><g class=\"trace bars\" style=\"opacity: 1;\"><g class=\"points\"><g class=\"point\"><path d=\"M1102.8,294V285.09H1123.27V294Z\" style=\"vector-effect: non-scaling-stroke; opacity: 1; stroke-width: 0.5px; fill: rgb(196, 78, 82); fill-opacity: 1; stroke: rgb(234, 234, 242); stroke-opacity: 1;\"/><text class=\"bartext bartext-outside\" text-anchor=\"middle\" data-notex=\"1\" x=\"0\" y=\"0\" style=\"font-family: 'Open Sans', verdana, arial, sans-serif; font-size: 12px; fill: rgb(36, 36, 36); fill-opacity: 1; white-space: pre;\" transform=\"translate(1112.8787499999999,279.09)\">54</text></g></g></g><g class=\"trace bars\" style=\"opacity: 1;\"><g class=\"points\"><g class=\"point\"><path d=\"M1128.38,294V287.4H1148.85V294Z\" style=\"vector-effect: non-scaling-stroke; opacity: 1; stroke-width: 0.5px; fill: rgb(129, 114, 179); fill-opacity: 1; stroke: rgb(234, 234, 242); stroke-opacity: 1;\"/><text class=\"bartext bartext-outside\" text-anchor=\"middle\" data-notex=\"1\" x=\"0\" y=\"0\" style=\"font-family: 'Open Sans', verdana, arial, sans-serif; font-size: 12px; fill: rgb(36, 36, 36); fill-opacity: 1; white-space: pre;\" transform=\"translate(1138.45875,281.4)\">40</text></g></g></g><g class=\"trace bars\" style=\"opacity: 1;\"><g class=\"points\"><g class=\"point\"><path d=\"M1153.97,294V291.03H1174.44V294Z\" style=\"vector-effect: non-scaling-stroke; opacity: 1; stroke-width: 0.5px; fill: rgb(147, 120, 96); fill-opacity: 1; stroke: rgb(234, 234, 242); stroke-opacity: 1;\"/><text class=\"bartext bartext-outside\" text-anchor=\"middle\" data-notex=\"1\" x=\"0\" y=\"0\" style=\"font-family: 'Open Sans', verdana, arial, sans-serif; font-size: 12px; fill: rgb(36, 36, 36); fill-opacity: 1; white-space: pre;\" transform=\"translate(1164.04875,285.03)\">18</text></g></g></g></g></g><g class=\"overplot\"/><path class=\"xlines-above crisp\" d=\"M0,0\" style=\"fill: none;\"/><path class=\"ylines-above crisp\" d=\"M0,0\" style=\"fill: none;\"/><g class=\"overlines-above\"/><g class=\"xaxislayer-above\"><g class=\"xtick\"><text text-anchor=\"start\" x=\"0\" y=\"407\" transform=\"translate(92.78999999999999,0) rotate(90,0,401)\" style=\"font-family: 'Open Sans', verdana, arial, sans-serif; font-size: 12px; fill: rgb(36, 36, 36); fill-opacity: 1; white-space: pre; opacity: 1;\">2023-01-16</text></g><g class=\"xtick\"><text text-anchor=\"start\" x=\"0\" y=\"407\" transform=\"translate(118.38,0) rotate(90,0,401)\" style=\"font-family: 'Open Sans', verdana, arial, sans-serif; font-size: 12px; fill: rgb(36, 36, 36); fill-opacity: 1; white-space: pre; opacity: 1;\">2023-01-19</text></g><g class=\"xtick\"><text text-anchor=\"start\" x=\"0\" y=\"407\" transform=\"translate(143.97,0) rotate(90,0,401)\" style=\"font-family: 'Open Sans', verdana, arial, sans-serif; font-size: 12px; fill: rgb(36, 36, 36); fill-opacity: 1; white-space: pre; opacity: 1;\">2022-12-12</text></g><g class=\"xtick\"><text text-anchor=\"start\" x=\"0\" y=\"407\" transform=\"translate(169.55,0) rotate(90,0,401)\" style=\"font-family: 'Open Sans', verdana, arial, sans-serif; font-size: 12px; fill: rgb(36, 36, 36); fill-opacity: 1; white-space: pre; opacity: 1;\">2022-12-15</text></g><g class=\"xtick\"><text text-anchor=\"start\" x=\"0\" y=\"407\" transform=\"translate(195.14,0) rotate(90,0,401)\" style=\"font-family: 'Open Sans', verdana, arial, sans-serif; font-size: 12px; fill: rgb(36, 36, 36); fill-opacity: 1; white-space: pre; opacity: 1;\">2023-01-09</text></g><g class=\"xtick\"><text text-anchor=\"start\" x=\"0\" y=\"407\" transform=\"translate(220.73,0) rotate(90,0,401)\" style=\"font-family: 'Open Sans', verdana, arial, sans-serif; font-size: 12px; fill: rgb(36, 36, 36); fill-opacity: 1; white-space: pre; opacity: 1;\">2023-01-18</text></g><g class=\"xtick\"><text text-anchor=\"start\" x=\"0\" y=\"407\" transform=\"translate(246.32,0) rotate(90,0,401)\" style=\"font-family: 'Open Sans', verdana, arial, sans-serif; font-size: 12px; fill: rgb(36, 36, 36); fill-opacity: 1; white-space: pre; opacity: 1;\">2023-01-12</text></g><g class=\"xtick\"><text text-anchor=\"start\" x=\"0\" y=\"407\" transform=\"translate(271.9,0) rotate(90,0,401)\" style=\"font-family: 'Open Sans', verdana, arial, sans-serif; font-size: 12px; fill: rgb(36, 36, 36); fill-opacity: 1; white-space: pre; opacity: 1;\">2023-01-05</text></g><g class=\"xtick\"><text text-anchor=\"start\" x=\"0\" y=\"407\" transform=\"translate(297.49,0) rotate(90,0,401)\" style=\"font-family: 'Open Sans', verdana, arial, sans-serif; font-size: 12px; fill: rgb(36, 36, 36); fill-opacity: 1; white-space: pre; opacity: 1;\">2022-12-13</text></g><g class=\"xtick\"><text text-anchor=\"start\" x=\"0\" y=\"407\" transform=\"translate(323.08000000000004,0) rotate(90,0,401)\" style=\"font-family: 'Open Sans', verdana, arial, sans-serif; font-size: 12px; fill: rgb(36, 36, 36); fill-opacity: 1; white-space: pre; opacity: 1;\">2022-12-08</text></g><g class=\"xtick\"><text text-anchor=\"start\" x=\"0\" y=\"407\" transform=\"translate(348.66,0) rotate(90,0,401)\" style=\"font-family: 'Open Sans', verdana, arial, sans-serif; font-size: 12px; fill: rgb(36, 36, 36); fill-opacity: 1; white-space: pre; opacity: 1;\">2023-01-17</text></g><g class=\"xtick\"><text text-anchor=\"start\" x=\"0\" y=\"407\" transform=\"translate(374.25,0) rotate(90,0,401)\" style=\"font-family: 'Open Sans', verdana, arial, sans-serif; font-size: 12px; fill: rgb(36, 36, 36); fill-opacity: 1; white-space: pre; opacity: 1;\">2022-12-14</text></g><g class=\"xtick\"><text text-anchor=\"start\" x=\"0\" y=\"407\" transform=\"translate(399.84,0) rotate(90,0,401)\" style=\"font-family: 'Open Sans', verdana, arial, sans-serif; font-size: 12px; fill: rgb(36, 36, 36); fill-opacity: 1; white-space: pre; opacity: 1;\">2022-12-19</text></g><g class=\"xtick\"><text text-anchor=\"start\" x=\"0\" y=\"407\" transform=\"translate(425.42,0) rotate(90,0,401)\" style=\"font-family: 'Open Sans', verdana, arial, sans-serif; font-size: 12px; fill: rgb(36, 36, 36); fill-opacity: 1; white-space: pre; opacity: 1;\">2022-12-22</text></g><g class=\"xtick\"><text text-anchor=\"start\" x=\"0\" y=\"407\" transform=\"translate(451.01,0) rotate(90,0,401)\" style=\"font-family: 'Open Sans', verdana, arial, sans-serif; font-size: 12px; fill: rgb(36, 36, 36); fill-opacity: 1; white-space: pre; opacity: 1;\">2023-01-20</text></g><g class=\"xtick\"><text text-anchor=\"start\" x=\"0\" y=\"407\" transform=\"translate(476.6,0) rotate(90,0,401)\" style=\"font-family: 'Open Sans', verdana, arial, sans-serif; font-size: 12px; fill: rgb(36, 36, 36); fill-opacity: 1; white-space: pre; opacity: 1;\">2023-01-11</text></g><g class=\"xtick\"><text text-anchor=\"start\" x=\"0\" y=\"407\" transform=\"translate(502.18,0) rotate(90,0,401)\" style=\"font-family: 'Open Sans', verdana, arial, sans-serif; font-size: 12px; fill: rgb(36, 36, 36); fill-opacity: 1; white-space: pre; opacity: 1;\">2023-01-13</text></g><g class=\"xtick\"><text text-anchor=\"start\" x=\"0\" y=\"407\" transform=\"translate(527.77,0) rotate(90,0,401)\" style=\"font-family: 'Open Sans', verdana, arial, sans-serif; font-size: 12px; fill: rgb(36, 36, 36); fill-opacity: 1; white-space: pre; opacity: 1;\">2022-12-06</text></g><g class=\"xtick\"><text text-anchor=\"start\" x=\"0\" y=\"407\" transform=\"translate(553.36,0) rotate(90,0,401)\" style=\"font-family: 'Open Sans', verdana, arial, sans-serif; font-size: 12px; fill: rgb(36, 36, 36); fill-opacity: 1; white-space: pre; opacity: 1;\">2022-12-07</text></g><g class=\"xtick\"><text text-anchor=\"start\" x=\"0\" y=\"407\" transform=\"translate(578.95,0) rotate(90,0,401)\" style=\"font-family: 'Open Sans', verdana, arial, sans-serif; font-size: 12px; fill: rgb(36, 36, 36); fill-opacity: 1; white-space: pre; opacity: 1;\">2022-12-16</text></g><g class=\"xtick\"><text text-anchor=\"start\" x=\"0\" y=\"407\" transform=\"translate(604.53,0) rotate(90,0,401)\" style=\"font-family: 'Open Sans', verdana, arial, sans-serif; font-size: 12px; fill: rgb(36, 36, 36); fill-opacity: 1; white-space: pre; opacity: 1;\">2022-12-26</text></g><g class=\"xtick\"><text text-anchor=\"start\" x=\"0\" y=\"407\" transform=\"translate(630.12,0) rotate(90,0,401)\" style=\"font-family: 'Open Sans', verdana, arial, sans-serif; font-size: 12px; fill: rgb(36, 36, 36); fill-opacity: 1; white-space: pre; opacity: 1;\">2023-01-06</text></g><g class=\"xtick\"><text text-anchor=\"start\" x=\"0\" y=\"407\" transform=\"translate(655.71,0) rotate(90,0,401)\" style=\"font-family: 'Open Sans', verdana, arial, sans-serif; font-size: 12px; fill: rgb(36, 36, 36); fill-opacity: 1; white-space: pre; opacity: 1;\">2023-01-02</text></g><g class=\"xtick\"><text text-anchor=\"start\" x=\"0\" y=\"407\" transform=\"translate(681.29,0) rotate(90,0,401)\" style=\"font-family: 'Open Sans', verdana, arial, sans-serif; font-size: 12px; fill: rgb(36, 36, 36); fill-opacity: 1; white-space: pre; opacity: 1;\">2023-01-10</text></g><g class=\"xtick\"><text text-anchor=\"start\" x=\"0\" y=\"407\" transform=\"translate(706.88,0) rotate(90,0,401)\" style=\"font-family: 'Open Sans', verdana, arial, sans-serif; font-size: 12px; fill: rgb(36, 36, 36); fill-opacity: 1; white-space: pre; opacity: 1;\">2022-12-21</text></g><g class=\"xtick\"><text text-anchor=\"start\" x=\"0\" y=\"407\" transform=\"translate(732.47,0) rotate(90,0,401)\" style=\"font-family: 'Open Sans', verdana, arial, sans-serif; font-size: 12px; fill: rgb(36, 36, 36); fill-opacity: 1; white-space: pre; opacity: 1;\">2022-12-09</text></g><g class=\"xtick\"><text text-anchor=\"start\" x=\"0\" y=\"407\" transform=\"translate(758.05,0) rotate(90,0,401)\" style=\"font-family: 'Open Sans', verdana, arial, sans-serif; font-size: 12px; fill: rgb(36, 36, 36); fill-opacity: 1; white-space: pre; opacity: 1;\">2023-01-04</text></g><g class=\"xtick\"><text text-anchor=\"start\" x=\"0\" y=\"407\" transform=\"translate(783.64,0) rotate(90,0,401)\" style=\"font-family: 'Open Sans', verdana, arial, sans-serif; font-size: 12px; fill: rgb(36, 36, 36); fill-opacity: 1; white-space: pre; opacity: 1;\">2022-12-20</text></g><g class=\"xtick\"><text text-anchor=\"start\" x=\"0\" y=\"407\" transform=\"translate(809.23,0) rotate(90,0,401)\" style=\"font-family: 'Open Sans', verdana, arial, sans-serif; font-size: 12px; fill: rgb(36, 36, 36); fill-opacity: 1; white-space: pre; opacity: 1;\">2022-12-11</text></g><g class=\"xtick\"><text text-anchor=\"start\" x=\"0\" y=\"407\" transform=\"translate(834.82,0) rotate(90,0,401)\" style=\"font-family: 'Open Sans', verdana, arial, sans-serif; font-size: 12px; fill: rgb(36, 36, 36); fill-opacity: 1; white-space: pre; opacity: 1;\">2023-01-03</text></g><g class=\"xtick\"><text text-anchor=\"start\" x=\"0\" y=\"407\" transform=\"translate(860.4,0) rotate(90,0,401)\" style=\"font-family: 'Open Sans', verdana, arial, sans-serif; font-size: 12px; fill: rgb(36, 36, 36); fill-opacity: 1; white-space: pre; opacity: 1;\">2022-12-29</text></g><g class=\"xtick\"><text text-anchor=\"start\" x=\"0\" y=\"407\" transform=\"translate(885.99,0) rotate(90,0,401)\" style=\"font-family: 'Open Sans', verdana, arial, sans-serif; font-size: 12px; fill: rgb(36, 36, 36); fill-opacity: 1; white-space: pre; opacity: 1;\">2022-12-27</text></g><g class=\"xtick\"><text text-anchor=\"start\" x=\"0\" y=\"407\" transform=\"translate(911.58,0) rotate(90,0,401)\" style=\"font-family: 'Open Sans', verdana, arial, sans-serif; font-size: 12px; fill: rgb(36, 36, 36); fill-opacity: 1; white-space: pre; opacity: 1;\">2023-01-15</text></g><g class=\"xtick\"><text text-anchor=\"start\" x=\"0\" y=\"407\" transform=\"translate(937.16,0) rotate(90,0,401)\" style=\"font-family: 'Open Sans', verdana, arial, sans-serif; font-size: 12px; fill: rgb(36, 36, 36); fill-opacity: 1; white-space: pre; opacity: 1;\">2022-12-28</text></g><g class=\"xtick\"><text text-anchor=\"start\" x=\"0\" y=\"407\" transform=\"translate(962.75,0) rotate(90,0,401)\" style=\"font-family: 'Open Sans', verdana, arial, sans-serif; font-size: 12px; fill: rgb(36, 36, 36); fill-opacity: 1; white-space: pre; opacity: 1;\">2023-01-07</text></g><g class=\"xtick\"><text text-anchor=\"start\" x=\"0\" y=\"407\" transform=\"translate(988.34,0) rotate(90,0,401)\" style=\"font-family: 'Open Sans', verdana, arial, sans-serif; font-size: 12px; fill: rgb(36, 36, 36); fill-opacity: 1; white-space: pre; opacity: 1;\">2023-01-08</text></g><g class=\"xtick\"><text text-anchor=\"start\" x=\"0\" y=\"407\" transform=\"translate(1013.92,0) rotate(90,0,401)\" style=\"font-family: 'Open Sans', verdana, arial, sans-serif; font-size: 12px; fill: rgb(36, 36, 36); fill-opacity: 1; white-space: pre; opacity: 1;\">2022-12-10</text></g><g class=\"xtick\"><text text-anchor=\"start\" x=\"0\" y=\"407\" transform=\"translate(1039.51,0) rotate(90,0,401)\" style=\"font-family: 'Open Sans', verdana, arial, sans-serif; font-size: 12px; fill: rgb(36, 36, 36); fill-opacity: 1; white-space: pre; opacity: 1;\">2023-01-14</text></g><g class=\"xtick\"><text text-anchor=\"start\" x=\"0\" y=\"407\" transform=\"translate(1065.1,0) rotate(90,0,401)\" style=\"font-family: 'Open Sans', verdana, arial, sans-serif; font-size: 12px; fill: rgb(36, 36, 36); fill-opacity: 1; white-space: pre; opacity: 1;\">2022-12-17</text></g><g class=\"xtick\"><text text-anchor=\"start\" x=\"0\" y=\"407\" transform=\"translate(1090.6799999999998,0) rotate(90,0,401)\" style=\"font-family: 'Open Sans', verdana, arial, sans-serif; font-size: 12px; fill: rgb(36, 36, 36); fill-opacity: 1; white-space: pre; opacity: 1;\">2022-12-18</text></g><g class=\"xtick\"><text text-anchor=\"start\" x=\"0\" y=\"407\" transform=\"translate(1116.27,0) rotate(90,0,401)\" style=\"font-family: 'Open Sans', verdana, arial, sans-serif; font-size: 12px; fill: rgb(36, 36, 36); fill-opacity: 1; white-space: pre; opacity: 1;\">2023-01-01</text></g><g class=\"xtick\"><text text-anchor=\"start\" x=\"0\" y=\"407\" transform=\"translate(1141.86,0) rotate(90,0,401)\" style=\"font-family: 'Open Sans', verdana, arial, sans-serif; font-size: 12px; fill: rgb(36, 36, 36); fill-opacity: 1; white-space: pre; opacity: 1;\">2022-12-30</text></g><g class=\"xtick\"><text text-anchor=\"start\" x=\"0\" y=\"407\" transform=\"translate(1167.45,0) rotate(90,0,401)\" style=\"font-family: 'Open Sans', verdana, arial, sans-serif; font-size: 12px; fill: rgb(36, 36, 36); fill-opacity: 1; white-space: pre; opacity: 1;\">2022-12-25</text></g><g class=\"xtick\"><text text-anchor=\"start\" x=\"0\" y=\"407\" transform=\"translate(1193.03,0) rotate(90,0,401)\" style=\"font-family: 'Open Sans', verdana, arial, sans-serif; font-size: 12px; fill: rgb(36, 36, 36); fill-opacity: 1; white-space: pre; opacity: 1;\">2022-12-31</text></g><g class=\"xtick\"><text text-anchor=\"start\" x=\"0\" y=\"407\" transform=\"translate(1218.62,0) rotate(90,0,401)\" style=\"font-family: 'Open Sans', verdana, arial, sans-serif; font-size: 12px; fill: rgb(36, 36, 36); fill-opacity: 1; white-space: pre; opacity: 1;\">2022-12-24</text></g><g class=\"xtick\"><text text-anchor=\"start\" x=\"0\" y=\"407\" transform=\"translate(1244.21,0) rotate(90,0,401)\" style=\"font-family: 'Open Sans', verdana, arial, sans-serif; font-size: 12px; fill: rgb(36, 36, 36); fill-opacity: 1; white-space: pre; opacity: 1;\">2022-12-23</text></g></g><g class=\"yaxislayer-above\"><g class=\"ytick\"><text text-anchor=\"end\" x=\"79\" y=\"4.199999999999999\" transform=\"translate(0,394)\" style=\"font-family: 'Open Sans', verdana, arial, sans-serif; font-size: 12px; fill: rgb(36, 36, 36); fill-opacity: 1; white-space: pre; opacity: 1;\">0</text></g><g class=\"ytick\"><text text-anchor=\"end\" x=\"79\" y=\"4.199999999999999\" style=\"font-family: 'Open Sans', verdana, arial, sans-serif; font-size: 12px; fill: rgb(36, 36, 36); fill-opacity: 1; white-space: pre; opacity: 1;\" transform=\"translate(0,311.46000000000004)\">500</text></g><g class=\"ytick\"><text text-anchor=\"end\" x=\"79\" y=\"4.199999999999999\" style=\"font-family: 'Open Sans', verdana, arial, sans-serif; font-size: 12px; fill: rgb(36, 36, 36); fill-opacity: 1; white-space: pre; opacity: 1;\" transform=\"translate(0,228.93)\">1000</text></g><g class=\"ytick\"><text text-anchor=\"end\" x=\"79\" y=\"4.199999999999999\" style=\"font-family: 'Open Sans', verdana, arial, sans-serif; font-size: 12px; fill: rgb(36, 36, 36); fill-opacity: 1; white-space: pre; opacity: 1;\" transform=\"translate(0,146.39)\">1500</text></g></g><g class=\"overaxes-above\"/></g></g><g class=\"polarlayer\"/><g class=\"smithlayer\"/><g class=\"ternarylayer\"/><g class=\"geolayer\"/><g class=\"funnelarealayer\"/><g class=\"pielayer\"/><g class=\"iciclelayer\"/><g class=\"treemaplayer\"/><g class=\"sunburstlayer\"/><g class=\"glimages\"/><defs id=\"topdefs-bca31d\"><g class=\"clips\"/><clipPath id=\"legendbca31d\"><rect width=\"107\" height=\"294\" x=\"0\" y=\"0\"/></clipPath></defs><g class=\"layer-above\"><g class=\"imagelayer\"/><g class=\"shapelayer\"/></g><g class=\"infolayer\"><g class=\"legend\" pointer-events=\"all\" transform=\"translate(1280.54,100)\"><rect class=\"bg\" shape-rendering=\"crispEdges\" style=\"stroke: rgb(68, 68, 68); stroke-opacity: 1; fill: rgb(255, 255, 255); fill-opacity: 1; stroke-width: 0px;\" width=\"107\" height=\"294\" x=\"0\" y=\"0\"/><g class=\"scrollbox\" transform=\"\" clip-path=\"url(#legendbca31d)\"><text class=\"legendtitletext\" text-anchor=\"start\" x=\"2\" y=\"18.2\" style=\"font-family: 'Open Sans', verdana, arial, sans-serif; font-size: 14px; fill: rgb(36, 36, 36); fill-opacity: 1; white-space: pre;\">data</text><g class=\"groups\" transform=\"\"><g class=\"traces\" transform=\"translate(0,32.7)\" style=\"opacity: 1;\"><text class=\"legendtext\" text-anchor=\"start\" x=\"40\" y=\"4.680000000000001\" style=\"font-family: 'Open Sans', verdana, arial, sans-serif; font-size: 12px; fill: rgb(36, 36, 36); fill-opacity: 1; white-space: pre;\">2023-01-16</text><g class=\"layers\" style=\"opacity: 1;\"><g class=\"legendfill\"/><g class=\"legendlines\"/><g class=\"legendsymbols\"><g class=\"legendpoints\"><path class=\"legendundefined\" d=\"M6,6H-6V-6H6Z\" transform=\"translate(20,0)\" style=\"stroke-width: 0.5px; fill: rgb(76, 114, 176); fill-opacity: 1; stroke: rgb(234, 234, 242); stroke-opacity: 1;\"/></g></g></g><rect class=\"legendtoggle\" x=\"0\" y=\"-9.5\" width=\"101.71875\" height=\"19\" style=\"fill: rgb(0, 0, 0); fill-opacity: 0;\"/></g></g><g class=\"groups\" transform=\"\"><g class=\"traces\" transform=\"translate(0,51.7)\" style=\"opacity: 1;\"><text class=\"legendtext\" text-anchor=\"start\" x=\"40\" y=\"4.680000000000001\" style=\"font-family: 'Open Sans', verdana, arial, sans-serif; font-size: 12px; fill: rgb(36, 36, 36); fill-opacity: 1; white-space: pre;\">2023-01-19</text><g class=\"layers\" style=\"opacity: 1;\"><g class=\"legendfill\"/><g class=\"legendlines\"/><g class=\"legendsymbols\"><g class=\"legendpoints\"><path class=\"legendundefined\" d=\"M6,6H-6V-6H6Z\" transform=\"translate(20,0)\" style=\"stroke-width: 0.5px; fill: rgb(221, 132, 82); fill-opacity: 1; stroke: rgb(234, 234, 242); stroke-opacity: 1;\"/></g></g></g><rect class=\"legendtoggle\" x=\"0\" y=\"-9.5\" width=\"101.71875\" height=\"19\" style=\"fill: rgb(0, 0, 0); fill-opacity: 0;\"/></g></g><g class=\"groups\" transform=\"\"><g class=\"traces\" transform=\"translate(0,70.7)\" style=\"opacity: 1;\"><text class=\"legendtext\" text-anchor=\"start\" x=\"40\" y=\"4.680000000000001\" style=\"font-family: 'Open Sans', verdana, arial, sans-serif; font-size: 12px; fill: rgb(36, 36, 36); fill-opacity: 1; white-space: pre;\">2022-12-12</text><g class=\"layers\" style=\"opacity: 1;\"><g class=\"legendfill\"/><g class=\"legendlines\"/><g class=\"legendsymbols\"><g class=\"legendpoints\"><path class=\"legendundefined\" d=\"M6,6H-6V-6H6Z\" transform=\"translate(20,0)\" style=\"stroke-width: 0.5px; fill: rgb(85, 168, 104); fill-opacity: 1; stroke: rgb(234, 234, 242); stroke-opacity: 1;\"/></g></g></g><rect class=\"legendtoggle\" x=\"0\" y=\"-9.5\" width=\"101.71875\" height=\"19\" style=\"fill: rgb(0, 0, 0); fill-opacity: 0;\"/></g></g><g class=\"groups\" transform=\"\"><g class=\"traces\" transform=\"translate(0,89.7)\" style=\"opacity: 1;\"><text class=\"legendtext\" text-anchor=\"start\" x=\"40\" y=\"4.680000000000001\" style=\"font-family: 'Open Sans', verdana, arial, sans-serif; font-size: 12px; fill: rgb(36, 36, 36); fill-opacity: 1; white-space: pre;\">2022-12-15</text><g class=\"layers\" style=\"opacity: 1;\"><g class=\"legendfill\"/><g class=\"legendlines\"/><g class=\"legendsymbols\"><g class=\"legendpoints\"><path class=\"legendundefined\" d=\"M6,6H-6V-6H6Z\" transform=\"translate(20,0)\" style=\"stroke-width: 0.5px; fill: rgb(196, 78, 82); fill-opacity: 1; stroke: rgb(234, 234, 242); stroke-opacity: 1;\"/></g></g></g><rect class=\"legendtoggle\" x=\"0\" y=\"-9.5\" width=\"101.71875\" height=\"19\" style=\"fill: rgb(0, 0, 0); fill-opacity: 0;\"/></g></g><g class=\"groups\" transform=\"\"><g class=\"traces\" transform=\"translate(0,108.7)\" style=\"opacity: 1;\"><text class=\"legendtext\" text-anchor=\"start\" x=\"40\" y=\"4.680000000000001\" style=\"font-family: 'Open Sans', verdana, arial, sans-serif; font-size: 12px; fill: rgb(36, 36, 36); fill-opacity: 1; white-space: pre;\">2023-01-09</text><g class=\"layers\" style=\"opacity: 1;\"><g class=\"legendfill\"/><g class=\"legendlines\"/><g class=\"legendsymbols\"><g class=\"legendpoints\"><path class=\"legendundefined\" d=\"M6,6H-6V-6H6Z\" transform=\"translate(20,0)\" style=\"stroke-width: 0.5px; fill: rgb(129, 114, 179); fill-opacity: 1; stroke: rgb(234, 234, 242); stroke-opacity: 1;\"/></g></g></g><rect class=\"legendtoggle\" x=\"0\" y=\"-9.5\" width=\"101.71875\" height=\"19\" style=\"fill: rgb(0, 0, 0); fill-opacity: 0;\"/></g></g><g class=\"groups\" transform=\"\"><g class=\"traces\" transform=\"translate(0,127.7)\" style=\"opacity: 1;\"><text class=\"legendtext\" text-anchor=\"start\" x=\"40\" y=\"4.680000000000001\" style=\"font-family: 'Open Sans', verdana, arial, sans-serif; font-size: 12px; fill: rgb(36, 36, 36); fill-opacity: 1; white-space: pre;\">2023-01-18</text><g class=\"layers\" style=\"opacity: 1;\"><g class=\"legendfill\"/><g class=\"legendlines\"/><g class=\"legendsymbols\"><g class=\"legendpoints\"><path class=\"legendundefined\" d=\"M6,6H-6V-6H6Z\" transform=\"translate(20,0)\" style=\"stroke-width: 0.5px; fill: rgb(147, 120, 96); fill-opacity: 1; stroke: rgb(234, 234, 242); stroke-opacity: 1;\"/></g></g></g><rect class=\"legendtoggle\" x=\"0\" y=\"-9.5\" width=\"101.71875\" height=\"19\" style=\"fill: rgb(0, 0, 0); fill-opacity: 0;\"/></g></g><g class=\"groups\" transform=\"\"><g class=\"traces\" transform=\"translate(0,146.7)\" style=\"opacity: 1;\"><text class=\"legendtext\" text-anchor=\"start\" x=\"40\" y=\"4.680000000000001\" style=\"font-family: 'Open Sans', verdana, arial, sans-serif; font-size: 12px; fill: rgb(36, 36, 36); fill-opacity: 1; white-space: pre;\">2023-01-12</text><g class=\"layers\" style=\"opacity: 1;\"><g class=\"legendfill\"/><g class=\"legendlines\"/><g class=\"legendsymbols\"><g class=\"legendpoints\"><path class=\"legendundefined\" d=\"M6,6H-6V-6H6Z\" transform=\"translate(20,0)\" style=\"stroke-width: 0.5px; fill: rgb(218, 139, 195); fill-opacity: 1; stroke: rgb(234, 234, 242); stroke-opacity: 1;\"/></g></g></g><rect class=\"legendtoggle\" x=\"0\" y=\"-9.5\" width=\"101.71875\" height=\"19\" style=\"fill: rgb(0, 0, 0); fill-opacity: 0;\"/></g></g><g class=\"groups\" transform=\"\"><g class=\"traces\" transform=\"translate(0,165.7)\" style=\"opacity: 1;\"><text class=\"legendtext\" text-anchor=\"start\" x=\"40\" y=\"4.680000000000001\" style=\"font-family: 'Open Sans', verdana, arial, sans-serif; font-size: 12px; fill: rgb(36, 36, 36); fill-opacity: 1; white-space: pre;\">2023-01-05</text><g class=\"layers\" style=\"opacity: 1;\"><g class=\"legendfill\"/><g class=\"legendlines\"/><g class=\"legendsymbols\"><g class=\"legendpoints\"><path class=\"legendundefined\" d=\"M6,6H-6V-6H6Z\" transform=\"translate(20,0)\" style=\"stroke-width: 0.5px; fill: rgb(140, 140, 140); fill-opacity: 1; stroke: rgb(234, 234, 242); stroke-opacity: 1;\"/></g></g></g><rect class=\"legendtoggle\" x=\"0\" y=\"-9.5\" width=\"101.71875\" height=\"19\" style=\"fill: rgb(0, 0, 0); fill-opacity: 0;\"/></g></g><g class=\"groups\" transform=\"\"><g class=\"traces\" transform=\"translate(0,184.7)\" style=\"opacity: 1;\"><text class=\"legendtext\" text-anchor=\"start\" x=\"40\" y=\"4.680000000000001\" style=\"font-family: 'Open Sans', verdana, arial, sans-serif; font-size: 12px; fill: rgb(36, 36, 36); fill-opacity: 1; white-space: pre;\">2022-12-13</text><g class=\"layers\" style=\"opacity: 1;\"><g class=\"legendfill\"/><g class=\"legendlines\"/><g class=\"legendsymbols\"><g class=\"legendpoints\"><path class=\"legendundefined\" d=\"M6,6H-6V-6H6Z\" transform=\"translate(20,0)\" style=\"stroke-width: 0.5px; fill: rgb(204, 185, 116); fill-opacity: 1; stroke: rgb(234, 234, 242); stroke-opacity: 1;\"/></g></g></g><rect class=\"legendtoggle\" x=\"0\" y=\"-9.5\" width=\"101.71875\" height=\"19\" style=\"fill: rgb(0, 0, 0); fill-opacity: 0;\"/></g></g><g class=\"groups\" transform=\"\"><g class=\"traces\" transform=\"translate(0,203.7)\" style=\"opacity: 1;\"><text class=\"legendtext\" text-anchor=\"start\" x=\"40\" y=\"4.680000000000001\" style=\"font-family: 'Open Sans', verdana, arial, sans-serif; font-size: 12px; fill: rgb(36, 36, 36); fill-opacity: 1; white-space: pre;\">2022-12-08</text><g class=\"layers\" style=\"opacity: 1;\"><g class=\"legendfill\"/><g class=\"legendlines\"/><g class=\"legendsymbols\"><g class=\"legendpoints\"><path class=\"legendundefined\" d=\"M6,6H-6V-6H6Z\" transform=\"translate(20,0)\" style=\"stroke-width: 0.5px; fill: rgb(100, 181, 205); fill-opacity: 1; stroke: rgb(234, 234, 242); stroke-opacity: 1;\"/></g></g></g><rect class=\"legendtoggle\" x=\"0\" y=\"-9.5\" width=\"101.71875\" height=\"19\" style=\"fill: rgb(0, 0, 0); fill-opacity: 0;\"/></g></g><g class=\"groups\" transform=\"\"><g class=\"traces\" transform=\"translate(0,222.7)\" style=\"opacity: 1;\"><text class=\"legendtext\" text-anchor=\"start\" x=\"40\" y=\"4.680000000000001\" style=\"font-family: 'Open Sans', verdana, arial, sans-serif; font-size: 12px; fill: rgb(36, 36, 36); fill-opacity: 1; white-space: pre;\">2023-01-17</text><g class=\"layers\" style=\"opacity: 1;\"><g class=\"legendfill\"/><g class=\"legendlines\"/><g class=\"legendsymbols\"><g class=\"legendpoints\"><path class=\"legendundefined\" d=\"M6,6H-6V-6H6Z\" transform=\"translate(20,0)\" style=\"stroke-width: 0.5px; fill: rgb(76, 114, 176); fill-opacity: 1; stroke: rgb(234, 234, 242); stroke-opacity: 1;\"/></g></g></g><rect class=\"legendtoggle\" x=\"0\" y=\"-9.5\" width=\"101.71875\" height=\"19\" style=\"fill: rgb(0, 0, 0); fill-opacity: 0;\"/></g></g><g class=\"groups\" transform=\"\"><g class=\"traces\" transform=\"translate(0,241.7)\" style=\"opacity: 1;\"><text class=\"legendtext\" text-anchor=\"start\" x=\"40\" y=\"4.680000000000001\" style=\"font-family: 'Open Sans', verdana, arial, sans-serif; font-size: 12px; fill: rgb(36, 36, 36); fill-opacity: 1; white-space: pre;\">2022-12-14</text><g class=\"layers\" style=\"opacity: 1;\"><g class=\"legendfill\"/><g class=\"legendlines\"/><g class=\"legendsymbols\"><g class=\"legendpoints\"><path class=\"legendundefined\" d=\"M6,6H-6V-6H6Z\" transform=\"translate(20,0)\" style=\"stroke-width: 0.5px; fill: rgb(221, 132, 82); fill-opacity: 1; stroke: rgb(234, 234, 242); stroke-opacity: 1;\"/></g></g></g><rect class=\"legendtoggle\" x=\"0\" y=\"-9.5\" width=\"101.71875\" height=\"19\" style=\"fill: rgb(0, 0, 0); fill-opacity: 0;\"/></g></g><g class=\"groups\" transform=\"\"><g class=\"traces\" transform=\"translate(0,260.7)\" style=\"opacity: 1;\"><text class=\"legendtext\" text-anchor=\"start\" x=\"40\" y=\"4.680000000000001\" style=\"font-family: 'Open Sans', verdana, arial, sans-serif; font-size: 12px; fill: rgb(36, 36, 36); fill-opacity: 1; white-space: pre;\">2022-12-19</text><g class=\"layers\" style=\"opacity: 1;\"><g class=\"legendfill\"/><g class=\"legendlines\"/><g class=\"legendsymbols\"><g class=\"legendpoints\"><path class=\"legendundefined\" d=\"M6,6H-6V-6H6Z\" transform=\"translate(20,0)\" style=\"stroke-width: 0.5px; fill: rgb(85, 168, 104); fill-opacity: 1; stroke: rgb(234, 234, 242); stroke-opacity: 1;\"/></g></g></g><rect class=\"legendtoggle\" x=\"0\" y=\"-9.5\" width=\"101.71875\" height=\"19\" style=\"fill: rgb(0, 0, 0); fill-opacity: 0;\"/></g></g><g class=\"groups\" transform=\"\"><g class=\"traces\" transform=\"translate(0,279.7)\" style=\"opacity: 1;\"><text class=\"legendtext\" text-anchor=\"start\" x=\"40\" y=\"4.680000000000001\" style=\"font-family: 'Open Sans', verdana, arial, sans-serif; font-size: 12px; fill: rgb(36, 36, 36); fill-opacity: 1; white-space: pre;\">2022-12-22</text><g class=\"layers\" style=\"opacity: 1;\"><g class=\"legendfill\"/><g class=\"legendlines\"/><g class=\"legendsymbols\"><g class=\"legendpoints\"><path class=\"legendundefined\" d=\"M6,6H-6V-6H6Z\" transform=\"translate(20,0)\" style=\"stroke-width: 0.5px; fill: rgb(196, 78, 82); fill-opacity: 1; stroke: rgb(234, 234, 242); stroke-opacity: 1;\"/></g></g></g><rect class=\"legendtoggle\" x=\"0\" y=\"-9.5\" width=\"101.71875\" height=\"19\" style=\"fill: rgb(0, 0, 0); fill-opacity: 0;\"/></g></g><g class=\"groups\" transform=\"\"><g class=\"traces\" transform=\"translate(0,298.7)\" style=\"opacity: 1;\"><text class=\"legendtext\" text-anchor=\"start\" x=\"40\" y=\"4.680000000000001\" style=\"font-family: 'Open Sans', verdana, arial, sans-serif; font-size: 12px; fill: rgb(36, 36, 36); fill-opacity: 1; white-space: pre;\">2023-01-20</text><g class=\"layers\" style=\"opacity: 1;\"><g class=\"legendfill\"/><g class=\"legendlines\"/><g class=\"legendsymbols\"><g class=\"legendpoints\"><path class=\"legendundefined\" d=\"M6,6H-6V-6H6Z\" transform=\"translate(20,0)\" style=\"stroke-width: 0.5px; fill: rgb(129, 114, 179); fill-opacity: 1; stroke: rgb(234, 234, 242); stroke-opacity: 1;\"/></g></g></g><rect class=\"legendtoggle\" x=\"0\" y=\"-9.5\" width=\"101.71875\" height=\"19\" style=\"fill: rgb(0, 0, 0); fill-opacity: 0;\"/></g></g><g class=\"groups\" transform=\"\"><g class=\"traces\" transform=\"translate(0,317.7)\" style=\"opacity: 1;\"><text class=\"legendtext\" text-anchor=\"start\" x=\"40\" y=\"4.680000000000001\" style=\"font-family: 'Open Sans', verdana, arial, sans-serif; font-size: 12px; fill: rgb(36, 36, 36); fill-opacity: 1; white-space: pre;\">2023-01-11</text><g class=\"layers\" style=\"opacity: 1;\"><g class=\"legendfill\"/><g class=\"legendlines\"/><g class=\"legendsymbols\"><g class=\"legendpoints\"><path class=\"legendundefined\" d=\"M6,6H-6V-6H6Z\" transform=\"translate(20,0)\" style=\"stroke-width: 0.5px; fill: rgb(147, 120, 96); fill-opacity: 1; stroke: rgb(234, 234, 242); stroke-opacity: 1;\"/></g></g></g><rect class=\"legendtoggle\" x=\"0\" y=\"-9.5\" width=\"101.71875\" height=\"19\" style=\"fill: rgb(0, 0, 0); fill-opacity: 0;\"/></g></g><g class=\"groups\" transform=\"\"><g class=\"traces\" transform=\"translate(0,336.7)\" style=\"opacity: 1;\"><text class=\"legendtext\" text-anchor=\"start\" x=\"40\" y=\"4.680000000000001\" style=\"font-family: 'Open Sans', verdana, arial, sans-serif; font-size: 12px; fill: rgb(36, 36, 36); fill-opacity: 1; white-space: pre;\">2023-01-13</text><g class=\"layers\" style=\"opacity: 1;\"><g class=\"legendfill\"/><g class=\"legendlines\"/><g class=\"legendsymbols\"><g class=\"legendpoints\"><path class=\"legendundefined\" d=\"M6,6H-6V-6H6Z\" transform=\"translate(20,0)\" style=\"stroke-width: 0.5px; fill: rgb(218, 139, 195); fill-opacity: 1; stroke: rgb(234, 234, 242); stroke-opacity: 1;\"/></g></g></g><rect class=\"legendtoggle\" x=\"0\" y=\"-9.5\" width=\"101.71875\" height=\"19\" style=\"fill: rgb(0, 0, 0); fill-opacity: 0;\"/></g></g><g class=\"groups\" transform=\"\"><g class=\"traces\" transform=\"translate(0,355.7)\" style=\"opacity: 1;\"><text class=\"legendtext\" text-anchor=\"start\" x=\"40\" y=\"4.680000000000001\" style=\"font-family: 'Open Sans', verdana, arial, sans-serif; font-size: 12px; fill: rgb(36, 36, 36); fill-opacity: 1; white-space: pre;\">2022-12-06</text><g class=\"layers\" style=\"opacity: 1;\"><g class=\"legendfill\"/><g class=\"legendlines\"/><g class=\"legendsymbols\"><g class=\"legendpoints\"><path class=\"legendundefined\" d=\"M6,6H-6V-6H6Z\" transform=\"translate(20,0)\" style=\"stroke-width: 0.5px; fill: rgb(140, 140, 140); fill-opacity: 1; stroke: rgb(234, 234, 242); stroke-opacity: 1;\"/></g></g></g><rect class=\"legendtoggle\" x=\"0\" y=\"-9.5\" width=\"101.71875\" height=\"19\" style=\"fill: rgb(0, 0, 0); fill-opacity: 0;\"/></g></g><g class=\"groups\" transform=\"\"><g class=\"traces\" transform=\"translate(0,374.7)\" style=\"opacity: 1;\"><text class=\"legendtext\" text-anchor=\"start\" x=\"40\" y=\"4.680000000000001\" style=\"font-family: 'Open Sans', verdana, arial, sans-serif; font-size: 12px; fill: rgb(36, 36, 36); fill-opacity: 1; white-space: pre;\">2022-12-07</text><g class=\"layers\" style=\"opacity: 1;\"><g class=\"legendfill\"/><g class=\"legendlines\"/><g class=\"legendsymbols\"><g class=\"legendpoints\"><path class=\"legendundefined\" d=\"M6,6H-6V-6H6Z\" transform=\"translate(20,0)\" style=\"stroke-width: 0.5px; fill: rgb(204, 185, 116); fill-opacity: 1; stroke: rgb(234, 234, 242); stroke-opacity: 1;\"/></g></g></g><rect class=\"legendtoggle\" x=\"0\" y=\"-9.5\" width=\"101.71875\" height=\"19\" style=\"fill: rgb(0, 0, 0); fill-opacity: 0;\"/></g></g><g class=\"groups\" transform=\"\"><g class=\"traces\" transform=\"translate(0,393.7)\" style=\"opacity: 1;\"><text class=\"legendtext\" text-anchor=\"start\" x=\"40\" y=\"4.680000000000001\" style=\"font-family: 'Open Sans', verdana, arial, sans-serif; font-size: 12px; fill: rgb(36, 36, 36); fill-opacity: 1; white-space: pre;\">2022-12-16</text><g class=\"layers\" style=\"opacity: 1;\"><g class=\"legendfill\"/><g class=\"legendlines\"/><g class=\"legendsymbols\"><g class=\"legendpoints\"><path class=\"legendundefined\" d=\"M6,6H-6V-6H6Z\" transform=\"translate(20,0)\" style=\"stroke-width: 0.5px; fill: rgb(100, 181, 205); fill-opacity: 1; stroke: rgb(234, 234, 242); stroke-opacity: 1;\"/></g></g></g><rect class=\"legendtoggle\" x=\"0\" y=\"-9.5\" width=\"101.71875\" height=\"19\" style=\"fill: rgb(0, 0, 0); fill-opacity: 0;\"/></g></g><g class=\"groups\" transform=\"\"><g class=\"traces\" transform=\"translate(0,412.7)\" style=\"opacity: 1;\"><text class=\"legendtext\" text-anchor=\"start\" x=\"40\" y=\"4.680000000000001\" style=\"font-family: 'Open Sans', verdana, arial, sans-serif; font-size: 12px; fill: rgb(36, 36, 36); fill-opacity: 1; white-space: pre;\">2022-12-26</text><g class=\"layers\" style=\"opacity: 1;\"><g class=\"legendfill\"/><g class=\"legendlines\"/><g class=\"legendsymbols\"><g class=\"legendpoints\"><path class=\"legendundefined\" d=\"M6,6H-6V-6H6Z\" transform=\"translate(20,0)\" style=\"stroke-width: 0.5px; fill: rgb(76, 114, 176); fill-opacity: 1; stroke: rgb(234, 234, 242); stroke-opacity: 1;\"/></g></g></g><rect class=\"legendtoggle\" x=\"0\" y=\"-9.5\" width=\"101.71875\" height=\"19\" style=\"fill: rgb(0, 0, 0); fill-opacity: 0;\"/></g></g><g class=\"groups\" transform=\"\"><g class=\"traces\" transform=\"translate(0,431.7)\" style=\"opacity: 1;\"><text class=\"legendtext\" text-anchor=\"start\" x=\"40\" y=\"4.680000000000001\" style=\"font-family: 'Open Sans', verdana, arial, sans-serif; font-size: 12px; fill: rgb(36, 36, 36); fill-opacity: 1; white-space: pre;\">2023-01-06</text><g class=\"layers\" style=\"opacity: 1;\"><g class=\"legendfill\"/><g class=\"legendlines\"/><g class=\"legendsymbols\"><g class=\"legendpoints\"><path class=\"legendundefined\" d=\"M6,6H-6V-6H6Z\" transform=\"translate(20,0)\" style=\"stroke-width: 0.5px; fill: rgb(221, 132, 82); fill-opacity: 1; stroke: rgb(234, 234, 242); stroke-opacity: 1;\"/></g></g></g><rect class=\"legendtoggle\" x=\"0\" y=\"-9.5\" width=\"101.71875\" height=\"19\" style=\"fill: rgb(0, 0, 0); fill-opacity: 0;\"/></g></g><g class=\"groups\" transform=\"\"><g class=\"traces\" transform=\"translate(0,450.7)\" style=\"opacity: 1;\"><text class=\"legendtext\" text-anchor=\"start\" x=\"40\" y=\"4.680000000000001\" style=\"font-family: 'Open Sans', verdana, arial, sans-serif; font-size: 12px; fill: rgb(36, 36, 36); fill-opacity: 1; white-space: pre;\">2023-01-02</text><g class=\"layers\" style=\"opacity: 1;\"><g class=\"legendfill\"/><g class=\"legendlines\"/><g class=\"legendsymbols\"><g class=\"legendpoints\"><path class=\"legendundefined\" d=\"M6,6H-6V-6H6Z\" transform=\"translate(20,0)\" style=\"stroke-width: 0.5px; fill: rgb(85, 168, 104); fill-opacity: 1; stroke: rgb(234, 234, 242); stroke-opacity: 1;\"/></g></g></g><rect class=\"legendtoggle\" x=\"0\" y=\"-9.5\" width=\"101.71875\" height=\"19\" style=\"fill: rgb(0, 0, 0); fill-opacity: 0;\"/></g></g><g class=\"groups\" transform=\"\"><g class=\"traces\" transform=\"translate(0,469.7)\" style=\"opacity: 1;\"><text class=\"legendtext\" text-anchor=\"start\" x=\"40\" y=\"4.680000000000001\" style=\"font-family: 'Open Sans', verdana, arial, sans-serif; font-size: 12px; fill: rgb(36, 36, 36); fill-opacity: 1; white-space: pre;\">2023-01-10</text><g class=\"layers\" style=\"opacity: 1;\"><g class=\"legendfill\"/><g class=\"legendlines\"/><g class=\"legendsymbols\"><g class=\"legendpoints\"><path class=\"legendundefined\" d=\"M6,6H-6V-6H6Z\" transform=\"translate(20,0)\" style=\"stroke-width: 0.5px; fill: rgb(196, 78, 82); fill-opacity: 1; stroke: rgb(234, 234, 242); stroke-opacity: 1;\"/></g></g></g><rect class=\"legendtoggle\" x=\"0\" y=\"-9.5\" width=\"101.71875\" height=\"19\" style=\"fill: rgb(0, 0, 0); fill-opacity: 0;\"/></g></g><g class=\"groups\" transform=\"\"><g class=\"traces\" transform=\"translate(0,488.7)\" style=\"opacity: 1;\"><text class=\"legendtext\" text-anchor=\"start\" x=\"40\" y=\"4.680000000000001\" style=\"font-family: 'Open Sans', verdana, arial, sans-serif; font-size: 12px; fill: rgb(36, 36, 36); fill-opacity: 1; white-space: pre;\">2022-12-21</text><g class=\"layers\" style=\"opacity: 1;\"><g class=\"legendfill\"/><g class=\"legendlines\"/><g class=\"legendsymbols\"><g class=\"legendpoints\"><path class=\"legendundefined\" d=\"M6,6H-6V-6H6Z\" transform=\"translate(20,0)\" style=\"stroke-width: 0.5px; fill: rgb(129, 114, 179); fill-opacity: 1; stroke: rgb(234, 234, 242); stroke-opacity: 1;\"/></g></g></g><rect class=\"legendtoggle\" x=\"0\" y=\"-9.5\" width=\"101.71875\" height=\"19\" style=\"fill: rgb(0, 0, 0); fill-opacity: 0;\"/></g></g><g class=\"groups\" transform=\"\"><g class=\"traces\" transform=\"translate(0,507.7)\" style=\"opacity: 1;\"><text class=\"legendtext\" text-anchor=\"start\" x=\"40\" y=\"4.680000000000001\" style=\"font-family: 'Open Sans', verdana, arial, sans-serif; font-size: 12px; fill: rgb(36, 36, 36); fill-opacity: 1; white-space: pre;\">2022-12-09</text><g class=\"layers\" style=\"opacity: 1;\"><g class=\"legendfill\"/><g class=\"legendlines\"/><g class=\"legendsymbols\"><g class=\"legendpoints\"><path class=\"legendundefined\" d=\"M6,6H-6V-6H6Z\" transform=\"translate(20,0)\" style=\"stroke-width: 0.5px; fill: rgb(147, 120, 96); fill-opacity: 1; stroke: rgb(234, 234, 242); stroke-opacity: 1;\"/></g></g></g><rect class=\"legendtoggle\" x=\"0\" y=\"-9.5\" width=\"101.71875\" height=\"19\" style=\"fill: rgb(0, 0, 0); fill-opacity: 0;\"/></g></g><g class=\"groups\" transform=\"\"><g class=\"traces\" transform=\"translate(0,526.7)\" style=\"opacity: 1;\"><text class=\"legendtext\" text-anchor=\"start\" x=\"40\" y=\"4.680000000000001\" style=\"font-family: 'Open Sans', verdana, arial, sans-serif; font-size: 12px; fill: rgb(36, 36, 36); fill-opacity: 1; white-space: pre;\">2023-01-04</text><g class=\"layers\" style=\"opacity: 1;\"><g class=\"legendfill\"/><g class=\"legendlines\"/><g class=\"legendsymbols\"><g class=\"legendpoints\"><path class=\"legendundefined\" d=\"M6,6H-6V-6H6Z\" transform=\"translate(20,0)\" style=\"stroke-width: 0.5px; fill: rgb(218, 139, 195); fill-opacity: 1; stroke: rgb(234, 234, 242); stroke-opacity: 1;\"/></g></g></g><rect class=\"legendtoggle\" x=\"0\" y=\"-9.5\" width=\"101.71875\" height=\"19\" style=\"fill: rgb(0, 0, 0); fill-opacity: 0;\"/></g></g><g class=\"groups\" transform=\"\"><g class=\"traces\" transform=\"translate(0,545.7)\" style=\"opacity: 1;\"><text class=\"legendtext\" text-anchor=\"start\" x=\"40\" y=\"4.680000000000001\" style=\"font-family: 'Open Sans', verdana, arial, sans-serif; font-size: 12px; fill: rgb(36, 36, 36); fill-opacity: 1; white-space: pre;\">2022-12-20</text><g class=\"layers\" style=\"opacity: 1;\"><g class=\"legendfill\"/><g class=\"legendlines\"/><g class=\"legendsymbols\"><g class=\"legendpoints\"><path class=\"legendundefined\" d=\"M6,6H-6V-6H6Z\" transform=\"translate(20,0)\" style=\"stroke-width: 0.5px; fill: rgb(140, 140, 140); fill-opacity: 1; stroke: rgb(234, 234, 242); stroke-opacity: 1;\"/></g></g></g><rect class=\"legendtoggle\" x=\"0\" y=\"-9.5\" width=\"101.71875\" height=\"19\" style=\"fill: rgb(0, 0, 0); fill-opacity: 0;\"/></g></g><g class=\"groups\" transform=\"\"><g class=\"traces\" transform=\"translate(0,564.7)\" style=\"opacity: 1;\"><text class=\"legendtext\" text-anchor=\"start\" x=\"40\" y=\"4.680000000000001\" style=\"font-family: 'Open Sans', verdana, arial, sans-serif; font-size: 12px; fill: rgb(36, 36, 36); fill-opacity: 1; white-space: pre;\">2022-12-11</text><g class=\"layers\" style=\"opacity: 1;\"><g class=\"legendfill\"/><g class=\"legendlines\"/><g class=\"legendsymbols\"><g class=\"legendpoints\"><path class=\"legendundefined\" d=\"M6,6H-6V-6H6Z\" transform=\"translate(20,0)\" style=\"stroke-width: 0.5px; fill: rgb(204, 185, 116); fill-opacity: 1; stroke: rgb(234, 234, 242); stroke-opacity: 1;\"/></g></g></g><rect class=\"legendtoggle\" x=\"0\" y=\"-9.5\" width=\"101.71875\" height=\"19\" style=\"fill: rgb(0, 0, 0); fill-opacity: 0;\"/></g></g><g class=\"groups\" transform=\"\"><g class=\"traces\" transform=\"translate(0,583.7)\" style=\"opacity: 1;\"><text class=\"legendtext\" text-anchor=\"start\" x=\"40\" y=\"4.680000000000001\" style=\"font-family: 'Open Sans', verdana, arial, sans-serif; font-size: 12px; fill: rgb(36, 36, 36); fill-opacity: 1; white-space: pre;\">2023-01-03</text><g class=\"layers\" style=\"opacity: 1;\"><g class=\"legendfill\"/><g class=\"legendlines\"/><g class=\"legendsymbols\"><g class=\"legendpoints\"><path class=\"legendundefined\" d=\"M6,6H-6V-6H6Z\" transform=\"translate(20,0)\" style=\"stroke-width: 0.5px; fill: rgb(100, 181, 205); fill-opacity: 1; stroke: rgb(234, 234, 242); stroke-opacity: 1;\"/></g></g></g><rect class=\"legendtoggle\" x=\"0\" y=\"-9.5\" width=\"101.71875\" height=\"19\" style=\"fill: rgb(0, 0, 0); fill-opacity: 0;\"/></g></g><g class=\"groups\" transform=\"\"><g class=\"traces\" transform=\"translate(0,602.7)\" style=\"opacity: 1;\"><text class=\"legendtext\" text-anchor=\"start\" x=\"40\" y=\"4.680000000000001\" style=\"font-family: 'Open Sans', verdana, arial, sans-serif; font-size: 12px; fill: rgb(36, 36, 36); fill-opacity: 1; white-space: pre;\">2022-12-29</text><g class=\"layers\" style=\"opacity: 1;\"><g class=\"legendfill\"/><g class=\"legendlines\"/><g class=\"legendsymbols\"><g class=\"legendpoints\"><path class=\"legendundefined\" d=\"M6,6H-6V-6H6Z\" transform=\"translate(20,0)\" style=\"stroke-width: 0.5px; fill: rgb(76, 114, 176); fill-opacity: 1; stroke: rgb(234, 234, 242); stroke-opacity: 1;\"/></g></g></g><rect class=\"legendtoggle\" x=\"0\" y=\"-9.5\" width=\"101.71875\" height=\"19\" style=\"fill: rgb(0, 0, 0); fill-opacity: 0;\"/></g></g><g class=\"groups\" transform=\"\"><g class=\"traces\" transform=\"translate(0,621.7)\" style=\"opacity: 1;\"><text class=\"legendtext\" text-anchor=\"start\" x=\"40\" y=\"4.680000000000001\" style=\"font-family: 'Open Sans', verdana, arial, sans-serif; font-size: 12px; fill: rgb(36, 36, 36); fill-opacity: 1; white-space: pre;\">2022-12-27</text><g class=\"layers\" style=\"opacity: 1;\"><g class=\"legendfill\"/><g class=\"legendlines\"/><g class=\"legendsymbols\"><g class=\"legendpoints\"><path class=\"legendundefined\" d=\"M6,6H-6V-6H6Z\" transform=\"translate(20,0)\" style=\"stroke-width: 0.5px; fill: rgb(221, 132, 82); fill-opacity: 1; stroke: rgb(234, 234, 242); stroke-opacity: 1;\"/></g></g></g><rect class=\"legendtoggle\" x=\"0\" y=\"-9.5\" width=\"101.71875\" height=\"19\" style=\"fill: rgb(0, 0, 0); fill-opacity: 0;\"/></g></g><g class=\"groups\" transform=\"\"><g class=\"traces\" transform=\"translate(0,640.7)\" style=\"opacity: 1;\"><text class=\"legendtext\" text-anchor=\"start\" x=\"40\" y=\"4.680000000000001\" style=\"font-family: 'Open Sans', verdana, arial, sans-serif; font-size: 12px; fill: rgb(36, 36, 36); fill-opacity: 1; white-space: pre;\">2023-01-15</text><g class=\"layers\" style=\"opacity: 1;\"><g class=\"legendfill\"/><g class=\"legendlines\"/><g class=\"legendsymbols\"><g class=\"legendpoints\"><path class=\"legendundefined\" d=\"M6,6H-6V-6H6Z\" transform=\"translate(20,0)\" style=\"stroke-width: 0.5px; fill: rgb(85, 168, 104); fill-opacity: 1; stroke: rgb(234, 234, 242); stroke-opacity: 1;\"/></g></g></g><rect class=\"legendtoggle\" x=\"0\" y=\"-9.5\" width=\"101.71875\" height=\"19\" style=\"fill: rgb(0, 0, 0); fill-opacity: 0;\"/></g></g><g class=\"groups\" transform=\"\"><g class=\"traces\" transform=\"translate(0,659.7)\" style=\"opacity: 1;\"><text class=\"legendtext\" text-anchor=\"start\" x=\"40\" y=\"4.680000000000001\" style=\"font-family: 'Open Sans', verdana, arial, sans-serif; font-size: 12px; fill: rgb(36, 36, 36); fill-opacity: 1; white-space: pre;\">2022-12-28</text><g class=\"layers\" style=\"opacity: 1;\"><g class=\"legendfill\"/><g class=\"legendlines\"/><g class=\"legendsymbols\"><g class=\"legendpoints\"><path class=\"legendundefined\" d=\"M6,6H-6V-6H6Z\" transform=\"translate(20,0)\" style=\"stroke-width: 0.5px; fill: rgb(196, 78, 82); fill-opacity: 1; stroke: rgb(234, 234, 242); stroke-opacity: 1;\"/></g></g></g><rect class=\"legendtoggle\" x=\"0\" y=\"-9.5\" width=\"101.71875\" height=\"19\" style=\"fill: rgb(0, 0, 0); fill-opacity: 0;\"/></g></g><g class=\"groups\" transform=\"\"><g class=\"traces\" transform=\"translate(0,678.7)\" style=\"opacity: 1;\"><text class=\"legendtext\" text-anchor=\"start\" x=\"40\" y=\"4.680000000000001\" style=\"font-family: 'Open Sans', verdana, arial, sans-serif; font-size: 12px; fill: rgb(36, 36, 36); fill-opacity: 1; white-space: pre;\">2023-01-07</text><g class=\"layers\" style=\"opacity: 1;\"><g class=\"legendfill\"/><g class=\"legendlines\"/><g class=\"legendsymbols\"><g class=\"legendpoints\"><path class=\"legendundefined\" d=\"M6,6H-6V-6H6Z\" transform=\"translate(20,0)\" style=\"stroke-width: 0.5px; fill: rgb(129, 114, 179); fill-opacity: 1; stroke: rgb(234, 234, 242); stroke-opacity: 1;\"/></g></g></g><rect class=\"legendtoggle\" x=\"0\" y=\"-9.5\" width=\"101.71875\" height=\"19\" style=\"fill: rgb(0, 0, 0); fill-opacity: 0;\"/></g></g><g class=\"groups\" transform=\"\"><g class=\"traces\" transform=\"translate(0,697.7)\" style=\"opacity: 1;\"><text class=\"legendtext\" text-anchor=\"start\" x=\"40\" y=\"4.680000000000001\" style=\"font-family: 'Open Sans', verdana, arial, sans-serif; font-size: 12px; fill: rgb(36, 36, 36); fill-opacity: 1; white-space: pre;\">2023-01-08</text><g class=\"layers\" style=\"opacity: 1;\"><g class=\"legendfill\"/><g class=\"legendlines\"/><g class=\"legendsymbols\"><g class=\"legendpoints\"><path class=\"legendundefined\" d=\"M6,6H-6V-6H6Z\" transform=\"translate(20,0)\" style=\"stroke-width: 0.5px; fill: rgb(147, 120, 96); fill-opacity: 1; stroke: rgb(234, 234, 242); stroke-opacity: 1;\"/></g></g></g><rect class=\"legendtoggle\" x=\"0\" y=\"-9.5\" width=\"101.71875\" height=\"19\" style=\"fill: rgb(0, 0, 0); fill-opacity: 0;\"/></g></g><g class=\"groups\" transform=\"\"><g class=\"traces\" transform=\"translate(0,716.7)\" style=\"opacity: 1;\"><text class=\"legendtext\" text-anchor=\"start\" x=\"40\" y=\"4.680000000000001\" style=\"font-family: 'Open Sans', verdana, arial, sans-serif; font-size: 12px; fill: rgb(36, 36, 36); fill-opacity: 1; white-space: pre;\">2022-12-10</text><g class=\"layers\" style=\"opacity: 1;\"><g class=\"legendfill\"/><g class=\"legendlines\"/><g class=\"legendsymbols\"><g class=\"legendpoints\"><path class=\"legendundefined\" d=\"M6,6H-6V-6H6Z\" transform=\"translate(20,0)\" style=\"stroke-width: 0.5px; fill: rgb(218, 139, 195); fill-opacity: 1; stroke: rgb(234, 234, 242); stroke-opacity: 1;\"/></g></g></g><rect class=\"legendtoggle\" x=\"0\" y=\"-9.5\" width=\"101.71875\" height=\"19\" style=\"fill: rgb(0, 0, 0); fill-opacity: 0;\"/></g></g><g class=\"groups\" transform=\"\"><g class=\"traces\" transform=\"translate(0,735.7)\" style=\"opacity: 1;\"><text class=\"legendtext\" text-anchor=\"start\" x=\"40\" y=\"4.680000000000001\" style=\"font-family: 'Open Sans', verdana, arial, sans-serif; font-size: 12px; fill: rgb(36, 36, 36); fill-opacity: 1; white-space: pre;\">2023-01-14</text><g class=\"layers\" style=\"opacity: 1;\"><g class=\"legendfill\"/><g class=\"legendlines\"/><g class=\"legendsymbols\"><g class=\"legendpoints\"><path class=\"legendundefined\" d=\"M6,6H-6V-6H6Z\" transform=\"translate(20,0)\" style=\"stroke-width: 0.5px; fill: rgb(140, 140, 140); fill-opacity: 1; stroke: rgb(234, 234, 242); stroke-opacity: 1;\"/></g></g></g><rect class=\"legendtoggle\" x=\"0\" y=\"-9.5\" width=\"101.71875\" height=\"19\" style=\"fill: rgb(0, 0, 0); fill-opacity: 0;\"/></g></g><g class=\"groups\" transform=\"\"><g class=\"traces\" transform=\"translate(0,754.7)\" style=\"opacity: 1;\"><text class=\"legendtext\" text-anchor=\"start\" x=\"40\" y=\"4.680000000000001\" style=\"font-family: 'Open Sans', verdana, arial, sans-serif; font-size: 12px; fill: rgb(36, 36, 36); fill-opacity: 1; white-space: pre;\">2022-12-17</text><g class=\"layers\" style=\"opacity: 1;\"><g class=\"legendfill\"/><g class=\"legendlines\"/><g class=\"legendsymbols\"><g class=\"legendpoints\"><path class=\"legendundefined\" d=\"M6,6H-6V-6H6Z\" transform=\"translate(20,0)\" style=\"stroke-width: 0.5px; fill: rgb(204, 185, 116); fill-opacity: 1; stroke: rgb(234, 234, 242); stroke-opacity: 1;\"/></g></g></g><rect class=\"legendtoggle\" x=\"0\" y=\"-9.5\" width=\"101.71875\" height=\"19\" style=\"fill: rgb(0, 0, 0); fill-opacity: 0;\"/></g></g><g class=\"groups\" transform=\"\"><g class=\"traces\" transform=\"translate(0,773.7)\" style=\"opacity: 1;\"><text class=\"legendtext\" text-anchor=\"start\" x=\"40\" y=\"4.680000000000001\" style=\"font-family: 'Open Sans', verdana, arial, sans-serif; font-size: 12px; fill: rgb(36, 36, 36); fill-opacity: 1; white-space: pre;\">2022-12-18</text><g class=\"layers\" style=\"opacity: 1;\"><g class=\"legendfill\"/><g class=\"legendlines\"/><g class=\"legendsymbols\"><g class=\"legendpoints\"><path class=\"legendundefined\" d=\"M6,6H-6V-6H6Z\" transform=\"translate(20,0)\" style=\"stroke-width: 0.5px; fill: rgb(100, 181, 205); fill-opacity: 1; stroke: rgb(234, 234, 242); stroke-opacity: 1;\"/></g></g></g><rect class=\"legendtoggle\" x=\"0\" y=\"-9.5\" width=\"101.71875\" height=\"19\" style=\"fill: rgb(0, 0, 0); fill-opacity: 0;\"/></g></g><g class=\"groups\" transform=\"\"><g class=\"traces\" transform=\"translate(0,792.7)\" style=\"opacity: 1;\"><text class=\"legendtext\" text-anchor=\"start\" x=\"40\" y=\"4.680000000000001\" style=\"font-family: 'Open Sans', verdana, arial, sans-serif; font-size: 12px; fill: rgb(36, 36, 36); fill-opacity: 1; white-space: pre;\">2023-01-01</text><g class=\"layers\" style=\"opacity: 1;\"><g class=\"legendfill\"/><g class=\"legendlines\"/><g class=\"legendsymbols\"><g class=\"legendpoints\"><path class=\"legendundefined\" d=\"M6,6H-6V-6H6Z\" transform=\"translate(20,0)\" style=\"stroke-width: 0.5px; fill: rgb(76, 114, 176); fill-opacity: 1; stroke: rgb(234, 234, 242); stroke-opacity: 1;\"/></g></g></g><rect class=\"legendtoggle\" x=\"0\" y=\"-9.5\" width=\"101.71875\" height=\"19\" style=\"fill: rgb(0, 0, 0); fill-opacity: 0;\"/></g></g><g class=\"groups\" transform=\"\"><g class=\"traces\" transform=\"translate(0,811.7)\" style=\"opacity: 1;\"><text class=\"legendtext\" text-anchor=\"start\" x=\"40\" y=\"4.680000000000001\" style=\"font-family: 'Open Sans', verdana, arial, sans-serif; font-size: 12px; fill: rgb(36, 36, 36); fill-opacity: 1; white-space: pre;\">2022-12-30</text><g class=\"layers\" style=\"opacity: 1;\"><g class=\"legendfill\"/><g class=\"legendlines\"/><g class=\"legendsymbols\"><g class=\"legendpoints\"><path class=\"legendundefined\" d=\"M6,6H-6V-6H6Z\" transform=\"translate(20,0)\" style=\"stroke-width: 0.5px; fill: rgb(221, 132, 82); fill-opacity: 1; stroke: rgb(234, 234, 242); stroke-opacity: 1;\"/></g></g></g><rect class=\"legendtoggle\" x=\"0\" y=\"-9.5\" width=\"101.71875\" height=\"19\" style=\"fill: rgb(0, 0, 0); fill-opacity: 0;\"/></g></g><g class=\"groups\" transform=\"\"><g class=\"traces\" transform=\"translate(0,830.7)\" style=\"opacity: 1;\"><text class=\"legendtext\" text-anchor=\"start\" x=\"40\" y=\"4.680000000000001\" style=\"font-family: 'Open Sans', verdana, arial, sans-serif; font-size: 12px; fill: rgb(36, 36, 36); fill-opacity: 1; white-space: pre;\">2022-12-25</text><g class=\"layers\" style=\"opacity: 1;\"><g class=\"legendfill\"/><g class=\"legendlines\"/><g class=\"legendsymbols\"><g class=\"legendpoints\"><path class=\"legendundefined\" d=\"M6,6H-6V-6H6Z\" transform=\"translate(20,0)\" style=\"stroke-width: 0.5px; fill: rgb(85, 168, 104); fill-opacity: 1; stroke: rgb(234, 234, 242); stroke-opacity: 1;\"/></g></g></g><rect class=\"legendtoggle\" x=\"0\" y=\"-9.5\" width=\"101.71875\" height=\"19\" style=\"fill: rgb(0, 0, 0); fill-opacity: 0;\"/></g></g><g class=\"groups\" transform=\"\"><g class=\"traces\" transform=\"translate(0,849.7)\" style=\"opacity: 1;\"><text class=\"legendtext\" text-anchor=\"start\" x=\"40\" y=\"4.680000000000001\" style=\"font-family: 'Open Sans', verdana, arial, sans-serif; font-size: 12px; fill: rgb(36, 36, 36); fill-opacity: 1; white-space: pre;\">2022-12-31</text><g class=\"layers\" style=\"opacity: 1;\"><g class=\"legendfill\"/><g class=\"legendlines\"/><g class=\"legendsymbols\"><g class=\"legendpoints\"><path class=\"legendundefined\" d=\"M6,6H-6V-6H6Z\" transform=\"translate(20,0)\" style=\"stroke-width: 0.5px; fill: rgb(196, 78, 82); fill-opacity: 1; stroke: rgb(234, 234, 242); stroke-opacity: 1;\"/></g></g></g><rect class=\"legendtoggle\" x=\"0\" y=\"-9.5\" width=\"101.71875\" height=\"19\" style=\"fill: rgb(0, 0, 0); fill-opacity: 0;\"/></g></g><g class=\"groups\" transform=\"\"><g class=\"traces\" transform=\"translate(0,868.7)\" style=\"opacity: 1;\"><text class=\"legendtext\" text-anchor=\"start\" x=\"40\" y=\"4.680000000000001\" style=\"font-family: 'Open Sans', verdana, arial, sans-serif; font-size: 12px; fill: rgb(36, 36, 36); fill-opacity: 1; white-space: pre;\">2022-12-24</text><g class=\"layers\" style=\"opacity: 1;\"><g class=\"legendfill\"/><g class=\"legendlines\"/><g class=\"legendsymbols\"><g class=\"legendpoints\"><path class=\"legendundefined\" d=\"M6,6H-6V-6H6Z\" transform=\"translate(20,0)\" style=\"stroke-width: 0.5px; fill: rgb(129, 114, 179); fill-opacity: 1; stroke: rgb(234, 234, 242); stroke-opacity: 1;\"/></g></g></g><rect class=\"legendtoggle\" x=\"0\" y=\"-9.5\" width=\"101.71875\" height=\"19\" style=\"fill: rgb(0, 0, 0); fill-opacity: 0;\"/></g></g><g class=\"groups\" transform=\"\"><g class=\"traces\" transform=\"translate(0,887.7)\" style=\"opacity: 1;\"><text class=\"legendtext\" text-anchor=\"start\" x=\"40\" y=\"4.680000000000001\" style=\"font-family: 'Open Sans', verdana, arial, sans-serif; font-size: 12px; fill: rgb(36, 36, 36); fill-opacity: 1; white-space: pre;\">2022-12-23</text><g class=\"layers\" style=\"opacity: 1;\"><g class=\"legendfill\"/><g class=\"legendlines\"/><g class=\"legendsymbols\"><g class=\"legendpoints\"><path class=\"legendundefined\" d=\"M6,6H-6V-6H6Z\" transform=\"translate(20,0)\" style=\"stroke-width: 0.5px; fill: rgb(147, 120, 96); fill-opacity: 1; stroke: rgb(234, 234, 242); stroke-opacity: 1;\"/></g></g></g><rect class=\"legendtoggle\" x=\"0\" y=\"-9.5\" width=\"101.71875\" height=\"19\" style=\"fill: rgb(0, 0, 0); fill-opacity: 0;\"/></g></g></g><rect class=\"scrollbar\" rx=\"20\" ry=\"3\" width=\"0\" height=\"0\" style=\"fill: rgb(128, 139, 164); fill-opacity: 1;\" x=\"0\" y=\"0\"/></g><g class=\"g-gtitle\"><text class=\"gtitle\" x=\"700\" y=\"50\" text-anchor=\"middle\" dy=\"0em\" style=\"font-family: 'Open Sans', verdana, arial, sans-serif; font-size: 17px; fill: rgb(36, 36, 36); opacity: 1; font-weight: normal; white-space: pre;\"><tspan style=\"font-weight:bold\"> Top datas com maior numero de vendas</tspan></text></g><g class=\"g-xtitle\"><text class=\"xtitle\" x=\"668.5\" y=\"487.51875\" text-anchor=\"middle\" style=\"font-family: 'Open Sans', verdana, arial, sans-serif; font-size: 14px; fill: rgb(36, 36, 36); opacity: 1; font-weight: normal; white-space: pre;\">data</text></g><g class=\"g-ytitle\"><text class=\"ytitle\" transform=\"rotate(-90,27.496875000000003,247)\" x=\"27.496875000000003\" y=\"247\" text-anchor=\"middle\" style=\"font-family: 'Open Sans', verdana, arial, sans-serif; font-size: 14px; fill: rgb(36, 36, 36); opacity: 1; font-weight: normal; white-space: pre;\">vendas</text></g></g></svg>"
          },
          "metadata": {}
        }
      ]
    },
    {
      "cell_type": "code",
      "source": [
        "z = df[df['Dia'] <= 20]\n",
        "z = df.groupby('Mes', as_index=False)[['Vendas']].sum().sort_values(by='Vendas',ascending=False)\n",
        "z = z.replace(1, 'Janeiro de 2023')\n",
        "z = z.replace(12, 'Dezembro de 2022')"
      ],
      "metadata": {
        "id": "_pgceHWGh5UE"
      },
      "execution_count": 16,
      "outputs": []
    },
    {
      "cell_type": "code",
      "source": [
        "fig=px.bar(z,x='Mes',y='Vendas',color='Mes',\n",
        "           labels={'Mes':'mes','Vendas':'vendas'},text='Vendas',template='seaborn',title=\"<b> Total de vendas dos primeiros 20 dias do mes\")\n",
        "\n",
        "fig.show()"
      ],
      "metadata": {
        "colab": {
          "base_uri": "https://localhost:8080/",
          "height": 521
        },
        "id": "WBfAMghAiaff",
        "outputId": "3b54157e-9694-4bbf-8b37-35eae68e3f7b"
      },
      "execution_count": 17,
      "outputs": [
        {
          "output_type": "display_data",
          "data": {
            "image/svg+xml": "<svg class=\"main-svg\" xmlns=\"http://www.w3.org/2000/svg\" xmlns:xlink=\"http://www.w3.org/1999/xlink\" width=\"700\" height=\"500\" style=\"\" viewBox=\"0 0 700 500\"><rect x=\"0\" y=\"0\" width=\"700\" height=\"500\" style=\"fill: rgb(255, 255, 255); fill-opacity: 1;\"/><defs id=\"defs-ae6a32\"><g class=\"clips\"><clipPath id=\"clipae6a32xyplot\" class=\"plotclip\"><rect width=\"451\" height=\"320\"/></clipPath><clipPath class=\"axesclip\" id=\"clipae6a32x\"><rect x=\"80\" y=\"0\" width=\"451\" height=\"500\"/></clipPath><clipPath class=\"axesclip\" id=\"clipae6a32y\"><rect x=\"0\" y=\"100\" width=\"700\" height=\"320\"/></clipPath><clipPath class=\"axesclip\" id=\"clipae6a32xy\"><rect x=\"80\" y=\"100\" width=\"451\" height=\"320\"/></clipPath></g><g class=\"gradients\"/><g class=\"patterns\"/></defs><g class=\"bglayer\"><rect class=\"bg\" x=\"80\" y=\"100\" width=\"451\" height=\"320\" style=\"fill: rgb(234, 234, 242); fill-opacity: 1; stroke-width: 0;\"/></g><g class=\"layer-below\"><g class=\"imagelayer\"/><g class=\"shapelayer\"/></g><g class=\"cartesianlayer\"><g class=\"subplot xy\"><g class=\"layer-subplot\"><g class=\"shapelayer\"/><g class=\"imagelayer\"/></g><g class=\"gridlayer\"><g class=\"x\"><path class=\"xgrid crisp\" transform=\"translate(192.75,0)\" d=\"M0,100v320\" style=\"stroke: rgb(255, 255, 255); stroke-opacity: 1; stroke-width: 1px;\"/><path class=\"xgrid crisp\" transform=\"translate(418.25,0)\" d=\"M0,100v320\" style=\"stroke: rgb(255, 255, 255); stroke-opacity: 1; stroke-width: 1px;\"/></g><g class=\"y\"><path class=\"ygrid crisp\" transform=\"translate(0,333.32)\" d=\"M80,0h451\" style=\"stroke: rgb(255, 255, 255); stroke-opacity: 1; stroke-width: 1px;\"/><path class=\"ygrid crisp\" transform=\"translate(0,246.63)\" d=\"M80,0h451\" style=\"stroke: rgb(255, 255, 255); stroke-opacity: 1; stroke-width: 1px;\"/><path class=\"ygrid crisp\" transform=\"translate(0,159.95)\" d=\"M80,0h451\" style=\"stroke: rgb(255, 255, 255); stroke-opacity: 1; stroke-width: 1px;\"/></g></g><g class=\"zerolinelayer\"><path class=\"yzl zl crisp\" transform=\"translate(0,420)\" d=\"M80,0h451\" style=\"stroke: rgb(255, 255, 255); stroke-opacity: 1; stroke-width: 1px;\"/></g><path class=\"xlines-below\"/><path class=\"ylines-below\"/><g class=\"overlines-below\"/><g class=\"xaxislayer-below\"/><g class=\"yaxislayer-below\"/><g class=\"overaxes-below\"/><g class=\"plot\" transform=\"translate(80,100)\" clip-path=\"url(#clipae6a32xyplot)\"><g class=\"barlayer mlayer\"><g class=\"trace bars\" style=\"opacity: 1;\"><g class=\"points\"><g class=\"point\"><path d=\"M22.55,320V16H202.95V320Z\" style=\"vector-effect: non-scaling-stroke; opacity: 1; stroke-width: 0.5px; fill: rgb(76, 114, 176); fill-opacity: 1; stroke: rgb(234, 234, 242); stroke-opacity: 1;\"/><text class=\"bartext bartext-inside\" text-anchor=\"middle\" data-notex=\"1\" x=\"0\" y=\"0\" style=\"font-family: 'Open Sans', verdana, arial, sans-serif; font-size: 12px; fill: rgb(255, 255, 255); fill-opacity: 1; white-space: pre;\" transform=\"translate(112.5859375,30)\">17535</text></g></g></g><g class=\"trace bars\" style=\"opacity: 1;\"><g class=\"points\"><g class=\"point\"><path d=\"M248.05,320V21.55H428.45V320Z\" style=\"vector-effect: non-scaling-stroke; opacity: 1; stroke-width: 0.5px; fill: rgb(221, 132, 82); fill-opacity: 1; stroke: rgb(234, 234, 242); stroke-opacity: 1;\"/><text class=\"bartext bartext-inside\" text-anchor=\"middle\" data-notex=\"1\" x=\"0\" y=\"0\" style=\"font-family: 'Open Sans', verdana, arial, sans-serif; font-size: 12px; fill: rgb(68, 68, 68); fill-opacity: 1; white-space: pre;\" transform=\"translate(338.0859375,35.55)\">17215</text></g></g></g></g></g><g class=\"overplot\"/><path class=\"xlines-above crisp\" d=\"M0,0\" style=\"fill: none;\"/><path class=\"ylines-above crisp\" d=\"M0,0\" style=\"fill: none;\"/><g class=\"overlines-above\"/><g class=\"xaxislayer-above\"><g class=\"xtick\"><text text-anchor=\"middle\" x=\"0\" y=\"433\" transform=\"translate(192.75,0)\" style=\"font-family: 'Open Sans', verdana, arial, sans-serif; font-size: 12px; fill: rgb(36, 36, 36); fill-opacity: 1; white-space: pre; opacity: 1;\">Janeiro de 2023</text></g><g class=\"xtick\"><text text-anchor=\"middle\" x=\"0\" y=\"433\" transform=\"translate(418.25,0)\" style=\"font-family: 'Open Sans', verdana, arial, sans-serif; font-size: 12px; fill: rgb(36, 36, 36); fill-opacity: 1; white-space: pre; opacity: 1;\">Dezembro de 2022</text></g></g><g class=\"yaxislayer-above\"><g class=\"ytick\"><text text-anchor=\"end\" x=\"79\" y=\"4.199999999999999\" transform=\"translate(0,420)\" style=\"font-family: 'Open Sans', verdana, arial, sans-serif; font-size: 12px; fill: rgb(36, 36, 36); fill-opacity: 1; white-space: pre; opacity: 1;\">0</text></g><g class=\"ytick\"><text text-anchor=\"end\" x=\"79\" y=\"4.199999999999999\" style=\"font-family: 'Open Sans', verdana, arial, sans-serif; font-size: 12px; fill: rgb(36, 36, 36); fill-opacity: 1; white-space: pre; opacity: 1;\" transform=\"translate(0,333.32)\">5k</text></g><g class=\"ytick\"><text text-anchor=\"end\" x=\"79\" y=\"4.199999999999999\" style=\"font-family: 'Open Sans', verdana, arial, sans-serif; font-size: 12px; fill: rgb(36, 36, 36); fill-opacity: 1; white-space: pre; opacity: 1;\" transform=\"translate(0,246.63)\">10k</text></g><g class=\"ytick\"><text text-anchor=\"end\" x=\"79\" y=\"4.199999999999999\" style=\"font-family: 'Open Sans', verdana, arial, sans-serif; font-size: 12px; fill: rgb(36, 36, 36); fill-opacity: 1; white-space: pre; opacity: 1;\" transform=\"translate(0,159.95)\">15k</text></g></g><g class=\"overaxes-above\"/></g></g><g class=\"polarlayer\"/><g class=\"smithlayer\"/><g class=\"ternarylayer\"/><g class=\"geolayer\"/><g class=\"funnelarealayer\"/><g class=\"pielayer\"/><g class=\"iciclelayer\"/><g class=\"treemaplayer\"/><g class=\"sunburstlayer\"/><g class=\"glimages\"/><defs id=\"topdefs-ae6a32\"><g class=\"clips\"/><clipPath id=\"legendae6a32\"><rect width=\"148\" height=\"67\" x=\"0\" y=\"0\"/></clipPath></defs><g class=\"layer-above\"><g class=\"imagelayer\"/><g class=\"shapelayer\"/></g><g class=\"infolayer\"><g class=\"legend\" pointer-events=\"all\" transform=\"translate(540.02,100)\"><rect class=\"bg\" shape-rendering=\"crispEdges\" style=\"stroke: rgb(68, 68, 68); stroke-opacity: 1; fill: rgb(255, 255, 255); fill-opacity: 1; stroke-width: 0px;\" width=\"148\" height=\"67\" x=\"0\" y=\"0\"/><g class=\"scrollbox\" transform=\"\" clip-path=\"url(#legendae6a32)\"><text class=\"legendtitletext\" text-anchor=\"start\" x=\"2\" y=\"18.2\" style=\"font-family: 'Open Sans', verdana, arial, sans-serif; font-size: 14px; fill: rgb(36, 36, 36); fill-opacity: 1; white-space: pre;\">mes</text><g class=\"groups\" transform=\"\"><g class=\"traces\" transform=\"translate(0,32.7)\" style=\"opacity: 1;\"><text class=\"legendtext\" text-anchor=\"start\" x=\"40\" y=\"4.680000000000001\" style=\"font-family: 'Open Sans', verdana, arial, sans-serif; font-size: 12px; fill: rgb(36, 36, 36); fill-opacity: 1; white-space: pre;\">Janeiro de 2023</text><g class=\"layers\" style=\"opacity: 1;\"><g class=\"legendfill\"/><g class=\"legendlines\"/><g class=\"legendsymbols\"><g class=\"legendpoints\"><path class=\"legendundefined\" d=\"M6,6H-6V-6H6Z\" transform=\"translate(20,0)\" style=\"stroke-width: 0.5px; fill: rgb(76, 114, 176); fill-opacity: 1; stroke: rgb(234, 234, 242); stroke-opacity: 1;\"/></g></g></g><rect class=\"legendtoggle\" x=\"0\" y=\"-9.5\" width=\"142.390625\" height=\"19\" style=\"fill: rgb(0, 0, 0); fill-opacity: 0;\"/></g></g><g class=\"groups\" transform=\"\"><g class=\"traces\" transform=\"translate(0,51.7)\" style=\"opacity: 1;\"><text class=\"legendtext\" text-anchor=\"start\" x=\"40\" y=\"4.680000000000001\" style=\"font-family: 'Open Sans', verdana, arial, sans-serif; font-size: 12px; fill: rgb(36, 36, 36); fill-opacity: 1; white-space: pre;\">Dezembro de 2022</text><g class=\"layers\" style=\"opacity: 1;\"><g class=\"legendfill\"/><g class=\"legendlines\"/><g class=\"legendsymbols\"><g class=\"legendpoints\"><path class=\"legendundefined\" d=\"M6,6H-6V-6H6Z\" transform=\"translate(20,0)\" style=\"stroke-width: 0.5px; fill: rgb(221, 132, 82); fill-opacity: 1; stroke: rgb(234, 234, 242); stroke-opacity: 1;\"/></g></g></g><rect class=\"legendtoggle\" x=\"0\" y=\"-9.5\" width=\"142.390625\" height=\"19\" style=\"fill: rgb(0, 0, 0); fill-opacity: 0;\"/></g></g></g><rect class=\"scrollbar\" rx=\"20\" ry=\"3\" width=\"0\" height=\"0\" style=\"fill: rgb(128, 139, 164); fill-opacity: 1;\" x=\"0\" y=\"0\"/></g><g class=\"g-gtitle\"><text class=\"gtitle\" x=\"350\" y=\"50\" text-anchor=\"middle\" dy=\"0em\" style=\"font-family: 'Open Sans', verdana, arial, sans-serif; font-size: 17px; fill: rgb(36, 36, 36); opacity: 1; font-weight: normal; white-space: pre;\"><tspan style=\"font-weight:bold\"> Total de vendas dos primeiros 20 dias do mes</tspan></text></g><g class=\"g-xtitle\"><text class=\"xtitle\" x=\"305.5\" y=\"460.8\" text-anchor=\"middle\" style=\"font-family: 'Open Sans', verdana, arial, sans-serif; font-size: 14px; fill: rgb(36, 36, 36); opacity: 1; font-weight: normal; white-space: pre;\">mes</text></g><g class=\"g-ytitle\"><text class=\"ytitle\" transform=\"rotate(-90,34.840625,260)\" x=\"34.840625\" y=\"260\" text-anchor=\"middle\" style=\"font-family: 'Open Sans', verdana, arial, sans-serif; font-size: 14px; fill: rgb(36, 36, 36); opacity: 1; font-weight: normal; white-space: pre;\">vendas</text></g></g></svg>"
          },
          "metadata": {}
        }
      ]
    },
    {
      "cell_type": "markdown",
      "source": [
        "# Machine Learning"
      ],
      "metadata": {
        "id": "fILcHEmXTqCn"
      }
    },
    {
      "cell_type": "markdown",
      "source": [
        "## Data Visualization"
      ],
      "metadata": {
        "id": "RCiTaVgH2Gfn"
      }
    },
    {
      "cell_type": "code",
      "source": [
        "data = pd.DataFrame(df['Vendas'])"
      ],
      "metadata": {
        "id": "8cF7IfI4iU6a"
      },
      "execution_count": 18,
      "outputs": []
    },
    {
      "cell_type": "code",
      "source": [
        "data.head()"
      ],
      "metadata": {
        "colab": {
          "base_uri": "https://localhost:8080/",
          "height": 206
        },
        "id": "zUybf9Md2Tmz",
        "outputId": "27860402-2729-4de2-c032-a46917dba772"
      },
      "execution_count": 19,
      "outputs": [
        {
          "output_type": "execute_result",
          "data": {
            "text/plain": [
              "   Vendas\n",
              "0     870\n",
              "1     868\n",
              "2    1189\n",
              "3     742\n",
              "4     317"
            ],
            "text/html": [
              "\n",
              "  <div id=\"df-11a788a0-92c6-43b0-b9af-49fbe8f58a03\">\n",
              "    <div class=\"colab-df-container\">\n",
              "      <div>\n",
              "<style scoped>\n",
              "    .dataframe tbody tr th:only-of-type {\n",
              "        vertical-align: middle;\n",
              "    }\n",
              "\n",
              "    .dataframe tbody tr th {\n",
              "        vertical-align: top;\n",
              "    }\n",
              "\n",
              "    .dataframe thead th {\n",
              "        text-align: right;\n",
              "    }\n",
              "</style>\n",
              "<table border=\"1\" class=\"dataframe\">\n",
              "  <thead>\n",
              "    <tr style=\"text-align: right;\">\n",
              "      <th></th>\n",
              "      <th>Vendas</th>\n",
              "    </tr>\n",
              "  </thead>\n",
              "  <tbody>\n",
              "    <tr>\n",
              "      <th>0</th>\n",
              "      <td>870</td>\n",
              "    </tr>\n",
              "    <tr>\n",
              "      <th>1</th>\n",
              "      <td>868</td>\n",
              "    </tr>\n",
              "    <tr>\n",
              "      <th>2</th>\n",
              "      <td>1189</td>\n",
              "    </tr>\n",
              "    <tr>\n",
              "      <th>3</th>\n",
              "      <td>742</td>\n",
              "    </tr>\n",
              "    <tr>\n",
              "      <th>4</th>\n",
              "      <td>317</td>\n",
              "    </tr>\n",
              "  </tbody>\n",
              "</table>\n",
              "</div>\n",
              "      <button class=\"colab-df-convert\" onclick=\"convertToInteractive('df-11a788a0-92c6-43b0-b9af-49fbe8f58a03')\"\n",
              "              title=\"Convert this dataframe to an interactive table.\"\n",
              "              style=\"display:none;\">\n",
              "        \n",
              "  <svg xmlns=\"http://www.w3.org/2000/svg\" height=\"24px\"viewBox=\"0 0 24 24\"\n",
              "       width=\"24px\">\n",
              "    <path d=\"M0 0h24v24H0V0z\" fill=\"none\"/>\n",
              "    <path d=\"M18.56 5.44l.94 2.06.94-2.06 2.06-.94-2.06-.94-.94-2.06-.94 2.06-2.06.94zm-11 1L8.5 8.5l.94-2.06 2.06-.94-2.06-.94L8.5 2.5l-.94 2.06-2.06.94zm10 10l.94 2.06.94-2.06 2.06-.94-2.06-.94-.94-2.06-.94 2.06-2.06.94z\"/><path d=\"M17.41 7.96l-1.37-1.37c-.4-.4-.92-.59-1.43-.59-.52 0-1.04.2-1.43.59L10.3 9.45l-7.72 7.72c-.78.78-.78 2.05 0 2.83L4 21.41c.39.39.9.59 1.41.59.51 0 1.02-.2 1.41-.59l7.78-7.78 2.81-2.81c.8-.78.8-2.07 0-2.86zM5.41 20L4 18.59l7.72-7.72 1.47 1.35L5.41 20z\"/>\n",
              "  </svg>\n",
              "      </button>\n",
              "      \n",
              "  <style>\n",
              "    .colab-df-container {\n",
              "      display:flex;\n",
              "      flex-wrap:wrap;\n",
              "      gap: 12px;\n",
              "    }\n",
              "\n",
              "    .colab-df-convert {\n",
              "      background-color: #E8F0FE;\n",
              "      border: none;\n",
              "      border-radius: 50%;\n",
              "      cursor: pointer;\n",
              "      display: none;\n",
              "      fill: #1967D2;\n",
              "      height: 32px;\n",
              "      padding: 0 0 0 0;\n",
              "      width: 32px;\n",
              "    }\n",
              "\n",
              "    .colab-df-convert:hover {\n",
              "      background-color: #E2EBFA;\n",
              "      box-shadow: 0px 1px 2px rgba(60, 64, 67, 0.3), 0px 1px 3px 1px rgba(60, 64, 67, 0.15);\n",
              "      fill: #174EA6;\n",
              "    }\n",
              "\n",
              "    [theme=dark] .colab-df-convert {\n",
              "      background-color: #3B4455;\n",
              "      fill: #D2E3FC;\n",
              "    }\n",
              "\n",
              "    [theme=dark] .colab-df-convert:hover {\n",
              "      background-color: #434B5C;\n",
              "      box-shadow: 0px 1px 3px 1px rgba(0, 0, 0, 0.15);\n",
              "      filter: drop-shadow(0px 1px 2px rgba(0, 0, 0, 0.3));\n",
              "      fill: #FFFFFF;\n",
              "    }\n",
              "  </style>\n",
              "\n",
              "      <script>\n",
              "        const buttonEl =\n",
              "          document.querySelector('#df-11a788a0-92c6-43b0-b9af-49fbe8f58a03 button.colab-df-convert');\n",
              "        buttonEl.style.display =\n",
              "          google.colab.kernel.accessAllowed ? 'block' : 'none';\n",
              "\n",
              "        async function convertToInteractive(key) {\n",
              "          const element = document.querySelector('#df-11a788a0-92c6-43b0-b9af-49fbe8f58a03');\n",
              "          const dataTable =\n",
              "            await google.colab.kernel.invokeFunction('convertToInteractive',\n",
              "                                                     [key], {});\n",
              "          if (!dataTable) return;\n",
              "\n",
              "          const docLinkHtml = 'Like what you see? Visit the ' +\n",
              "            '<a target=\"_blank\" href=https://colab.research.google.com/notebooks/data_table.ipynb>data table notebook</a>'\n",
              "            + ' to learn more about interactive tables.';\n",
              "          element.innerHTML = '';\n",
              "          dataTable['output_type'] = 'display_data';\n",
              "          await google.colab.output.renderOutput(dataTable, element);\n",
              "          const docLink = document.createElement('div');\n",
              "          docLink.innerHTML = docLinkHtml;\n",
              "          element.appendChild(docLink);\n",
              "        }\n",
              "      </script>\n",
              "    </div>\n",
              "  </div>\n",
              "  "
            ]
          },
          "metadata": {},
          "execution_count": 19
        }
      ]
    },
    {
      "cell_type": "code",
      "source": [
        "data.info()"
      ],
      "metadata": {
        "colab": {
          "base_uri": "https://localhost:8080/"
        },
        "id": "siw2lUnY3wqt",
        "outputId": "c8872fb6-e1f2-45e3-cd2c-081c24f2c437"
      },
      "execution_count": 20,
      "outputs": [
        {
          "output_type": "stream",
          "name": "stdout",
          "text": [
            "<class 'pandas.core.frame.DataFrame'>\n",
            "RangeIndex: 46 entries, 0 to 45\n",
            "Data columns (total 1 columns):\n",
            " #   Column  Non-Null Count  Dtype\n",
            "---  ------  --------------  -----\n",
            " 0   Vendas  46 non-null     int64\n",
            "dtypes: int64(1)\n",
            "memory usage: 496.0 bytes\n"
          ]
        }
      ]
    },
    {
      "cell_type": "code",
      "source": [
        "# descrição da coluna de vendas\n",
        "data.describe()['Vendas']"
      ],
      "metadata": {
        "colab": {
          "base_uri": "https://localhost:8080/"
        },
        "id": "7UnkQ_H837cy",
        "outputId": "9527aaf0-96f7-4fdf-94d4-49337f8c5cb4"
      },
      "execution_count": 21,
      "outputs": [
        {
          "output_type": "execute_result",
          "data": {
            "text/plain": [
              "count      46.000000\n",
              "mean      755.434783\n",
              "std       430.762201\n",
              "min        18.000000\n",
              "25%       346.500000\n",
              "50%       810.500000\n",
              "75%      1053.750000\n",
              "max      1692.000000\n",
              "Name: Vendas, dtype: float64"
            ]
          },
          "metadata": {},
          "execution_count": 21
        }
      ]
    },
    {
      "cell_type": "code",
      "source": [
        "# checando nulos\n",
        "data.isnull().sum()"
      ],
      "metadata": {
        "colab": {
          "base_uri": "https://localhost:8080/"
        },
        "id": "uyhrCs9r4LnT",
        "outputId": "cb2ffc4f-53db-4184-f365-061bfa6ffdda"
      },
      "execution_count": 22,
      "outputs": [
        {
          "output_type": "execute_result",
          "data": {
            "text/plain": [
              "Vendas    0\n",
              "dtype: int64"
            ]
          },
          "metadata": {},
          "execution_count": 22
        }
      ]
    },
    {
      "cell_type": "markdown",
      "source": [
        "### Reescalando os dados"
      ],
      "metadata": {
        "id": "OCZRyvPB5lQX"
      }
    },
    {
      "cell_type": "code",
      "source": [
        "from sklearn.preprocessing import StandardScaler"
      ],
      "metadata": {
        "id": "1JMWS1-U5p3-"
      },
      "execution_count": 23,
      "outputs": []
    },
    {
      "cell_type": "code",
      "source": [
        "scaler = StandardScaler()\n",
        "\n",
        "scaler.fit(pd.DataFrame(data['Vendas']))\n",
        "\n",
        "data['Vendas'] = scaler.transform(pd.DataFrame(data['Vendas']))"
      ],
      "metadata": {
        "id": "i-5x_UwxRFik"
      },
      "execution_count": 24,
      "outputs": []
    },
    {
      "cell_type": "code",
      "source": [
        "data.head()"
      ],
      "metadata": {
        "colab": {
          "base_uri": "https://localhost:8080/",
          "height": 206
        },
        "id": "OIapMEW_kD9o",
        "outputId": "f9fc126c-29da-4c17-80e4-6923c2e1bea3"
      },
      "execution_count": 25,
      "outputs": [
        {
          "output_type": "execute_result",
          "data": {
            "text/plain": [
              "     Vendas\n",
              "0  0.268898\n",
              "1  0.264204\n",
              "2  1.017629\n",
              "3 -0.031533\n",
              "4 -1.029059"
            ],
            "text/html": [
              "\n",
              "  <div id=\"df-1e1b3d1a-270a-4d6c-aed4-fc2e7100ba7f\">\n",
              "    <div class=\"colab-df-container\">\n",
              "      <div>\n",
              "<style scoped>\n",
              "    .dataframe tbody tr th:only-of-type {\n",
              "        vertical-align: middle;\n",
              "    }\n",
              "\n",
              "    .dataframe tbody tr th {\n",
              "        vertical-align: top;\n",
              "    }\n",
              "\n",
              "    .dataframe thead th {\n",
              "        text-align: right;\n",
              "    }\n",
              "</style>\n",
              "<table border=\"1\" class=\"dataframe\">\n",
              "  <thead>\n",
              "    <tr style=\"text-align: right;\">\n",
              "      <th></th>\n",
              "      <th>Vendas</th>\n",
              "    </tr>\n",
              "  </thead>\n",
              "  <tbody>\n",
              "    <tr>\n",
              "      <th>0</th>\n",
              "      <td>0.268898</td>\n",
              "    </tr>\n",
              "    <tr>\n",
              "      <th>1</th>\n",
              "      <td>0.264204</td>\n",
              "    </tr>\n",
              "    <tr>\n",
              "      <th>2</th>\n",
              "      <td>1.017629</td>\n",
              "    </tr>\n",
              "    <tr>\n",
              "      <th>3</th>\n",
              "      <td>-0.031533</td>\n",
              "    </tr>\n",
              "    <tr>\n",
              "      <th>4</th>\n",
              "      <td>-1.029059</td>\n",
              "    </tr>\n",
              "  </tbody>\n",
              "</table>\n",
              "</div>\n",
              "      <button class=\"colab-df-convert\" onclick=\"convertToInteractive('df-1e1b3d1a-270a-4d6c-aed4-fc2e7100ba7f')\"\n",
              "              title=\"Convert this dataframe to an interactive table.\"\n",
              "              style=\"display:none;\">\n",
              "        \n",
              "  <svg xmlns=\"http://www.w3.org/2000/svg\" height=\"24px\"viewBox=\"0 0 24 24\"\n",
              "       width=\"24px\">\n",
              "    <path d=\"M0 0h24v24H0V0z\" fill=\"none\"/>\n",
              "    <path d=\"M18.56 5.44l.94 2.06.94-2.06 2.06-.94-2.06-.94-.94-2.06-.94 2.06-2.06.94zm-11 1L8.5 8.5l.94-2.06 2.06-.94-2.06-.94L8.5 2.5l-.94 2.06-2.06.94zm10 10l.94 2.06.94-2.06 2.06-.94-2.06-.94-.94-2.06-.94 2.06-2.06.94z\"/><path d=\"M17.41 7.96l-1.37-1.37c-.4-.4-.92-.59-1.43-.59-.52 0-1.04.2-1.43.59L10.3 9.45l-7.72 7.72c-.78.78-.78 2.05 0 2.83L4 21.41c.39.39.9.59 1.41.59.51 0 1.02-.2 1.41-.59l7.78-7.78 2.81-2.81c.8-.78.8-2.07 0-2.86zM5.41 20L4 18.59l7.72-7.72 1.47 1.35L5.41 20z\"/>\n",
              "  </svg>\n",
              "      </button>\n",
              "      \n",
              "  <style>\n",
              "    .colab-df-container {\n",
              "      display:flex;\n",
              "      flex-wrap:wrap;\n",
              "      gap: 12px;\n",
              "    }\n",
              "\n",
              "    .colab-df-convert {\n",
              "      background-color: #E8F0FE;\n",
              "      border: none;\n",
              "      border-radius: 50%;\n",
              "      cursor: pointer;\n",
              "      display: none;\n",
              "      fill: #1967D2;\n",
              "      height: 32px;\n",
              "      padding: 0 0 0 0;\n",
              "      width: 32px;\n",
              "    }\n",
              "\n",
              "    .colab-df-convert:hover {\n",
              "      background-color: #E2EBFA;\n",
              "      box-shadow: 0px 1px 2px rgba(60, 64, 67, 0.3), 0px 1px 3px 1px rgba(60, 64, 67, 0.15);\n",
              "      fill: #174EA6;\n",
              "    }\n",
              "\n",
              "    [theme=dark] .colab-df-convert {\n",
              "      background-color: #3B4455;\n",
              "      fill: #D2E3FC;\n",
              "    }\n",
              "\n",
              "    [theme=dark] .colab-df-convert:hover {\n",
              "      background-color: #434B5C;\n",
              "      box-shadow: 0px 1px 3px 1px rgba(0, 0, 0, 0.15);\n",
              "      filter: drop-shadow(0px 1px 2px rgba(0, 0, 0, 0.3));\n",
              "      fill: #FFFFFF;\n",
              "    }\n",
              "  </style>\n",
              "\n",
              "      <script>\n",
              "        const buttonEl =\n",
              "          document.querySelector('#df-1e1b3d1a-270a-4d6c-aed4-fc2e7100ba7f button.colab-df-convert');\n",
              "        buttonEl.style.display =\n",
              "          google.colab.kernel.accessAllowed ? 'block' : 'none';\n",
              "\n",
              "        async function convertToInteractive(key) {\n",
              "          const element = document.querySelector('#df-1e1b3d1a-270a-4d6c-aed4-fc2e7100ba7f');\n",
              "          const dataTable =\n",
              "            await google.colab.kernel.invokeFunction('convertToInteractive',\n",
              "                                                     [key], {});\n",
              "          if (!dataTable) return;\n",
              "\n",
              "          const docLinkHtml = 'Like what you see? Visit the ' +\n",
              "            '<a target=\"_blank\" href=https://colab.research.google.com/notebooks/data_table.ipynb>data table notebook</a>'\n",
              "            + ' to learn more about interactive tables.';\n",
              "          element.innerHTML = '';\n",
              "          dataTable['output_type'] = 'display_data';\n",
              "          await google.colab.output.renderOutput(dataTable, element);\n",
              "          const docLink = document.createElement('div');\n",
              "          docLink.innerHTML = docLinkHtml;\n",
              "          element.appendChild(docLink);\n",
              "        }\n",
              "      </script>\n",
              "    </div>\n",
              "  </div>\n",
              "  "
            ]
          },
          "metadata": {},
          "execution_count": 25
        }
      ]
    },
    {
      "cell_type": "markdown",
      "source": [
        "## Build Model"
      ],
      "metadata": {
        "id": "2WbsGbxw6Vd4"
      }
    },
    {
      "cell_type": "markdown",
      "source": [
        "### Seleção de hiperparâmetros"
      ],
      "metadata": {
        "id": "xboWK5Rhk7qF"
      }
    },
    {
      "cell_type": "markdown",
      "source": [
        "#### Checando se os dados são estacionários pelo teste ADF"
      ],
      "metadata": {
        "id": "j1QgJ9qPlTle"
      }
    },
    {
      "cell_type": "code",
      "source": [
        "!pip install pmdarima"
      ],
      "metadata": {
        "colab": {
          "base_uri": "https://localhost:8080/"
        },
        "id": "9rjzENhS7Z7G",
        "outputId": "fe02b486-8b31-423d-efff-02699e162566"
      },
      "execution_count": 26,
      "outputs": [
        {
          "output_type": "stream",
          "name": "stdout",
          "text": [
            "Looking in indexes: https://pypi.org/simple, https://us-python.pkg.dev/colab-wheels/public/simple/\n",
            "Requirement already satisfied: pmdarima in /usr/local/lib/python3.8/dist-packages (2.0.2)\n",
            "Requirement already satisfied: setuptools!=50.0.0,>=38.6.0 in /usr/local/lib/python3.8/dist-packages (from pmdarima) (57.4.0)\n",
            "Requirement already satisfied: urllib3 in /usr/local/lib/python3.8/dist-packages (from pmdarima) (1.24.3)\n",
            "Requirement already satisfied: scipy>=1.3.2 in /usr/local/lib/python3.8/dist-packages (from pmdarima) (1.7.3)\n",
            "Requirement already satisfied: numpy>=1.21.2 in /usr/local/lib/python3.8/dist-packages (from pmdarima) (1.21.6)\n",
            "Requirement already satisfied: joblib>=0.11 in /usr/local/lib/python3.8/dist-packages (from pmdarima) (1.2.0)\n",
            "Requirement already satisfied: scikit-learn>=0.22 in /usr/local/lib/python3.8/dist-packages (from pmdarima) (1.0.2)\n",
            "Requirement already satisfied: Cython!=0.29.18,!=0.29.31,>=0.29 in /usr/local/lib/python3.8/dist-packages (from pmdarima) (0.29.33)\n",
            "Requirement already satisfied: statsmodels>=0.13.2 in /usr/local/lib/python3.8/dist-packages (from pmdarima) (0.13.5)\n",
            "Requirement already satisfied: pandas>=0.19 in /usr/local/lib/python3.8/dist-packages (from pmdarima) (1.3.5)\n",
            "Requirement already satisfied: python-dateutil>=2.7.3 in /usr/local/lib/python3.8/dist-packages (from pandas>=0.19->pmdarima) (2.8.2)\n",
            "Requirement already satisfied: pytz>=2017.3 in /usr/local/lib/python3.8/dist-packages (from pandas>=0.19->pmdarima) (2022.7.1)\n",
            "Requirement already satisfied: threadpoolctl>=2.0.0 in /usr/local/lib/python3.8/dist-packages (from scikit-learn>=0.22->pmdarima) (3.1.0)\n",
            "Requirement already satisfied: patsy>=0.5.2 in /usr/local/lib/python3.8/dist-packages (from statsmodels>=0.13.2->pmdarima) (0.5.3)\n",
            "Requirement already satisfied: packaging>=21.3 in /usr/local/lib/python3.8/dist-packages (from statsmodels>=0.13.2->pmdarima) (23.0)\n",
            "Requirement already satisfied: six in /usr/local/lib/python3.8/dist-packages (from patsy>=0.5.2->statsmodels>=0.13.2->pmdarima) (1.15.0)\n"
          ]
        }
      ]
    },
    {
      "cell_type": "code",
      "source": [
        "from pmdarima.arima import ADFTest "
      ],
      "metadata": {
        "id": "0AZWlUR6xHpS"
      },
      "execution_count": 27,
      "outputs": []
    },
    {
      "cell_type": "code",
      "source": [
        "adf = ADFTest(alpha = 0.05)\n",
        "adf.should_diff(data[\"Vendas\"])"
      ],
      "metadata": {
        "colab": {
          "base_uri": "https://localhost:8080/"
        },
        "id": "_533uWHt1o45",
        "outputId": "54599ea6-a8c3-4b80-c734-c1d28ce017d8"
      },
      "execution_count": 28,
      "outputs": [
        {
          "output_type": "execute_result",
          "data": {
            "text/plain": [
              "(0.32861105775592403, True)"
            ]
          },
          "metadata": {},
          "execution_count": 28
        }
      ]
    },
    {
      "cell_type": "markdown",
      "source": [
        "Como o p-value foi maior que 0.05, isso significa que a série temporal **não é estacionária**."
      ],
      "metadata": {
        "id": "uryGuv2cyQJ8"
      }
    },
    {
      "cell_type": "markdown",
      "source": [
        "#### Transformando a time series em estacionária"
      ],
      "metadata": {
        "id": "g0vOSvLBzQin"
      }
    },
    {
      "cell_type": "code",
      "source": [
        "# aumentando a ordem de diferenciação\n",
        "\n",
        "data[\"diff_1\"] = data[\"Vendas\"].diff(periods=1)\n",
        "data[\"diff_2\"] = data[\"Vendas\"].diff(periods=2)\n",
        "data[\"diff_3\"] = data[\"Vendas\"].diff(periods=3)"
      ],
      "metadata": {
        "id": "-ExTAa-qzU5-"
      },
      "execution_count": 29,
      "outputs": []
    },
    {
      "cell_type": "code",
      "source": [
        "adf = ADFTest(alpha = 0.05)\n",
        "print(f'p-value diff 1: {adf.should_diff(data[\"diff_1\"].dropna())}')\n",
        "print(f'p-value diff 2: {adf.should_diff(data[\"diff_2\"].dropna())}')\n",
        "print(f'p-value diff 3: {adf.should_diff(data[\"diff_3\"].dropna())}')"
      ],
      "metadata": {
        "colab": {
          "base_uri": "https://localhost:8080/"
        },
        "id": "mec24z9B1T8u",
        "outputId": "c16ae2a2-bf58-4a1b-e9a9-2e098f02dedc"
      },
      "execution_count": 30,
      "outputs": [
        {
          "output_type": "stream",
          "name": "stdout",
          "text": [
            "p-value diff 1: (0.01, False)\n",
            "p-value diff 2: (0.01, False)\n",
            "p-value diff 3: (0.01, False)\n"
          ]
        }
      ]
    },
    {
      "cell_type": "markdown",
      "source": [
        "Os dados agora **são estacionários**, e somente 1 grau de diferenciação (**d=1**) foi necessário."
      ],
      "metadata": {
        "id": "RWxQXmps3-NE"
      }
    },
    {
      "cell_type": "code",
      "source": [
        "from statsmodels.graphics.tsaplots import plot_acf"
      ],
      "metadata": {
        "id": "lzp0BRa0k7W-"
      },
      "execution_count": 31,
      "outputs": []
    },
    {
      "cell_type": "code",
      "source": [
        "plot_acf(data['diff_1'].dropna());"
      ],
      "metadata": {
        "colab": {
          "base_uri": "https://localhost:8080/",
          "height": 281
        },
        "id": "HaalGXsnllzg",
        "outputId": "f8d1a8b2-6e45-4a05-d797-bd9940f5098d"
      },
      "execution_count": 32,
      "outputs": [
        {
          "output_type": "display_data",
          "data": {
            "text/plain": [
              "<Figure size 432x288 with 1 Axes>"
            ],
            "image/png": "[encoded data removed]"
          },
          "metadata": {
            "needs_background": "light"
          }
        }
      ]
    },
    {
      "cell_type": "markdown",
      "source": [
        "Foi descoberto durante a avaliação do modelo que aumentar a ordem de autoregressão **'p'** até próximo de **50** melhorou significamente o desempenho do modelo. O **'q'** será o número de lags que cruzam o threshold, que no caso são **3**.\n",
        "\n",
        "Os parâmetros do modelo ARIMA serão então: **p=50; d=1; q=3**"
      ],
      "metadata": {
        "id": "ptwMIkuXm20X"
      }
    },
    {
      "cell_type": "markdown",
      "source": [
        "## Fit"
      ],
      "metadata": {
        "id": "40ovmo3k8mF5"
      }
    },
    {
      "cell_type": "code",
      "source": [
        "from statsmodels.tsa.arima.model import ARIMA"
      ],
      "metadata": {
        "id": "dBUdSj4pow1R"
      },
      "execution_count": 33,
      "outputs": []
    },
    {
      "cell_type": "code",
      "source": [
        "# build model\n",
        "model = ARIMA(data.Vendas, order=(50, 1, 3))"
      ],
      "metadata": {
        "id": "9pnghGs7o-Ht"
      },
      "execution_count": 34,
      "outputs": []
    },
    {
      "cell_type": "code",
      "source": [
        "model = model.fit()"
      ],
      "metadata": {
        "colab": {
          "base_uri": "https://localhost:8080/"
        },
        "id": "VpYbqfs-8oiI",
        "outputId": "75a19600-4a60-4462-8fcf-986315981978"
      },
      "execution_count": 35,
      "outputs": [
        {
          "output_type": "stream",
          "name": "stderr",
          "text": [
            "/usr/local/lib/python3.8/dist-packages/statsmodels/tsa/statespace/sarimax.py:866: UserWarning:\n",
            "\n",
            "Too few observations to estimate starting parameters for ARMA and trend. All parameters except for variances will be set to zeros.\n",
            "\n",
            "/usr/local/lib/python3.8/dist-packages/statsmodels/base/model.py:604: ConvergenceWarning:\n",
            "\n",
            "Maximum Likelihood optimization failed to converge. Check mle_retvals\n",
            "\n"
          ]
        }
      ]
    },
    {
      "cell_type": "code",
      "source": [
        "model.summary()"
      ],
      "metadata": {
        "colab": {
          "base_uri": "https://localhost:8080/",
          "height": 1000
        },
        "id": "A5xgfJk5pWiN",
        "outputId": "29e378c8-121f-4255-dc93-c853edf3f68c"
      },
      "execution_count": 36,
      "outputs": [
        {
          "output_type": "execute_result",
          "data": {
            "text/plain": [
              "<class 'statsmodels.iolib.summary.Summary'>\n",
              "\"\"\"\n",
              "                               SARIMAX Results                                \n",
              "==============================================================================\n",
              "Dep. Variable:                 Vendas   No. Observations:                   46\n",
              "Model:                ARIMA(60, 1, 3)   Log Likelihood                  -4.582\n",
              "Date:                Sat, 04 Feb 2023   AIC                            137.165\n",
              "Time:                        11:53:07   BIC                            252.791\n",
              "Sample:                             0   HQIC                           180.269\n",
              "                                 - 46                                         \n",
              "Covariance Type:                  opg                                         \n",
              "==============================================================================\n",
              "                 coef    std err          z      P>|z|      [0.025      0.975]\n",
              "------------------------------------------------------------------------------\n",
              "ar.L1          0.0089     58.632      0.000      1.000    -114.907     114.925\n",
              "ar.L2          0.1448     62.879      0.002      0.998    -123.097     123.386\n",
              "ar.L3         -0.0829     75.728     -0.001      0.999    -148.507     148.341\n",
              "ar.L4         -0.0740    121.592     -0.001      1.000    -238.390     238.242\n",
              "ar.L5          0.1866     23.786      0.008      0.994     -46.434      46.807\n",
              "ar.L6         -0.6624     69.658     -0.010      0.992    -137.190     135.865\n",
              "ar.L7          0.1752     22.008      0.008      0.994     -42.960      43.310\n",
              "ar.L8          0.0397     18.315      0.002      0.998     -35.858      35.937\n",
              "ar.L9         -0.5266     22.360     -0.024      0.981     -44.352      43.299\n",
              "ar.L10         0.2458     24.535      0.010      0.992     -47.843      48.334\n",
              "ar.L11         0.3257     31.474      0.010      0.992     -61.362      62.013\n",
              "ar.L12        -0.1320      4.933     -0.027      0.979      -9.800       9.536\n",
              "ar.L13        -0.2030     29.835     -0.007      0.995     -58.679      58.273\n",
              "ar.L14         0.5829     13.355      0.044      0.965     -25.592      26.758\n",
              "ar.L15        -0.2351     29.202     -0.008      0.994     -57.469      56.999\n",
              "ar.L16        -0.0074     39.460     -0.000      1.000     -77.347      77.332\n",
              "ar.L17        -0.1396     49.939     -0.003      0.998     -98.019      97.740\n",
              "ar.L18         0.1553     39.206      0.004      0.997     -76.687      76.998\n",
              "ar.L19        -0.1788     22.662     -0.008      0.994     -44.595      44.237\n",
              "ar.L20         0.0976     41.850      0.002      0.998     -81.926      82.121\n",
              "ar.L21        -0.1201     25.209     -0.005      0.996     -49.530      49.290\n",
              "ar.L22        -0.0621     20.514     -0.003      0.998     -40.268      40.144\n",
              "ar.L23        -0.0418     34.000     -0.001      0.999     -66.680      66.597\n",
              "ar.L24        -0.0777     42.046     -0.002      0.999     -82.487      82.331\n",
              "ar.L25        -0.0112     32.232     -0.000      1.000     -63.184      63.162\n",
              "ar.L26        -0.4872     26.454     -0.018      0.985     -52.336      51.362\n",
              "ar.L27         0.4370      7.981      0.055      0.956     -15.206      16.080\n",
              "ar.L28         0.2512     50.901      0.005      0.996     -99.513     100.015\n",
              "ar.L29        -0.1535     29.315     -0.005      0.996     -57.610      57.303\n",
              "ar.L30         0.1095     76.794      0.001      0.999    -150.403     150.622\n",
              "ar.L31         0.4499     33.133      0.014      0.989     -64.490      65.390\n",
              "ar.L32        -0.6885     20.522     -0.034      0.973     -40.911      39.534\n",
              "ar.L33         0.1908     42.666      0.004      0.996     -83.433      83.815\n",
              "ar.L34         0.5507     43.645      0.013      0.990     -84.992      86.093\n",
              "ar.L35         0.0995      5.598      0.018      0.986     -10.872      11.071\n",
              "ar.L36         0.2414     64.052      0.004      0.997    -125.298     125.780\n",
              "ar.L37         0.2070     46.117      0.004      0.996     -90.180      90.594\n",
              "ar.L38        -0.2942     49.066     -0.006      0.995     -96.461      95.872\n",
              "ar.L39         0.1545     29.440      0.005      0.996     -57.548      57.857\n",
              "ar.L40         0.2767     23.887      0.012      0.991     -46.541      47.094\n",
              "ar.L41        -0.2265     36.657     -0.006      0.995     -72.074      71.621\n",
              "ar.L42        -0.1281     33.548     -0.004      0.997     -65.880      65.624\n",
              "ar.L43         0.2173     50.987      0.004      0.997     -99.715     100.150\n",
              "ar.L44        -0.0675     17.075     -0.004      0.997     -33.534      33.399\n",
              "ar.L45        -0.0644     32.274     -0.002      0.998     -63.320      63.191\n",
              "ar.L46         0.0600     25.948      0.002      0.998     -50.798      50.918\n",
              "ar.L47        -0.0160     12.745     -0.001      0.999     -24.995      24.963\n",
              "ar.L48      6.316e-06     33.401   1.89e-07      1.000     -65.466      65.466\n",
              "ar.L49      5.833e-06     30.913   1.89e-07      1.000     -60.589      60.589\n",
              "ar.L50      6.719e-06      9.123   7.37e-07      1.000     -17.880      17.880\n",
              "ar.L51      7.274e-06     37.792   1.92e-07      1.000     -74.072      74.072\n",
              "ar.L52      5.503e-06     22.891    2.4e-07      1.000     -44.865      44.865\n",
              "ar.L53      5.291e-06     19.697   2.69e-07      1.000     -38.606      38.606\n",
              "ar.L54      6.577e-06     32.246   2.04e-07      1.000     -63.200      63.200\n",
              "ar.L55      3.567e-06     20.274   1.76e-07      1.000     -39.737      39.737\n",
              "ar.L56      4.267e-06     26.858   1.59e-07      1.000     -52.641      52.641\n",
              "ar.L57      4.517e-06     30.009   1.51e-07      1.000     -58.817      58.817\n",
              "ar.L58      3.743e-06     46.340   8.08e-08      1.000     -90.825      90.825\n",
              "ar.L59      3.887e-06     39.744   9.78e-08      1.000     -77.898      77.898\n",
              "ar.L60      4.173e-06     69.657   5.99e-08      1.000    -136.525     136.525\n",
              "ma.L1         -0.3912    144.918     -0.003      0.998    -284.426     283.643\n",
              "ma.L2         -0.4581     65.867     -0.007      0.994    -129.555     128.639\n",
              "ma.L3          0.2417     73.363      0.003      0.997    -143.548     144.031\n",
              "sigma2         0.0029      0.256      0.011      0.991      -0.499       0.505\n",
              "===================================================================================\n",
              "Ljung-Box (L1) (Q):                   0.08   Jarque-Bera (JB):                 0.38\n",
              "Prob(Q):                              0.78   Prob(JB):                         0.83\n",
              "Heteroskedasticity (H):               2.89   Skew:                             0.06\n",
              "Prob(H) (two-sided):                  0.05   Kurtosis:                         3.43\n",
              "===================================================================================\n",
              "\n",
              "Warnings:\n",
              "[1] Covariance matrix calculated using the outer product of gradients (complex-step).\n",
              "[2] Covariance matrix is singular or near-singular, with condition number 1.38e+19. Standard errors may be unstable.\n",
              "\"\"\""
            ],
            "text/html": [
              "<table class=\"simpletable\">\n",
              "<caption>SARIMAX Results</caption>\n",
              "<tr>\n",
              "  <th>Dep. Variable:</th>        <td>Vendas</td>      <th>  No. Observations:  </th>   <td>46</td>   \n",
              "</tr>\n",
              "<tr>\n",
              "  <th>Model:</th>            <td>ARIMA(60, 1, 3)</td> <th>  Log Likelihood     </th> <td>-4.582</td> \n",
              "</tr>\n",
              "<tr>\n",
              "  <th>Date:</th>            <td>Sat, 04 Feb 2023</td> <th>  AIC                </th> <td>137.165</td>\n",
              "</tr>\n",
              "<tr>\n",
              "  <th>Time:</th>                <td>11:53:07</td>     <th>  BIC                </th> <td>252.791</td>\n",
              "</tr>\n",
              "<tr>\n",
              "  <th>Sample:</th>                  <td>0</td>        <th>  HQIC               </th> <td>180.269</td>\n",
              "</tr>\n",
              "<tr>\n",
              "  <th></th>                       <td> - 46</td>      <th>                     </th>    <td> </td>   \n",
              "</tr>\n",
              "<tr>\n",
              "  <th>Covariance Type:</th>        <td>opg</td>       <th>                     </th>    <td> </td>   \n",
              "</tr>\n",
              "</table>\n",
              "<table class=\"simpletable\">\n",
              "<tr>\n",
              "     <td></td>       <th>coef</th>     <th>std err</th>      <th>z</th>      <th>P>|z|</th>  <th>[0.025</th>    <th>0.975]</th>  \n",
              "</tr>\n",
              "<tr>\n",
              "  <th>ar.L1</th>  <td>    0.0089</td> <td>   58.632</td> <td>    0.000</td> <td> 1.000</td> <td> -114.907</td> <td>  114.925</td>\n",
              "</tr>\n",
              "<tr>\n",
              "  <th>ar.L2</th>  <td>    0.1448</td> <td>   62.879</td> <td>    0.002</td> <td> 0.998</td> <td> -123.097</td> <td>  123.386</td>\n",
              "</tr>\n",
              "<tr>\n",
              "  <th>ar.L3</th>  <td>   -0.0829</td> <td>   75.728</td> <td>   -0.001</td> <td> 0.999</td> <td> -148.507</td> <td>  148.341</td>\n",
              "</tr>\n",
              "<tr>\n",
              "  <th>ar.L4</th>  <td>   -0.0740</td> <td>  121.592</td> <td>   -0.001</td> <td> 1.000</td> <td> -238.390</td> <td>  238.242</td>\n",
              "</tr>\n",
              "<tr>\n",
              "  <th>ar.L5</th>  <td>    0.1866</td> <td>   23.786</td> <td>    0.008</td> <td> 0.994</td> <td>  -46.434</td> <td>   46.807</td>\n",
              "</tr>\n",
              "<tr>\n",
              "  <th>ar.L6</th>  <td>   -0.6624</td> <td>   69.658</td> <td>   -0.010</td> <td> 0.992</td> <td> -137.190</td> <td>  135.865</td>\n",
              "</tr>\n",
              "<tr>\n",
              "  <th>ar.L7</th>  <td>    0.1752</td> <td>   22.008</td> <td>    0.008</td> <td> 0.994</td> <td>  -42.960</td> <td>   43.310</td>\n",
              "</tr>\n",
              "<tr>\n",
              "  <th>ar.L8</th>  <td>    0.0397</td> <td>   18.315</td> <td>    0.002</td> <td> 0.998</td> <td>  -35.858</td> <td>   35.937</td>\n",
              "</tr>\n",
              "<tr>\n",
              "  <th>ar.L9</th>  <td>   -0.5266</td> <td>   22.360</td> <td>   -0.024</td> <td> 0.981</td> <td>  -44.352</td> <td>   43.299</td>\n",
              "</tr>\n",
              "<tr>\n",
              "  <th>ar.L10</th> <td>    0.2458</td> <td>   24.535</td> <td>    0.010</td> <td> 0.992</td> <td>  -47.843</td> <td>   48.334</td>\n",
              "</tr>\n",
              "<tr>\n",
              "  <th>ar.L11</th> <td>    0.3257</td> <td>   31.474</td> <td>    0.010</td> <td> 0.992</td> <td>  -61.362</td> <td>   62.013</td>\n",
              "</tr>\n",
              "<tr>\n",
              "  <th>ar.L12</th> <td>   -0.1320</td> <td>    4.933</td> <td>   -0.027</td> <td> 0.979</td> <td>   -9.800</td> <td>    9.536</td>\n",
              "</tr>\n",
              "<tr>\n",
              "  <th>ar.L13</th> <td>   -0.2030</td> <td>   29.835</td> <td>   -0.007</td> <td> 0.995</td> <td>  -58.679</td> <td>   58.273</td>\n",
              "</tr>\n",
              "<tr>\n",
              "  <th>ar.L14</th> <td>    0.5829</td> <td>   13.355</td> <td>    0.044</td> <td> 0.965</td> <td>  -25.592</td> <td>   26.758</td>\n",
              "</tr>\n",
              "<tr>\n",
              "  <th>ar.L15</th> <td>   -0.2351</td> <td>   29.202</td> <td>   -0.008</td> <td> 0.994</td> <td>  -57.469</td> <td>   56.999</td>\n",
              "</tr>\n",
              "<tr>\n",
              "  <th>ar.L16</th> <td>   -0.0074</td> <td>   39.460</td> <td>   -0.000</td> <td> 1.000</td> <td>  -77.347</td> <td>   77.332</td>\n",
              "</tr>\n",
              "<tr>\n",
              "  <th>ar.L17</th> <td>   -0.1396</td> <td>   49.939</td> <td>   -0.003</td> <td> 0.998</td> <td>  -98.019</td> <td>   97.740</td>\n",
              "</tr>\n",
              "<tr>\n",
              "  <th>ar.L18</th> <td>    0.1553</td> <td>   39.206</td> <td>    0.004</td> <td> 0.997</td> <td>  -76.687</td> <td>   76.998</td>\n",
              "</tr>\n",
              "<tr>\n",
              "  <th>ar.L19</th> <td>   -0.1788</td> <td>   22.662</td> <td>   -0.008</td> <td> 0.994</td> <td>  -44.595</td> <td>   44.237</td>\n",
              "</tr>\n",
              "<tr>\n",
              "  <th>ar.L20</th> <td>    0.0976</td> <td>   41.850</td> <td>    0.002</td> <td> 0.998</td> <td>  -81.926</td> <td>   82.121</td>\n",
              "</tr>\n",
              "<tr>\n",
              "  <th>ar.L21</th> <td>   -0.1201</td> <td>   25.209</td> <td>   -0.005</td> <td> 0.996</td> <td>  -49.530</td> <td>   49.290</td>\n",
              "</tr>\n",
              "<tr>\n",
              "  <th>ar.L22</th> <td>   -0.0621</td> <td>   20.514</td> <td>   -0.003</td> <td> 0.998</td> <td>  -40.268</td> <td>   40.144</td>\n",
              "</tr>\n",
              "<tr>\n",
              "  <th>ar.L23</th> <td>   -0.0418</td> <td>   34.000</td> <td>   -0.001</td> <td> 0.999</td> <td>  -66.680</td> <td>   66.597</td>\n",
              "</tr>\n",
              "<tr>\n",
              "  <th>ar.L24</th> <td>   -0.0777</td> <td>   42.046</td> <td>   -0.002</td> <td> 0.999</td> <td>  -82.487</td> <td>   82.331</td>\n",
              "</tr>\n",
              "<tr>\n",
              "  <th>ar.L25</th> <td>   -0.0112</td> <td>   32.232</td> <td>   -0.000</td> <td> 1.000</td> <td>  -63.184</td> <td>   63.162</td>\n",
              "</tr>\n",
              "<tr>\n",
              "  <th>ar.L26</th> <td>   -0.4872</td> <td>   26.454</td> <td>   -0.018</td> <td> 0.985</td> <td>  -52.336</td> <td>   51.362</td>\n",
              "</tr>\n",
              "<tr>\n",
              "  <th>ar.L27</th> <td>    0.4370</td> <td>    7.981</td> <td>    0.055</td> <td> 0.956</td> <td>  -15.206</td> <td>   16.080</td>\n",
              "</tr>\n",
              "<tr>\n",
              "  <th>ar.L28</th> <td>    0.2512</td> <td>   50.901</td> <td>    0.005</td> <td> 0.996</td> <td>  -99.513</td> <td>  100.015</td>\n",
              "</tr>\n",
              "<tr>\n",
              "  <th>ar.L29</th> <td>   -0.1535</td> <td>   29.315</td> <td>   -0.005</td> <td> 0.996</td> <td>  -57.610</td> <td>   57.303</td>\n",
              "</tr>\n",
              "<tr>\n",
              "  <th>ar.L30</th> <td>    0.1095</td> <td>   76.794</td> <td>    0.001</td> <td> 0.999</td> <td> -150.403</td> <td>  150.622</td>\n",
              "</tr>\n",
              "<tr>\n",
              "  <th>ar.L31</th> <td>    0.4499</td> <td>   33.133</td> <td>    0.014</td> <td> 0.989</td> <td>  -64.490</td> <td>   65.390</td>\n",
              "</tr>\n",
              "<tr>\n",
              "  <th>ar.L32</th> <td>   -0.6885</td> <td>   20.522</td> <td>   -0.034</td> <td> 0.973</td> <td>  -40.911</td> <td>   39.534</td>\n",
              "</tr>\n",
              "<tr>\n",
              "  <th>ar.L33</th> <td>    0.1908</td> <td>   42.666</td> <td>    0.004</td> <td> 0.996</td> <td>  -83.433</td> <td>   83.815</td>\n",
              "</tr>\n",
              "<tr>\n",
              "  <th>ar.L34</th> <td>    0.5507</td> <td>   43.645</td> <td>    0.013</td> <td> 0.990</td> <td>  -84.992</td> <td>   86.093</td>\n",
              "</tr>\n",
              "<tr>\n",
              "  <th>ar.L35</th> <td>    0.0995</td> <td>    5.598</td> <td>    0.018</td> <td> 0.986</td> <td>  -10.872</td> <td>   11.071</td>\n",
              "</tr>\n",
              "<tr>\n",
              "  <th>ar.L36</th> <td>    0.2414</td> <td>   64.052</td> <td>    0.004</td> <td> 0.997</td> <td> -125.298</td> <td>  125.780</td>\n",
              "</tr>\n",
              "<tr>\n",
              "  <th>ar.L37</th> <td>    0.2070</td> <td>   46.117</td> <td>    0.004</td> <td> 0.996</td> <td>  -90.180</td> <td>   90.594</td>\n",
              "</tr>\n",
              "<tr>\n",
              "  <th>ar.L38</th> <td>   -0.2942</td> <td>   49.066</td> <td>   -0.006</td> <td> 0.995</td> <td>  -96.461</td> <td>   95.872</td>\n",
              "</tr>\n",
              "<tr>\n",
              "  <th>ar.L39</th> <td>    0.1545</td> <td>   29.440</td> <td>    0.005</td> <td> 0.996</td> <td>  -57.548</td> <td>   57.857</td>\n",
              "</tr>\n",
              "<tr>\n",
              "  <th>ar.L40</th> <td>    0.2767</td> <td>   23.887</td> <td>    0.012</td> <td> 0.991</td> <td>  -46.541</td> <td>   47.094</td>\n",
              "</tr>\n",
              "<tr>\n",
              "  <th>ar.L41</th> <td>   -0.2265</td> <td>   36.657</td> <td>   -0.006</td> <td> 0.995</td> <td>  -72.074</td> <td>   71.621</td>\n",
              "</tr>\n",
              "<tr>\n",
              "  <th>ar.L42</th> <td>   -0.1281</td> <td>   33.548</td> <td>   -0.004</td> <td> 0.997</td> <td>  -65.880</td> <td>   65.624</td>\n",
              "</tr>\n",
              "<tr>\n",
              "  <th>ar.L43</th> <td>    0.2173</td> <td>   50.987</td> <td>    0.004</td> <td> 0.997</td> <td>  -99.715</td> <td>  100.150</td>\n",
              "</tr>\n",
              "<tr>\n",
              "  <th>ar.L44</th> <td>   -0.0675</td> <td>   17.075</td> <td>   -0.004</td> <td> 0.997</td> <td>  -33.534</td> <td>   33.399</td>\n",
              "</tr>\n",
              "<tr>\n",
              "  <th>ar.L45</th> <td>   -0.0644</td> <td>   32.274</td> <td>   -0.002</td> <td> 0.998</td> <td>  -63.320</td> <td>   63.191</td>\n",
              "</tr>\n",
              "<tr>\n",
              "  <th>ar.L46</th> <td>    0.0600</td> <td>   25.948</td> <td>    0.002</td> <td> 0.998</td> <td>  -50.798</td> <td>   50.918</td>\n",
              "</tr>\n",
              "<tr>\n",
              "  <th>ar.L47</th> <td>   -0.0160</td> <td>   12.745</td> <td>   -0.001</td> <td> 0.999</td> <td>  -24.995</td> <td>   24.963</td>\n",
              "</tr>\n",
              "<tr>\n",
              "  <th>ar.L48</th> <td> 6.316e-06</td> <td>   33.401</td> <td> 1.89e-07</td> <td> 1.000</td> <td>  -65.466</td> <td>   65.466</td>\n",
              "</tr>\n",
              "<tr>\n",
              "  <th>ar.L49</th> <td> 5.833e-06</td> <td>   30.913</td> <td> 1.89e-07</td> <td> 1.000</td> <td>  -60.589</td> <td>   60.589</td>\n",
              "</tr>\n",
              "<tr>\n",
              "  <th>ar.L50</th> <td> 6.719e-06</td> <td>    9.123</td> <td> 7.37e-07</td> <td> 1.000</td> <td>  -17.880</td> <td>   17.880</td>\n",
              "</tr>\n",
              "<tr>\n",
              "  <th>ar.L51</th> <td> 7.274e-06</td> <td>   37.792</td> <td> 1.92e-07</td> <td> 1.000</td> <td>  -74.072</td> <td>   74.072</td>\n",
              "</tr>\n",
              "<tr>\n",
              "  <th>ar.L52</th> <td> 5.503e-06</td> <td>   22.891</td> <td>  2.4e-07</td> <td> 1.000</td> <td>  -44.865</td> <td>   44.865</td>\n",
              "</tr>\n",
              "<tr>\n",
              "  <th>ar.L53</th> <td> 5.291e-06</td> <td>   19.697</td> <td> 2.69e-07</td> <td> 1.000</td> <td>  -38.606</td> <td>   38.606</td>\n",
              "</tr>\n",
              "<tr>\n",
              "  <th>ar.L54</th> <td> 6.577e-06</td> <td>   32.246</td> <td> 2.04e-07</td> <td> 1.000</td> <td>  -63.200</td> <td>   63.200</td>\n",
              "</tr>\n",
              "<tr>\n",
              "  <th>ar.L55</th> <td> 3.567e-06</td> <td>   20.274</td> <td> 1.76e-07</td> <td> 1.000</td> <td>  -39.737</td> <td>   39.737</td>\n",
              "</tr>\n",
              "<tr>\n",
              "  <th>ar.L56</th> <td> 4.267e-06</td> <td>   26.858</td> <td> 1.59e-07</td> <td> 1.000</td> <td>  -52.641</td> <td>   52.641</td>\n",
              "</tr>\n",
              "<tr>\n",
              "  <th>ar.L57</th> <td> 4.517e-06</td> <td>   30.009</td> <td> 1.51e-07</td> <td> 1.000</td> <td>  -58.817</td> <td>   58.817</td>\n",
              "</tr>\n",
              "<tr>\n",
              "  <th>ar.L58</th> <td> 3.743e-06</td> <td>   46.340</td> <td> 8.08e-08</td> <td> 1.000</td> <td>  -90.825</td> <td>   90.825</td>\n",
              "</tr>\n",
              "<tr>\n",
              "  <th>ar.L59</th> <td> 3.887e-06</td> <td>   39.744</td> <td> 9.78e-08</td> <td> 1.000</td> <td>  -77.898</td> <td>   77.898</td>\n",
              "</tr>\n",
              "<tr>\n",
              "  <th>ar.L60</th> <td> 4.173e-06</td> <td>   69.657</td> <td> 5.99e-08</td> <td> 1.000</td> <td> -136.525</td> <td>  136.525</td>\n",
              "</tr>\n",
              "<tr>\n",
              "  <th>ma.L1</th>  <td>   -0.3912</td> <td>  144.918</td> <td>   -0.003</td> <td> 0.998</td> <td> -284.426</td> <td>  283.643</td>\n",
              "</tr>\n",
              "<tr>\n",
              "  <th>ma.L2</th>  <td>   -0.4581</td> <td>   65.867</td> <td>   -0.007</td> <td> 0.994</td> <td> -129.555</td> <td>  128.639</td>\n",
              "</tr>\n",
              "<tr>\n",
              "  <th>ma.L3</th>  <td>    0.2417</td> <td>   73.363</td> <td>    0.003</td> <td> 0.997</td> <td> -143.548</td> <td>  144.031</td>\n",
              "</tr>\n",
              "<tr>\n",
              "  <th>sigma2</th> <td>    0.0029</td> <td>    0.256</td> <td>    0.011</td> <td> 0.991</td> <td>   -0.499</td> <td>    0.505</td>\n",
              "</tr>\n",
              "</table>\n",
              "<table class=\"simpletable\">\n",
              "<tr>\n",
              "  <th>Ljung-Box (L1) (Q):</th>     <td>0.08</td> <th>  Jarque-Bera (JB):  </th> <td>0.38</td>\n",
              "</tr>\n",
              "<tr>\n",
              "  <th>Prob(Q):</th>                <td>0.78</td> <th>  Prob(JB):          </th> <td>0.83</td>\n",
              "</tr>\n",
              "<tr>\n",
              "  <th>Heteroskedasticity (H):</th> <td>2.89</td> <th>  Skew:              </th> <td>0.06</td>\n",
              "</tr>\n",
              "<tr>\n",
              "  <th>Prob(H) (two-sided):</th>    <td>0.05</td> <th>  Kurtosis:          </th> <td>3.43</td>\n",
              "</tr>\n",
              "</table><br/><br/>Warnings:<br/>[1] Covariance matrix calculated using the outer product of gradients (complex-step).<br/>[2] Covariance matrix is singular or near-singular, with condition number 1.38e+19. Standard errors may be unstable."
            ]
          },
          "metadata": {},
          "execution_count": 36
        }
      ]
    },
    {
      "cell_type": "markdown",
      "source": [
        "## Evaluate"
      ],
      "metadata": {
        "id": "9K_TYy6A8nHh"
      }
    },
    {
      "cell_type": "code",
      "source": [
        "import matplotlib.pyplot as plt"
      ],
      "metadata": {
        "id": "qIlOaTJzqZhK"
      },
      "execution_count": 37,
      "outputs": []
    },
    {
      "cell_type": "code",
      "source": [
        "from statsmodels.graphics.tsaplots import plot_predict"
      ],
      "metadata": {
        "id": "BWSqnErGqvN6"
      },
      "execution_count": 38,
      "outputs": []
    },
    {
      "cell_type": "code",
      "source": [
        "data_pred = model.predict(dynamic=False)"
      ],
      "metadata": {
        "id": "CRAzvkA2pv99"
      },
      "execution_count": 39,
      "outputs": []
    },
    {
      "cell_type": "code",
      "source": [
        "from sklearn.metrics import mean_squared_error"
      ],
      "metadata": {
        "id": "RlRAfzsHBDBM"
      },
      "execution_count": 40,
      "outputs": []
    },
    {
      "cell_type": "code",
      "source": [
        "mean_squared_error(data.Vendas, data_pred)"
      ],
      "metadata": {
        "colab": {
          "base_uri": "https://localhost:8080/"
        },
        "id": "XPdx_O-RBHOK",
        "outputId": "349909cd-7cea-463c-c36a-4bf436fa0e33"
      },
      "execution_count": 41,
      "outputs": [
        {
          "output_type": "execute_result",
          "data": {
            "text/plain": [
              "0.16504904803521395"
            ]
          },
          "metadata": {},
          "execution_count": 41
        }
      ]
    },
    {
      "cell_type": "markdown",
      "source": [
        "# Resultados"
      ],
      "metadata": {
        "id": "l4ehMcNtHRx_"
      }
    },
    {
      "cell_type": "markdown",
      "source": [
        "O **MSR** do modelo foi de aproximadamente **0.16**"
      ],
      "metadata": {
        "id": "S0GuVAO1HTxn"
      }
    },
    {
      "cell_type": "markdown",
      "source": [
        "## Gráfico Real vs Previsto do modelo ARIMA"
      ],
      "metadata": {
        "id": "rEHL0pqSHDdz"
      }
    },
    {
      "cell_type": "code",
      "source": [
        "plt.plot(data.Vendas, linestyle = '-', label = 'real')\n",
        "plt.plot(data_pred, linestyle = '-', label = 'previsto')\n",
        "\n",
        "plt.xlabel(\"dia\")\n",
        "plt.ylabel(\"valor\")\n",
        "\n",
        "plt.title(\"Real vs Previsto\")\n",
        "plt.legend(loc='best')\n",
        "\n",
        "plt.show()"
      ],
      "metadata": {
        "colab": {
          "base_uri": "https://localhost:8080/",
          "height": 295
        },
        "id": "KXy9sUCv6C-j",
        "outputId": "54aa65e7-c787-47dd-f0f7-ecaef2e91cc6"
      },
      "execution_count": 42,
      "outputs": [
        {
          "output_type": "display_data",
          "data": {
            "text/plain": [
              "<Figure size 432x288 with 1 Axes>"
            ],
            "image/png": "[encoded data removed]"
          },
          "metadata": {
            "needs_background": "light"
          }
        }
      ]
    },
    {
      "cell_type": "markdown",
      "source": [
        "## Previsão de vendas dos próximos 5 dias"
      ],
      "metadata": {
        "id": "tZiTMTB-G_aj"
      }
    },
    {
      "cell_type": "code",
      "source": [
        "forecast_next_5_days = pd.DataFrame(scaler.inverse_transform(pd.DataFrame(model.forecast(5))), index = pd.date_range(start='21/1/2023', periods=5)).rename(columns={'index':'Data'})\n",
        "\n",
        "forecast_next_5_days.columns = ['Vendas']\n",
        "\n",
        "forecast_next_5_days['Vendas'] = forecast_next_5_days['Vendas'].astype(int)"
      ],
      "metadata": {
        "id": "qsV13mQZBwiu"
      },
      "execution_count": 43,
      "outputs": []
    },
    {
      "cell_type": "code",
      "source": [
        "forecast_next_5_days"
      ],
      "metadata": {
        "colab": {
          "base_uri": "https://localhost:8080/",
          "height": 206
        },
        "id": "hF8QqgvNFv1H",
        "outputId": "c632dae2-9eda-4bf9-add4-6d80bd3a782c"
      },
      "execution_count": 44,
      "outputs": [
        {
          "output_type": "execute_result",
          "data": {
            "text/plain": [
              "            Vendas\n",
              "2023-01-21     336\n",
              "2023-01-22    -117\n",
              "2023-01-23    1095\n",
              "2023-01-24     763\n",
              "2023-01-25     412"
            ],
            "text/html": [
              "\n",
              "  <div id=\"df-d6e6d695-1172-49e8-863e-fa420e63acf7\">\n",
              "    <div class=\"colab-df-container\">\n",
              "      <div>\n",
              "<style scoped>\n",
              "    .dataframe tbody tr th:only-of-type {\n",
              "        vertical-align: middle;\n",
              "    }\n",
              "\n",
              "    .dataframe tbody tr th {\n",
              "        vertical-align: top;\n",
              "    }\n",
              "\n",
              "    .dataframe thead th {\n",
              "        text-align: right;\n",
              "    }\n",
              "</style>\n",
              "<table border=\"1\" class=\"dataframe\">\n",
              "  <thead>\n",
              "    <tr style=\"text-align: right;\">\n",
              "      <th></th>\n",
              "      <th>Vendas</th>\n",
              "    </tr>\n",
              "  </thead>\n",
              "  <tbody>\n",
              "    <tr>\n",
              "      <th>2023-01-21</th>\n",
              "      <td>336</td>\n",
              "    </tr>\n",
              "    <tr>\n",
              "      <th>2023-01-22</th>\n",
              "      <td>-117</td>\n",
              "    </tr>\n",
              "    <tr>\n",
              "      <th>2023-01-23</th>\n",
              "      <td>1095</td>\n",
              "    </tr>\n",
              "    <tr>\n",
              "      <th>2023-01-24</th>\n",
              "      <td>763</td>\n",
              "    </tr>\n",
              "    <tr>\n",
              "      <th>2023-01-25</th>\n",
              "      <td>412</td>\n",
              "    </tr>\n",
              "  </tbody>\n",
              "</table>\n",
              "</div>\n",
              "      <button class=\"colab-df-convert\" onclick=\"convertToInteractive('df-d6e6d695-1172-49e8-863e-fa420e63acf7')\"\n",
              "              title=\"Convert this dataframe to an interactive table.\"\n",
              "              style=\"display:none;\">\n",
              "        \n",
              "  <svg xmlns=\"http://www.w3.org/2000/svg\" height=\"24px\"viewBox=\"0 0 24 24\"\n",
              "       width=\"24px\">\n",
              "    <path d=\"M0 0h24v24H0V0z\" fill=\"none\"/>\n",
              "    <path d=\"M18.56 5.44l.94 2.06.94-2.06 2.06-.94-2.06-.94-.94-2.06-.94 2.06-2.06.94zm-11 1L8.5 8.5l.94-2.06 2.06-.94-2.06-.94L8.5 2.5l-.94 2.06-2.06.94zm10 10l.94 2.06.94-2.06 2.06-.94-2.06-.94-.94-2.06-.94 2.06-2.06.94z\"/><path d=\"M17.41 7.96l-1.37-1.37c-.4-.4-.92-.59-1.43-.59-.52 0-1.04.2-1.43.59L10.3 9.45l-7.72 7.72c-.78.78-.78 2.05 0 2.83L4 21.41c.39.39.9.59 1.41.59.51 0 1.02-.2 1.41-.59l7.78-7.78 2.81-2.81c.8-.78.8-2.07 0-2.86zM5.41 20L4 18.59l7.72-7.72 1.47 1.35L5.41 20z\"/>\n",
              "  </svg>\n",
              "      </button>\n",
              "      \n",
              "  <style>\n",
              "    .colab-df-container {\n",
              "      display:flex;\n",
              "      flex-wrap:wrap;\n",
              "      gap: 12px;\n",
              "    }\n",
              "\n",
              "    .colab-df-convert {\n",
              "      background-color: #E8F0FE;\n",
              "      border: none;\n",
              "      border-radius: 50%;\n",
              "      cursor: pointer;\n",
              "      display: none;\n",
              "      fill: #1967D2;\n",
              "      height: 32px;\n",
              "      padding: 0 0 0 0;\n",
              "      width: 32px;\n",
              "    }\n",
              "\n",
              "    .colab-df-convert:hover {\n",
              "      background-color: #E2EBFA;\n",
              "      box-shadow: 0px 1px 2px rgba(60, 64, 67, 0.3), 0px 1px 3px 1px rgba(60, 64, 67, 0.15);\n",
              "      fill: #174EA6;\n",
              "    }\n",
              "\n",
              "    [theme=dark] .colab-df-convert {\n",
              "      background-color: #3B4455;\n",
              "      fill: #D2E3FC;\n",
              "    }\n",
              "\n",
              "    [theme=dark] .colab-df-convert:hover {\n",
              "      background-color: #434B5C;\n",
              "      box-shadow: 0px 1px 3px 1px rgba(0, 0, 0, 0.15);\n",
              "      filter: drop-shadow(0px 1px 2px rgba(0, 0, 0, 0.3));\n",
              "      fill: #FFFFFF;\n",
              "    }\n",
              "  </style>\n",
              "\n",
              "      <script>\n",
              "        const buttonEl =\n",
              "          document.querySelector('#df-d6e6d695-1172-49e8-863e-fa420e63acf7 button.colab-df-convert');\n",
              "        buttonEl.style.display =\n",
              "          google.colab.kernel.accessAllowed ? 'block' : 'none';\n",
              "\n",
              "        async function convertToInteractive(key) {\n",
              "          const element = document.querySelector('#df-d6e6d695-1172-49e8-863e-fa420e63acf7');\n",
              "          const dataTable =\n",
              "            await google.colab.kernel.invokeFunction('convertToInteractive',\n",
              "                                                     [key], {});\n",
              "          if (!dataTable) return;\n",
              "\n",
              "          const docLinkHtml = 'Like what you see? Visit the ' +\n",
              "            '<a target=\"_blank\" href=https://colab.research.google.com/notebooks/data_table.ipynb>data table notebook</a>'\n",
              "            + ' to learn more about interactive tables.';\n",
              "          element.innerHTML = '';\n",
              "          dataTable['output_type'] = 'display_data';\n",
              "          await google.colab.output.renderOutput(dataTable, element);\n",
              "          const docLink = document.createElement('div');\n",
              "          docLink.innerHTML = docLinkHtml;\n",
              "          element.appendChild(docLink);\n",
              "        }\n",
              "      </script>\n",
              "    </div>\n",
              "  </div>\n",
              "  "
            ]
          },
          "metadata": {},
          "execution_count": 44
        }
      ]
    },
    {
      "cell_type": "markdown",
      "source": [
        "*Muito obrigado por vir até o fim :)*"
      ],
      "metadata": {
        "id": "tsi4gkPpHN4A"
      }
    }
  ]
}