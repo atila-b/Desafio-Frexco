{
  "nbformat": 4,
  "nbformat_minor": 0,
  "metadata": {
    "colab": {
      "provenance": []
    },
    "kernelspec": {
      "name": "python3",
      "display_name": "Python 3"
    },
    "language_info": {
      "name": "python"
    }
  },
  "cells": [
    {
      "cell_type": "markdown",
      "source": [
        "![](https://assets.website-files.com/60e7f71b22c6d0b9cf329ceb/621e1a2f28ded71ee95aeede_6ProvenSalesForecastingMethodstoDriveRevenue1_a117440b5ae227c3dba5264a6521da06_2000.png)"
      ],
      "metadata": {
        "id": "EAYe2L1WQuIX"
      }
    },
    {
      "cell_type": "markdown",
      "source": [
        "# Introdução"
      ],
      "metadata": {
        "id": "AKFdadDLOiLv"
      }
    },
    {
      "cell_type": "markdown",
      "source": [
        "O objetivo deste projeto é desenvolver um modelo de regressão para prever a demanda dos próximos 5 dias do item da empresa **Frexco**, baseado nas datas e seus respectivos números de vendas. Para desenvolver esse modelo serão utilizadas técnicas de machine learning e serão testados os desempenhos de diferentes algoritmos de regressão."
      ],
      "metadata": {
        "id": "Fl1pTQSHOlAU"
      }
    },
    {
      "cell_type": "markdown",
      "source": [
        "# Data Cleaning"
      ],
      "metadata": {
        "id": "UpekHV50I3D4"
      }
    },
    {
      "cell_type": "code",
      "execution_count": 1,
      "metadata": {
        "id": "fioW-xd7HVug"
      },
      "outputs": [],
      "source": [
        "import pandas as pd\n",
        "import numpy as np"
      ]
    },
    {
      "cell_type": "code",
      "source": [
        "df = pd.read_excel('Dados.xlsx', index_col=0)"
      ],
      "metadata": {
        "id": "Jb3BoOIHHqZC"
      },
      "execution_count": 2,
      "outputs": []
    },
    {
      "cell_type": "code",
      "source": [
        "df = df.reset_index(level=0)"
      ],
      "metadata": {
        "id": "JgQyGOwQK2I9"
      },
      "execution_count": 3,
      "outputs": []
    },
    {
      "cell_type": "code",
      "source": [
        "df.head()"
      ],
      "metadata": {
        "colab": {
          "base_uri": "https://localhost:8080/",
          "height": 206
        },
        "id": "sLU8CoqNH-xx",
        "outputId": "5d8e2231-1438-49c7-b908-84536dac6df2"
      },
      "execution_count": 4,
      "outputs": [
        {
          "output_type": "execute_result",
          "data": {
            "text/plain": [
              "        Data  Vendas\n",
              "0 2022-12-06     870\n",
              "1 2022-12-07     868\n",
              "2 2022-12-08    1189\n",
              "3 2022-12-09     742\n",
              "4 2022-12-10     317"
            ],
            "text/html": [
              "\n",
              "  <div id=\"df-a5676af0-4478-4e3d-99d9-596ef3ef852d\">\n",
              "    <div class=\"colab-df-container\">\n",
              "      <div>\n",
              "<style scoped>\n",
              "    .dataframe tbody tr th:only-of-type {\n",
              "        vertical-align: middle;\n",
              "    }\n",
              "\n",
              "    .dataframe tbody tr th {\n",
              "        vertical-align: top;\n",
              "    }\n",
              "\n",
              "    .dataframe thead th {\n",
              "        text-align: right;\n",
              "    }\n",
              "</style>\n",
              "<table border=\"1\" class=\"dataframe\">\n",
              "  <thead>\n",
              "    <tr style=\"text-align: right;\">\n",
              "      <th></th>\n",
              "      <th>Data</th>\n",
              "      <th>Vendas</th>\n",
              "    </tr>\n",
              "  </thead>\n",
              "  <tbody>\n",
              "    <tr>\n",
              "      <th>0</th>\n",
              "      <td>2022-12-06</td>\n",
              "      <td>870</td>\n",
              "    </tr>\n",
              "    <tr>\n",
              "      <th>1</th>\n",
              "      <td>2022-12-07</td>\n",
              "      <td>868</td>\n",
              "    </tr>\n",
              "    <tr>\n",
              "      <th>2</th>\n",
              "      <td>2022-12-08</td>\n",
              "      <td>1189</td>\n",
              "    </tr>\n",
              "    <tr>\n",
              "      <th>3</th>\n",
              "      <td>2022-12-09</td>\n",
              "      <td>742</td>\n",
              "    </tr>\n",
              "    <tr>\n",
              "      <th>4</th>\n",
              "      <td>2022-12-10</td>\n",
              "      <td>317</td>\n",
              "    </tr>\n",
              "  </tbody>\n",
              "</table>\n",
              "</div>\n",
              "      <button class=\"colab-df-convert\" onclick=\"convertToInteractive('df-a5676af0-4478-4e3d-99d9-596ef3ef852d')\"\n",
              "              title=\"Convert this dataframe to an interactive table.\"\n",
              "              style=\"display:none;\">\n",
              "        \n",
              "  <svg xmlns=\"http://www.w3.org/2000/svg\" height=\"24px\"viewBox=\"0 0 24 24\"\n",
              "       width=\"24px\">\n",
              "    <path d=\"M0 0h24v24H0V0z\" fill=\"none\"/>\n",
              "    <path d=\"M18.56 5.44l.94 2.06.94-2.06 2.06-.94-2.06-.94-.94-2.06-.94 2.06-2.06.94zm-11 1L8.5 8.5l.94-2.06 2.06-.94-2.06-.94L8.5 2.5l-.94 2.06-2.06.94zm10 10l.94 2.06.94-2.06 2.06-.94-2.06-.94-.94-2.06-.94 2.06-2.06.94z\"/><path d=\"M17.41 7.96l-1.37-1.37c-.4-.4-.92-.59-1.43-.59-.52 0-1.04.2-1.43.59L10.3 9.45l-7.72 7.72c-.78.78-.78 2.05 0 2.83L4 21.41c.39.39.9.59 1.41.59.51 0 1.02-.2 1.41-.59l7.78-7.78 2.81-2.81c.8-.78.8-2.07 0-2.86zM5.41 20L4 18.59l7.72-7.72 1.47 1.35L5.41 20z\"/>\n",
              "  </svg>\n",
              "      </button>\n",
              "      \n",
              "  <style>\n",
              "    .colab-df-container {\n",
              "      display:flex;\n",
              "      flex-wrap:wrap;\n",
              "      gap: 12px;\n",
              "    }\n",
              "\n",
              "    .colab-df-convert {\n",
              "      background-color: #E8F0FE;\n",
              "      border: none;\n",
              "      border-radius: 50%;\n",
              "      cursor: pointer;\n",
              "      display: none;\n",
              "      fill: #1967D2;\n",
              "      height: 32px;\n",
              "      padding: 0 0 0 0;\n",
              "      width: 32px;\n",
              "    }\n",
              "\n",
              "    .colab-df-convert:hover {\n",
              "      background-color: #E2EBFA;\n",
              "      box-shadow: 0px 1px 2px rgba(60, 64, 67, 0.3), 0px 1px 3px 1px rgba(60, 64, 67, 0.15);\n",
              "      fill: #174EA6;\n",
              "    }\n",
              "\n",
              "    [theme=dark] .colab-df-convert {\n",
              "      background-color: #3B4455;\n",
              "      fill: #D2E3FC;\n",
              "    }\n",
              "\n",
              "    [theme=dark] .colab-df-convert:hover {\n",
              "      background-color: #434B5C;\n",
              "      box-shadow: 0px 1px 3px 1px rgba(0, 0, 0, 0.15);\n",
              "      filter: drop-shadow(0px 1px 2px rgba(0, 0, 0, 0.3));\n",
              "      fill: #FFFFFF;\n",
              "    }\n",
              "  </style>\n",
              "\n",
              "      <script>\n",
              "        const buttonEl =\n",
              "          document.querySelector('#df-a5676af0-4478-4e3d-99d9-596ef3ef852d button.colab-df-convert');\n",
              "        buttonEl.style.display =\n",
              "          google.colab.kernel.accessAllowed ? 'block' : 'none';\n",
              "\n",
              "        async function convertToInteractive(key) {\n",
              "          const element = document.querySelector('#df-a5676af0-4478-4e3d-99d9-596ef3ef852d');\n",
              "          const dataTable =\n",
              "            await google.colab.kernel.invokeFunction('convertToInteractive',\n",
              "                                                     [key], {});\n",
              "          if (!dataTable) return;\n",
              "\n",
              "          const docLinkHtml = 'Like what you see? Visit the ' +\n",
              "            '<a target=\"_blank\" href=https://colab.research.google.com/notebooks/data_table.ipynb>data table notebook</a>'\n",
              "            + ' to learn more about interactive tables.';\n",
              "          element.innerHTML = '';\n",
              "          dataTable['output_type'] = 'display_data';\n",
              "          await google.colab.output.renderOutput(dataTable, element);\n",
              "          const docLink = document.createElement('div');\n",
              "          docLink.innerHTML = docLinkHtml;\n",
              "          element.appendChild(docLink);\n",
              "        }\n",
              "      </script>\n",
              "    </div>\n",
              "  </div>\n",
              "  "
            ]
          },
          "metadata": {},
          "execution_count": 4
        }
      ]
    },
    {
      "cell_type": "code",
      "source": [
        "df['Data'] = df['Data'].astype(str)"
      ],
      "metadata": {
        "id": "r-FssxbgMnr_"
      },
      "execution_count": 5,
      "outputs": []
    },
    {
      "cell_type": "code",
      "source": [
        "df[['Ano', 'Mes', 'Dia']] = df['Data'].str.split('-', expand=True).astype(int)\n",
        "df.head()"
      ],
      "metadata": {
        "colab": {
          "base_uri": "https://localhost:8080/",
          "height": 206
        },
        "id": "OpUkgukfIhs-",
        "outputId": "5b96462d-15c6-4453-e58f-60b4edad3132"
      },
      "execution_count": 6,
      "outputs": [
        {
          "output_type": "execute_result",
          "data": {
            "text/plain": [
              "         Data  Vendas   Ano  Mes  Dia\n",
              "0  2022-12-06     870  2022   12    6\n",
              "1  2022-12-07     868  2022   12    7\n",
              "2  2022-12-08    1189  2022   12    8\n",
              "3  2022-12-09     742  2022   12    9\n",
              "4  2022-12-10     317  2022   12   10"
            ],
            "text/html": [
              "\n",
              "  <div id=\"df-e4bd32ab-55d2-4932-8d7b-ab104e7a10cf\">\n",
              "    <div class=\"colab-df-container\">\n",
              "      <div>\n",
              "<style scoped>\n",
              "    .dataframe tbody tr th:only-of-type {\n",
              "        vertical-align: middle;\n",
              "    }\n",
              "\n",
              "    .dataframe tbody tr th {\n",
              "        vertical-align: top;\n",
              "    }\n",
              "\n",
              "    .dataframe thead th {\n",
              "        text-align: right;\n",
              "    }\n",
              "</style>\n",
              "<table border=\"1\" class=\"dataframe\">\n",
              "  <thead>\n",
              "    <tr style=\"text-align: right;\">\n",
              "      <th></th>\n",
              "      <th>Data</th>\n",
              "      <th>Vendas</th>\n",
              "      <th>Ano</th>\n",
              "      <th>Mes</th>\n",
              "      <th>Dia</th>\n",
              "    </tr>\n",
              "  </thead>\n",
              "  <tbody>\n",
              "    <tr>\n",
              "      <th>0</th>\n",
              "      <td>2022-12-06</td>\n",
              "      <td>870</td>\n",
              "      <td>2022</td>\n",
              "      <td>12</td>\n",
              "      <td>6</td>\n",
              "    </tr>\n",
              "    <tr>\n",
              "      <th>1</th>\n",
              "      <td>2022-12-07</td>\n",
              "      <td>868</td>\n",
              "      <td>2022</td>\n",
              "      <td>12</td>\n",
              "      <td>7</td>\n",
              "    </tr>\n",
              "    <tr>\n",
              "      <th>2</th>\n",
              "      <td>2022-12-08</td>\n",
              "      <td>1189</td>\n",
              "      <td>2022</td>\n",
              "      <td>12</td>\n",
              "      <td>8</td>\n",
              "    </tr>\n",
              "    <tr>\n",
              "      <th>3</th>\n",
              "      <td>2022-12-09</td>\n",
              "      <td>742</td>\n",
              "      <td>2022</td>\n",
              "      <td>12</td>\n",
              "      <td>9</td>\n",
              "    </tr>\n",
              "    <tr>\n",
              "      <th>4</th>\n",
              "      <td>2022-12-10</td>\n",
              "      <td>317</td>\n",
              "      <td>2022</td>\n",
              "      <td>12</td>\n",
              "      <td>10</td>\n",
              "    </tr>\n",
              "  </tbody>\n",
              "</table>\n",
              "</div>\n",
              "      <button class=\"colab-df-convert\" onclick=\"convertToInteractive('df-e4bd32ab-55d2-4932-8d7b-ab104e7a10cf')\"\n",
              "              title=\"Convert this dataframe to an interactive table.\"\n",
              "              style=\"display:none;\">\n",
              "        \n",
              "  <svg xmlns=\"http://www.w3.org/2000/svg\" height=\"24px\"viewBox=\"0 0 24 24\"\n",
              "       width=\"24px\">\n",
              "    <path d=\"M0 0h24v24H0V0z\" fill=\"none\"/>\n",
              "    <path d=\"M18.56 5.44l.94 2.06.94-2.06 2.06-.94-2.06-.94-.94-2.06-.94 2.06-2.06.94zm-11 1L8.5 8.5l.94-2.06 2.06-.94-2.06-.94L8.5 2.5l-.94 2.06-2.06.94zm10 10l.94 2.06.94-2.06 2.06-.94-2.06-.94-.94-2.06-.94 2.06-2.06.94z\"/><path d=\"M17.41 7.96l-1.37-1.37c-.4-.4-.92-.59-1.43-.59-.52 0-1.04.2-1.43.59L10.3 9.45l-7.72 7.72c-.78.78-.78 2.05 0 2.83L4 21.41c.39.39.9.59 1.41.59.51 0 1.02-.2 1.41-.59l7.78-7.78 2.81-2.81c.8-.78.8-2.07 0-2.86zM5.41 20L4 18.59l7.72-7.72 1.47 1.35L5.41 20z\"/>\n",
              "  </svg>\n",
              "      </button>\n",
              "      \n",
              "  <style>\n",
              "    .colab-df-container {\n",
              "      display:flex;\n",
              "      flex-wrap:wrap;\n",
              "      gap: 12px;\n",
              "    }\n",
              "\n",
              "    .colab-df-convert {\n",
              "      background-color: #E8F0FE;\n",
              "      border: none;\n",
              "      border-radius: 50%;\n",
              "      cursor: pointer;\n",
              "      display: none;\n",
              "      fill: #1967D2;\n",
              "      height: 32px;\n",
              "      padding: 0 0 0 0;\n",
              "      width: 32px;\n",
              "    }\n",
              "\n",
              "    .colab-df-convert:hover {\n",
              "      background-color: #E2EBFA;\n",
              "      box-shadow: 0px 1px 2px rgba(60, 64, 67, 0.3), 0px 1px 3px 1px rgba(60, 64, 67, 0.15);\n",
              "      fill: #174EA6;\n",
              "    }\n",
              "\n",
              "    [theme=dark] .colab-df-convert {\n",
              "      background-color: #3B4455;\n",
              "      fill: #D2E3FC;\n",
              "    }\n",
              "\n",
              "    [theme=dark] .colab-df-convert:hover {\n",
              "      background-color: #434B5C;\n",
              "      box-shadow: 0px 1px 3px 1px rgba(0, 0, 0, 0.15);\n",
              "      filter: drop-shadow(0px 1px 2px rgba(0, 0, 0, 0.3));\n",
              "      fill: #FFFFFF;\n",
              "    }\n",
              "  </style>\n",
              "\n",
              "      <script>\n",
              "        const buttonEl =\n",
              "          document.querySelector('#df-e4bd32ab-55d2-4932-8d7b-ab104e7a10cf button.colab-df-convert');\n",
              "        buttonEl.style.display =\n",
              "          google.colab.kernel.accessAllowed ? 'block' : 'none';\n",
              "\n",
              "        async function convertToInteractive(key) {\n",
              "          const element = document.querySelector('#df-e4bd32ab-55d2-4932-8d7b-ab104e7a10cf');\n",
              "          const dataTable =\n",
              "            await google.colab.kernel.invokeFunction('convertToInteractive',\n",
              "                                                     [key], {});\n",
              "          if (!dataTable) return;\n",
              "\n",
              "          const docLinkHtml = 'Like what you see? Visit the ' +\n",
              "            '<a target=\"_blank\" href=https://colab.research.google.com/notebooks/data_table.ipynb>data table notebook</a>'\n",
              "            + ' to learn more about interactive tables.';\n",
              "          element.innerHTML = '';\n",
              "          dataTable['output_type'] = 'display_data';\n",
              "          await google.colab.output.renderOutput(dataTable, element);\n",
              "          const docLink = document.createElement('div');\n",
              "          docLink.innerHTML = docLinkHtml;\n",
              "          element.appendChild(docLink);\n",
              "        }\n",
              "      </script>\n",
              "    </div>\n",
              "  </div>\n",
              "  "
            ]
          },
          "metadata": {},
          "execution_count": 6
        }
      ]
    },
    {
      "cell_type": "markdown",
      "source": [
        "# Análise Exploratória de Dados (EDA)"
      ],
      "metadata": {
        "id": "0J2OltCkTlQx"
      }
    },
    {
      "cell_type": "code",
      "source": [
        "import seaborn as sns\n",
        "import plotly.express as px"
      ],
      "metadata": {
        "id": "3WEo_cmyUIsd"
      },
      "execution_count": 7,
      "outputs": []
    },
    {
      "cell_type": "code",
      "source": [
        "px.histogram(df,x='Vendas',marginal='rug',template='seaborn',labels={'Vendas':'Número de vendas'},title=\"<b> Distribuição do número de vendas\")"
      ],
      "metadata": {
        "colab": {
          "base_uri": "https://localhost:8080/",
          "height": 542
        },
        "id": "fmcZ2jGpULWF",
        "outputId": "0cec51b2-2c86-4559-8dea-5f6ffac202f4"
      },
      "execution_count": 8,
      "outputs": [
        {
          "output_type": "display_data",
          "data": {
            "text/html": [
              "<html>\n",
              "<head><meta charset=\"utf-8\" /></head>\n",
              "<body>\n",
              "    <div>            <script src=\"https://cdnjs.cloudflare.com/ajax/libs/mathjax/2.7.5/MathJax.js?config=TeX-AMS-MML_SVG\"></script><script type=\"text/javascript\">if (window.MathJax) {MathJax.Hub.Config({SVG: {font: \"STIX-Web\"}});}</script>                <script type=\"text/javascript\">window.PlotlyConfig = {MathJaxConfig: 'local'};</script>\n",
              "        <script src=\"https://cdn.plot.ly/plotly-2.8.3.min.js\"></script>                <div id=\"b91c90f7-da4c-498d-97dc-6122f97af032\" class=\"plotly-graph-div\" style=\"height:525px; width:100%;\"></div>            <script type=\"text/javascript\">                                    window.PLOTLYENV=window.PLOTLYENV || {};                                    if (document.getElementById(\"b91c90f7-da4c-498d-97dc-6122f97af032\")) {                    Plotly.newPlot(                        \"b91c90f7-da4c-498d-97dc-6122f97af032\",                        [{\"alignmentgroup\":\"True\",\"bingroup\":\"x\",\"hovertemplate\":\"N\\u00famero de vendas=%{x}<br>count=%{y}<extra></extra>\",\"legendgroup\":\"\",\"marker\":{\"color\":\"rgb(76,114,176)\",\"pattern\":{\"shape\":\"\"}},\"name\":\"\",\"offsetgroup\":\"\",\"orientation\":\"v\",\"showlegend\":false,\"x\":[870,868,1189,742,317,685,1366,1213,1055,1343,832,240,235,1050,711,745,1009,18,40,67,821,572,429,638,106,54,144,814,679,712,1229,821,319,317,1317,807,923,1265,892,289,566,1692,1097,1302,1405,945],\"xaxis\":\"x\",\"yaxis\":\"y\",\"type\":\"histogram\"},{\"alignmentgroup\":\"True\",\"boxpoints\":\"all\",\"fillcolor\":\"rgba(255,255,255,0)\",\"hoveron\":\"points\",\"hovertemplate\":\"N\\u00famero de vendas=%{x}<extra></extra>\",\"jitter\":0,\"legendgroup\":\"\",\"line\":{\"color\":\"rgba(255,255,255,0)\"},\"marker\":{\"color\":\"rgb(76,114,176)\",\"symbol\":\"line-ns-open\"},\"name\":\"\",\"offsetgroup\":\"\",\"showlegend\":false,\"x\":[870,868,1189,742,317,685,1366,1213,1055,1343,832,240,235,1050,711,745,1009,18,40,67,821,572,429,638,106,54,144,814,679,712,1229,821,319,317,1317,807,923,1265,892,289,566,1692,1097,1302,1405,945],\"xaxis\":\"x2\",\"yaxis\":\"y2\",\"type\":\"box\"}],                        {\"template\":{\"data\":{\"barpolar\":[{\"marker\":{\"line\":{\"color\":\"rgb(234,234,242)\",\"width\":0.5},\"pattern\":{\"fillmode\":\"overlay\",\"size\":10,\"solidity\":0.2}},\"type\":\"barpolar\"}],\"bar\":[{\"error_x\":{\"color\":\"rgb(36,36,36)\"},\"error_y\":{\"color\":\"rgb(36,36,36)\"},\"marker\":{\"line\":{\"color\":\"rgb(234,234,242)\",\"width\":0.5},\"pattern\":{\"fillmode\":\"overlay\",\"size\":10,\"solidity\":0.2}},\"type\":\"bar\"}],\"carpet\":[{\"aaxis\":{\"endlinecolor\":\"rgb(36,36,36)\",\"gridcolor\":\"white\",\"linecolor\":\"white\",\"minorgridcolor\":\"white\",\"startlinecolor\":\"rgb(36,36,36)\"},\"baxis\":{\"endlinecolor\":\"rgb(36,36,36)\",\"gridcolor\":\"white\",\"linecolor\":\"white\",\"minorgridcolor\":\"white\",\"startlinecolor\":\"rgb(36,36,36)\"},\"type\":\"carpet\"}],\"choropleth\":[{\"colorbar\":{\"outlinewidth\":0,\"tickcolor\":\"rgb(36,36,36)\",\"ticklen\":8,\"ticks\":\"outside\",\"tickwidth\":2},\"type\":\"choropleth\"}],\"contourcarpet\":[{\"colorbar\":{\"outlinewidth\":0,\"tickcolor\":\"rgb(36,36,36)\",\"ticklen\":8,\"ticks\":\"outside\",\"tickwidth\":2},\"type\":\"contourcarpet\"}],\"contour\":[{\"colorbar\":{\"outlinewidth\":0,\"tickcolor\":\"rgb(36,36,36)\",\"ticklen\":8,\"ticks\":\"outside\",\"tickwidth\":2},\"colorscale\":[[0.0,\"rgb(2,4,25)\"],[0.06274509803921569,\"rgb(24,15,41)\"],[0.12549019607843137,\"rgb(47,23,57)\"],[0.18823529411764706,\"rgb(71,28,72)\"],[0.25098039215686274,\"rgb(97,30,82)\"],[0.3137254901960784,\"rgb(123,30,89)\"],[0.3764705882352941,\"rgb(150,27,91)\"],[0.4392156862745098,\"rgb(177,22,88)\"],[0.5019607843137255,\"rgb(203,26,79)\"],[0.5647058823529412,\"rgb(223,47,67)\"],[0.6274509803921569,\"rgb(236,76,61)\"],[0.6901960784313725,\"rgb(242,107,73)\"],[0.7529411764705882,\"rgb(244,135,95)\"],[0.8156862745098039,\"rgb(245,162,122)\"],[0.8784313725490196,\"rgb(246,188,153)\"],[0.9411764705882353,\"rgb(247,212,187)\"],[1.0,\"rgb(250,234,220)\"]],\"type\":\"contour\"}],\"heatmapgl\":[{\"colorbar\":{\"outlinewidth\":0,\"tickcolor\":\"rgb(36,36,36)\",\"ticklen\":8,\"ticks\":\"outside\",\"tickwidth\":2},\"colorscale\":[[0.0,\"rgb(2,4,25)\"],[0.06274509803921569,\"rgb(24,15,41)\"],[0.12549019607843137,\"rgb(47,23,57)\"],[0.18823529411764706,\"rgb(71,28,72)\"],[0.25098039215686274,\"rgb(97,30,82)\"],[0.3137254901960784,\"rgb(123,30,89)\"],[0.3764705882352941,\"rgb(150,27,91)\"],[0.4392156862745098,\"rgb(177,22,88)\"],[0.5019607843137255,\"rgb(203,26,79)\"],[0.5647058823529412,\"rgb(223,47,67)\"],[0.6274509803921569,\"rgb(236,76,61)\"],[0.6901960784313725,\"rgb(242,107,73)\"],[0.7529411764705882,\"rgb(244,135,95)\"],[0.8156862745098039,\"rgb(245,162,122)\"],[0.8784313725490196,\"rgb(246,188,153)\"],[0.9411764705882353,\"rgb(247,212,187)\"],[1.0,\"rgb(250,234,220)\"]],\"type\":\"heatmapgl\"}],\"heatmap\":[{\"colorbar\":{\"outlinewidth\":0,\"tickcolor\":\"rgb(36,36,36)\",\"ticklen\":8,\"ticks\":\"outside\",\"tickwidth\":2},\"colorscale\":[[0.0,\"rgb(2,4,25)\"],[0.06274509803921569,\"rgb(24,15,41)\"],[0.12549019607843137,\"rgb(47,23,57)\"],[0.18823529411764706,\"rgb(71,28,72)\"],[0.25098039215686274,\"rgb(97,30,82)\"],[0.3137254901960784,\"rgb(123,30,89)\"],[0.3764705882352941,\"rgb(150,27,91)\"],[0.4392156862745098,\"rgb(177,22,88)\"],[0.5019607843137255,\"rgb(203,26,79)\"],[0.5647058823529412,\"rgb(223,47,67)\"],[0.6274509803921569,\"rgb(236,76,61)\"],[0.6901960784313725,\"rgb(242,107,73)\"],[0.7529411764705882,\"rgb(244,135,95)\"],[0.8156862745098039,\"rgb(245,162,122)\"],[0.8784313725490196,\"rgb(246,188,153)\"],[0.9411764705882353,\"rgb(247,212,187)\"],[1.0,\"rgb(250,234,220)\"]],\"type\":\"heatmap\"}],\"histogram2dcontour\":[{\"colorbar\":{\"outlinewidth\":0,\"tickcolor\":\"rgb(36,36,36)\",\"ticklen\":8,\"ticks\":\"outside\",\"tickwidth\":2},\"colorscale\":[[0.0,\"rgb(2,4,25)\"],[0.06274509803921569,\"rgb(24,15,41)\"],[0.12549019607843137,\"rgb(47,23,57)\"],[0.18823529411764706,\"rgb(71,28,72)\"],[0.25098039215686274,\"rgb(97,30,82)\"],[0.3137254901960784,\"rgb(123,30,89)\"],[0.3764705882352941,\"rgb(150,27,91)\"],[0.4392156862745098,\"rgb(177,22,88)\"],[0.5019607843137255,\"rgb(203,26,79)\"],[0.5647058823529412,\"rgb(223,47,67)\"],[0.6274509803921569,\"rgb(236,76,61)\"],[0.6901960784313725,\"rgb(242,107,73)\"],[0.7529411764705882,\"rgb(244,135,95)\"],[0.8156862745098039,\"rgb(245,162,122)\"],[0.8784313725490196,\"rgb(246,188,153)\"],[0.9411764705882353,\"rgb(247,212,187)\"],[1.0,\"rgb(250,234,220)\"]],\"type\":\"histogram2dcontour\"}],\"histogram2d\":[{\"colorbar\":{\"outlinewidth\":0,\"tickcolor\":\"rgb(36,36,36)\",\"ticklen\":8,\"ticks\":\"outside\",\"tickwidth\":2},\"colorscale\":[[0.0,\"rgb(2,4,25)\"],[0.06274509803921569,\"rgb(24,15,41)\"],[0.12549019607843137,\"rgb(47,23,57)\"],[0.18823529411764706,\"rgb(71,28,72)\"],[0.25098039215686274,\"rgb(97,30,82)\"],[0.3137254901960784,\"rgb(123,30,89)\"],[0.3764705882352941,\"rgb(150,27,91)\"],[0.4392156862745098,\"rgb(177,22,88)\"],[0.5019607843137255,\"rgb(203,26,79)\"],[0.5647058823529412,\"rgb(223,47,67)\"],[0.6274509803921569,\"rgb(236,76,61)\"],[0.6901960784313725,\"rgb(242,107,73)\"],[0.7529411764705882,\"rgb(244,135,95)\"],[0.8156862745098039,\"rgb(245,162,122)\"],[0.8784313725490196,\"rgb(246,188,153)\"],[0.9411764705882353,\"rgb(247,212,187)\"],[1.0,\"rgb(250,234,220)\"]],\"type\":\"histogram2d\"}],\"histogram\":[{\"marker\":{\"pattern\":{\"fillmode\":\"overlay\",\"size\":10,\"solidity\":0.2}},\"type\":\"histogram\"}],\"mesh3d\":[{\"colorbar\":{\"outlinewidth\":0,\"tickcolor\":\"rgb(36,36,36)\",\"ticklen\":8,\"ticks\":\"outside\",\"tickwidth\":2},\"type\":\"mesh3d\"}],\"parcoords\":[{\"line\":{\"colorbar\":{\"outlinewidth\":0,\"tickcolor\":\"rgb(36,36,36)\",\"ticklen\":8,\"ticks\":\"outside\",\"tickwidth\":2}},\"type\":\"parcoords\"}],\"pie\":[{\"automargin\":true,\"type\":\"pie\"}],\"scatter3d\":[{\"line\":{\"colorbar\":{\"outlinewidth\":0,\"tickcolor\":\"rgb(36,36,36)\",\"ticklen\":8,\"ticks\":\"outside\",\"tickwidth\":2}},\"marker\":{\"colorbar\":{\"outlinewidth\":0,\"tickcolor\":\"rgb(36,36,36)\",\"ticklen\":8,\"ticks\":\"outside\",\"tickwidth\":2}},\"type\":\"scatter3d\"}],\"scattercarpet\":[{\"marker\":{\"colorbar\":{\"outlinewidth\":0,\"tickcolor\":\"rgb(36,36,36)\",\"ticklen\":8,\"ticks\":\"outside\",\"tickwidth\":2}},\"type\":\"scattercarpet\"}],\"scattergeo\":[{\"marker\":{\"colorbar\":{\"outlinewidth\":0,\"tickcolor\":\"rgb(36,36,36)\",\"ticklen\":8,\"ticks\":\"outside\",\"tickwidth\":2}},\"type\":\"scattergeo\"}],\"scattergl\":[{\"marker\":{\"colorbar\":{\"outlinewidth\":0,\"tickcolor\":\"rgb(36,36,36)\",\"ticklen\":8,\"ticks\":\"outside\",\"tickwidth\":2}},\"type\":\"scattergl\"}],\"scattermapbox\":[{\"marker\":{\"colorbar\":{\"outlinewidth\":0,\"tickcolor\":\"rgb(36,36,36)\",\"ticklen\":8,\"ticks\":\"outside\",\"tickwidth\":2}},\"type\":\"scattermapbox\"}],\"scatterpolargl\":[{\"marker\":{\"colorbar\":{\"outlinewidth\":0,\"tickcolor\":\"rgb(36,36,36)\",\"ticklen\":8,\"ticks\":\"outside\",\"tickwidth\":2}},\"type\":\"scatterpolargl\"}],\"scatterpolar\":[{\"marker\":{\"colorbar\":{\"outlinewidth\":0,\"tickcolor\":\"rgb(36,36,36)\",\"ticklen\":8,\"ticks\":\"outside\",\"tickwidth\":2}},\"type\":\"scatterpolar\"}],\"scatter\":[{\"marker\":{\"colorbar\":{\"outlinewidth\":0,\"tickcolor\":\"rgb(36,36,36)\",\"ticklen\":8,\"ticks\":\"outside\",\"tickwidth\":2}},\"type\":\"scatter\"}],\"scatterternary\":[{\"marker\":{\"colorbar\":{\"outlinewidth\":0,\"tickcolor\":\"rgb(36,36,36)\",\"ticklen\":8,\"ticks\":\"outside\",\"tickwidth\":2}},\"type\":\"scatterternary\"}],\"surface\":[{\"colorbar\":{\"outlinewidth\":0,\"tickcolor\":\"rgb(36,36,36)\",\"ticklen\":8,\"ticks\":\"outside\",\"tickwidth\":2},\"colorscale\":[[0.0,\"rgb(2,4,25)\"],[0.06274509803921569,\"rgb(24,15,41)\"],[0.12549019607843137,\"rgb(47,23,57)\"],[0.18823529411764706,\"rgb(71,28,72)\"],[0.25098039215686274,\"rgb(97,30,82)\"],[0.3137254901960784,\"rgb(123,30,89)\"],[0.3764705882352941,\"rgb(150,27,91)\"],[0.4392156862745098,\"rgb(177,22,88)\"],[0.5019607843137255,\"rgb(203,26,79)\"],[0.5647058823529412,\"rgb(223,47,67)\"],[0.6274509803921569,\"rgb(236,76,61)\"],[0.6901960784313725,\"rgb(242,107,73)\"],[0.7529411764705882,\"rgb(244,135,95)\"],[0.8156862745098039,\"rgb(245,162,122)\"],[0.8784313725490196,\"rgb(246,188,153)\"],[0.9411764705882353,\"rgb(247,212,187)\"],[1.0,\"rgb(250,234,220)\"]],\"type\":\"surface\"}],\"table\":[{\"cells\":{\"fill\":{\"color\":\"rgb(231,231,240)\"},\"line\":{\"color\":\"white\"}},\"header\":{\"fill\":{\"color\":\"rgb(183,183,191)\"},\"line\":{\"color\":\"white\"}},\"type\":\"table\"}]},\"layout\":{\"annotationdefaults\":{\"arrowcolor\":\"rgb(67,103,167)\"},\"autotypenumbers\":\"strict\",\"coloraxis\":{\"colorbar\":{\"outlinewidth\":0,\"tickcolor\":\"rgb(36,36,36)\",\"ticklen\":8,\"ticks\":\"outside\",\"tickwidth\":2}},\"colorscale\":{\"sequential\":[[0.0,\"rgb(2,4,25)\"],[0.06274509803921569,\"rgb(24,15,41)\"],[0.12549019607843137,\"rgb(47,23,57)\"],[0.18823529411764706,\"rgb(71,28,72)\"],[0.25098039215686274,\"rgb(97,30,82)\"],[0.3137254901960784,\"rgb(123,30,89)\"],[0.3764705882352941,\"rgb(150,27,91)\"],[0.4392156862745098,\"rgb(177,22,88)\"],[0.5019607843137255,\"rgb(203,26,79)\"],[0.5647058823529412,\"rgb(223,47,67)\"],[0.6274509803921569,\"rgb(236,76,61)\"],[0.6901960784313725,\"rgb(242,107,73)\"],[0.7529411764705882,\"rgb(244,135,95)\"],[0.8156862745098039,\"rgb(245,162,122)\"],[0.8784313725490196,\"rgb(246,188,153)\"],[0.9411764705882353,\"rgb(247,212,187)\"],[1.0,\"rgb(250,234,220)\"]],\"sequentialminus\":[[0.0,\"rgb(2,4,25)\"],[0.06274509803921569,\"rgb(24,15,41)\"],[0.12549019607843137,\"rgb(47,23,57)\"],[0.18823529411764706,\"rgb(71,28,72)\"],[0.25098039215686274,\"rgb(97,30,82)\"],[0.3137254901960784,\"rgb(123,30,89)\"],[0.3764705882352941,\"rgb(150,27,91)\"],[0.4392156862745098,\"rgb(177,22,88)\"],[0.5019607843137255,\"rgb(203,26,79)\"],[0.5647058823529412,\"rgb(223,47,67)\"],[0.6274509803921569,\"rgb(236,76,61)\"],[0.6901960784313725,\"rgb(242,107,73)\"],[0.7529411764705882,\"rgb(244,135,95)\"],[0.8156862745098039,\"rgb(245,162,122)\"],[0.8784313725490196,\"rgb(246,188,153)\"],[0.9411764705882353,\"rgb(247,212,187)\"],[1.0,\"rgb(250,234,220)\"]]},\"colorway\":[\"rgb(76,114,176)\",\"rgb(221,132,82)\",\"rgb(85,168,104)\",\"rgb(196,78,82)\",\"rgb(129,114,179)\",\"rgb(147,120,96)\",\"rgb(218,139,195)\",\"rgb(140,140,140)\",\"rgb(204,185,116)\",\"rgb(100,181,205)\"],\"font\":{\"color\":\"rgb(36,36,36)\"},\"geo\":{\"bgcolor\":\"white\",\"lakecolor\":\"white\",\"landcolor\":\"rgb(234,234,242)\",\"showlakes\":true,\"showland\":true,\"subunitcolor\":\"white\"},\"hoverlabel\":{\"align\":\"left\"},\"hovermode\":\"closest\",\"paper_bgcolor\":\"white\",\"plot_bgcolor\":\"rgb(234,234,242)\",\"polar\":{\"angularaxis\":{\"gridcolor\":\"white\",\"linecolor\":\"white\",\"showgrid\":true,\"ticks\":\"\"},\"bgcolor\":\"rgb(234,234,242)\",\"radialaxis\":{\"gridcolor\":\"white\",\"linecolor\":\"white\",\"showgrid\":true,\"ticks\":\"\"}},\"scene\":{\"xaxis\":{\"backgroundcolor\":\"rgb(234,234,242)\",\"gridcolor\":\"white\",\"gridwidth\":2,\"linecolor\":\"white\",\"showbackground\":true,\"showgrid\":true,\"ticks\":\"\",\"zerolinecolor\":\"white\"},\"yaxis\":{\"backgroundcolor\":\"rgb(234,234,242)\",\"gridcolor\":\"white\",\"gridwidth\":2,\"linecolor\":\"white\",\"showbackground\":true,\"showgrid\":true,\"ticks\":\"\",\"zerolinecolor\":\"white\"},\"zaxis\":{\"backgroundcolor\":\"rgb(234,234,242)\",\"gridcolor\":\"white\",\"gridwidth\":2,\"linecolor\":\"white\",\"showbackground\":true,\"showgrid\":true,\"ticks\":\"\",\"zerolinecolor\":\"white\"}},\"shapedefaults\":{\"fillcolor\":\"rgb(67,103,167)\",\"line\":{\"width\":0},\"opacity\":0.5},\"ternary\":{\"aaxis\":{\"gridcolor\":\"white\",\"linecolor\":\"white\",\"showgrid\":true,\"ticks\":\"\"},\"baxis\":{\"gridcolor\":\"white\",\"linecolor\":\"white\",\"showgrid\":true,\"ticks\":\"\"},\"bgcolor\":\"rgb(234,234,242)\",\"caxis\":{\"gridcolor\":\"white\",\"linecolor\":\"white\",\"showgrid\":true,\"ticks\":\"\"}},\"xaxis\":{\"automargin\":true,\"gridcolor\":\"white\",\"linecolor\":\"white\",\"showgrid\":true,\"ticks\":\"\",\"title\":{\"standoff\":15},\"zerolinecolor\":\"white\"},\"yaxis\":{\"automargin\":true,\"gridcolor\":\"white\",\"linecolor\":\"white\",\"showgrid\":true,\"ticks\":\"\",\"title\":{\"standoff\":15},\"zerolinecolor\":\"white\"}}},\"xaxis\":{\"anchor\":\"y\",\"domain\":[0.0,1.0],\"title\":{\"text\":\"N\\u00famero de vendas\"}},\"yaxis\":{\"anchor\":\"x\",\"domain\":[0.0,0.8316],\"title\":{\"text\":\"count\"}},\"xaxis2\":{\"anchor\":\"y2\",\"domain\":[0.0,1.0],\"matches\":\"x\",\"showticklabels\":false},\"yaxis2\":{\"anchor\":\"x2\",\"domain\":[0.8416,1.0],\"matches\":\"y2\",\"showticklabels\":false,\"showline\":false,\"ticks\":\"\"},\"legend\":{\"tracegroupgap\":0},\"title\":{\"text\":\"<b> Distribui\\u00e7\\u00e3o do n\\u00famero de vendas\"},\"barmode\":\"relative\"},                        {\"responsive\": true}                    ).then(function(){\n",
              "                            \n",
              "var gd = document.getElementById('b91c90f7-da4c-498d-97dc-6122f97af032');\n",
              "var x = new MutationObserver(function (mutations, observer) {{\n",
              "        var display = window.getComputedStyle(gd).display;\n",
              "        if (!display || display === 'none') {{\n",
              "            console.log([gd, 'removed!']);\n",
              "            Plotly.purge(gd);\n",
              "            observer.disconnect();\n",
              "        }}\n",
              "}});\n",
              "\n",
              "// Listen for the removal of the full notebook cells\n",
              "var notebookContainer = gd.closest('#notebook-container');\n",
              "if (notebookContainer) {{\n",
              "    x.observe(notebookContainer, {childList: true});\n",
              "}}\n",
              "\n",
              "// Listen for the clearing of the current output cell\n",
              "var outputEl = gd.closest('.output');\n",
              "if (outputEl) {{\n",
              "    x.observe(outputEl, {childList: true});\n",
              "}}\n",
              "\n",
              "                        })                };                            </script>        </div>\n",
              "</body>\n",
              "</html>"
            ]
          },
          "metadata": {}
        }
      ]
    },
    {
      "cell_type": "markdown",
      "source": [
        "A maior frequência de número de vendas está no intervalo de 800 a 1000 vendas."
      ],
      "metadata": {
        "id": "C_l1lU-EXEi2"
      }
    },
    {
      "cell_type": "code",
      "source": [
        "vendas = np.array(df['Vendas'])"
      ],
      "metadata": {
        "id": "2_jkGQ4ZVH3B"
      },
      "execution_count": 9,
      "outputs": []
    },
    {
      "cell_type": "code",
      "source": [
        "fig = px.line(df, x=\"Data\", y=\"Vendas\", labels={'Data':'dia','Vendas':'vendas'}, template=\"seaborn\",title=\"<b> Número de vendas por dia\")\n",
        "fig.show()"
      ],
      "metadata": {
        "colab": {
          "base_uri": "https://localhost:8080/",
          "height": 542
        },
        "id": "EYKs73x3kSOo",
        "outputId": "898cd20c-6b17-4c1b-d810-5d81c39aa57e"
      },
      "execution_count": 10,
      "outputs": [
        {
          "output_type": "display_data",
          "data": {
            "text/html": [
              "<html>\n",
              "<head><meta charset=\"utf-8\" /></head>\n",
              "<body>\n",
              "    <div>            <script src=\"https://cdnjs.cloudflare.com/ajax/libs/mathjax/2.7.5/MathJax.js?config=TeX-AMS-MML_SVG\"></script><script type=\"text/javascript\">if (window.MathJax) {MathJax.Hub.Config({SVG: {font: \"STIX-Web\"}});}</script>                <script type=\"text/javascript\">window.PlotlyConfig = {MathJaxConfig: 'local'};</script>\n",
              "        <script src=\"https://cdn.plot.ly/plotly-2.8.3.min.js\"></script>                <div id=\"c6ab521a-eff3-43ec-974a-ea5847197bb5\" class=\"plotly-graph-div\" style=\"height:525px; width:100%;\"></div>            <script type=\"text/javascript\">                                    window.PLOTLYENV=window.PLOTLYENV || {};                                    if (document.getElementById(\"c6ab521a-eff3-43ec-974a-ea5847197bb5\")) {                    Plotly.newPlot(                        \"c6ab521a-eff3-43ec-974a-ea5847197bb5\",                        [{\"hovertemplate\":\"dia=%{x}<br>vendas=%{y}<extra></extra>\",\"legendgroup\":\"\",\"line\":{\"color\":\"rgb(76,114,176)\",\"dash\":\"solid\"},\"marker\":{\"symbol\":\"circle\"},\"mode\":\"lines\",\"name\":\"\",\"orientation\":\"v\",\"showlegend\":false,\"x\":[\"2022-12-06\",\"2022-12-07\",\"2022-12-08\",\"2022-12-09\",\"2022-12-10\",\"2022-12-11\",\"2022-12-12\",\"2022-12-13\",\"2022-12-14\",\"2022-12-15\",\"2022-12-16\",\"2022-12-17\",\"2022-12-18\",\"2022-12-19\",\"2022-12-20\",\"2022-12-21\",\"2022-12-22\",\"2022-12-23\",\"2022-12-24\",\"2022-12-25\",\"2022-12-26\",\"2022-12-27\",\"2022-12-28\",\"2022-12-29\",\"2022-12-30\",\"2022-12-31\",\"2023-01-01\",\"2023-01-02\",\"2023-01-03\",\"2023-01-04\",\"2023-01-05\",\"2023-01-06\",\"2023-01-07\",\"2023-01-08\",\"2023-01-09\",\"2023-01-10\",\"2023-01-11\",\"2023-01-12\",\"2023-01-13\",\"2023-01-14\",\"2023-01-15\",\"2023-01-16\",\"2023-01-17\",\"2023-01-18\",\"2023-01-19\",\"2023-01-20\"],\"xaxis\":\"x\",\"y\":[870,868,1189,742,317,685,1366,1213,1055,1343,832,240,235,1050,711,745,1009,18,40,67,821,572,429,638,106,54,144,814,679,712,1229,821,319,317,1317,807,923,1265,892,289,566,1692,1097,1302,1405,945],\"yaxis\":\"y\",\"type\":\"scatter\"}],                        {\"template\":{\"data\":{\"barpolar\":[{\"marker\":{\"line\":{\"color\":\"rgb(234,234,242)\",\"width\":0.5},\"pattern\":{\"fillmode\":\"overlay\",\"size\":10,\"solidity\":0.2}},\"type\":\"barpolar\"}],\"bar\":[{\"error_x\":{\"color\":\"rgb(36,36,36)\"},\"error_y\":{\"color\":\"rgb(36,36,36)\"},\"marker\":{\"line\":{\"color\":\"rgb(234,234,242)\",\"width\":0.5},\"pattern\":{\"fillmode\":\"overlay\",\"size\":10,\"solidity\":0.2}},\"type\":\"bar\"}],\"carpet\":[{\"aaxis\":{\"endlinecolor\":\"rgb(36,36,36)\",\"gridcolor\":\"white\",\"linecolor\":\"white\",\"minorgridcolor\":\"white\",\"startlinecolor\":\"rgb(36,36,36)\"},\"baxis\":{\"endlinecolor\":\"rgb(36,36,36)\",\"gridcolor\":\"white\",\"linecolor\":\"white\",\"minorgridcolor\":\"white\",\"startlinecolor\":\"rgb(36,36,36)\"},\"type\":\"carpet\"}],\"choropleth\":[{\"colorbar\":{\"outlinewidth\":0,\"tickcolor\":\"rgb(36,36,36)\",\"ticklen\":8,\"ticks\":\"outside\",\"tickwidth\":2},\"type\":\"choropleth\"}],\"contourcarpet\":[{\"colorbar\":{\"outlinewidth\":0,\"tickcolor\":\"rgb(36,36,36)\",\"ticklen\":8,\"ticks\":\"outside\",\"tickwidth\":2},\"type\":\"contourcarpet\"}],\"contour\":[{\"colorbar\":{\"outlinewidth\":0,\"tickcolor\":\"rgb(36,36,36)\",\"ticklen\":8,\"ticks\":\"outside\",\"tickwidth\":2},\"colorscale\":[[0.0,\"rgb(2,4,25)\"],[0.06274509803921569,\"rgb(24,15,41)\"],[0.12549019607843137,\"rgb(47,23,57)\"],[0.18823529411764706,\"rgb(71,28,72)\"],[0.25098039215686274,\"rgb(97,30,82)\"],[0.3137254901960784,\"rgb(123,30,89)\"],[0.3764705882352941,\"rgb(150,27,91)\"],[0.4392156862745098,\"rgb(177,22,88)\"],[0.5019607843137255,\"rgb(203,26,79)\"],[0.5647058823529412,\"rgb(223,47,67)\"],[0.6274509803921569,\"rgb(236,76,61)\"],[0.6901960784313725,\"rgb(242,107,73)\"],[0.7529411764705882,\"rgb(244,135,95)\"],[0.8156862745098039,\"rgb(245,162,122)\"],[0.8784313725490196,\"rgb(246,188,153)\"],[0.9411764705882353,\"rgb(247,212,187)\"],[1.0,\"rgb(250,234,220)\"]],\"type\":\"contour\"}],\"heatmapgl\":[{\"colorbar\":{\"outlinewidth\":0,\"tickcolor\":\"rgb(36,36,36)\",\"ticklen\":8,\"ticks\":\"outside\",\"tickwidth\":2},\"colorscale\":[[0.0,\"rgb(2,4,25)\"],[0.06274509803921569,\"rgb(24,15,41)\"],[0.12549019607843137,\"rgb(47,23,57)\"],[0.18823529411764706,\"rgb(71,28,72)\"],[0.25098039215686274,\"rgb(97,30,82)\"],[0.3137254901960784,\"rgb(123,30,89)\"],[0.3764705882352941,\"rgb(150,27,91)\"],[0.4392156862745098,\"rgb(177,22,88)\"],[0.5019607843137255,\"rgb(203,26,79)\"],[0.5647058823529412,\"rgb(223,47,67)\"],[0.6274509803921569,\"rgb(236,76,61)\"],[0.6901960784313725,\"rgb(242,107,73)\"],[0.7529411764705882,\"rgb(244,135,95)\"],[0.8156862745098039,\"rgb(245,162,122)\"],[0.8784313725490196,\"rgb(246,188,153)\"],[0.9411764705882353,\"rgb(247,212,187)\"],[1.0,\"rgb(250,234,220)\"]],\"type\":\"heatmapgl\"}],\"heatmap\":[{\"colorbar\":{\"outlinewidth\":0,\"tickcolor\":\"rgb(36,36,36)\",\"ticklen\":8,\"ticks\":\"outside\",\"tickwidth\":2},\"colorscale\":[[0.0,\"rgb(2,4,25)\"],[0.06274509803921569,\"rgb(24,15,41)\"],[0.12549019607843137,\"rgb(47,23,57)\"],[0.18823529411764706,\"rgb(71,28,72)\"],[0.25098039215686274,\"rgb(97,30,82)\"],[0.3137254901960784,\"rgb(123,30,89)\"],[0.3764705882352941,\"rgb(150,27,91)\"],[0.4392156862745098,\"rgb(177,22,88)\"],[0.5019607843137255,\"rgb(203,26,79)\"],[0.5647058823529412,\"rgb(223,47,67)\"],[0.6274509803921569,\"rgb(236,76,61)\"],[0.6901960784313725,\"rgb(242,107,73)\"],[0.7529411764705882,\"rgb(244,135,95)\"],[0.8156862745098039,\"rgb(245,162,122)\"],[0.8784313725490196,\"rgb(246,188,153)\"],[0.9411764705882353,\"rgb(247,212,187)\"],[1.0,\"rgb(250,234,220)\"]],\"type\":\"heatmap\"}],\"histogram2dcontour\":[{\"colorbar\":{\"outlinewidth\":0,\"tickcolor\":\"rgb(36,36,36)\",\"ticklen\":8,\"ticks\":\"outside\",\"tickwidth\":2},\"colorscale\":[[0.0,\"rgb(2,4,25)\"],[0.06274509803921569,\"rgb(24,15,41)\"],[0.12549019607843137,\"rgb(47,23,57)\"],[0.18823529411764706,\"rgb(71,28,72)\"],[0.25098039215686274,\"rgb(97,30,82)\"],[0.3137254901960784,\"rgb(123,30,89)\"],[0.3764705882352941,\"rgb(150,27,91)\"],[0.4392156862745098,\"rgb(177,22,88)\"],[0.5019607843137255,\"rgb(203,26,79)\"],[0.5647058823529412,\"rgb(223,47,67)\"],[0.6274509803921569,\"rgb(236,76,61)\"],[0.6901960784313725,\"rgb(242,107,73)\"],[0.7529411764705882,\"rgb(244,135,95)\"],[0.8156862745098039,\"rgb(245,162,122)\"],[0.8784313725490196,\"rgb(246,188,153)\"],[0.9411764705882353,\"rgb(247,212,187)\"],[1.0,\"rgb(250,234,220)\"]],\"type\":\"histogram2dcontour\"}],\"histogram2d\":[{\"colorbar\":{\"outlinewidth\":0,\"tickcolor\":\"rgb(36,36,36)\",\"ticklen\":8,\"ticks\":\"outside\",\"tickwidth\":2},\"colorscale\":[[0.0,\"rgb(2,4,25)\"],[0.06274509803921569,\"rgb(24,15,41)\"],[0.12549019607843137,\"rgb(47,23,57)\"],[0.18823529411764706,\"rgb(71,28,72)\"],[0.25098039215686274,\"rgb(97,30,82)\"],[0.3137254901960784,\"rgb(123,30,89)\"],[0.3764705882352941,\"rgb(150,27,91)\"],[0.4392156862745098,\"rgb(177,22,88)\"],[0.5019607843137255,\"rgb(203,26,79)\"],[0.5647058823529412,\"rgb(223,47,67)\"],[0.6274509803921569,\"rgb(236,76,61)\"],[0.6901960784313725,\"rgb(242,107,73)\"],[0.7529411764705882,\"rgb(244,135,95)\"],[0.8156862745098039,\"rgb(245,162,122)\"],[0.8784313725490196,\"rgb(246,188,153)\"],[0.9411764705882353,\"rgb(247,212,187)\"],[1.0,\"rgb(250,234,220)\"]],\"type\":\"histogram2d\"}],\"histogram\":[{\"marker\":{\"pattern\":{\"fillmode\":\"overlay\",\"size\":10,\"solidity\":0.2}},\"type\":\"histogram\"}],\"mesh3d\":[{\"colorbar\":{\"outlinewidth\":0,\"tickcolor\":\"rgb(36,36,36)\",\"ticklen\":8,\"ticks\":\"outside\",\"tickwidth\":2},\"type\":\"mesh3d\"}],\"parcoords\":[{\"line\":{\"colorbar\":{\"outlinewidth\":0,\"tickcolor\":\"rgb(36,36,36)\",\"ticklen\":8,\"ticks\":\"outside\",\"tickwidth\":2}},\"type\":\"parcoords\"}],\"pie\":[{\"automargin\":true,\"type\":\"pie\"}],\"scatter3d\":[{\"line\":{\"colorbar\":{\"outlinewidth\":0,\"tickcolor\":\"rgb(36,36,36)\",\"ticklen\":8,\"ticks\":\"outside\",\"tickwidth\":2}},\"marker\":{\"colorbar\":{\"outlinewidth\":0,\"tickcolor\":\"rgb(36,36,36)\",\"ticklen\":8,\"ticks\":\"outside\",\"tickwidth\":2}},\"type\":\"scatter3d\"}],\"scattercarpet\":[{\"marker\":{\"colorbar\":{\"outlinewidth\":0,\"tickcolor\":\"rgb(36,36,36)\",\"ticklen\":8,\"ticks\":\"outside\",\"tickwidth\":2}},\"type\":\"scattercarpet\"}],\"scattergeo\":[{\"marker\":{\"colorbar\":{\"outlinewidth\":0,\"tickcolor\":\"rgb(36,36,36)\",\"ticklen\":8,\"ticks\":\"outside\",\"tickwidth\":2}},\"type\":\"scattergeo\"}],\"scattergl\":[{\"marker\":{\"colorbar\":{\"outlinewidth\":0,\"tickcolor\":\"rgb(36,36,36)\",\"ticklen\":8,\"ticks\":\"outside\",\"tickwidth\":2}},\"type\":\"scattergl\"}],\"scattermapbox\":[{\"marker\":{\"colorbar\":{\"outlinewidth\":0,\"tickcolor\":\"rgb(36,36,36)\",\"ticklen\":8,\"ticks\":\"outside\",\"tickwidth\":2}},\"type\":\"scattermapbox\"}],\"scatterpolargl\":[{\"marker\":{\"colorbar\":{\"outlinewidth\":0,\"tickcolor\":\"rgb(36,36,36)\",\"ticklen\":8,\"ticks\":\"outside\",\"tickwidth\":2}},\"type\":\"scatterpolargl\"}],\"scatterpolar\":[{\"marker\":{\"colorbar\":{\"outlinewidth\":0,\"tickcolor\":\"rgb(36,36,36)\",\"ticklen\":8,\"ticks\":\"outside\",\"tickwidth\":2}},\"type\":\"scatterpolar\"}],\"scatter\":[{\"marker\":{\"colorbar\":{\"outlinewidth\":0,\"tickcolor\":\"rgb(36,36,36)\",\"ticklen\":8,\"ticks\":\"outside\",\"tickwidth\":2}},\"type\":\"scatter\"}],\"scatterternary\":[{\"marker\":{\"colorbar\":{\"outlinewidth\":0,\"tickcolor\":\"rgb(36,36,36)\",\"ticklen\":8,\"ticks\":\"outside\",\"tickwidth\":2}},\"type\":\"scatterternary\"}],\"surface\":[{\"colorbar\":{\"outlinewidth\":0,\"tickcolor\":\"rgb(36,36,36)\",\"ticklen\":8,\"ticks\":\"outside\",\"tickwidth\":2},\"colorscale\":[[0.0,\"rgb(2,4,25)\"],[0.06274509803921569,\"rgb(24,15,41)\"],[0.12549019607843137,\"rgb(47,23,57)\"],[0.18823529411764706,\"rgb(71,28,72)\"],[0.25098039215686274,\"rgb(97,30,82)\"],[0.3137254901960784,\"rgb(123,30,89)\"],[0.3764705882352941,\"rgb(150,27,91)\"],[0.4392156862745098,\"rgb(177,22,88)\"],[0.5019607843137255,\"rgb(203,26,79)\"],[0.5647058823529412,\"rgb(223,47,67)\"],[0.6274509803921569,\"rgb(236,76,61)\"],[0.6901960784313725,\"rgb(242,107,73)\"],[0.7529411764705882,\"rgb(244,135,95)\"],[0.8156862745098039,\"rgb(245,162,122)\"],[0.8784313725490196,\"rgb(246,188,153)\"],[0.9411764705882353,\"rgb(247,212,187)\"],[1.0,\"rgb(250,234,220)\"]],\"type\":\"surface\"}],\"table\":[{\"cells\":{\"fill\":{\"color\":\"rgb(231,231,240)\"},\"line\":{\"color\":\"white\"}},\"header\":{\"fill\":{\"color\":\"rgb(183,183,191)\"},\"line\":{\"color\":\"white\"}},\"type\":\"table\"}]},\"layout\":{\"annotationdefaults\":{\"arrowcolor\":\"rgb(67,103,167)\"},\"autotypenumbers\":\"strict\",\"coloraxis\":{\"colorbar\":{\"outlinewidth\":0,\"tickcolor\":\"rgb(36,36,36)\",\"ticklen\":8,\"ticks\":\"outside\",\"tickwidth\":2}},\"colorscale\":{\"sequential\":[[0.0,\"rgb(2,4,25)\"],[0.06274509803921569,\"rgb(24,15,41)\"],[0.12549019607843137,\"rgb(47,23,57)\"],[0.18823529411764706,\"rgb(71,28,72)\"],[0.25098039215686274,\"rgb(97,30,82)\"],[0.3137254901960784,\"rgb(123,30,89)\"],[0.3764705882352941,\"rgb(150,27,91)\"],[0.4392156862745098,\"rgb(177,22,88)\"],[0.5019607843137255,\"rgb(203,26,79)\"],[0.5647058823529412,\"rgb(223,47,67)\"],[0.6274509803921569,\"rgb(236,76,61)\"],[0.6901960784313725,\"rgb(242,107,73)\"],[0.7529411764705882,\"rgb(244,135,95)\"],[0.8156862745098039,\"rgb(245,162,122)\"],[0.8784313725490196,\"rgb(246,188,153)\"],[0.9411764705882353,\"rgb(247,212,187)\"],[1.0,\"rgb(250,234,220)\"]],\"sequentialminus\":[[0.0,\"rgb(2,4,25)\"],[0.06274509803921569,\"rgb(24,15,41)\"],[0.12549019607843137,\"rgb(47,23,57)\"],[0.18823529411764706,\"rgb(71,28,72)\"],[0.25098039215686274,\"rgb(97,30,82)\"],[0.3137254901960784,\"rgb(123,30,89)\"],[0.3764705882352941,\"rgb(150,27,91)\"],[0.4392156862745098,\"rgb(177,22,88)\"],[0.5019607843137255,\"rgb(203,26,79)\"],[0.5647058823529412,\"rgb(223,47,67)\"],[0.6274509803921569,\"rgb(236,76,61)\"],[0.6901960784313725,\"rgb(242,107,73)\"],[0.7529411764705882,\"rgb(244,135,95)\"],[0.8156862745098039,\"rgb(245,162,122)\"],[0.8784313725490196,\"rgb(246,188,153)\"],[0.9411764705882353,\"rgb(247,212,187)\"],[1.0,\"rgb(250,234,220)\"]]},\"colorway\":[\"rgb(76,114,176)\",\"rgb(221,132,82)\",\"rgb(85,168,104)\",\"rgb(196,78,82)\",\"rgb(129,114,179)\",\"rgb(147,120,96)\",\"rgb(218,139,195)\",\"rgb(140,140,140)\",\"rgb(204,185,116)\",\"rgb(100,181,205)\"],\"font\":{\"color\":\"rgb(36,36,36)\"},\"geo\":{\"bgcolor\":\"white\",\"lakecolor\":\"white\",\"landcolor\":\"rgb(234,234,242)\",\"showlakes\":true,\"showland\":true,\"subunitcolor\":\"white\"},\"hoverlabel\":{\"align\":\"left\"},\"hovermode\":\"closest\",\"paper_bgcolor\":\"white\",\"plot_bgcolor\":\"rgb(234,234,242)\",\"polar\":{\"angularaxis\":{\"gridcolor\":\"white\",\"linecolor\":\"white\",\"showgrid\":true,\"ticks\":\"\"},\"bgcolor\":\"rgb(234,234,242)\",\"radialaxis\":{\"gridcolor\":\"white\",\"linecolor\":\"white\",\"showgrid\":true,\"ticks\":\"\"}},\"scene\":{\"xaxis\":{\"backgroundcolor\":\"rgb(234,234,242)\",\"gridcolor\":\"white\",\"gridwidth\":2,\"linecolor\":\"white\",\"showbackground\":true,\"showgrid\":true,\"ticks\":\"\",\"zerolinecolor\":\"white\"},\"yaxis\":{\"backgroundcolor\":\"rgb(234,234,242)\",\"gridcolor\":\"white\",\"gridwidth\":2,\"linecolor\":\"white\",\"showbackground\":true,\"showgrid\":true,\"ticks\":\"\",\"zerolinecolor\":\"white\"},\"zaxis\":{\"backgroundcolor\":\"rgb(234,234,242)\",\"gridcolor\":\"white\",\"gridwidth\":2,\"linecolor\":\"white\",\"showbackground\":true,\"showgrid\":true,\"ticks\":\"\",\"zerolinecolor\":\"white\"}},\"shapedefaults\":{\"fillcolor\":\"rgb(67,103,167)\",\"line\":{\"width\":0},\"opacity\":0.5},\"ternary\":{\"aaxis\":{\"gridcolor\":\"white\",\"linecolor\":\"white\",\"showgrid\":true,\"ticks\":\"\"},\"baxis\":{\"gridcolor\":\"white\",\"linecolor\":\"white\",\"showgrid\":true,\"ticks\":\"\"},\"bgcolor\":\"rgb(234,234,242)\",\"caxis\":{\"gridcolor\":\"white\",\"linecolor\":\"white\",\"showgrid\":true,\"ticks\":\"\"}},\"xaxis\":{\"automargin\":true,\"gridcolor\":\"white\",\"linecolor\":\"white\",\"showgrid\":true,\"ticks\":\"\",\"title\":{\"standoff\":15},\"zerolinecolor\":\"white\"},\"yaxis\":{\"automargin\":true,\"gridcolor\":\"white\",\"linecolor\":\"white\",\"showgrid\":true,\"ticks\":\"\",\"title\":{\"standoff\":15},\"zerolinecolor\":\"white\"}}},\"xaxis\":{\"anchor\":\"y\",\"domain\":[0.0,1.0],\"title\":{\"text\":\"dia\"}},\"yaxis\":{\"anchor\":\"x\",\"domain\":[0.0,1.0],\"title\":{\"text\":\"vendas\"}},\"legend\":{\"tracegroupgap\":0},\"title\":{\"text\":\"<b> N\\u00famero de vendas por dia\"}},                        {\"responsive\": true}                    ).then(function(){\n",
              "                            \n",
              "var gd = document.getElementById('c6ab521a-eff3-43ec-974a-ea5847197bb5');\n",
              "var x = new MutationObserver(function (mutations, observer) {{\n",
              "        var display = window.getComputedStyle(gd).display;\n",
              "        if (!display || display === 'none') {{\n",
              "            console.log([gd, 'removed!']);\n",
              "            Plotly.purge(gd);\n",
              "            observer.disconnect();\n",
              "        }}\n",
              "}});\n",
              "\n",
              "// Listen for the removal of the full notebook cells\n",
              "var notebookContainer = gd.closest('#notebook-container');\n",
              "if (notebookContainer) {{\n",
              "    x.observe(notebookContainer, {childList: true});\n",
              "}}\n",
              "\n",
              "// Listen for the clearing of the current output cell\n",
              "var outputEl = gd.closest('.output');\n",
              "if (outputEl) {{\n",
              "    x.observe(outputEl, {childList: true});\n",
              "}}\n",
              "\n",
              "                        })                };                            </script>        </div>\n",
              "</body>\n",
              "</html>"
            ]
          },
          "metadata": {}
        }
      ]
    },
    {
      "cell_type": "code",
      "source": [
        "z = df.sort_values('Vendas', ascending=False).reset_index(drop=True)"
      ],
      "metadata": {
        "id": "c7GCrZS9YDPZ"
      },
      "execution_count": 11,
      "outputs": []
    },
    {
      "cell_type": "code",
      "source": [
        "z = z[['Data', 'Vendas']]"
      ],
      "metadata": {
        "id": "BsZP5tp4az12"
      },
      "execution_count": 12,
      "outputs": []
    },
    {
      "cell_type": "code",
      "source": [
        "fig=px.bar(z,x='Data',y='Vendas',color='Data',\n",
        "           labels={'Data':'data','Vendas':'vendas'},text='Vendas',template='seaborn',title=\"<b> Top datas com maior número de vendas\")\n",
        "\n",
        "fig.update_layout(\n",
        "xaxis_type = 'category'\n",
        ")\n",
        "\n",
        "fig.show()"
      ],
      "metadata": {
        "colab": {
          "base_uri": "https://localhost:8080/",
          "height": 542
        },
        "id": "SU_yCKyNY3sB",
        "outputId": "11fa5272-1fcf-46a4-9164-a6f103ea1c56"
      },
      "execution_count": 13,
      "outputs": [
        {
          "output_type": "display_data",
          "data": {
            "text/html": [
              "<html>\n",
              "<head><meta charset=\"utf-8\" /></head>\n",
              "<body>\n",
              "    <div>            <script src=\"https://cdnjs.cloudflare.com/ajax/libs/mathjax/2.7.5/MathJax.js?config=TeX-AMS-MML_SVG\"></script><script type=\"text/javascript\">if (window.MathJax) {MathJax.Hub.Config({SVG: {font: \"STIX-Web\"}});}</script>                <script type=\"text/javascript\">window.PlotlyConfig = {MathJaxConfig: 'local'};</script>\n",
              "        <script src=\"https://cdn.plot.ly/plotly-2.8.3.min.js\"></script>                <div id=\"9953a449-d71f-4154-94b1-499002f5cde1\" class=\"plotly-graph-div\" style=\"height:525px; width:100%;\"></div>            <script type=\"text/javascript\">                                    window.PLOTLYENV=window.PLOTLYENV || {};                                    if (document.getElementById(\"9953a449-d71f-4154-94b1-499002f5cde1\")) {                    Plotly.newPlot(                        \"9953a449-d71f-4154-94b1-499002f5cde1\",                        [{\"alignmentgroup\":\"True\",\"hovertemplate\":\"data=%{x}<br>vendas=%{text}<extra></extra>\",\"legendgroup\":\"2023-01-16\",\"marker\":{\"color\":\"rgb(76,114,176)\",\"pattern\":{\"shape\":\"\"}},\"name\":\"2023-01-16\",\"offsetgroup\":\"2023-01-16\",\"orientation\":\"v\",\"showlegend\":true,\"text\":[1692.0],\"textposition\":\"auto\",\"x\":[\"2023-01-16\"],\"xaxis\":\"x\",\"y\":[1692],\"yaxis\":\"y\",\"type\":\"bar\"},{\"alignmentgroup\":\"True\",\"hovertemplate\":\"data=%{x}<br>vendas=%{text}<extra></extra>\",\"legendgroup\":\"2023-01-19\",\"marker\":{\"color\":\"rgb(221,132,82)\",\"pattern\":{\"shape\":\"\"}},\"name\":\"2023-01-19\",\"offsetgroup\":\"2023-01-19\",\"orientation\":\"v\",\"showlegend\":true,\"text\":[1405.0],\"textposition\":\"auto\",\"x\":[\"2023-01-19\"],\"xaxis\":\"x\",\"y\":[1405],\"yaxis\":\"y\",\"type\":\"bar\"},{\"alignmentgroup\":\"True\",\"hovertemplate\":\"data=%{x}<br>vendas=%{text}<extra></extra>\",\"legendgroup\":\"2022-12-12\",\"marker\":{\"color\":\"rgb(85,168,104)\",\"pattern\":{\"shape\":\"\"}},\"name\":\"2022-12-12\",\"offsetgroup\":\"2022-12-12\",\"orientation\":\"v\",\"showlegend\":true,\"text\":[1366.0],\"textposition\":\"auto\",\"x\":[\"2022-12-12\"],\"xaxis\":\"x\",\"y\":[1366],\"yaxis\":\"y\",\"type\":\"bar\"},{\"alignmentgroup\":\"True\",\"hovertemplate\":\"data=%{x}<br>vendas=%{text}<extra></extra>\",\"legendgroup\":\"2022-12-15\",\"marker\":{\"color\":\"rgb(196,78,82)\",\"pattern\":{\"shape\":\"\"}},\"name\":\"2022-12-15\",\"offsetgroup\":\"2022-12-15\",\"orientation\":\"v\",\"showlegend\":true,\"text\":[1343.0],\"textposition\":\"auto\",\"x\":[\"2022-12-15\"],\"xaxis\":\"x\",\"y\":[1343],\"yaxis\":\"y\",\"type\":\"bar\"},{\"alignmentgroup\":\"True\",\"hovertemplate\":\"data=%{x}<br>vendas=%{text}<extra></extra>\",\"legendgroup\":\"2023-01-09\",\"marker\":{\"color\":\"rgb(129,114,179)\",\"pattern\":{\"shape\":\"\"}},\"name\":\"2023-01-09\",\"offsetgroup\":\"2023-01-09\",\"orientation\":\"v\",\"showlegend\":true,\"text\":[1317.0],\"textposition\":\"auto\",\"x\":[\"2023-01-09\"],\"xaxis\":\"x\",\"y\":[1317],\"yaxis\":\"y\",\"type\":\"bar\"},{\"alignmentgroup\":\"True\",\"hovertemplate\":\"data=%{x}<br>vendas=%{text}<extra></extra>\",\"legendgroup\":\"2023-01-18\",\"marker\":{\"color\":\"rgb(147,120,96)\",\"pattern\":{\"shape\":\"\"}},\"name\":\"2023-01-18\",\"offsetgroup\":\"2023-01-18\",\"orientation\":\"v\",\"showlegend\":true,\"text\":[1302.0],\"textposition\":\"auto\",\"x\":[\"2023-01-18\"],\"xaxis\":\"x\",\"y\":[1302],\"yaxis\":\"y\",\"type\":\"bar\"},{\"alignmentgroup\":\"True\",\"hovertemplate\":\"data=%{x}<br>vendas=%{text}<extra></extra>\",\"legendgroup\":\"2023-01-12\",\"marker\":{\"color\":\"rgb(218,139,195)\",\"pattern\":{\"shape\":\"\"}},\"name\":\"2023-01-12\",\"offsetgroup\":\"2023-01-12\",\"orientation\":\"v\",\"showlegend\":true,\"text\":[1265.0],\"textposition\":\"auto\",\"x\":[\"2023-01-12\"],\"xaxis\":\"x\",\"y\":[1265],\"yaxis\":\"y\",\"type\":\"bar\"},{\"alignmentgroup\":\"True\",\"hovertemplate\":\"data=%{x}<br>vendas=%{text}<extra></extra>\",\"legendgroup\":\"2023-01-05\",\"marker\":{\"color\":\"rgb(140,140,140)\",\"pattern\":{\"shape\":\"\"}},\"name\":\"2023-01-05\",\"offsetgroup\":\"2023-01-05\",\"orientation\":\"v\",\"showlegend\":true,\"text\":[1229.0],\"textposition\":\"auto\",\"x\":[\"2023-01-05\"],\"xaxis\":\"x\",\"y\":[1229],\"yaxis\":\"y\",\"type\":\"bar\"},{\"alignmentgroup\":\"True\",\"hovertemplate\":\"data=%{x}<br>vendas=%{text}<extra></extra>\",\"legendgroup\":\"2022-12-13\",\"marker\":{\"color\":\"rgb(204,185,116)\",\"pattern\":{\"shape\":\"\"}},\"name\":\"2022-12-13\",\"offsetgroup\":\"2022-12-13\",\"orientation\":\"v\",\"showlegend\":true,\"text\":[1213.0],\"textposition\":\"auto\",\"x\":[\"2022-12-13\"],\"xaxis\":\"x\",\"y\":[1213],\"yaxis\":\"y\",\"type\":\"bar\"},{\"alignmentgroup\":\"True\",\"hovertemplate\":\"data=%{x}<br>vendas=%{text}<extra></extra>\",\"legendgroup\":\"2022-12-08\",\"marker\":{\"color\":\"rgb(100,181,205)\",\"pattern\":{\"shape\":\"\"}},\"name\":\"2022-12-08\",\"offsetgroup\":\"2022-12-08\",\"orientation\":\"v\",\"showlegend\":true,\"text\":[1189.0],\"textposition\":\"auto\",\"x\":[\"2022-12-08\"],\"xaxis\":\"x\",\"y\":[1189],\"yaxis\":\"y\",\"type\":\"bar\"},{\"alignmentgroup\":\"True\",\"hovertemplate\":\"data=%{x}<br>vendas=%{text}<extra></extra>\",\"legendgroup\":\"2023-01-17\",\"marker\":{\"color\":\"rgb(76,114,176)\",\"pattern\":{\"shape\":\"\"}},\"name\":\"2023-01-17\",\"offsetgroup\":\"2023-01-17\",\"orientation\":\"v\",\"showlegend\":true,\"text\":[1097.0],\"textposition\":\"auto\",\"x\":[\"2023-01-17\"],\"xaxis\":\"x\",\"y\":[1097],\"yaxis\":\"y\",\"type\":\"bar\"},{\"alignmentgroup\":\"True\",\"hovertemplate\":\"data=%{x}<br>vendas=%{text}<extra></extra>\",\"legendgroup\":\"2022-12-14\",\"marker\":{\"color\":\"rgb(221,132,82)\",\"pattern\":{\"shape\":\"\"}},\"name\":\"2022-12-14\",\"offsetgroup\":\"2022-12-14\",\"orientation\":\"v\",\"showlegend\":true,\"text\":[1055.0],\"textposition\":\"auto\",\"x\":[\"2022-12-14\"],\"xaxis\":\"x\",\"y\":[1055],\"yaxis\":\"y\",\"type\":\"bar\"},{\"alignmentgroup\":\"True\",\"hovertemplate\":\"data=%{x}<br>vendas=%{text}<extra></extra>\",\"legendgroup\":\"2022-12-19\",\"marker\":{\"color\":\"rgb(85,168,104)\",\"pattern\":{\"shape\":\"\"}},\"name\":\"2022-12-19\",\"offsetgroup\":\"2022-12-19\",\"orientation\":\"v\",\"showlegend\":true,\"text\":[1050.0],\"textposition\":\"auto\",\"x\":[\"2022-12-19\"],\"xaxis\":\"x\",\"y\":[1050],\"yaxis\":\"y\",\"type\":\"bar\"},{\"alignmentgroup\":\"True\",\"hovertemplate\":\"data=%{x}<br>vendas=%{text}<extra></extra>\",\"legendgroup\":\"2022-12-22\",\"marker\":{\"color\":\"rgb(196,78,82)\",\"pattern\":{\"shape\":\"\"}},\"name\":\"2022-12-22\",\"offsetgroup\":\"2022-12-22\",\"orientation\":\"v\",\"showlegend\":true,\"text\":[1009.0],\"textposition\":\"auto\",\"x\":[\"2022-12-22\"],\"xaxis\":\"x\",\"y\":[1009],\"yaxis\":\"y\",\"type\":\"bar\"},{\"alignmentgroup\":\"True\",\"hovertemplate\":\"data=%{x}<br>vendas=%{text}<extra></extra>\",\"legendgroup\":\"2023-01-20\",\"marker\":{\"color\":\"rgb(129,114,179)\",\"pattern\":{\"shape\":\"\"}},\"name\":\"2023-01-20\",\"offsetgroup\":\"2023-01-20\",\"orientation\":\"v\",\"showlegend\":true,\"text\":[945.0],\"textposition\":\"auto\",\"x\":[\"2023-01-20\"],\"xaxis\":\"x\",\"y\":[945],\"yaxis\":\"y\",\"type\":\"bar\"},{\"alignmentgroup\":\"True\",\"hovertemplate\":\"data=%{x}<br>vendas=%{text}<extra></extra>\",\"legendgroup\":\"2023-01-11\",\"marker\":{\"color\":\"rgb(147,120,96)\",\"pattern\":{\"shape\":\"\"}},\"name\":\"2023-01-11\",\"offsetgroup\":\"2023-01-11\",\"orientation\":\"v\",\"showlegend\":true,\"text\":[923.0],\"textposition\":\"auto\",\"x\":[\"2023-01-11\"],\"xaxis\":\"x\",\"y\":[923],\"yaxis\":\"y\",\"type\":\"bar\"},{\"alignmentgroup\":\"True\",\"hovertemplate\":\"data=%{x}<br>vendas=%{text}<extra></extra>\",\"legendgroup\":\"2023-01-13\",\"marker\":{\"color\":\"rgb(218,139,195)\",\"pattern\":{\"shape\":\"\"}},\"name\":\"2023-01-13\",\"offsetgroup\":\"2023-01-13\",\"orientation\":\"v\",\"showlegend\":true,\"text\":[892.0],\"textposition\":\"auto\",\"x\":[\"2023-01-13\"],\"xaxis\":\"x\",\"y\":[892],\"yaxis\":\"y\",\"type\":\"bar\"},{\"alignmentgroup\":\"True\",\"hovertemplate\":\"data=%{x}<br>vendas=%{text}<extra></extra>\",\"legendgroup\":\"2022-12-06\",\"marker\":{\"color\":\"rgb(140,140,140)\",\"pattern\":{\"shape\":\"\"}},\"name\":\"2022-12-06\",\"offsetgroup\":\"2022-12-06\",\"orientation\":\"v\",\"showlegend\":true,\"text\":[870.0],\"textposition\":\"auto\",\"x\":[\"2022-12-06\"],\"xaxis\":\"x\",\"y\":[870],\"yaxis\":\"y\",\"type\":\"bar\"},{\"alignmentgroup\":\"True\",\"hovertemplate\":\"data=%{x}<br>vendas=%{text}<extra></extra>\",\"legendgroup\":\"2022-12-07\",\"marker\":{\"color\":\"rgb(204,185,116)\",\"pattern\":{\"shape\":\"\"}},\"name\":\"2022-12-07\",\"offsetgroup\":\"2022-12-07\",\"orientation\":\"v\",\"showlegend\":true,\"text\":[868.0],\"textposition\":\"auto\",\"x\":[\"2022-12-07\"],\"xaxis\":\"x\",\"y\":[868],\"yaxis\":\"y\",\"type\":\"bar\"},{\"alignmentgroup\":\"True\",\"hovertemplate\":\"data=%{x}<br>vendas=%{text}<extra></extra>\",\"legendgroup\":\"2022-12-16\",\"marker\":{\"color\":\"rgb(100,181,205)\",\"pattern\":{\"shape\":\"\"}},\"name\":\"2022-12-16\",\"offsetgroup\":\"2022-12-16\",\"orientation\":\"v\",\"showlegend\":true,\"text\":[832.0],\"textposition\":\"auto\",\"x\":[\"2022-12-16\"],\"xaxis\":\"x\",\"y\":[832],\"yaxis\":\"y\",\"type\":\"bar\"},{\"alignmentgroup\":\"True\",\"hovertemplate\":\"data=%{x}<br>vendas=%{text}<extra></extra>\",\"legendgroup\":\"2022-12-26\",\"marker\":{\"color\":\"rgb(76,114,176)\",\"pattern\":{\"shape\":\"\"}},\"name\":\"2022-12-26\",\"offsetgroup\":\"2022-12-26\",\"orientation\":\"v\",\"showlegend\":true,\"text\":[821.0],\"textposition\":\"auto\",\"x\":[\"2022-12-26\"],\"xaxis\":\"x\",\"y\":[821],\"yaxis\":\"y\",\"type\":\"bar\"},{\"alignmentgroup\":\"True\",\"hovertemplate\":\"data=%{x}<br>vendas=%{text}<extra></extra>\",\"legendgroup\":\"2023-01-06\",\"marker\":{\"color\":\"rgb(221,132,82)\",\"pattern\":{\"shape\":\"\"}},\"name\":\"2023-01-06\",\"offsetgroup\":\"2023-01-06\",\"orientation\":\"v\",\"showlegend\":true,\"text\":[821.0],\"textposition\":\"auto\",\"x\":[\"2023-01-06\"],\"xaxis\":\"x\",\"y\":[821],\"yaxis\":\"y\",\"type\":\"bar\"},{\"alignmentgroup\":\"True\",\"hovertemplate\":\"data=%{x}<br>vendas=%{text}<extra></extra>\",\"legendgroup\":\"2023-01-02\",\"marker\":{\"color\":\"rgb(85,168,104)\",\"pattern\":{\"shape\":\"\"}},\"name\":\"2023-01-02\",\"offsetgroup\":\"2023-01-02\",\"orientation\":\"v\",\"showlegend\":true,\"text\":[814.0],\"textposition\":\"auto\",\"x\":[\"2023-01-02\"],\"xaxis\":\"x\",\"y\":[814],\"yaxis\":\"y\",\"type\":\"bar\"},{\"alignmentgroup\":\"True\",\"hovertemplate\":\"data=%{x}<br>vendas=%{text}<extra></extra>\",\"legendgroup\":\"2023-01-10\",\"marker\":{\"color\":\"rgb(196,78,82)\",\"pattern\":{\"shape\":\"\"}},\"name\":\"2023-01-10\",\"offsetgroup\":\"2023-01-10\",\"orientation\":\"v\",\"showlegend\":true,\"text\":[807.0],\"textposition\":\"auto\",\"x\":[\"2023-01-10\"],\"xaxis\":\"x\",\"y\":[807],\"yaxis\":\"y\",\"type\":\"bar\"},{\"alignmentgroup\":\"True\",\"hovertemplate\":\"data=%{x}<br>vendas=%{text}<extra></extra>\",\"legendgroup\":\"2022-12-21\",\"marker\":{\"color\":\"rgb(129,114,179)\",\"pattern\":{\"shape\":\"\"}},\"name\":\"2022-12-21\",\"offsetgroup\":\"2022-12-21\",\"orientation\":\"v\",\"showlegend\":true,\"text\":[745.0],\"textposition\":\"auto\",\"x\":[\"2022-12-21\"],\"xaxis\":\"x\",\"y\":[745],\"yaxis\":\"y\",\"type\":\"bar\"},{\"alignmentgroup\":\"True\",\"hovertemplate\":\"data=%{x}<br>vendas=%{text}<extra></extra>\",\"legendgroup\":\"2022-12-09\",\"marker\":{\"color\":\"rgb(147,120,96)\",\"pattern\":{\"shape\":\"\"}},\"name\":\"2022-12-09\",\"offsetgroup\":\"2022-12-09\",\"orientation\":\"v\",\"showlegend\":true,\"text\":[742.0],\"textposition\":\"auto\",\"x\":[\"2022-12-09\"],\"xaxis\":\"x\",\"y\":[742],\"yaxis\":\"y\",\"type\":\"bar\"},{\"alignmentgroup\":\"True\",\"hovertemplate\":\"data=%{x}<br>vendas=%{text}<extra></extra>\",\"legendgroup\":\"2023-01-04\",\"marker\":{\"color\":\"rgb(218,139,195)\",\"pattern\":{\"shape\":\"\"}},\"name\":\"2023-01-04\",\"offsetgroup\":\"2023-01-04\",\"orientation\":\"v\",\"showlegend\":true,\"text\":[712.0],\"textposition\":\"auto\",\"x\":[\"2023-01-04\"],\"xaxis\":\"x\",\"y\":[712],\"yaxis\":\"y\",\"type\":\"bar\"},{\"alignmentgroup\":\"True\",\"hovertemplate\":\"data=%{x}<br>vendas=%{text}<extra></extra>\",\"legendgroup\":\"2022-12-20\",\"marker\":{\"color\":\"rgb(140,140,140)\",\"pattern\":{\"shape\":\"\"}},\"name\":\"2022-12-20\",\"offsetgroup\":\"2022-12-20\",\"orientation\":\"v\",\"showlegend\":true,\"text\":[711.0],\"textposition\":\"auto\",\"x\":[\"2022-12-20\"],\"xaxis\":\"x\",\"y\":[711],\"yaxis\":\"y\",\"type\":\"bar\"},{\"alignmentgroup\":\"True\",\"hovertemplate\":\"data=%{x}<br>vendas=%{text}<extra></extra>\",\"legendgroup\":\"2022-12-11\",\"marker\":{\"color\":\"rgb(204,185,116)\",\"pattern\":{\"shape\":\"\"}},\"name\":\"2022-12-11\",\"offsetgroup\":\"2022-12-11\",\"orientation\":\"v\",\"showlegend\":true,\"text\":[685.0],\"textposition\":\"auto\",\"x\":[\"2022-12-11\"],\"xaxis\":\"x\",\"y\":[685],\"yaxis\":\"y\",\"type\":\"bar\"},{\"alignmentgroup\":\"True\",\"hovertemplate\":\"data=%{x}<br>vendas=%{text}<extra></extra>\",\"legendgroup\":\"2023-01-03\",\"marker\":{\"color\":\"rgb(100,181,205)\",\"pattern\":{\"shape\":\"\"}},\"name\":\"2023-01-03\",\"offsetgroup\":\"2023-01-03\",\"orientation\":\"v\",\"showlegend\":true,\"text\":[679.0],\"textposition\":\"auto\",\"x\":[\"2023-01-03\"],\"xaxis\":\"x\",\"y\":[679],\"yaxis\":\"y\",\"type\":\"bar\"},{\"alignmentgroup\":\"True\",\"hovertemplate\":\"data=%{x}<br>vendas=%{text}<extra></extra>\",\"legendgroup\":\"2022-12-29\",\"marker\":{\"color\":\"rgb(76,114,176)\",\"pattern\":{\"shape\":\"\"}},\"name\":\"2022-12-29\",\"offsetgroup\":\"2022-12-29\",\"orientation\":\"v\",\"showlegend\":true,\"text\":[638.0],\"textposition\":\"auto\",\"x\":[\"2022-12-29\"],\"xaxis\":\"x\",\"y\":[638],\"yaxis\":\"y\",\"type\":\"bar\"},{\"alignmentgroup\":\"True\",\"hovertemplate\":\"data=%{x}<br>vendas=%{text}<extra></extra>\",\"legendgroup\":\"2022-12-27\",\"marker\":{\"color\":\"rgb(221,132,82)\",\"pattern\":{\"shape\":\"\"}},\"name\":\"2022-12-27\",\"offsetgroup\":\"2022-12-27\",\"orientation\":\"v\",\"showlegend\":true,\"text\":[572.0],\"textposition\":\"auto\",\"x\":[\"2022-12-27\"],\"xaxis\":\"x\",\"y\":[572],\"yaxis\":\"y\",\"type\":\"bar\"},{\"alignmentgroup\":\"True\",\"hovertemplate\":\"data=%{x}<br>vendas=%{text}<extra></extra>\",\"legendgroup\":\"2023-01-15\",\"marker\":{\"color\":\"rgb(85,168,104)\",\"pattern\":{\"shape\":\"\"}},\"name\":\"2023-01-15\",\"offsetgroup\":\"2023-01-15\",\"orientation\":\"v\",\"showlegend\":true,\"text\":[566.0],\"textposition\":\"auto\",\"x\":[\"2023-01-15\"],\"xaxis\":\"x\",\"y\":[566],\"yaxis\":\"y\",\"type\":\"bar\"},{\"alignmentgroup\":\"True\",\"hovertemplate\":\"data=%{x}<br>vendas=%{text}<extra></extra>\",\"legendgroup\":\"2022-12-28\",\"marker\":{\"color\":\"rgb(196,78,82)\",\"pattern\":{\"shape\":\"\"}},\"name\":\"2022-12-28\",\"offsetgroup\":\"2022-12-28\",\"orientation\":\"v\",\"showlegend\":true,\"text\":[429.0],\"textposition\":\"auto\",\"x\":[\"2022-12-28\"],\"xaxis\":\"x\",\"y\":[429],\"yaxis\":\"y\",\"type\":\"bar\"},{\"alignmentgroup\":\"True\",\"hovertemplate\":\"data=%{x}<br>vendas=%{text}<extra></extra>\",\"legendgroup\":\"2023-01-07\",\"marker\":{\"color\":\"rgb(129,114,179)\",\"pattern\":{\"shape\":\"\"}},\"name\":\"2023-01-07\",\"offsetgroup\":\"2023-01-07\",\"orientation\":\"v\",\"showlegend\":true,\"text\":[319.0],\"textposition\":\"auto\",\"x\":[\"2023-01-07\"],\"xaxis\":\"x\",\"y\":[319],\"yaxis\":\"y\",\"type\":\"bar\"},{\"alignmentgroup\":\"True\",\"hovertemplate\":\"data=%{x}<br>vendas=%{text}<extra></extra>\",\"legendgroup\":\"2023-01-08\",\"marker\":{\"color\":\"rgb(147,120,96)\",\"pattern\":{\"shape\":\"\"}},\"name\":\"2023-01-08\",\"offsetgroup\":\"2023-01-08\",\"orientation\":\"v\",\"showlegend\":true,\"text\":[317.0],\"textposition\":\"auto\",\"x\":[\"2023-01-08\"],\"xaxis\":\"x\",\"y\":[317],\"yaxis\":\"y\",\"type\":\"bar\"},{\"alignmentgroup\":\"True\",\"hovertemplate\":\"data=%{x}<br>vendas=%{text}<extra></extra>\",\"legendgroup\":\"2022-12-10\",\"marker\":{\"color\":\"rgb(218,139,195)\",\"pattern\":{\"shape\":\"\"}},\"name\":\"2022-12-10\",\"offsetgroup\":\"2022-12-10\",\"orientation\":\"v\",\"showlegend\":true,\"text\":[317.0],\"textposition\":\"auto\",\"x\":[\"2022-12-10\"],\"xaxis\":\"x\",\"y\":[317],\"yaxis\":\"y\",\"type\":\"bar\"},{\"alignmentgroup\":\"True\",\"hovertemplate\":\"data=%{x}<br>vendas=%{text}<extra></extra>\",\"legendgroup\":\"2023-01-14\",\"marker\":{\"color\":\"rgb(140,140,140)\",\"pattern\":{\"shape\":\"\"}},\"name\":\"2023-01-14\",\"offsetgroup\":\"2023-01-14\",\"orientation\":\"v\",\"showlegend\":true,\"text\":[289.0],\"textposition\":\"auto\",\"x\":[\"2023-01-14\"],\"xaxis\":\"x\",\"y\":[289],\"yaxis\":\"y\",\"type\":\"bar\"},{\"alignmentgroup\":\"True\",\"hovertemplate\":\"data=%{x}<br>vendas=%{text}<extra></extra>\",\"legendgroup\":\"2022-12-17\",\"marker\":{\"color\":\"rgb(204,185,116)\",\"pattern\":{\"shape\":\"\"}},\"name\":\"2022-12-17\",\"offsetgroup\":\"2022-12-17\",\"orientation\":\"v\",\"showlegend\":true,\"text\":[240.0],\"textposition\":\"auto\",\"x\":[\"2022-12-17\"],\"xaxis\":\"x\",\"y\":[240],\"yaxis\":\"y\",\"type\":\"bar\"},{\"alignmentgroup\":\"True\",\"hovertemplate\":\"data=%{x}<br>vendas=%{text}<extra></extra>\",\"legendgroup\":\"2022-12-18\",\"marker\":{\"color\":\"rgb(100,181,205)\",\"pattern\":{\"shape\":\"\"}},\"name\":\"2022-12-18\",\"offsetgroup\":\"2022-12-18\",\"orientation\":\"v\",\"showlegend\":true,\"text\":[235.0],\"textposition\":\"auto\",\"x\":[\"2022-12-18\"],\"xaxis\":\"x\",\"y\":[235],\"yaxis\":\"y\",\"type\":\"bar\"},{\"alignmentgroup\":\"True\",\"hovertemplate\":\"data=%{x}<br>vendas=%{text}<extra></extra>\",\"legendgroup\":\"2023-01-01\",\"marker\":{\"color\":\"rgb(76,114,176)\",\"pattern\":{\"shape\":\"\"}},\"name\":\"2023-01-01\",\"offsetgroup\":\"2023-01-01\",\"orientation\":\"v\",\"showlegend\":true,\"text\":[144.0],\"textposition\":\"auto\",\"x\":[\"2023-01-01\"],\"xaxis\":\"x\",\"y\":[144],\"yaxis\":\"y\",\"type\":\"bar\"},{\"alignmentgroup\":\"True\",\"hovertemplate\":\"data=%{x}<br>vendas=%{text}<extra></extra>\",\"legendgroup\":\"2022-12-30\",\"marker\":{\"color\":\"rgb(221,132,82)\",\"pattern\":{\"shape\":\"\"}},\"name\":\"2022-12-30\",\"offsetgroup\":\"2022-12-30\",\"orientation\":\"v\",\"showlegend\":true,\"text\":[106.0],\"textposition\":\"auto\",\"x\":[\"2022-12-30\"],\"xaxis\":\"x\",\"y\":[106],\"yaxis\":\"y\",\"type\":\"bar\"},{\"alignmentgroup\":\"True\",\"hovertemplate\":\"data=%{x}<br>vendas=%{text}<extra></extra>\",\"legendgroup\":\"2022-12-25\",\"marker\":{\"color\":\"rgb(85,168,104)\",\"pattern\":{\"shape\":\"\"}},\"name\":\"2022-12-25\",\"offsetgroup\":\"2022-12-25\",\"orientation\":\"v\",\"showlegend\":true,\"text\":[67.0],\"textposition\":\"auto\",\"x\":[\"2022-12-25\"],\"xaxis\":\"x\",\"y\":[67],\"yaxis\":\"y\",\"type\":\"bar\"},{\"alignmentgroup\":\"True\",\"hovertemplate\":\"data=%{x}<br>vendas=%{text}<extra></extra>\",\"legendgroup\":\"2022-12-31\",\"marker\":{\"color\":\"rgb(196,78,82)\",\"pattern\":{\"shape\":\"\"}},\"name\":\"2022-12-31\",\"offsetgroup\":\"2022-12-31\",\"orientation\":\"v\",\"showlegend\":true,\"text\":[54.0],\"textposition\":\"auto\",\"x\":[\"2022-12-31\"],\"xaxis\":\"x\",\"y\":[54],\"yaxis\":\"y\",\"type\":\"bar\"},{\"alignmentgroup\":\"True\",\"hovertemplate\":\"data=%{x}<br>vendas=%{text}<extra></extra>\",\"legendgroup\":\"2022-12-24\",\"marker\":{\"color\":\"rgb(129,114,179)\",\"pattern\":{\"shape\":\"\"}},\"name\":\"2022-12-24\",\"offsetgroup\":\"2022-12-24\",\"orientation\":\"v\",\"showlegend\":true,\"text\":[40.0],\"textposition\":\"auto\",\"x\":[\"2022-12-24\"],\"xaxis\":\"x\",\"y\":[40],\"yaxis\":\"y\",\"type\":\"bar\"},{\"alignmentgroup\":\"True\",\"hovertemplate\":\"data=%{x}<br>vendas=%{text}<extra></extra>\",\"legendgroup\":\"2022-12-23\",\"marker\":{\"color\":\"rgb(147,120,96)\",\"pattern\":{\"shape\":\"\"}},\"name\":\"2022-12-23\",\"offsetgroup\":\"2022-12-23\",\"orientation\":\"v\",\"showlegend\":true,\"text\":[18.0],\"textposition\":\"auto\",\"x\":[\"2022-12-23\"],\"xaxis\":\"x\",\"y\":[18],\"yaxis\":\"y\",\"type\":\"bar\"}],                        {\"template\":{\"data\":{\"barpolar\":[{\"marker\":{\"line\":{\"color\":\"rgb(234,234,242)\",\"width\":0.5},\"pattern\":{\"fillmode\":\"overlay\",\"size\":10,\"solidity\":0.2}},\"type\":\"barpolar\"}],\"bar\":[{\"error_x\":{\"color\":\"rgb(36,36,36)\"},\"error_y\":{\"color\":\"rgb(36,36,36)\"},\"marker\":{\"line\":{\"color\":\"rgb(234,234,242)\",\"width\":0.5},\"pattern\":{\"fillmode\":\"overlay\",\"size\":10,\"solidity\":0.2}},\"type\":\"bar\"}],\"carpet\":[{\"aaxis\":{\"endlinecolor\":\"rgb(36,36,36)\",\"gridcolor\":\"white\",\"linecolor\":\"white\",\"minorgridcolor\":\"white\",\"startlinecolor\":\"rgb(36,36,36)\"},\"baxis\":{\"endlinecolor\":\"rgb(36,36,36)\",\"gridcolor\":\"white\",\"linecolor\":\"white\",\"minorgridcolor\":\"white\",\"startlinecolor\":\"rgb(36,36,36)\"},\"type\":\"carpet\"}],\"choropleth\":[{\"colorbar\":{\"outlinewidth\":0,\"tickcolor\":\"rgb(36,36,36)\",\"ticklen\":8,\"ticks\":\"outside\",\"tickwidth\":2},\"type\":\"choropleth\"}],\"contourcarpet\":[{\"colorbar\":{\"outlinewidth\":0,\"tickcolor\":\"rgb(36,36,36)\",\"ticklen\":8,\"ticks\":\"outside\",\"tickwidth\":2},\"type\":\"contourcarpet\"}],\"contour\":[{\"colorbar\":{\"outlinewidth\":0,\"tickcolor\":\"rgb(36,36,36)\",\"ticklen\":8,\"ticks\":\"outside\",\"tickwidth\":2},\"colorscale\":[[0.0,\"rgb(2,4,25)\"],[0.06274509803921569,\"rgb(24,15,41)\"],[0.12549019607843137,\"rgb(47,23,57)\"],[0.18823529411764706,\"rgb(71,28,72)\"],[0.25098039215686274,\"rgb(97,30,82)\"],[0.3137254901960784,\"rgb(123,30,89)\"],[0.3764705882352941,\"rgb(150,27,91)\"],[0.4392156862745098,\"rgb(177,22,88)\"],[0.5019607843137255,\"rgb(203,26,79)\"],[0.5647058823529412,\"rgb(223,47,67)\"],[0.6274509803921569,\"rgb(236,76,61)\"],[0.6901960784313725,\"rgb(242,107,73)\"],[0.7529411764705882,\"rgb(244,135,95)\"],[0.8156862745098039,\"rgb(245,162,122)\"],[0.8784313725490196,\"rgb(246,188,153)\"],[0.9411764705882353,\"rgb(247,212,187)\"],[1.0,\"rgb(250,234,220)\"]],\"type\":\"contour\"}],\"heatmapgl\":[{\"colorbar\":{\"outlinewidth\":0,\"tickcolor\":\"rgb(36,36,36)\",\"ticklen\":8,\"ticks\":\"outside\",\"tickwidth\":2},\"colorscale\":[[0.0,\"rgb(2,4,25)\"],[0.06274509803921569,\"rgb(24,15,41)\"],[0.12549019607843137,\"rgb(47,23,57)\"],[0.18823529411764706,\"rgb(71,28,72)\"],[0.25098039215686274,\"rgb(97,30,82)\"],[0.3137254901960784,\"rgb(123,30,89)\"],[0.3764705882352941,\"rgb(150,27,91)\"],[0.4392156862745098,\"rgb(177,22,88)\"],[0.5019607843137255,\"rgb(203,26,79)\"],[0.5647058823529412,\"rgb(223,47,67)\"],[0.6274509803921569,\"rgb(236,76,61)\"],[0.6901960784313725,\"rgb(242,107,73)\"],[0.7529411764705882,\"rgb(244,135,95)\"],[0.8156862745098039,\"rgb(245,162,122)\"],[0.8784313725490196,\"rgb(246,188,153)\"],[0.9411764705882353,\"rgb(247,212,187)\"],[1.0,\"rgb(250,234,220)\"]],\"type\":\"heatmapgl\"}],\"heatmap\":[{\"colorbar\":{\"outlinewidth\":0,\"tickcolor\":\"rgb(36,36,36)\",\"ticklen\":8,\"ticks\":\"outside\",\"tickwidth\":2},\"colorscale\":[[0.0,\"rgb(2,4,25)\"],[0.06274509803921569,\"rgb(24,15,41)\"],[0.12549019607843137,\"rgb(47,23,57)\"],[0.18823529411764706,\"rgb(71,28,72)\"],[0.25098039215686274,\"rgb(97,30,82)\"],[0.3137254901960784,\"rgb(123,30,89)\"],[0.3764705882352941,\"rgb(150,27,91)\"],[0.4392156862745098,\"rgb(177,22,88)\"],[0.5019607843137255,\"rgb(203,26,79)\"],[0.5647058823529412,\"rgb(223,47,67)\"],[0.6274509803921569,\"rgb(236,76,61)\"],[0.6901960784313725,\"rgb(242,107,73)\"],[0.7529411764705882,\"rgb(244,135,95)\"],[0.8156862745098039,\"rgb(245,162,122)\"],[0.8784313725490196,\"rgb(246,188,153)\"],[0.9411764705882353,\"rgb(247,212,187)\"],[1.0,\"rgb(250,234,220)\"]],\"type\":\"heatmap\"}],\"histogram2dcontour\":[{\"colorbar\":{\"outlinewidth\":0,\"tickcolor\":\"rgb(36,36,36)\",\"ticklen\":8,\"ticks\":\"outside\",\"tickwidth\":2},\"colorscale\":[[0.0,\"rgb(2,4,25)\"],[0.06274509803921569,\"rgb(24,15,41)\"],[0.12549019607843137,\"rgb(47,23,57)\"],[0.18823529411764706,\"rgb(71,28,72)\"],[0.25098039215686274,\"rgb(97,30,82)\"],[0.3137254901960784,\"rgb(123,30,89)\"],[0.3764705882352941,\"rgb(150,27,91)\"],[0.4392156862745098,\"rgb(177,22,88)\"],[0.5019607843137255,\"rgb(203,26,79)\"],[0.5647058823529412,\"rgb(223,47,67)\"],[0.6274509803921569,\"rgb(236,76,61)\"],[0.6901960784313725,\"rgb(242,107,73)\"],[0.7529411764705882,\"rgb(244,135,95)\"],[0.8156862745098039,\"rgb(245,162,122)\"],[0.8784313725490196,\"rgb(246,188,153)\"],[0.9411764705882353,\"rgb(247,212,187)\"],[1.0,\"rgb(250,234,220)\"]],\"type\":\"histogram2dcontour\"}],\"histogram2d\":[{\"colorbar\":{\"outlinewidth\":0,\"tickcolor\":\"rgb(36,36,36)\",\"ticklen\":8,\"ticks\":\"outside\",\"tickwidth\":2},\"colorscale\":[[0.0,\"rgb(2,4,25)\"],[0.06274509803921569,\"rgb(24,15,41)\"],[0.12549019607843137,\"rgb(47,23,57)\"],[0.18823529411764706,\"rgb(71,28,72)\"],[0.25098039215686274,\"rgb(97,30,82)\"],[0.3137254901960784,\"rgb(123,30,89)\"],[0.3764705882352941,\"rgb(150,27,91)\"],[0.4392156862745098,\"rgb(177,22,88)\"],[0.5019607843137255,\"rgb(203,26,79)\"],[0.5647058823529412,\"rgb(223,47,67)\"],[0.6274509803921569,\"rgb(236,76,61)\"],[0.6901960784313725,\"rgb(242,107,73)\"],[0.7529411764705882,\"rgb(244,135,95)\"],[0.8156862745098039,\"rgb(245,162,122)\"],[0.8784313725490196,\"rgb(246,188,153)\"],[0.9411764705882353,\"rgb(247,212,187)\"],[1.0,\"rgb(250,234,220)\"]],\"type\":\"histogram2d\"}],\"histogram\":[{\"marker\":{\"pattern\":{\"fillmode\":\"overlay\",\"size\":10,\"solidity\":0.2}},\"type\":\"histogram\"}],\"mesh3d\":[{\"colorbar\":{\"outlinewidth\":0,\"tickcolor\":\"rgb(36,36,36)\",\"ticklen\":8,\"ticks\":\"outside\",\"tickwidth\":2},\"type\":\"mesh3d\"}],\"parcoords\":[{\"line\":{\"colorbar\":{\"outlinewidth\":0,\"tickcolor\":\"rgb(36,36,36)\",\"ticklen\":8,\"ticks\":\"outside\",\"tickwidth\":2}},\"type\":\"parcoords\"}],\"pie\":[{\"automargin\":true,\"type\":\"pie\"}],\"scatter3d\":[{\"line\":{\"colorbar\":{\"outlinewidth\":0,\"tickcolor\":\"rgb(36,36,36)\",\"ticklen\":8,\"ticks\":\"outside\",\"tickwidth\":2}},\"marker\":{\"colorbar\":{\"outlinewidth\":0,\"tickcolor\":\"rgb(36,36,36)\",\"ticklen\":8,\"ticks\":\"outside\",\"tickwidth\":2}},\"type\":\"scatter3d\"}],\"scattercarpet\":[{\"marker\":{\"colorbar\":{\"outlinewidth\":0,\"tickcolor\":\"rgb(36,36,36)\",\"ticklen\":8,\"ticks\":\"outside\",\"tickwidth\":2}},\"type\":\"scattercarpet\"}],\"scattergeo\":[{\"marker\":{\"colorbar\":{\"outlinewidth\":0,\"tickcolor\":\"rgb(36,36,36)\",\"ticklen\":8,\"ticks\":\"outside\",\"tickwidth\":2}},\"type\":\"scattergeo\"}],\"scattergl\":[{\"marker\":{\"colorbar\":{\"outlinewidth\":0,\"tickcolor\":\"rgb(36,36,36)\",\"ticklen\":8,\"ticks\":\"outside\",\"tickwidth\":2}},\"type\":\"scattergl\"}],\"scattermapbox\":[{\"marker\":{\"colorbar\":{\"outlinewidth\":0,\"tickcolor\":\"rgb(36,36,36)\",\"ticklen\":8,\"ticks\":\"outside\",\"tickwidth\":2}},\"type\":\"scattermapbox\"}],\"scatterpolargl\":[{\"marker\":{\"colorbar\":{\"outlinewidth\":0,\"tickcolor\":\"rgb(36,36,36)\",\"ticklen\":8,\"ticks\":\"outside\",\"tickwidth\":2}},\"type\":\"scatterpolargl\"}],\"scatterpolar\":[{\"marker\":{\"colorbar\":{\"outlinewidth\":0,\"tickcolor\":\"rgb(36,36,36)\",\"ticklen\":8,\"ticks\":\"outside\",\"tickwidth\":2}},\"type\":\"scatterpolar\"}],\"scatter\":[{\"marker\":{\"colorbar\":{\"outlinewidth\":0,\"tickcolor\":\"rgb(36,36,36)\",\"ticklen\":8,\"ticks\":\"outside\",\"tickwidth\":2}},\"type\":\"scatter\"}],\"scatterternary\":[{\"marker\":{\"colorbar\":{\"outlinewidth\":0,\"tickcolor\":\"rgb(36,36,36)\",\"ticklen\":8,\"ticks\":\"outside\",\"tickwidth\":2}},\"type\":\"scatterternary\"}],\"surface\":[{\"colorbar\":{\"outlinewidth\":0,\"tickcolor\":\"rgb(36,36,36)\",\"ticklen\":8,\"ticks\":\"outside\",\"tickwidth\":2},\"colorscale\":[[0.0,\"rgb(2,4,25)\"],[0.06274509803921569,\"rgb(24,15,41)\"],[0.12549019607843137,\"rgb(47,23,57)\"],[0.18823529411764706,\"rgb(71,28,72)\"],[0.25098039215686274,\"rgb(97,30,82)\"],[0.3137254901960784,\"rgb(123,30,89)\"],[0.3764705882352941,\"rgb(150,27,91)\"],[0.4392156862745098,\"rgb(177,22,88)\"],[0.5019607843137255,\"rgb(203,26,79)\"],[0.5647058823529412,\"rgb(223,47,67)\"],[0.6274509803921569,\"rgb(236,76,61)\"],[0.6901960784313725,\"rgb(242,107,73)\"],[0.7529411764705882,\"rgb(244,135,95)\"],[0.8156862745098039,\"rgb(245,162,122)\"],[0.8784313725490196,\"rgb(246,188,153)\"],[0.9411764705882353,\"rgb(247,212,187)\"],[1.0,\"rgb(250,234,220)\"]],\"type\":\"surface\"}],\"table\":[{\"cells\":{\"fill\":{\"color\":\"rgb(231,231,240)\"},\"line\":{\"color\":\"white\"}},\"header\":{\"fill\":{\"color\":\"rgb(183,183,191)\"},\"line\":{\"color\":\"white\"}},\"type\":\"table\"}]},\"layout\":{\"annotationdefaults\":{\"arrowcolor\":\"rgb(67,103,167)\"},\"autotypenumbers\":\"strict\",\"coloraxis\":{\"colorbar\":{\"outlinewidth\":0,\"tickcolor\":\"rgb(36,36,36)\",\"ticklen\":8,\"ticks\":\"outside\",\"tickwidth\":2}},\"colorscale\":{\"sequential\":[[0.0,\"rgb(2,4,25)\"],[0.06274509803921569,\"rgb(24,15,41)\"],[0.12549019607843137,\"rgb(47,23,57)\"],[0.18823529411764706,\"rgb(71,28,72)\"],[0.25098039215686274,\"rgb(97,30,82)\"],[0.3137254901960784,\"rgb(123,30,89)\"],[0.3764705882352941,\"rgb(150,27,91)\"],[0.4392156862745098,\"rgb(177,22,88)\"],[0.5019607843137255,\"rgb(203,26,79)\"],[0.5647058823529412,\"rgb(223,47,67)\"],[0.6274509803921569,\"rgb(236,76,61)\"],[0.6901960784313725,\"rgb(242,107,73)\"],[0.7529411764705882,\"rgb(244,135,95)\"],[0.8156862745098039,\"rgb(245,162,122)\"],[0.8784313725490196,\"rgb(246,188,153)\"],[0.9411764705882353,\"rgb(247,212,187)\"],[1.0,\"rgb(250,234,220)\"]],\"sequentialminus\":[[0.0,\"rgb(2,4,25)\"],[0.06274509803921569,\"rgb(24,15,41)\"],[0.12549019607843137,\"rgb(47,23,57)\"],[0.18823529411764706,\"rgb(71,28,72)\"],[0.25098039215686274,\"rgb(97,30,82)\"],[0.3137254901960784,\"rgb(123,30,89)\"],[0.3764705882352941,\"rgb(150,27,91)\"],[0.4392156862745098,\"rgb(177,22,88)\"],[0.5019607843137255,\"rgb(203,26,79)\"],[0.5647058823529412,\"rgb(223,47,67)\"],[0.6274509803921569,\"rgb(236,76,61)\"],[0.6901960784313725,\"rgb(242,107,73)\"],[0.7529411764705882,\"rgb(244,135,95)\"],[0.8156862745098039,\"rgb(245,162,122)\"],[0.8784313725490196,\"rgb(246,188,153)\"],[0.9411764705882353,\"rgb(247,212,187)\"],[1.0,\"rgb(250,234,220)\"]]},\"colorway\":[\"rgb(76,114,176)\",\"rgb(221,132,82)\",\"rgb(85,168,104)\",\"rgb(196,78,82)\",\"rgb(129,114,179)\",\"rgb(147,120,96)\",\"rgb(218,139,195)\",\"rgb(140,140,140)\",\"rgb(204,185,116)\",\"rgb(100,181,205)\"],\"font\":{\"color\":\"rgb(36,36,36)\"},\"geo\":{\"bgcolor\":\"white\",\"lakecolor\":\"white\",\"landcolor\":\"rgb(234,234,242)\",\"showlakes\":true,\"showland\":true,\"subunitcolor\":\"white\"},\"hoverlabel\":{\"align\":\"left\"},\"hovermode\":\"closest\",\"paper_bgcolor\":\"white\",\"plot_bgcolor\":\"rgb(234,234,242)\",\"polar\":{\"angularaxis\":{\"gridcolor\":\"white\",\"linecolor\":\"white\",\"showgrid\":true,\"ticks\":\"\"},\"bgcolor\":\"rgb(234,234,242)\",\"radialaxis\":{\"gridcolor\":\"white\",\"linecolor\":\"white\",\"showgrid\":true,\"ticks\":\"\"}},\"scene\":{\"xaxis\":{\"backgroundcolor\":\"rgb(234,234,242)\",\"gridcolor\":\"white\",\"gridwidth\":2,\"linecolor\":\"white\",\"showbackground\":true,\"showgrid\":true,\"ticks\":\"\",\"zerolinecolor\":\"white\"},\"yaxis\":{\"backgroundcolor\":\"rgb(234,234,242)\",\"gridcolor\":\"white\",\"gridwidth\":2,\"linecolor\":\"white\",\"showbackground\":true,\"showgrid\":true,\"ticks\":\"\",\"zerolinecolor\":\"white\"},\"zaxis\":{\"backgroundcolor\":\"rgb(234,234,242)\",\"gridcolor\":\"white\",\"gridwidth\":2,\"linecolor\":\"white\",\"showbackground\":true,\"showgrid\":true,\"ticks\":\"\",\"zerolinecolor\":\"white\"}},\"shapedefaults\":{\"fillcolor\":\"rgb(67,103,167)\",\"line\":{\"width\":0},\"opacity\":0.5},\"ternary\":{\"aaxis\":{\"gridcolor\":\"white\",\"linecolor\":\"white\",\"showgrid\":true,\"ticks\":\"\"},\"baxis\":{\"gridcolor\":\"white\",\"linecolor\":\"white\",\"showgrid\":true,\"ticks\":\"\"},\"bgcolor\":\"rgb(234,234,242)\",\"caxis\":{\"gridcolor\":\"white\",\"linecolor\":\"white\",\"showgrid\":true,\"ticks\":\"\"}},\"xaxis\":{\"automargin\":true,\"gridcolor\":\"white\",\"linecolor\":\"white\",\"showgrid\":true,\"ticks\":\"\",\"title\":{\"standoff\":15},\"zerolinecolor\":\"white\"},\"yaxis\":{\"automargin\":true,\"gridcolor\":\"white\",\"linecolor\":\"white\",\"showgrid\":true,\"ticks\":\"\",\"title\":{\"standoff\":15},\"zerolinecolor\":\"white\"}}},\"xaxis\":{\"anchor\":\"y\",\"domain\":[0.0,1.0],\"title\":{\"text\":\"data\"},\"categoryorder\":\"array\",\"categoryarray\":[\"2023-01-16\",\"2023-01-19\",\"2022-12-12\",\"2022-12-15\",\"2023-01-09\",\"2023-01-18\",\"2023-01-12\",\"2023-01-05\",\"2022-12-13\",\"2022-12-08\",\"2023-01-17\",\"2022-12-14\",\"2022-12-19\",\"2022-12-22\",\"2023-01-20\",\"2023-01-11\",\"2023-01-13\",\"2022-12-06\",\"2022-12-07\",\"2022-12-16\",\"2022-12-26\",\"2023-01-06\",\"2023-01-02\",\"2023-01-10\",\"2022-12-21\",\"2022-12-09\",\"2023-01-04\",\"2022-12-20\",\"2022-12-11\",\"2023-01-03\",\"2022-12-29\",\"2022-12-27\",\"2023-01-15\",\"2022-12-28\",\"2023-01-07\",\"2023-01-08\",\"2022-12-10\",\"2023-01-14\",\"2022-12-17\",\"2022-12-18\",\"2023-01-01\",\"2022-12-30\",\"2022-12-25\",\"2022-12-31\",\"2022-12-24\",\"2022-12-23\"],\"type\":\"category\"},\"yaxis\":{\"anchor\":\"x\",\"domain\":[0.0,1.0],\"title\":{\"text\":\"vendas\"}},\"legend\":{\"title\":{\"text\":\"data\"},\"tracegroupgap\":0},\"title\":{\"text\":\"<b> Top datas com maior n\\u00famero de vendas\"},\"barmode\":\"relative\"},                        {\"responsive\": true}                    ).then(function(){\n",
              "                            \n",
              "var gd = document.getElementById('9953a449-d71f-4154-94b1-499002f5cde1');\n",
              "var x = new MutationObserver(function (mutations, observer) {{\n",
              "        var display = window.getComputedStyle(gd).display;\n",
              "        if (!display || display === 'none') {{\n",
              "            console.log([gd, 'removed!']);\n",
              "            Plotly.purge(gd);\n",
              "            observer.disconnect();\n",
              "        }}\n",
              "}});\n",
              "\n",
              "// Listen for the removal of the full notebook cells\n",
              "var notebookContainer = gd.closest('#notebook-container');\n",
              "if (notebookContainer) {{\n",
              "    x.observe(notebookContainer, {childList: true});\n",
              "}}\n",
              "\n",
              "// Listen for the clearing of the current output cell\n",
              "var outputEl = gd.closest('.output');\n",
              "if (outputEl) {{\n",
              "    x.observe(outputEl, {childList: true});\n",
              "}}\n",
              "\n",
              "                        })                };                            </script>        </div>\n",
              "</body>\n",
              "</html>"
            ]
          },
          "metadata": {}
        }
      ]
    },
    {
      "cell_type": "code",
      "source": [
        "z = df[df['Dia'] <= 20]\n",
        "z = df.groupby('Mes', as_index=False)[['Vendas']].sum().sort_values(by='Vendas',ascending=False)\n",
        "z = z.replace(1, 'Janeiro de 2023')\n",
        "z = z.replace(12, 'Dezembro de 2022')"
      ],
      "metadata": {
        "id": "_pgceHWGh5UE"
      },
      "execution_count": 14,
      "outputs": []
    },
    {
      "cell_type": "code",
      "source": [
        "fig=px.bar(z,x='Mes',y='Vendas',color='Mes',\n",
        "           labels={'Mes':'mês','Vendas':'vendas'},text='Vendas',template='seaborn',title=\"<b> Total de vendas dos primeiros 20 dias do mês\")\n",
        "\n",
        "fig.show()"
      ],
      "metadata": {
        "colab": {
          "base_uri": "https://localhost:8080/",
          "height": 542
        },
        "id": "WBfAMghAiaff",
        "outputId": "c433a529-8f8a-4e93-ef62-729ebd453afd"
      },
      "execution_count": 15,
      "outputs": [
        {
          "output_type": "display_data",
          "data": {
            "text/html": [
              "<html>\n",
              "<head><meta charset=\"utf-8\" /></head>\n",
              "<body>\n",
              "    <div>            <script src=\"https://cdnjs.cloudflare.com/ajax/libs/mathjax/2.7.5/MathJax.js?config=TeX-AMS-MML_SVG\"></script><script type=\"text/javascript\">if (window.MathJax) {MathJax.Hub.Config({SVG: {font: \"STIX-Web\"}});}</script>                <script type=\"text/javascript\">window.PlotlyConfig = {MathJaxConfig: 'local'};</script>\n",
              "        <script src=\"https://cdn.plot.ly/plotly-2.8.3.min.js\"></script>                <div id=\"8d19347e-ee64-4ef8-b799-2e11b3a82630\" class=\"plotly-graph-div\" style=\"height:525px; width:100%;\"></div>            <script type=\"text/javascript\">                                    window.PLOTLYENV=window.PLOTLYENV || {};                                    if (document.getElementById(\"8d19347e-ee64-4ef8-b799-2e11b3a82630\")) {                    Plotly.newPlot(                        \"8d19347e-ee64-4ef8-b799-2e11b3a82630\",                        [{\"alignmentgroup\":\"True\",\"hovertemplate\":\"m\\u00eas=%{x}<br>vendas=%{text}<extra></extra>\",\"legendgroup\":\"Janeiro de 2023\",\"marker\":{\"color\":\"rgb(76,114,176)\",\"pattern\":{\"shape\":\"\"}},\"name\":\"Janeiro de 2023\",\"offsetgroup\":\"Janeiro de 2023\",\"orientation\":\"v\",\"showlegend\":true,\"text\":[17535.0],\"textposition\":\"auto\",\"x\":[\"Janeiro de 2023\"],\"xaxis\":\"x\",\"y\":[17535],\"yaxis\":\"y\",\"type\":\"bar\"},{\"alignmentgroup\":\"True\",\"hovertemplate\":\"m\\u00eas=%{x}<br>vendas=%{text}<extra></extra>\",\"legendgroup\":\"Dezembro de 2022\",\"marker\":{\"color\":\"rgb(221,132,82)\",\"pattern\":{\"shape\":\"\"}},\"name\":\"Dezembro de 2022\",\"offsetgroup\":\"Dezembro de 2022\",\"orientation\":\"v\",\"showlegend\":true,\"text\":[17215.0],\"textposition\":\"auto\",\"x\":[\"Dezembro de 2022\"],\"xaxis\":\"x\",\"y\":[17215],\"yaxis\":\"y\",\"type\":\"bar\"}],                        {\"template\":{\"data\":{\"barpolar\":[{\"marker\":{\"line\":{\"color\":\"rgb(234,234,242)\",\"width\":0.5},\"pattern\":{\"fillmode\":\"overlay\",\"size\":10,\"solidity\":0.2}},\"type\":\"barpolar\"}],\"bar\":[{\"error_x\":{\"color\":\"rgb(36,36,36)\"},\"error_y\":{\"color\":\"rgb(36,36,36)\"},\"marker\":{\"line\":{\"color\":\"rgb(234,234,242)\",\"width\":0.5},\"pattern\":{\"fillmode\":\"overlay\",\"size\":10,\"solidity\":0.2}},\"type\":\"bar\"}],\"carpet\":[{\"aaxis\":{\"endlinecolor\":\"rgb(36,36,36)\",\"gridcolor\":\"white\",\"linecolor\":\"white\",\"minorgridcolor\":\"white\",\"startlinecolor\":\"rgb(36,36,36)\"},\"baxis\":{\"endlinecolor\":\"rgb(36,36,36)\",\"gridcolor\":\"white\",\"linecolor\":\"white\",\"minorgridcolor\":\"white\",\"startlinecolor\":\"rgb(36,36,36)\"},\"type\":\"carpet\"}],\"choropleth\":[{\"colorbar\":{\"outlinewidth\":0,\"tickcolor\":\"rgb(36,36,36)\",\"ticklen\":8,\"ticks\":\"outside\",\"tickwidth\":2},\"type\":\"choropleth\"}],\"contourcarpet\":[{\"colorbar\":{\"outlinewidth\":0,\"tickcolor\":\"rgb(36,36,36)\",\"ticklen\":8,\"ticks\":\"outside\",\"tickwidth\":2},\"type\":\"contourcarpet\"}],\"contour\":[{\"colorbar\":{\"outlinewidth\":0,\"tickcolor\":\"rgb(36,36,36)\",\"ticklen\":8,\"ticks\":\"outside\",\"tickwidth\":2},\"colorscale\":[[0.0,\"rgb(2,4,25)\"],[0.06274509803921569,\"rgb(24,15,41)\"],[0.12549019607843137,\"rgb(47,23,57)\"],[0.18823529411764706,\"rgb(71,28,72)\"],[0.25098039215686274,\"rgb(97,30,82)\"],[0.3137254901960784,\"rgb(123,30,89)\"],[0.3764705882352941,\"rgb(150,27,91)\"],[0.4392156862745098,\"rgb(177,22,88)\"],[0.5019607843137255,\"rgb(203,26,79)\"],[0.5647058823529412,\"rgb(223,47,67)\"],[0.6274509803921569,\"rgb(236,76,61)\"],[0.6901960784313725,\"rgb(242,107,73)\"],[0.7529411764705882,\"rgb(244,135,95)\"],[0.8156862745098039,\"rgb(245,162,122)\"],[0.8784313725490196,\"rgb(246,188,153)\"],[0.9411764705882353,\"rgb(247,212,187)\"],[1.0,\"rgb(250,234,220)\"]],\"type\":\"contour\"}],\"heatmapgl\":[{\"colorbar\":{\"outlinewidth\":0,\"tickcolor\":\"rgb(36,36,36)\",\"ticklen\":8,\"ticks\":\"outside\",\"tickwidth\":2},\"colorscale\":[[0.0,\"rgb(2,4,25)\"],[0.06274509803921569,\"rgb(24,15,41)\"],[0.12549019607843137,\"rgb(47,23,57)\"],[0.18823529411764706,\"rgb(71,28,72)\"],[0.25098039215686274,\"rgb(97,30,82)\"],[0.3137254901960784,\"rgb(123,30,89)\"],[0.3764705882352941,\"rgb(150,27,91)\"],[0.4392156862745098,\"rgb(177,22,88)\"],[0.5019607843137255,\"rgb(203,26,79)\"],[0.5647058823529412,\"rgb(223,47,67)\"],[0.6274509803921569,\"rgb(236,76,61)\"],[0.6901960784313725,\"rgb(242,107,73)\"],[0.7529411764705882,\"rgb(244,135,95)\"],[0.8156862745098039,\"rgb(245,162,122)\"],[0.8784313725490196,\"rgb(246,188,153)\"],[0.9411764705882353,\"rgb(247,212,187)\"],[1.0,\"rgb(250,234,220)\"]],\"type\":\"heatmapgl\"}],\"heatmap\":[{\"colorbar\":{\"outlinewidth\":0,\"tickcolor\":\"rgb(36,36,36)\",\"ticklen\":8,\"ticks\":\"outside\",\"tickwidth\":2},\"colorscale\":[[0.0,\"rgb(2,4,25)\"],[0.06274509803921569,\"rgb(24,15,41)\"],[0.12549019607843137,\"rgb(47,23,57)\"],[0.18823529411764706,\"rgb(71,28,72)\"],[0.25098039215686274,\"rgb(97,30,82)\"],[0.3137254901960784,\"rgb(123,30,89)\"],[0.3764705882352941,\"rgb(150,27,91)\"],[0.4392156862745098,\"rgb(177,22,88)\"],[0.5019607843137255,\"rgb(203,26,79)\"],[0.5647058823529412,\"rgb(223,47,67)\"],[0.6274509803921569,\"rgb(236,76,61)\"],[0.6901960784313725,\"rgb(242,107,73)\"],[0.7529411764705882,\"rgb(244,135,95)\"],[0.8156862745098039,\"rgb(245,162,122)\"],[0.8784313725490196,\"rgb(246,188,153)\"],[0.9411764705882353,\"rgb(247,212,187)\"],[1.0,\"rgb(250,234,220)\"]],\"type\":\"heatmap\"}],\"histogram2dcontour\":[{\"colorbar\":{\"outlinewidth\":0,\"tickcolor\":\"rgb(36,36,36)\",\"ticklen\":8,\"ticks\":\"outside\",\"tickwidth\":2},\"colorscale\":[[0.0,\"rgb(2,4,25)\"],[0.06274509803921569,\"rgb(24,15,41)\"],[0.12549019607843137,\"rgb(47,23,57)\"],[0.18823529411764706,\"rgb(71,28,72)\"],[0.25098039215686274,\"rgb(97,30,82)\"],[0.3137254901960784,\"rgb(123,30,89)\"],[0.3764705882352941,\"rgb(150,27,91)\"],[0.4392156862745098,\"rgb(177,22,88)\"],[0.5019607843137255,\"rgb(203,26,79)\"],[0.5647058823529412,\"rgb(223,47,67)\"],[0.6274509803921569,\"rgb(236,76,61)\"],[0.6901960784313725,\"rgb(242,107,73)\"],[0.7529411764705882,\"rgb(244,135,95)\"],[0.8156862745098039,\"rgb(245,162,122)\"],[0.8784313725490196,\"rgb(246,188,153)\"],[0.9411764705882353,\"rgb(247,212,187)\"],[1.0,\"rgb(250,234,220)\"]],\"type\":\"histogram2dcontour\"}],\"histogram2d\":[{\"colorbar\":{\"outlinewidth\":0,\"tickcolor\":\"rgb(36,36,36)\",\"ticklen\":8,\"ticks\":\"outside\",\"tickwidth\":2},\"colorscale\":[[0.0,\"rgb(2,4,25)\"],[0.06274509803921569,\"rgb(24,15,41)\"],[0.12549019607843137,\"rgb(47,23,57)\"],[0.18823529411764706,\"rgb(71,28,72)\"],[0.25098039215686274,\"rgb(97,30,82)\"],[0.3137254901960784,\"rgb(123,30,89)\"],[0.3764705882352941,\"rgb(150,27,91)\"],[0.4392156862745098,\"rgb(177,22,88)\"],[0.5019607843137255,\"rgb(203,26,79)\"],[0.5647058823529412,\"rgb(223,47,67)\"],[0.6274509803921569,\"rgb(236,76,61)\"],[0.6901960784313725,\"rgb(242,107,73)\"],[0.7529411764705882,\"rgb(244,135,95)\"],[0.8156862745098039,\"rgb(245,162,122)\"],[0.8784313725490196,\"rgb(246,188,153)\"],[0.9411764705882353,\"rgb(247,212,187)\"],[1.0,\"rgb(250,234,220)\"]],\"type\":\"histogram2d\"}],\"histogram\":[{\"marker\":{\"pattern\":{\"fillmode\":\"overlay\",\"size\":10,\"solidity\":0.2}},\"type\":\"histogram\"}],\"mesh3d\":[{\"colorbar\":{\"outlinewidth\":0,\"tickcolor\":\"rgb(36,36,36)\",\"ticklen\":8,\"ticks\":\"outside\",\"tickwidth\":2},\"type\":\"mesh3d\"}],\"parcoords\":[{\"line\":{\"colorbar\":{\"outlinewidth\":0,\"tickcolor\":\"rgb(36,36,36)\",\"ticklen\":8,\"ticks\":\"outside\",\"tickwidth\":2}},\"type\":\"parcoords\"}],\"pie\":[{\"automargin\":true,\"type\":\"pie\"}],\"scatter3d\":[{\"line\":{\"colorbar\":{\"outlinewidth\":0,\"tickcolor\":\"rgb(36,36,36)\",\"ticklen\":8,\"ticks\":\"outside\",\"tickwidth\":2}},\"marker\":{\"colorbar\":{\"outlinewidth\":0,\"tickcolor\":\"rgb(36,36,36)\",\"ticklen\":8,\"ticks\":\"outside\",\"tickwidth\":2}},\"type\":\"scatter3d\"}],\"scattercarpet\":[{\"marker\":{\"colorbar\":{\"outlinewidth\":0,\"tickcolor\":\"rgb(36,36,36)\",\"ticklen\":8,\"ticks\":\"outside\",\"tickwidth\":2}},\"type\":\"scattercarpet\"}],\"scattergeo\":[{\"marker\":{\"colorbar\":{\"outlinewidth\":0,\"tickcolor\":\"rgb(36,36,36)\",\"ticklen\":8,\"ticks\":\"outside\",\"tickwidth\":2}},\"type\":\"scattergeo\"}],\"scattergl\":[{\"marker\":{\"colorbar\":{\"outlinewidth\":0,\"tickcolor\":\"rgb(36,36,36)\",\"ticklen\":8,\"ticks\":\"outside\",\"tickwidth\":2}},\"type\":\"scattergl\"}],\"scattermapbox\":[{\"marker\":{\"colorbar\":{\"outlinewidth\":0,\"tickcolor\":\"rgb(36,36,36)\",\"ticklen\":8,\"ticks\":\"outside\",\"tickwidth\":2}},\"type\":\"scattermapbox\"}],\"scatterpolargl\":[{\"marker\":{\"colorbar\":{\"outlinewidth\":0,\"tickcolor\":\"rgb(36,36,36)\",\"ticklen\":8,\"ticks\":\"outside\",\"tickwidth\":2}},\"type\":\"scatterpolargl\"}],\"scatterpolar\":[{\"marker\":{\"colorbar\":{\"outlinewidth\":0,\"tickcolor\":\"rgb(36,36,36)\",\"ticklen\":8,\"ticks\":\"outside\",\"tickwidth\":2}},\"type\":\"scatterpolar\"}],\"scatter\":[{\"marker\":{\"colorbar\":{\"outlinewidth\":0,\"tickcolor\":\"rgb(36,36,36)\",\"ticklen\":8,\"ticks\":\"outside\",\"tickwidth\":2}},\"type\":\"scatter\"}],\"scatterternary\":[{\"marker\":{\"colorbar\":{\"outlinewidth\":0,\"tickcolor\":\"rgb(36,36,36)\",\"ticklen\":8,\"ticks\":\"outside\",\"tickwidth\":2}},\"type\":\"scatterternary\"}],\"surface\":[{\"colorbar\":{\"outlinewidth\":0,\"tickcolor\":\"rgb(36,36,36)\",\"ticklen\":8,\"ticks\":\"outside\",\"tickwidth\":2},\"colorscale\":[[0.0,\"rgb(2,4,25)\"],[0.06274509803921569,\"rgb(24,15,41)\"],[0.12549019607843137,\"rgb(47,23,57)\"],[0.18823529411764706,\"rgb(71,28,72)\"],[0.25098039215686274,\"rgb(97,30,82)\"],[0.3137254901960784,\"rgb(123,30,89)\"],[0.3764705882352941,\"rgb(150,27,91)\"],[0.4392156862745098,\"rgb(177,22,88)\"],[0.5019607843137255,\"rgb(203,26,79)\"],[0.5647058823529412,\"rgb(223,47,67)\"],[0.6274509803921569,\"rgb(236,76,61)\"],[0.6901960784313725,\"rgb(242,107,73)\"],[0.7529411764705882,\"rgb(244,135,95)\"],[0.8156862745098039,\"rgb(245,162,122)\"],[0.8784313725490196,\"rgb(246,188,153)\"],[0.9411764705882353,\"rgb(247,212,187)\"],[1.0,\"rgb(250,234,220)\"]],\"type\":\"surface\"}],\"table\":[{\"cells\":{\"fill\":{\"color\":\"rgb(231,231,240)\"},\"line\":{\"color\":\"white\"}},\"header\":{\"fill\":{\"color\":\"rgb(183,183,191)\"},\"line\":{\"color\":\"white\"}},\"type\":\"table\"}]},\"layout\":{\"annotationdefaults\":{\"arrowcolor\":\"rgb(67,103,167)\"},\"autotypenumbers\":\"strict\",\"coloraxis\":{\"colorbar\":{\"outlinewidth\":0,\"tickcolor\":\"rgb(36,36,36)\",\"ticklen\":8,\"ticks\":\"outside\",\"tickwidth\":2}},\"colorscale\":{\"sequential\":[[0.0,\"rgb(2,4,25)\"],[0.06274509803921569,\"rgb(24,15,41)\"],[0.12549019607843137,\"rgb(47,23,57)\"],[0.18823529411764706,\"rgb(71,28,72)\"],[0.25098039215686274,\"rgb(97,30,82)\"],[0.3137254901960784,\"rgb(123,30,89)\"],[0.3764705882352941,\"rgb(150,27,91)\"],[0.4392156862745098,\"rgb(177,22,88)\"],[0.5019607843137255,\"rgb(203,26,79)\"],[0.5647058823529412,\"rgb(223,47,67)\"],[0.6274509803921569,\"rgb(236,76,61)\"],[0.6901960784313725,\"rgb(242,107,73)\"],[0.7529411764705882,\"rgb(244,135,95)\"],[0.8156862745098039,\"rgb(245,162,122)\"],[0.8784313725490196,\"rgb(246,188,153)\"],[0.9411764705882353,\"rgb(247,212,187)\"],[1.0,\"rgb(250,234,220)\"]],\"sequentialminus\":[[0.0,\"rgb(2,4,25)\"],[0.06274509803921569,\"rgb(24,15,41)\"],[0.12549019607843137,\"rgb(47,23,57)\"],[0.18823529411764706,\"rgb(71,28,72)\"],[0.25098039215686274,\"rgb(97,30,82)\"],[0.3137254901960784,\"rgb(123,30,89)\"],[0.3764705882352941,\"rgb(150,27,91)\"],[0.4392156862745098,\"rgb(177,22,88)\"],[0.5019607843137255,\"rgb(203,26,79)\"],[0.5647058823529412,\"rgb(223,47,67)\"],[0.6274509803921569,\"rgb(236,76,61)\"],[0.6901960784313725,\"rgb(242,107,73)\"],[0.7529411764705882,\"rgb(244,135,95)\"],[0.8156862745098039,\"rgb(245,162,122)\"],[0.8784313725490196,\"rgb(246,188,153)\"],[0.9411764705882353,\"rgb(247,212,187)\"],[1.0,\"rgb(250,234,220)\"]]},\"colorway\":[\"rgb(76,114,176)\",\"rgb(221,132,82)\",\"rgb(85,168,104)\",\"rgb(196,78,82)\",\"rgb(129,114,179)\",\"rgb(147,120,96)\",\"rgb(218,139,195)\",\"rgb(140,140,140)\",\"rgb(204,185,116)\",\"rgb(100,181,205)\"],\"font\":{\"color\":\"rgb(36,36,36)\"},\"geo\":{\"bgcolor\":\"white\",\"lakecolor\":\"white\",\"landcolor\":\"rgb(234,234,242)\",\"showlakes\":true,\"showland\":true,\"subunitcolor\":\"white\"},\"hoverlabel\":{\"align\":\"left\"},\"hovermode\":\"closest\",\"paper_bgcolor\":\"white\",\"plot_bgcolor\":\"rgb(234,234,242)\",\"polar\":{\"angularaxis\":{\"gridcolor\":\"white\",\"linecolor\":\"white\",\"showgrid\":true,\"ticks\":\"\"},\"bgcolor\":\"rgb(234,234,242)\",\"radialaxis\":{\"gridcolor\":\"white\",\"linecolor\":\"white\",\"showgrid\":true,\"ticks\":\"\"}},\"scene\":{\"xaxis\":{\"backgroundcolor\":\"rgb(234,234,242)\",\"gridcolor\":\"white\",\"gridwidth\":2,\"linecolor\":\"white\",\"showbackground\":true,\"showgrid\":true,\"ticks\":\"\",\"zerolinecolor\":\"white\"},\"yaxis\":{\"backgroundcolor\":\"rgb(234,234,242)\",\"gridcolor\":\"white\",\"gridwidth\":2,\"linecolor\":\"white\",\"showbackground\":true,\"showgrid\":true,\"ticks\":\"\",\"zerolinecolor\":\"white\"},\"zaxis\":{\"backgroundcolor\":\"rgb(234,234,242)\",\"gridcolor\":\"white\",\"gridwidth\":2,\"linecolor\":\"white\",\"showbackground\":true,\"showgrid\":true,\"ticks\":\"\",\"zerolinecolor\":\"white\"}},\"shapedefaults\":{\"fillcolor\":\"rgb(67,103,167)\",\"line\":{\"width\":0},\"opacity\":0.5},\"ternary\":{\"aaxis\":{\"gridcolor\":\"white\",\"linecolor\":\"white\",\"showgrid\":true,\"ticks\":\"\"},\"baxis\":{\"gridcolor\":\"white\",\"linecolor\":\"white\",\"showgrid\":true,\"ticks\":\"\"},\"bgcolor\":\"rgb(234,234,242)\",\"caxis\":{\"gridcolor\":\"white\",\"linecolor\":\"white\",\"showgrid\":true,\"ticks\":\"\"}},\"xaxis\":{\"automargin\":true,\"gridcolor\":\"white\",\"linecolor\":\"white\",\"showgrid\":true,\"ticks\":\"\",\"title\":{\"standoff\":15},\"zerolinecolor\":\"white\"},\"yaxis\":{\"automargin\":true,\"gridcolor\":\"white\",\"linecolor\":\"white\",\"showgrid\":true,\"ticks\":\"\",\"title\":{\"standoff\":15},\"zerolinecolor\":\"white\"}}},\"xaxis\":{\"anchor\":\"y\",\"domain\":[0.0,1.0],\"title\":{\"text\":\"m\\u00eas\"},\"categoryorder\":\"array\",\"categoryarray\":[\"Janeiro de 2023\",\"Dezembro de 2022\"]},\"yaxis\":{\"anchor\":\"x\",\"domain\":[0.0,1.0],\"title\":{\"text\":\"vendas\"}},\"legend\":{\"title\":{\"text\":\"m\\u00eas\"},\"tracegroupgap\":0},\"title\":{\"text\":\"<b> Total de vendas dos primeiros 20 dias do m\\u00eas\"},\"barmode\":\"relative\"},                        {\"responsive\": true}                    ).then(function(){\n",
              "                            \n",
              "var gd = document.getElementById('8d19347e-ee64-4ef8-b799-2e11b3a82630');\n",
              "var x = new MutationObserver(function (mutations, observer) {{\n",
              "        var display = window.getComputedStyle(gd).display;\n",
              "        if (!display || display === 'none') {{\n",
              "            console.log([gd, 'removed!']);\n",
              "            Plotly.purge(gd);\n",
              "            observer.disconnect();\n",
              "        }}\n",
              "}});\n",
              "\n",
              "// Listen for the removal of the full notebook cells\n",
              "var notebookContainer = gd.closest('#notebook-container');\n",
              "if (notebookContainer) {{\n",
              "    x.observe(notebookContainer, {childList: true});\n",
              "}}\n",
              "\n",
              "// Listen for the clearing of the current output cell\n",
              "var outputEl = gd.closest('.output');\n",
              "if (outputEl) {{\n",
              "    x.observe(outputEl, {childList: true});\n",
              "}}\n",
              "\n",
              "                        })                };                            </script>        </div>\n",
              "</body>\n",
              "</html>"
            ]
          },
          "metadata": {}
        }
      ]
    },
    {
      "cell_type": "markdown",
      "source": [
        "# Machine Learning"
      ],
      "metadata": {
        "id": "fILcHEmXTqCn"
      }
    },
    {
      "cell_type": "markdown",
      "source": [
        "## Análise das features"
      ],
      "metadata": {
        "id": "QZJ6uabYyJox"
      }
    },
    {
      "cell_type": "markdown",
      "source": [
        "Como queremos calcular a correlação entre features categóricas e numéricas, será utilizada a medida de **correlation ratio (eta)**."
      ],
      "metadata": {
        "id": "QdL9dBZyzVO4"
      }
    },
    {
      "cell_type": "code",
      "source": [
        "def correlation_ratio(categories, values):\n",
        "    categories = np.array(categories)\n",
        "    values = np.array(values)\n",
        "    \n",
        "    ssw = 0\n",
        "    ssb = 0\n",
        "    for category in set(categories):\n",
        "        subgroup = values[np.where(categories == category)[0]]\n",
        "        ssw += sum((subgroup-np.mean(subgroup))**2)\n",
        "        ssb += len(subgroup)*(np.mean(subgroup)-np.mean(values))**2\n",
        "        \n",
        "    Eta = (ssb / (ssb + ssw))**.5\n",
        "\n",
        "    return Eta"
      ],
      "metadata": {
        "id": "1Q76W9ZSyJRZ"
      },
      "execution_count": 16,
      "outputs": []
    },
    {
      "cell_type": "code",
      "source": [
        "Dia_coef = correlation_ratio(df['Dia'], df['Vendas'])\n",
        "Mes_coef = correlation_ratio(df['Mes'], df['Vendas'])\n",
        "Ano_coef = correlation_ratio(df['Ano'], df['Vendas'])\n",
        "\n",
        "features_corr = {\n",
        "                 'Dia':Dia_coef\n",
        "                ,'Mês':Mes_coef\n",
        "                ,'Ano':Ano_coef\n",
        "                 }"
      ],
      "metadata": {
        "id": "XauaE5XUz0_m"
      },
      "execution_count": 17,
      "outputs": []
    },
    {
      "cell_type": "code",
      "source": [
        "features_corr = sorted(features_corr.items(), key=lambda x: x[1], reverse=True)"
      ],
      "metadata": {
        "id": "vbIRV7a-0Qwe"
      },
      "execution_count": 18,
      "outputs": []
    },
    {
      "cell_type": "code",
      "source": [
        "import matplotlib.pyplot as plt\n",
        "from matplotlib.pyplot import figure"
      ],
      "metadata": {
        "id": "gnfJj7Pn0bhC"
      },
      "execution_count": 19,
      "outputs": []
    },
    {
      "cell_type": "code",
      "source": [
        "names = list(zip(*features_corr))[0]\n",
        "values = list(zip(*features_corr))[1]\n",
        "\n",
        "plt.bar(range(len(features_corr)), values, tick_label=names)\n",
        "plt.title('Correlação das features com o número de vendas')\n",
        "plt.xlabel('feature')\n",
        "plt.ylabel('correlation ratio')\n",
        "plt.show()"
      ],
      "metadata": {
        "colab": {
          "base_uri": "https://localhost:8080/",
          "height": 295
        },
        "id": "8Z0gJ0Xe0de5",
        "outputId": "853bf945-0dfe-4aa7-a3f1-2265aa0bc421"
      },
      "execution_count": 20,
      "outputs": [
        {
          "output_type": "display_data",
          "data": {
            "text/plain": [
              "<Figure size 432x288 with 1 Axes>"
            ],
            "image/png": "[encoded data removed]"
          },
          "metadata": {
            "needs_background": "light"
          }
        }
      ]
    },
    {
      "cell_type": "markdown",
      "source": [
        "A variável mais relacionada com o número de vendas é o **dia**. O **mês** e **ano** possuem menos importância, mas **não** uma importância insignificativa."
      ],
      "metadata": {
        "id": "5EzidBxC04Px"
      }
    },
    {
      "cell_type": "markdown",
      "source": [
        "## Data Visualization"
      ],
      "metadata": {
        "id": "RCiTaVgH2Gfn"
      }
    },
    {
      "cell_type": "code",
      "source": [
        "import warnings\n",
        "warnings.filterwarnings(\"ignore\")\n",
        "\n",
        "# registrando o número de vendas dos próximos 5 dias para cada amostra\n",
        "df[\"Vendas_1\"] = np.nan\n",
        "df[\"Vendas_2\"] = np.nan\n",
        "df[\"Vendas_3\"] = np.nan\n",
        "df[\"Vendas_4\"] = np.nan\n",
        "df[\"Vendas_5\"] = np.nan\n",
        "\n",
        "for i in range(len(df['Vendas'])-6):\n",
        "  df['Vendas_1'][i] = df['Vendas'][i+1]\n",
        "  df['Vendas_2'][i] = df['Vendas'][i+2]\n",
        "  df['Vendas_3'][i] = df['Vendas'][i+3]\n",
        "  df['Vendas_4'][i] = df['Vendas'][i+4]\n",
        "  df['Vendas_5'][i] = df['Vendas'][i+5]\n",
        "\n",
        "df = df.dropna()"
      ],
      "metadata": {
        "id": "7ZsBx9hIta6s"
      },
      "execution_count": 21,
      "outputs": []
    },
    {
      "cell_type": "code",
      "source": [
        "data = df.drop(['Data'], axis=1)\n",
        "data[['Ano', 'Mes', 'Dia']] = data[['Ano', 'Mes', 'Dia']].astype(str)\n",
        "\n",
        "# one hot encoding variáveis categóricas\n",
        "data = pd.get_dummies(data)"
      ],
      "metadata": {
        "id": "qVviCHpY2L20"
      },
      "execution_count": 22,
      "outputs": []
    },
    {
      "cell_type": "code",
      "source": [
        "data.head()"
      ],
      "metadata": {
        "colab": {
          "base_uri": "https://localhost:8080/",
          "height": 236
        },
        "id": "zUybf9Md2Tmz",
        "outputId": "ac5c93ed-082b-4e5f-faea-1b556982f45c"
      },
      "execution_count": 23,
      "outputs": [
        {
          "output_type": "execute_result",
          "data": {
            "text/plain": [
              "   Vendas  Vendas_1  Vendas_2  Vendas_3  Vendas_4  Vendas_5  Ano_2022  \\\n",
              "0     870     868.0    1189.0     742.0     317.0     685.0         1   \n",
              "1     868    1189.0     742.0     317.0     685.0    1366.0         1   \n",
              "2    1189     742.0     317.0     685.0    1366.0    1213.0         1   \n",
              "3     742     317.0     685.0    1366.0    1213.0    1055.0         1   \n",
              "4     317     685.0    1366.0    1213.0    1055.0    1343.0         1   \n",
              "\n",
              "   Ano_2023  Mes_1  Mes_12  ...  Dia_29  Dia_3  Dia_30  Dia_31  Dia_4  Dia_5  \\\n",
              "0         0      0       1  ...       0      0       0       0      0      0   \n",
              "1         0      0       1  ...       0      0       0       0      0      0   \n",
              "2         0      0       1  ...       0      0       0       0      0      0   \n",
              "3         0      0       1  ...       0      0       0       0      0      0   \n",
              "4         0      0       1  ...       0      0       0       0      0      0   \n",
              "\n",
              "   Dia_6  Dia_7  Dia_8  Dia_9  \n",
              "0      1      0      0      0  \n",
              "1      0      1      0      0  \n",
              "2      0      0      1      0  \n",
              "3      0      0      0      1  \n",
              "4      0      0      0      0  \n",
              "\n",
              "[5 rows x 41 columns]"
            ],
            "text/html": [
              "\n",
              "  <div id=\"df-7a679490-cdc7-4d88-bbb0-b88c669edbff\">\n",
              "    <div class=\"colab-df-container\">\n",
              "      <div>\n",
              "<style scoped>\n",
              "    .dataframe tbody tr th:only-of-type {\n",
              "        vertical-align: middle;\n",
              "    }\n",
              "\n",
              "    .dataframe tbody tr th {\n",
              "        vertical-align: top;\n",
              "    }\n",
              "\n",
              "    .dataframe thead th {\n",
              "        text-align: right;\n",
              "    }\n",
              "</style>\n",
              "<table border=\"1\" class=\"dataframe\">\n",
              "  <thead>\n",
              "    <tr style=\"text-align: right;\">\n",
              "      <th></th>\n",
              "      <th>Vendas</th>\n",
              "      <th>Vendas_1</th>\n",
              "      <th>Vendas_2</th>\n",
              "      <th>Vendas_3</th>\n",
              "      <th>Vendas_4</th>\n",
              "      <th>Vendas_5</th>\n",
              "      <th>Ano_2022</th>\n",
              "      <th>Ano_2023</th>\n",
              "      <th>Mes_1</th>\n",
              "      <th>Mes_12</th>\n",
              "      <th>...</th>\n",
              "      <th>Dia_29</th>\n",
              "      <th>Dia_3</th>\n",
              "      <th>Dia_30</th>\n",
              "      <th>Dia_31</th>\n",
              "      <th>Dia_4</th>\n",
              "      <th>Dia_5</th>\n",
              "      <th>Dia_6</th>\n",
              "      <th>Dia_7</th>\n",
              "      <th>Dia_8</th>\n",
              "      <th>Dia_9</th>\n",
              "    </tr>\n",
              "  </thead>\n",
              "  <tbody>\n",
              "    <tr>\n",
              "      <th>0</th>\n",
              "      <td>870</td>\n",
              "      <td>868.0</td>\n",
              "      <td>1189.0</td>\n",
              "      <td>742.0</td>\n",
              "      <td>317.0</td>\n",
              "      <td>685.0</td>\n",
              "      <td>1</td>\n",
              "      <td>0</td>\n",
              "      <td>0</td>\n",
              "      <td>1</td>\n",
              "      <td>...</td>\n",
              "      <td>0</td>\n",
              "      <td>0</td>\n",
              "      <td>0</td>\n",
              "      <td>0</td>\n",
              "      <td>0</td>\n",
              "      <td>0</td>\n",
              "      <td>1</td>\n",
              "      <td>0</td>\n",
              "      <td>0</td>\n",
              "      <td>0</td>\n",
              "    </tr>\n",
              "    <tr>\n",
              "      <th>1</th>\n",
              "      <td>868</td>\n",
              "      <td>1189.0</td>\n",
              "      <td>742.0</td>\n",
              "      <td>317.0</td>\n",
              "      <td>685.0</td>\n",
              "      <td>1366.0</td>\n",
              "      <td>1</td>\n",
              "      <td>0</td>\n",
              "      <td>0</td>\n",
              "      <td>1</td>\n",
              "      <td>...</td>\n",
              "      <td>0</td>\n",
              "      <td>0</td>\n",
              "      <td>0</td>\n",
              "      <td>0</td>\n",
              "      <td>0</td>\n",
              "      <td>0</td>\n",
              "      <td>0</td>\n",
              "      <td>1</td>\n",
              "      <td>0</td>\n",
              "      <td>0</td>\n",
              "    </tr>\n",
              "    <tr>\n",
              "      <th>2</th>\n",
              "      <td>1189</td>\n",
              "      <td>742.0</td>\n",
              "      <td>317.0</td>\n",
              "      <td>685.0</td>\n",
              "      <td>1366.0</td>\n",
              "      <td>1213.0</td>\n",
              "      <td>1</td>\n",
              "      <td>0</td>\n",
              "      <td>0</td>\n",
              "      <td>1</td>\n",
              "      <td>...</td>\n",
              "      <td>0</td>\n",
              "      <td>0</td>\n",
              "      <td>0</td>\n",
              "      <td>0</td>\n",
              "      <td>0</td>\n",
              "      <td>0</td>\n",
              "      <td>0</td>\n",
              "      <td>0</td>\n",
              "      <td>1</td>\n",
              "      <td>0</td>\n",
              "    </tr>\n",
              "    <tr>\n",
              "      <th>3</th>\n",
              "      <td>742</td>\n",
              "      <td>317.0</td>\n",
              "      <td>685.0</td>\n",
              "      <td>1366.0</td>\n",
              "      <td>1213.0</td>\n",
              "      <td>1055.0</td>\n",
              "      <td>1</td>\n",
              "      <td>0</td>\n",
              "      <td>0</td>\n",
              "      <td>1</td>\n",
              "      <td>...</td>\n",
              "      <td>0</td>\n",
              "      <td>0</td>\n",
              "      <td>0</td>\n",
              "      <td>0</td>\n",
              "      <td>0</td>\n",
              "      <td>0</td>\n",
              "      <td>0</td>\n",
              "      <td>0</td>\n",
              "      <td>0</td>\n",
              "      <td>1</td>\n",
              "    </tr>\n",
              "    <tr>\n",
              "      <th>4</th>\n",
              "      <td>317</td>\n",
              "      <td>685.0</td>\n",
              "      <td>1366.0</td>\n",
              "      <td>1213.0</td>\n",
              "      <td>1055.0</td>\n",
              "      <td>1343.0</td>\n",
              "      <td>1</td>\n",
              "      <td>0</td>\n",
              "      <td>0</td>\n",
              "      <td>1</td>\n",
              "      <td>...</td>\n",
              "      <td>0</td>\n",
              "      <td>0</td>\n",
              "      <td>0</td>\n",
              "      <td>0</td>\n",
              "      <td>0</td>\n",
              "      <td>0</td>\n",
              "      <td>0</td>\n",
              "      <td>0</td>\n",
              "      <td>0</td>\n",
              "      <td>0</td>\n",
              "    </tr>\n",
              "  </tbody>\n",
              "</table>\n",
              "<p>5 rows × 41 columns</p>\n",
              "</div>\n",
              "      <button class=\"colab-df-convert\" onclick=\"convertToInteractive('df-7a679490-cdc7-4d88-bbb0-b88c669edbff')\"\n",
              "              title=\"Convert this dataframe to an interactive table.\"\n",
              "              style=\"display:none;\">\n",
              "        \n",
              "  <svg xmlns=\"http://www.w3.org/2000/svg\" height=\"24px\"viewBox=\"0 0 24 24\"\n",
              "       width=\"24px\">\n",
              "    <path d=\"M0 0h24v24H0V0z\" fill=\"none\"/>\n",
              "    <path d=\"M18.56 5.44l.94 2.06.94-2.06 2.06-.94-2.06-.94-.94-2.06-.94 2.06-2.06.94zm-11 1L8.5 8.5l.94-2.06 2.06-.94-2.06-.94L8.5 2.5l-.94 2.06-2.06.94zm10 10l.94 2.06.94-2.06 2.06-.94-2.06-.94-.94-2.06-.94 2.06-2.06.94z\"/><path d=\"M17.41 7.96l-1.37-1.37c-.4-.4-.92-.59-1.43-.59-.52 0-1.04.2-1.43.59L10.3 9.45l-7.72 7.72c-.78.78-.78 2.05 0 2.83L4 21.41c.39.39.9.59 1.41.59.51 0 1.02-.2 1.41-.59l7.78-7.78 2.81-2.81c.8-.78.8-2.07 0-2.86zM5.41 20L4 18.59l7.72-7.72 1.47 1.35L5.41 20z\"/>\n",
              "  </svg>\n",
              "      </button>\n",
              "      \n",
              "  <style>\n",
              "    .colab-df-container {\n",
              "      display:flex;\n",
              "      flex-wrap:wrap;\n",
              "      gap: 12px;\n",
              "    }\n",
              "\n",
              "    .colab-df-convert {\n",
              "      background-color: #E8F0FE;\n",
              "      border: none;\n",
              "      border-radius: 50%;\n",
              "      cursor: pointer;\n",
              "      display: none;\n",
              "      fill: #1967D2;\n",
              "      height: 32px;\n",
              "      padding: 0 0 0 0;\n",
              "      width: 32px;\n",
              "    }\n",
              "\n",
              "    .colab-df-convert:hover {\n",
              "      background-color: #E2EBFA;\n",
              "      box-shadow: 0px 1px 2px rgba(60, 64, 67, 0.3), 0px 1px 3px 1px rgba(60, 64, 67, 0.15);\n",
              "      fill: #174EA6;\n",
              "    }\n",
              "\n",
              "    [theme=dark] .colab-df-convert {\n",
              "      background-color: #3B4455;\n",
              "      fill: #D2E3FC;\n",
              "    }\n",
              "\n",
              "    [theme=dark] .colab-df-convert:hover {\n",
              "      background-color: #434B5C;\n",
              "      box-shadow: 0px 1px 3px 1px rgba(0, 0, 0, 0.15);\n",
              "      filter: drop-shadow(0px 1px 2px rgba(0, 0, 0, 0.3));\n",
              "      fill: #FFFFFF;\n",
              "    }\n",
              "  </style>\n",
              "\n",
              "      <script>\n",
              "        const buttonEl =\n",
              "          document.querySelector('#df-7a679490-cdc7-4d88-bbb0-b88c669edbff button.colab-df-convert');\n",
              "        buttonEl.style.display =\n",
              "          google.colab.kernel.accessAllowed ? 'block' : 'none';\n",
              "\n",
              "        async function convertToInteractive(key) {\n",
              "          const element = document.querySelector('#df-7a679490-cdc7-4d88-bbb0-b88c669edbff');\n",
              "          const dataTable =\n",
              "            await google.colab.kernel.invokeFunction('convertToInteractive',\n",
              "                                                     [key], {});\n",
              "          if (!dataTable) return;\n",
              "\n",
              "          const docLinkHtml = 'Like what you see? Visit the ' +\n",
              "            '<a target=\"_blank\" href=https://colab.research.google.com/notebooks/data_table.ipynb>data table notebook</a>'\n",
              "            + ' to learn more about interactive tables.';\n",
              "          element.innerHTML = '';\n",
              "          dataTable['output_type'] = 'display_data';\n",
              "          await google.colab.output.renderOutput(dataTable, element);\n",
              "          const docLink = document.createElement('div');\n",
              "          docLink.innerHTML = docLinkHtml;\n",
              "          element.appendChild(docLink);\n",
              "        }\n",
              "      </script>\n",
              "    </div>\n",
              "  </div>\n",
              "  "
            ]
          },
          "metadata": {},
          "execution_count": 23
        }
      ]
    },
    {
      "cell_type": "code",
      "source": [
        "data.info()"
      ],
      "metadata": {
        "colab": {
          "base_uri": "https://localhost:8080/"
        },
        "id": "siw2lUnY3wqt",
        "outputId": "0308c028-28ec-4ef5-bc65-ac7973a472a3"
      },
      "execution_count": 24,
      "outputs": [
        {
          "output_type": "stream",
          "name": "stdout",
          "text": [
            "<class 'pandas.core.frame.DataFrame'>\n",
            "Int64Index: 40 entries, 0 to 39\n",
            "Data columns (total 41 columns):\n",
            " #   Column    Non-Null Count  Dtype  \n",
            "---  ------    --------------  -----  \n",
            " 0   Vendas    40 non-null     int64  \n",
            " 1   Vendas_1  40 non-null     float64\n",
            " 2   Vendas_2  40 non-null     float64\n",
            " 3   Vendas_3  40 non-null     float64\n",
            " 4   Vendas_4  40 non-null     float64\n",
            " 5   Vendas_5  40 non-null     float64\n",
            " 6   Ano_2022  40 non-null     uint8  \n",
            " 7   Ano_2023  40 non-null     uint8  \n",
            " 8   Mes_1     40 non-null     uint8  \n",
            " 9   Mes_12    40 non-null     uint8  \n",
            " 10  Dia_1     40 non-null     uint8  \n",
            " 11  Dia_10    40 non-null     uint8  \n",
            " 12  Dia_11    40 non-null     uint8  \n",
            " 13  Dia_12    40 non-null     uint8  \n",
            " 14  Dia_13    40 non-null     uint8  \n",
            " 15  Dia_14    40 non-null     uint8  \n",
            " 16  Dia_15    40 non-null     uint8  \n",
            " 17  Dia_16    40 non-null     uint8  \n",
            " 18  Dia_17    40 non-null     uint8  \n",
            " 19  Dia_18    40 non-null     uint8  \n",
            " 20  Dia_19    40 non-null     uint8  \n",
            " 21  Dia_2     40 non-null     uint8  \n",
            " 22  Dia_20    40 non-null     uint8  \n",
            " 23  Dia_21    40 non-null     uint8  \n",
            " 24  Dia_22    40 non-null     uint8  \n",
            " 25  Dia_23    40 non-null     uint8  \n",
            " 26  Dia_24    40 non-null     uint8  \n",
            " 27  Dia_25    40 non-null     uint8  \n",
            " 28  Dia_26    40 non-null     uint8  \n",
            " 29  Dia_27    40 non-null     uint8  \n",
            " 30  Dia_28    40 non-null     uint8  \n",
            " 31  Dia_29    40 non-null     uint8  \n",
            " 32  Dia_3     40 non-null     uint8  \n",
            " 33  Dia_30    40 non-null     uint8  \n",
            " 34  Dia_31    40 non-null     uint8  \n",
            " 35  Dia_4     40 non-null     uint8  \n",
            " 36  Dia_5     40 non-null     uint8  \n",
            " 37  Dia_6     40 non-null     uint8  \n",
            " 38  Dia_7     40 non-null     uint8  \n",
            " 39  Dia_8     40 non-null     uint8  \n",
            " 40  Dia_9     40 non-null     uint8  \n",
            "dtypes: float64(5), int64(1), uint8(35)\n",
            "memory usage: 3.6 KB\n"
          ]
        }
      ]
    },
    {
      "cell_type": "code",
      "source": [
        "# descrição da coluna de vendas\n",
        "data.describe()['Vendas_1']"
      ],
      "metadata": {
        "colab": {
          "base_uri": "https://localhost:8080/"
        },
        "id": "7UnkQ_H837cy",
        "outputId": "8dd4247c-6787-4d21-d508-f50dd23e3bf2"
      },
      "execution_count": 25,
      "outputs": [
        {
          "output_type": "execute_result",
          "data": {
            "text/plain": [
              "count      40.000000\n",
              "mean      685.975000\n",
              "std       404.889569\n",
              "min        18.000000\n",
              "25%       317.000000\n",
              "50%       727.000000\n",
              "75%       944.500000\n",
              "max      1366.000000\n",
              "Name: Vendas_1, dtype: float64"
            ]
          },
          "metadata": {},
          "execution_count": 25
        }
      ]
    },
    {
      "cell_type": "code",
      "source": [
        "# checando nulos\n",
        "data.isnull().sum()"
      ],
      "metadata": {
        "colab": {
          "base_uri": "https://localhost:8080/"
        },
        "id": "uyhrCs9r4LnT",
        "outputId": "ecdcf038-d7b3-474d-fcb4-f2e60bf9d4e2"
      },
      "execution_count": 26,
      "outputs": [
        {
          "output_type": "execute_result",
          "data": {
            "text/plain": [
              "Vendas      0\n",
              "Vendas_1    0\n",
              "Vendas_2    0\n",
              "Vendas_3    0\n",
              "Vendas_4    0\n",
              "Vendas_5    0\n",
              "Ano_2022    0\n",
              "Ano_2023    0\n",
              "Mes_1       0\n",
              "Mes_12      0\n",
              "Dia_1       0\n",
              "Dia_10      0\n",
              "Dia_11      0\n",
              "Dia_12      0\n",
              "Dia_13      0\n",
              "Dia_14      0\n",
              "Dia_15      0\n",
              "Dia_16      0\n",
              "Dia_17      0\n",
              "Dia_18      0\n",
              "Dia_19      0\n",
              "Dia_2       0\n",
              "Dia_20      0\n",
              "Dia_21      0\n",
              "Dia_22      0\n",
              "Dia_23      0\n",
              "Dia_24      0\n",
              "Dia_25      0\n",
              "Dia_26      0\n",
              "Dia_27      0\n",
              "Dia_28      0\n",
              "Dia_29      0\n",
              "Dia_3       0\n",
              "Dia_30      0\n",
              "Dia_31      0\n",
              "Dia_4       0\n",
              "Dia_5       0\n",
              "Dia_6       0\n",
              "Dia_7       0\n",
              "Dia_8       0\n",
              "Dia_9       0\n",
              "dtype: int64"
            ]
          },
          "metadata": {},
          "execution_count": 26
        }
      ]
    },
    {
      "cell_type": "markdown",
      "source": [
        "## Load data"
      ],
      "metadata": {
        "id": "dw_FTLgC4WC4"
      }
    },
    {
      "cell_type": "code",
      "source": [
        "X = data.drop(['Vendas_1', 'Vendas_2', 'Vendas_3', 'Vendas_4', 'Vendas_5'], axis=1)\n",
        "y = np.array(data[['Vendas_1', 'Vendas_2', 'Vendas_3', 'Vendas_4', 'Vendas_5']]).astype(int)"
      ],
      "metadata": {
        "id": "96P_39qa4VvQ"
      },
      "execution_count": 27,
      "outputs": []
    },
    {
      "cell_type": "code",
      "source": [
        "from sklearn.model_selection import train_test_split"
      ],
      "metadata": {
        "id": "RenRDb465B0D"
      },
      "execution_count": 28,
      "outputs": []
    },
    {
      "cell_type": "code",
      "source": [
        "X_train, X_test, y_train, y_test = train_test_split(X, y, test_size=0.2, random_state=42)\n",
        "\n",
        "X_train, X_val, y_train, y_val  = train_test_split(X_train, y_train, test_size=0.2, random_state=42)"
      ],
      "metadata": {
        "id": "bKECXikS5CU7"
      },
      "execution_count": 29,
      "outputs": []
    },
    {
      "cell_type": "markdown",
      "source": [
        "### Rescaling features"
      ],
      "metadata": {
        "id": "OCZRyvPB5lQX"
      }
    },
    {
      "cell_type": "markdown",
      "source": [
        "Só é necessário reescalar as colunas de **'Vendas'**, as outras features são categóricas e já estão codificadas pelo one-hot-encoding.\n",
        "\n"
      ],
      "metadata": {
        "id": "atBLtmB85s-t"
      }
    },
    {
      "cell_type": "code",
      "source": [
        "from sklearn.preprocessing import StandardScaler"
      ],
      "metadata": {
        "id": "1JMWS1-U5p3-"
      },
      "execution_count": 30,
      "outputs": []
    },
    {
      "cell_type": "code",
      "source": [
        "scaler = StandardScaler()\n",
        "\n",
        "scaler.fit(pd.DataFrame(X_train['Vendas']))\n",
        "\n",
        "X_train['Vendas'] = scaler.transform(pd.DataFrame(X_train['Vendas']))\n",
        "X_test['Vendas'] = scaler.transform(pd.DataFrame(X_test['Vendas']))\n",
        "X_val['Vendas'] = scaler.transform(pd.DataFrame(X_val['Vendas']))"
      ],
      "metadata": {
        "id": "i-5x_UwxRFik"
      },
      "execution_count": 31,
      "outputs": []
    },
    {
      "cell_type": "code",
      "source": [
        "scaler = StandardScaler()\n",
        "\n",
        "scaler.fit(pd.DataFrame(y_train))\n",
        "\n",
        "y_train = scaler.transform(pd.DataFrame(y_train))\n",
        "y_test = scaler.transform(pd.DataFrame(y_test))\n",
        "y_val = scaler.transform(pd.DataFrame(y_val))"
      ],
      "metadata": {
        "id": "XhHZM4Lw6Do2"
      },
      "execution_count": 32,
      "outputs": []
    },
    {
      "cell_type": "code",
      "source": [
        "X_train.head()"
      ],
      "metadata": {
        "colab": {
          "base_uri": "https://localhost:8080/",
          "height": 236
        },
        "id": "w-HMwH9lUF3x",
        "outputId": "960fc4d7-10e8-41bb-c1d2-ad10efabaa82"
      },
      "execution_count": 33,
      "outputs": [
        {
          "output_type": "execute_result",
          "data": {
            "text/plain": [
              "      Vendas  Ano_2022  Ano_2023  Mes_1  Mes_12  Dia_1  Dia_10  Dia_11  \\\n",
              "22 -0.843611         1         0      0       1      0       0       0   \n",
              "5  -0.183169         1         0      0       1      0       0       1   \n",
              "39 -1.204790         0         1      1       0      0       0       0   \n",
              "13  0.758476         1         0      0       1      0       0       0   \n",
              "21 -0.474692         1         0      0       1      0       0       0   \n",
              "\n",
              "    Dia_12  Dia_13  ...  Dia_29  Dia_3  Dia_30  Dia_31  Dia_4  Dia_5  Dia_6  \\\n",
              "22       0       0  ...       0      0       0       0      0      0      0   \n",
              "5        0       0  ...       0      0       0       0      0      0      0   \n",
              "39       0       0  ...       0      0       0       0      0      0      0   \n",
              "13       0       0  ...       0      0       0       0      0      0      0   \n",
              "21       0       0  ...       0      0       0       0      0      0      0   \n",
              "\n",
              "    Dia_7  Dia_8  Dia_9  \n",
              "22      0      0      0  \n",
              "5       0      0      0  \n",
              "39      0      0      0  \n",
              "13      0      0      0  \n",
              "21      0      0      0  \n",
              "\n",
              "[5 rows x 36 columns]"
            ],
            "text/html": [
              "\n",
              "  <div id=\"df-e95f2fe8-04d9-4b99-9eda-72a18a2b8cb1\">\n",
              "    <div class=\"colab-df-container\">\n",
              "      <div>\n",
              "<style scoped>\n",
              "    .dataframe tbody tr th:only-of-type {\n",
              "        vertical-align: middle;\n",
              "    }\n",
              "\n",
              "    .dataframe tbody tr th {\n",
              "        vertical-align: top;\n",
              "    }\n",
              "\n",
              "    .dataframe thead th {\n",
              "        text-align: right;\n",
              "    }\n",
              "</style>\n",
              "<table border=\"1\" class=\"dataframe\">\n",
              "  <thead>\n",
              "    <tr style=\"text-align: right;\">\n",
              "      <th></th>\n",
              "      <th>Vendas</th>\n",
              "      <th>Ano_2022</th>\n",
              "      <th>Ano_2023</th>\n",
              "      <th>Mes_1</th>\n",
              "      <th>Mes_12</th>\n",
              "      <th>Dia_1</th>\n",
              "      <th>Dia_10</th>\n",
              "      <th>Dia_11</th>\n",
              "      <th>Dia_12</th>\n",
              "      <th>Dia_13</th>\n",
              "      <th>...</th>\n",
              "      <th>Dia_29</th>\n",
              "      <th>Dia_3</th>\n",
              "      <th>Dia_30</th>\n",
              "      <th>Dia_31</th>\n",
              "      <th>Dia_4</th>\n",
              "      <th>Dia_5</th>\n",
              "      <th>Dia_6</th>\n",
              "      <th>Dia_7</th>\n",
              "      <th>Dia_8</th>\n",
              "      <th>Dia_9</th>\n",
              "    </tr>\n",
              "  </thead>\n",
              "  <tbody>\n",
              "    <tr>\n",
              "      <th>22</th>\n",
              "      <td>-0.843611</td>\n",
              "      <td>1</td>\n",
              "      <td>0</td>\n",
              "      <td>0</td>\n",
              "      <td>1</td>\n",
              "      <td>0</td>\n",
              "      <td>0</td>\n",
              "      <td>0</td>\n",
              "      <td>0</td>\n",
              "      <td>0</td>\n",
              "      <td>...</td>\n",
              "      <td>0</td>\n",
              "      <td>0</td>\n",
              "      <td>0</td>\n",
              "      <td>0</td>\n",
              "      <td>0</td>\n",
              "      <td>0</td>\n",
              "      <td>0</td>\n",
              "      <td>0</td>\n",
              "      <td>0</td>\n",
              "      <td>0</td>\n",
              "    </tr>\n",
              "    <tr>\n",
              "      <th>5</th>\n",
              "      <td>-0.183169</td>\n",
              "      <td>1</td>\n",
              "      <td>0</td>\n",
              "      <td>0</td>\n",
              "      <td>1</td>\n",
              "      <td>0</td>\n",
              "      <td>0</td>\n",
              "      <td>1</td>\n",
              "      <td>0</td>\n",
              "      <td>0</td>\n",
              "      <td>...</td>\n",
              "      <td>0</td>\n",
              "      <td>0</td>\n",
              "      <td>0</td>\n",
              "      <td>0</td>\n",
              "      <td>0</td>\n",
              "      <td>0</td>\n",
              "      <td>0</td>\n",
              "      <td>0</td>\n",
              "      <td>0</td>\n",
              "      <td>0</td>\n",
              "    </tr>\n",
              "    <tr>\n",
              "      <th>39</th>\n",
              "      <td>-1.204790</td>\n",
              "      <td>0</td>\n",
              "      <td>1</td>\n",
              "      <td>1</td>\n",
              "      <td>0</td>\n",
              "      <td>0</td>\n",
              "      <td>0</td>\n",
              "      <td>0</td>\n",
              "      <td>0</td>\n",
              "      <td>0</td>\n",
              "      <td>...</td>\n",
              "      <td>0</td>\n",
              "      <td>0</td>\n",
              "      <td>0</td>\n",
              "      <td>0</td>\n",
              "      <td>0</td>\n",
              "      <td>0</td>\n",
              "      <td>0</td>\n",
              "      <td>0</td>\n",
              "      <td>0</td>\n",
              "      <td>0</td>\n",
              "    </tr>\n",
              "    <tr>\n",
              "      <th>13</th>\n",
              "      <td>0.758476</td>\n",
              "      <td>1</td>\n",
              "      <td>0</td>\n",
              "      <td>0</td>\n",
              "      <td>1</td>\n",
              "      <td>0</td>\n",
              "      <td>0</td>\n",
              "      <td>0</td>\n",
              "      <td>0</td>\n",
              "      <td>0</td>\n",
              "      <td>...</td>\n",
              "      <td>0</td>\n",
              "      <td>0</td>\n",
              "      <td>0</td>\n",
              "      <td>0</td>\n",
              "      <td>0</td>\n",
              "      <td>0</td>\n",
              "      <td>0</td>\n",
              "      <td>0</td>\n",
              "      <td>0</td>\n",
              "      <td>0</td>\n",
              "    </tr>\n",
              "    <tr>\n",
              "      <th>21</th>\n",
              "      <td>-0.474692</td>\n",
              "      <td>1</td>\n",
              "      <td>0</td>\n",
              "      <td>0</td>\n",
              "      <td>1</td>\n",
              "      <td>0</td>\n",
              "      <td>0</td>\n",
              "      <td>0</td>\n",
              "      <td>0</td>\n",
              "      <td>0</td>\n",
              "      <td>...</td>\n",
              "      <td>0</td>\n",
              "      <td>0</td>\n",
              "      <td>0</td>\n",
              "      <td>0</td>\n",
              "      <td>0</td>\n",
              "      <td>0</td>\n",
              "      <td>0</td>\n",
              "      <td>0</td>\n",
              "      <td>0</td>\n",
              "      <td>0</td>\n",
              "    </tr>\n",
              "  </tbody>\n",
              "</table>\n",
              "<p>5 rows × 36 columns</p>\n",
              "</div>\n",
              "      <button class=\"colab-df-convert\" onclick=\"convertToInteractive('df-e95f2fe8-04d9-4b99-9eda-72a18a2b8cb1')\"\n",
              "              title=\"Convert this dataframe to an interactive table.\"\n",
              "              style=\"display:none;\">\n",
              "        \n",
              "  <svg xmlns=\"http://www.w3.org/2000/svg\" height=\"24px\"viewBox=\"0 0 24 24\"\n",
              "       width=\"24px\">\n",
              "    <path d=\"M0 0h24v24H0V0z\" fill=\"none\"/>\n",
              "    <path d=\"M18.56 5.44l.94 2.06.94-2.06 2.06-.94-2.06-.94-.94-2.06-.94 2.06-2.06.94zm-11 1L8.5 8.5l.94-2.06 2.06-.94-2.06-.94L8.5 2.5l-.94 2.06-2.06.94zm10 10l.94 2.06.94-2.06 2.06-.94-2.06-.94-.94-2.06-.94 2.06-2.06.94z\"/><path d=\"M17.41 7.96l-1.37-1.37c-.4-.4-.92-.59-1.43-.59-.52 0-1.04.2-1.43.59L10.3 9.45l-7.72 7.72c-.78.78-.78 2.05 0 2.83L4 21.41c.39.39.9.59 1.41.59.51 0 1.02-.2 1.41-.59l7.78-7.78 2.81-2.81c.8-.78.8-2.07 0-2.86zM5.41 20L4 18.59l7.72-7.72 1.47 1.35L5.41 20z\"/>\n",
              "  </svg>\n",
              "      </button>\n",
              "      \n",
              "  <style>\n",
              "    .colab-df-container {\n",
              "      display:flex;\n",
              "      flex-wrap:wrap;\n",
              "      gap: 12px;\n",
              "    }\n",
              "\n",
              "    .colab-df-convert {\n",
              "      background-color: #E8F0FE;\n",
              "      border: none;\n",
              "      border-radius: 50%;\n",
              "      cursor: pointer;\n",
              "      display: none;\n",
              "      fill: #1967D2;\n",
              "      height: 32px;\n",
              "      padding: 0 0 0 0;\n",
              "      width: 32px;\n",
              "    }\n",
              "\n",
              "    .colab-df-convert:hover {\n",
              "      background-color: #E2EBFA;\n",
              "      box-shadow: 0px 1px 2px rgba(60, 64, 67, 0.3), 0px 1px 3px 1px rgba(60, 64, 67, 0.15);\n",
              "      fill: #174EA6;\n",
              "    }\n",
              "\n",
              "    [theme=dark] .colab-df-convert {\n",
              "      background-color: #3B4455;\n",
              "      fill: #D2E3FC;\n",
              "    }\n",
              "\n",
              "    [theme=dark] .colab-df-convert:hover {\n",
              "      background-color: #434B5C;\n",
              "      box-shadow: 0px 1px 3px 1px rgba(0, 0, 0, 0.15);\n",
              "      filter: drop-shadow(0px 1px 2px rgba(0, 0, 0, 0.3));\n",
              "      fill: #FFFFFF;\n",
              "    }\n",
              "  </style>\n",
              "\n",
              "      <script>\n",
              "        const buttonEl =\n",
              "          document.querySelector('#df-e95f2fe8-04d9-4b99-9eda-72a18a2b8cb1 button.colab-df-convert');\n",
              "        buttonEl.style.display =\n",
              "          google.colab.kernel.accessAllowed ? 'block' : 'none';\n",
              "\n",
              "        async function convertToInteractive(key) {\n",
              "          const element = document.querySelector('#df-e95f2fe8-04d9-4b99-9eda-72a18a2b8cb1');\n",
              "          const dataTable =\n",
              "            await google.colab.kernel.invokeFunction('convertToInteractive',\n",
              "                                                     [key], {});\n",
              "          if (!dataTable) return;\n",
              "\n",
              "          const docLinkHtml = 'Like what you see? Visit the ' +\n",
              "            '<a target=\"_blank\" href=https://colab.research.google.com/notebooks/data_table.ipynb>data table notebook</a>'\n",
              "            + ' to learn more about interactive tables.';\n",
              "          element.innerHTML = '';\n",
              "          dataTable['output_type'] = 'display_data';\n",
              "          await google.colab.output.renderOutput(dataTable, element);\n",
              "          const docLink = document.createElement('div');\n",
              "          docLink.innerHTML = docLinkHtml;\n",
              "          element.appendChild(docLink);\n",
              "        }\n",
              "      </script>\n",
              "    </div>\n",
              "  </div>\n",
              "  "
            ]
          },
          "metadata": {},
          "execution_count": 33
        }
      ]
    },
    {
      "cell_type": "code",
      "source": [
        "y_train[:5]"
      ],
      "metadata": {
        "colab": {
          "base_uri": "https://localhost:8080/"
        },
        "id": "3ZkVU5ecUHw5",
        "outputId": "40ef1b44-9298-4954-fe3a-37bdffc7aef2"
      },
      "execution_count": 34,
      "outputs": [
        {
          "output_type": "execute_result",
          "data": {
            "text/plain": [
              "array([[-0.16959297, -1.71835626, -1.55046804, -1.29647675,  0.03864914],\n",
              "       [ 1.58514955,  1.01409085,  0.69337088,  1.52062296,  0.07928493],\n",
              "       [-0.34313894,  2.19642343,  0.78751797,  1.42429178,  1.37285735],\n",
              "       [ 0.00636335, -0.14109004,  0.59025741, -1.59251892, -1.70868952],\n",
              "       [-0.67335834, -0.40520191, -1.43390497, -1.50793544, -1.473905  ]])"
            ]
          },
          "metadata": {},
          "execution_count": 34
        }
      ]
    },
    {
      "cell_type": "markdown",
      "source": [
        "## Build Model"
      ],
      "metadata": {
        "id": "2WbsGbxw6Vd4"
      }
    },
    {
      "cell_type": "code",
      "source": [
        "from sklearn.ensemble import RandomForestRegressor\n",
        "from sklearn import linear_model\n",
        "import xgboost as xgb"
      ],
      "metadata": {
        "id": "8Ae38H6I6Zv2"
      },
      "execution_count": 35,
      "outputs": []
    },
    {
      "cell_type": "markdown",
      "source": [
        "### Otimização de hiperparâmetros"
      ],
      "metadata": {
        "id": "9zsZMAxL6bZW"
      }
    },
    {
      "cell_type": "markdown",
      "source": [
        "Aqui será utilizada a técnica de **Otimização Bayesiana com Hyperot** para otimizar os parâmetros dos modelos **XGBoost**, **Random forest** e **Lasso**"
      ],
      "metadata": {
        "id": "SW58X_Lz7SrU"
      }
    },
    {
      "cell_type": "code",
      "source": [
        "from hyperopt import STATUS_OK, Trials, fmin, hp, tpe\n",
        "from sklearn.metrics import mean_squared_error\n",
        "from sklearn.multioutput import MultiOutputRegressor"
      ],
      "metadata": {
        "id": "A81D5a756sLB"
      },
      "execution_count": 36,
      "outputs": []
    },
    {
      "cell_type": "markdown",
      "source": [
        "#### XGBoost"
      ],
      "metadata": {
        "id": "6PunSBMs6yLe"
      }
    },
    {
      "cell_type": "code",
      "source": [
        "XGB_space={'max_depth':hp.quniform(\"max_depth\", 3, 18, 1),\n",
        "        'learning_rate':hp.uniform('learning_rate', 0, 1),\n",
        "        'colsample_bytree':hp.uniform('colsample_bytree', 0,1),\n",
        "        'alpha':hp.quniform('alpha', 0, 10, 1),\n",
        "        'n_estimators':hp.quniform('n_estimators', 100, 200, 1),\n",
        "        'objective':'reg:linear',\n",
        "        'seed':42,\n",
        "        'verbosity':0\n",
        "    }"
      ],
      "metadata": {
        "id": "16HUCDOM7blx"
      },
      "execution_count": 37,
      "outputs": []
    },
    {
      "cell_type": "code",
      "source": [
        "def XGB_objective_function(space):\n",
        "    model=MultiOutputRegressor(xgb.XGBRegressor(\n",
        "                    n_estimators =int(space['n_estimators']),max_depth = int(space['max_depth']),\n",
        "                    alpha = int(space['alpha']),learning_rate=space['learning_rate'],\n",
        "                    colsample_bytree=space['colsample_bytree'], seed=space['seed'],\n",
        "                    objective=space['objective'], verbosity=space['verbosity']))\n",
        "    \n",
        "    evaluation = [( X_train, y_train), ( X_val, y_val)]\n",
        "    \n",
        "    model.fit(X_train, y_train, eval_set=evaluation, early_stopping_rounds=10, verbose=False)\n",
        "\n",
        "    y_pred = model.predict(X_val)\n",
        "\n",
        "    msr = mean_squared_error(y_val,y_pred)\n",
        "\n",
        "    return {'loss': msr, 'status': STATUS_OK }"
      ],
      "metadata": {
        "id": "y-A5kBvr7cWZ"
      },
      "execution_count": 38,
      "outputs": []
    },
    {
      "cell_type": "markdown",
      "source": [
        "#### Lasso"
      ],
      "metadata": {
        "id": "Z0k5KiG161-k"
      }
    },
    {
      "cell_type": "code",
      "source": [
        "Lasso_space={'alpha':hp.uniform('alpha', 0, 1)}"
      ],
      "metadata": {
        "id": "Mg__kddV7eYI"
      },
      "execution_count": 39,
      "outputs": []
    },
    {
      "cell_type": "code",
      "source": [
        "def Lasso_objective_function(space):\n",
        "    model = MultiOutputRegressor(linear_model.Lasso(alpha=space['alpha']))\n",
        "    \n",
        "    model.fit(X_train, y_train)\n",
        "\n",
        "    y_pred = model.predict(X_val)\n",
        "\n",
        "    msr = mean_squared_error(y_val,y_pred)\n",
        "\n",
        "    return {'loss': msr, 'status': STATUS_OK }"
      ],
      "metadata": {
        "id": "U8_6sDAA7grP"
      },
      "execution_count": 40,
      "outputs": []
    },
    {
      "cell_type": "markdown",
      "source": [
        "#### Random Forest"
      ],
      "metadata": {
        "id": "6SUiEWNX64lU"
      }
    },
    {
      "cell_type": "code",
      "source": [
        "RF_space={'n_estimators':hp.quniform('n_estimators', 50, 150, 1)}"
      ],
      "metadata": {
        "id": "g9rToFg17j7_"
      },
      "execution_count": 41,
      "outputs": []
    },
    {
      "cell_type": "code",
      "source": [
        "def RF_objective_function(space):\n",
        "    model = MultiOutputRegressor(RandomForestRegressor(n_estimators=int(space['n_estimators'])))\n",
        "    \n",
        "    model.fit(X_train, y_train)\n",
        "    \n",
        "    y_pred = model.predict(X_val)\n",
        "\n",
        "    msr = mean_squared_error(y_val,y_pred)\n",
        "\n",
        "    return {'loss': msr, 'status': STATUS_OK }"
      ],
      "metadata": {
        "id": "UOt7p-al7mEH"
      },
      "execution_count": 42,
      "outputs": []
    },
    {
      "cell_type": "markdown",
      "source": [
        "#### Resultados da otimização de hiperparâmetros"
      ],
      "metadata": {
        "id": "gfwDWLkL7rZs"
      }
    },
    {
      "cell_type": "code",
      "source": [
        "trials = Trials()\n",
        "print(\"XGB optimization:\")\n",
        "XGB_best_hyperparams = fmin(fn = XGB_objective_function,\n",
        "                        space = XGB_space,\n",
        "                        algo = tpe.suggest,\n",
        "                        max_evals = 1000,\n",
        "                        trials = trials)\n",
        "\n",
        "trials = Trials()\n",
        "print(\"Lasso optimization:\")\n",
        "Lasso_best_hyperparams = fmin(fn = Lasso_objective_function,\n",
        "                        space = Lasso_space,\n",
        "                        algo = tpe.suggest,\n",
        "                        max_evals = 1000,\n",
        "                        trials = trials)\n",
        "\n",
        "trials=Trials()\n",
        "print(\"RF optimization:\")\n",
        "RF_best_hyperparams = fmin(fn = RF_objective_function,\n",
        "                        space = RF_space,\n",
        "                        algo = tpe.suggest,\n",
        "                        max_evals = 500,\n",
        "                        trials = trials)     "
      ],
      "metadata": {
        "colab": {
          "base_uri": "https://localhost:8080/"
        },
        "id": "nc8AJk0c7uLc",
        "outputId": "a85a8146-f037-40e1-96cf-abf0b659fd56"
      },
      "execution_count": 43,
      "outputs": [
        {
          "output_type": "stream",
          "name": "stdout",
          "text": [
            "XGB optimization:\n",
            "100%|██████████| 1000/1000 [05:00<00:00,  3.33it/s, best loss: 0.9216869485571119]\n",
            "Lasso optimization:\n",
            "100%|██████████| 1000/1000 [00:25<00:00, 39.97it/s, best loss: 0.9889610860724509]\n",
            "RF optimization:\n",
            "100%|██████████| 500/500 [04:03<00:00,  2.05it/s, best loss: 1.1579634640940895]\n"
          ]
        }
      ]
    },
    {
      "cell_type": "code",
      "source": [
        "print(\"Melhores hiperparâmetros de cada modelo: \",\"\\n\")\n",
        "print(f'XGB: {XGB_best_hyperparams}')\n",
        "print(f'Lasso: {Lasso_best_hyperparams}')\n",
        "print(f'RF: {RF_best_hyperparams}')"
      ],
      "metadata": {
        "colab": {
          "base_uri": "https://localhost:8080/"
        },
        "id": "6LBS15sa72hI",
        "outputId": "415b9be9-892b-4589-9ad0-b0e016abe03a"
      },
      "execution_count": 44,
      "outputs": [
        {
          "output_type": "stream",
          "name": "stdout",
          "text": [
            "Melhores hiperparâmetros de cada modelo:  \n",
            "\n",
            "XGB: {'alpha': 5.0, 'colsample_bytree': 0.02180521748121351, 'learning_rate': 0.9998704316154586, 'max_depth': 5.0, 'n_estimators': 166.0}\n",
            "Lasso: {'alpha': 0.3002979059713553}\n",
            "RF: {'n_estimators': 70.0}\n"
          ]
        }
      ]
    },
    {
      "cell_type": "code",
      "source": [
        "# build models\n",
        "RF_model = MultiOutputRegressor(RandomForestRegressor(n_estimators=int(RF_best_hyperparams['n_estimators'])))\n",
        "\n",
        "Lasso_model = MultiOutputRegressor(linear_model.Lasso(alpha=Lasso_best_hyperparams['alpha']))\n",
        "\n",
        "XGB_model = MultiOutputRegressor(xgb.XGBRegressor(objective ='reg:linear'\n",
        "                                 , colsample_bytree = XGB_best_hyperparams['colsample_bytree']\n",
        "                                 , learning_rate = XGB_best_hyperparams['learning_rate']\n",
        "                                 , alpha = int(XGB_best_hyperparams['alpha'])\n",
        "                                 , max_depth = int(XGB_best_hyperparams['max_depth'])\n",
        "                                 , n_estimators = int(XGB_best_hyperparams['n_estimators'])\n",
        "                                 , seed=42\n",
        "                                 , verbosity=0))"
      ],
      "metadata": {
        "id": "77wMHrwi782W"
      },
      "execution_count": 45,
      "outputs": []
    },
    {
      "cell_type": "markdown",
      "source": [
        "#### Seleção do melhor modelo"
      ],
      "metadata": {
        "id": "Ulz6lyLL7_FF"
      }
    },
    {
      "cell_type": "markdown",
      "source": [
        "Será utilizada a técnica de múltiplos splits **KFold** para estimar a performance de cada modelo no dataset."
      ],
      "metadata": {
        "id": "5sLKycST8FAz"
      }
    },
    {
      "cell_type": "code",
      "source": [
        "from sklearn.model_selection import KFold\n",
        "from sklearn.model_selection import cross_val_score"
      ],
      "metadata": {
        "id": "Ztay2lUS8WFe"
      },
      "execution_count": 46,
      "outputs": []
    },
    {
      "cell_type": "code",
      "source": [
        "kfold = KFold(n_splits=10, random_state=7, shuffle=True)\n",
        "\n",
        "XGB_results = cross_val_score(XGB_model, X_train, y_train, cv=kfold)\n",
        "Lasso_results = cross_val_score(Lasso_model, X_train, y_train, cv=kfold)\n",
        "RF_results = cross_val_score(RF_model, X_train, y_train, cv=kfold)\n",
        "\n",
        "results = abs(np.array([XGB_results.mean(), Lasso_results.mean(), RF_results.mean()]))\n",
        "results = {'XGBoost':results[0]\n",
        "          ,'Lasso': results[1]\n",
        "          ,'Random Forest':results[2]}\n",
        "results = sorted(results.items(), key=lambda x: x[1], reverse=True)"
      ],
      "metadata": {
        "id": "Kb19HA7O8Zwd"
      },
      "execution_count": 47,
      "outputs": []
    },
    {
      "cell_type": "code",
      "source": [
        "results"
      ],
      "metadata": {
        "colab": {
          "base_uri": "https://localhost:8080/"
        },
        "id": "eBDS0usM8ceE",
        "outputId": "08b9799e-3f34-4007-f040-138eb70d2471"
      },
      "execution_count": 48,
      "outputs": [
        {
          "output_type": "execute_result",
          "data": {
            "text/plain": [
              "[('XGBoost', 177.5996986778135),\n",
              " ('Random Forest', 109.68094302593343),\n",
              " ('Lasso', 87.9075558220688)]"
            ]
          },
          "metadata": {},
          "execution_count": 48
        }
      ]
    },
    {
      "cell_type": "code",
      "source": [
        "names = list(zip(*results))[0]\n",
        "values = list(zip(*results))[1]\n",
        "\n",
        "plt.bar(range(len(results)), values, tick_label=names)\n",
        "plt.title('Cross validation score de cada modelo')\n",
        "plt.xlabel('modelo')\n",
        "plt.ylabel('score')\n",
        "plt.show()"
      ],
      "metadata": {
        "colab": {
          "base_uri": "https://localhost:8080/",
          "height": 295
        },
        "id": "U6SRPweU8dEU",
        "outputId": "cb9747e9-141d-4c11-a091-2bcc92c22a95"
      },
      "execution_count": 49,
      "outputs": [
        {
          "output_type": "display_data",
          "data": {
            "text/plain": [
              "<Figure size 432x288 with 1 Axes>"
            ],
            "image/png": "[encoded data removed]"
          },
          "metadata": {
            "needs_background": "light"
          }
        }
      ]
    },
    {
      "cell_type": "markdown",
      "source": [
        "O modelo **XGBoost** teve a melhor performance."
      ],
      "metadata": {
        "id": "7_FV5PAz8hTC"
      }
    },
    {
      "cell_type": "code",
      "source": [
        "# get best model\n",
        "model_flag = None\n",
        "best_model = results[0][0]\n",
        "if (best_model == 'XGBoost'):\n",
        "    model = XGB_model\n",
        "    model_flag = 0\n",
        "elif(best_model == 'Lasso'):\n",
        "    model = Lasso_model\n",
        "    model_flag = 1\n",
        "elif(best_model == 'Random Forest'):\n",
        "    model = RF_model\n",
        "    model_flag = 2"
      ],
      "metadata": {
        "id": "pagJjSGI8jti"
      },
      "execution_count": 50,
      "outputs": []
    },
    {
      "cell_type": "markdown",
      "source": [
        "## Fit"
      ],
      "metadata": {
        "id": "40ovmo3k8mF5"
      }
    },
    {
      "cell_type": "code",
      "source": [
        "model.fit(X_train, y_train)"
      ],
      "metadata": {
        "colab": {
          "base_uri": "https://localhost:8080/"
        },
        "id": "VpYbqfs-8oiI",
        "outputId": "8a03ebd0-9849-4595-bfb0-e763b047344f"
      },
      "execution_count": 51,
      "outputs": [
        {
          "output_type": "execute_result",
          "data": {
            "text/plain": [
              "MultiOutputRegressor(estimator=XGBRegressor(alpha=5,\n",
              "                                            colsample_bytree=0.02180521748121351,\n",
              "                                            learning_rate=0.9998704316154586,\n",
              "                                            max_depth=5, n_estimators=166,\n",
              "                                            seed=42, verbosity=0))"
            ]
          },
          "metadata": {},
          "execution_count": 51
        }
      ]
    },
    {
      "cell_type": "markdown",
      "source": [
        "## Evaluate"
      ],
      "metadata": {
        "id": "9K_TYy6A8nHh"
      }
    },
    {
      "cell_type": "code",
      "source": [
        "y_pred = model.predict(X_test)"
      ],
      "metadata": {
        "id": "FLCfXCrz8tcv"
      },
      "execution_count": 52,
      "outputs": []
    },
    {
      "cell_type": "code",
      "source": [
        "mean_squared_error(y_test, y_pred)"
      ],
      "metadata": {
        "colab": {
          "base_uri": "https://localhost:8080/"
        },
        "id": "xpPraokn8xC-",
        "outputId": "732ef022-7f57-4fd8-f6f6-5b01b92a994a"
      },
      "execution_count": 53,
      "outputs": [
        {
          "output_type": "execute_result",
          "data": {
            "text/plain": [
              "1.9358643142790661"
            ]
          },
          "metadata": {},
          "execution_count": 53
        }
      ]
    },
    {
      "cell_type": "markdown",
      "source": [
        "# Resultados"
      ],
      "metadata": {
        "id": "X_twlx1uTukT"
      }
    },
    {
      "cell_type": "markdown",
      "source": [
        "O **MSR** do modelo **XGBoost** foi de aproximadamente **1.94**"
      ],
      "metadata": {
        "id": "n7lNUV0r81yM"
      }
    },
    {
      "cell_type": "markdown",
      "source": [
        "## Resultados do modelo **XGBoost** - Real vs Previsto"
      ],
      "metadata": {
        "id": "gtP14aTE872q"
      }
    },
    {
      "cell_type": "code",
      "source": [
        "li1 = list(zip(range(1, len(y_test)), y_test))\n",
        "li2 = list(zip(range(1, len(y_pred)), y_pred))\n",
        "\n",
        "figure(figsize=(12, 10), dpi=80)\n",
        "    \n",
        "plt.ylabel('valor')\n",
        "plt.xlabel('amostra')\n",
        "\n",
        "plt.scatter(y=y_test, x=range(0, y_test.size), label='real')\n",
        "plt.scatter(y=y_pred, x=range(0, y_test.size), label='previsto')\n",
        "\n",
        "plt.legend(bbox_to_anchor=(1.15, 1), loc=\"upper right\")\n",
        "plt.title(\"Real vs Previsto\")\n",
        "\n",
        "plt.show()"
      ],
      "metadata": {
        "colab": {
          "base_uri": "https://localhost:8080/",
          "height": 685
        },
        "id": "fuNXcOTT8yqd",
        "outputId": "e8f47d8d-4375-4198-b06f-9241c2a19670"
      },
      "execution_count": 54,
      "outputs": [
        {
          "output_type": "display_data",
          "data": {
            "text/plain": [
              "<Figure size 960x800 with 1 Axes>"
            ],
            "image/png": "[encoded data removed]"
          },
          "metadata": {
            "needs_background": "light"
          }
        }
      ]
    },
    {
      "cell_type": "markdown",
      "source": [
        "## Análise da importância das Features"
      ],
      "metadata": {
        "id": "XS29MeMv-LxY"
      }
    },
    {
      "cell_type": "code",
      "source": [
        "def get_feature_importances(model):\n",
        "    day_importance = 0\n",
        "    month_importance = 0\n",
        "    year_importance = 0\n",
        "    vendas_importance = 0\n",
        "\n",
        "    if model_flag == 0:\n",
        "      feature_names = model.estimators_[0].get_booster().feature_names\n",
        "    else:\n",
        "      feature_names = model.estimators_[0].feature_names_in_\n",
        "    \n",
        "    for i in range(len(feature_names)):\n",
        "        if 'Dia' in feature_names[i]:\n",
        "            day_importance += (model.estimators_[0].feature_importances_[i] + model.estimators_[1].feature_importances_[i] + model.estimators_[2].feature_importances_[i] + model.estimators_[3].feature_importances_[i] + model.estimators_[4].feature_importances_[i])/5\n",
        "        elif 'Mes' in feature_names[i]:\n",
        "            month_importance += (model.estimators_[0].feature_importances_[i] + model.estimators_[1].feature_importances_[i] + model.estimators_[2].feature_importances_[i] + model.estimators_[3].feature_importances_[i] + model.estimators_[4].feature_importances_[i])/5\n",
        "        elif 'Ano' in feature_names[i]:\n",
        "            year_importance += (model.estimators_[0].feature_importances_[i] + model.estimators_[1].feature_importances_[i] + model.estimators_[2].feature_importances_[i] + model.estimators_[3].feature_importances_[i] + model.estimators_[4].feature_importances_[i])/5\n",
        "        elif 'Vendas' in feature_names[i]:\n",
        "            vendas_importance += (model.estimators_[0].feature_importances_[i] + model.estimators_[1].feature_importances_[i] + model.estimators_[2].feature_importances_[i] + model.estimators_[3].feature_importances_[i] + model.estimators_[4].feature_importances_[i])/5\n",
        "            \n",
        "    return {'Vendas':vendas_importance, 'Dia':day_importance\n",
        "            , 'Mês':month_importance, 'Ano':year_importance}"
      ],
      "metadata": {
        "id": "SVuPy528-JYz"
      },
      "execution_count": 55,
      "outputs": []
    },
    {
      "cell_type": "code",
      "source": [
        "feature_importances = sorted(get_feature_importances(model).items(), key=lambda x: x[1], reverse=True)"
      ],
      "metadata": {
        "id": "U4mbm_gD-WEE"
      },
      "execution_count": 56,
      "outputs": []
    },
    {
      "cell_type": "code",
      "source": [
        "names = list(zip(*feature_importances))[0]\n",
        "values = list(zip(*feature_importances))[1]\n",
        "\n",
        "plt.bar(range(len(feature_importances)), values, tick_label=names)\n",
        "plt.title('Importância das features')\n",
        "plt.xlabel('feature')\n",
        "plt.ylabel('score de importância')\n",
        "plt.show()"
      ],
      "metadata": {
        "colab": {
          "base_uri": "https://localhost:8080/",
          "height": 295
        },
        "id": "WYrvcr-y-Xdt",
        "outputId": "4885a5b9-136a-4593-8594-1743ea2bc8aa"
      },
      "execution_count": 57,
      "outputs": [
        {
          "output_type": "display_data",
          "data": {
            "text/plain": [
              "<Figure size 432x288 with 1 Axes>"
            ],
            "image/png": "[encoded data removed]"
          },
          "metadata": {
            "needs_background": "light"
          }
        }
      ]
    },
    {
      "cell_type": "markdown",
      "source": [
        "Disparadamente a variável mais importante nas previsões do modelo é o **dia**. **Mês** e **vendas** possuem importâncias menores, porém significantes. Já **ano** tem score de importância próximo de zero e portanto não é significante para esse modelo."
      ],
      "metadata": {
        "id": "3V3NxwwW-vfd"
      }
    },
    {
      "cell_type": "markdown",
      "source": [
        "# Conclusão"
      ],
      "metadata": {
        "id": "oMKKwR9c-RAe"
      }
    },
    {
      "cell_type": "markdown",
      "source": [
        "O modelo com melhor performance no dataset foi o **XGBoost**. A falta de amostras e features no dataset certamente está causando **underfitting**, o que dificulta as previsões e a estimativa da performance do modelo. O gráfico \"Real vs Previsto\" mostra que algumas previsões foram próximas, enquanto em outras amostras as previsões foram mais distantes. Outro ponto perceptível é que o modelo explorou bem o range de valores nas previsões."
      ],
      "metadata": {
        "id": "BRkaAHIK_YMA"
      }
    },
    {
      "cell_type": "markdown",
      "source": [
        "*Muito obrigado por vir até o fim :)*"
      ],
      "metadata": {
        "id": "nNgXMaQPHcTa"
      }
    }
  ]
}